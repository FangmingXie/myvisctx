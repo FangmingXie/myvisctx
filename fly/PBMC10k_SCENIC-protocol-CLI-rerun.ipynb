{
 "cells": [
  {
   "cell_type": "markdown",
   "metadata": {},
   "source": [
    "# pySCENIC protocol: PBMC10k\n",
    "\n",
    "September 2019\n",
    "\n",
    "Dataset: *10k PBMCs from a Healthy Donor* available from 10x Genomics ([here](https://support.10xgenomics.com/single-cell-gene-expression/datasets/3.0.0/pbmc_10k_v3))."
   ]
  },
  {
   "cell_type": "code",
   "execution_count": null,
   "metadata": {},
   "outputs": [],
   "source": [
    "# import dependencies\n",
    "import os\n",
    "import numpy as np\n",
    "import pandas as pd\n",
    "import scanpy as sc\n",
    "import loompy as lp\n",
    "import umap\n",
    "from MulticoreTSNE import MulticoreTSNE as TSNE\n",
    "\n",
    "import glob\n",
    "import json\n",
    "import zlib\n",
    "import base64\n",
    "\n",
    "import seaborn as sns\n",
    "import matplotlib.pyplot as plt"
   ]
  },
  {
   "cell_type": "code",
   "execution_count": null,
   "metadata": {},
   "outputs": [],
   "source": [
    "outdir = \"/scr/qlyu/projects/v1/data/10x_pbmc/res\""
   ]
  },
  {
   "cell_type": "code",
   "execution_count": null,
   "metadata": {},
   "outputs": [],
   "source": [
    "sc.settings.verbosity = 3 # verbosity: errors (0), warnings (1), info (2), hints (3)\n",
    "sc.set_figure_params(dpi=150, fontsize=10, dpi_save=600)\n",
    "sc.settings.njobs = 4 # 20"
   ]
  },
  {
   "cell_type": "code",
   "execution_count": null,
   "metadata": {},
   "outputs": [],
   "source": [
    "# data\n",
    "f_mtx_dir = '/scr/qlyu/projects/v1/data/10x_pbmc/filtered_feature_bc_matrix'\n",
    "\n",
    "# transcription factors list\n",
    "f_tfs = \"/scr/qlyu/projects/v1/data/annot/allTFs_hg38.txt\"\n",
    "\n",
    "# ranking databases\n",
    "f_db_glob = \"/scr/qlyu/projects/v1/data/annot/hg38*feather\"\n",
    "f_db_names = ' '.join(glob.glob(f_db_glob))\n",
    "\n",
    "# motif databases\n",
    "f_motif_path = \"/scr/qlyu/projects/v1/data/annot/motifs-v9-nr.hgnc-m0.001-o0.0.tbl\""
   ]
  },
  {
   "cell_type": "code",
   "execution_count": null,
   "metadata": {},
   "outputs": [],
   "source": [
    "# path to loom file with basic filtering applied (this will be created in the \"initial filtering\" step below). Optional.\n",
    "f_loom_path_scenic = os.path.join(outdir, \"pbmc10k_filtered_scenic.loom\")\n",
    "\n",
    "# path to pyscenic output\n",
    "f_pyscenic_output = os.path.join(outdir, \"pyscenic_output.loom\")\n",
    "\n",
    "# loom output, generated from a combination of Scanpy and pySCENIC results:\n",
    "f_final_loom = os.path.join(outdir, 'pbmc10k_scenic_integrated-output.loom')\n",
    "\n",
    "# adj output\n",
    "f_adj = os.path.join(outdir, \"adj.csv\")\n",
    "# reg output\n",
    "f_reg = os.path.join(outdir, \"reg.csv\")\n",
    "\n",
    "# umap and tsne output\n",
    "f_umap = os.path.join(outdir, \"scenic_umap.txt\") \n",
    "f_tsne = os.path.join(outdir, \"scenic_tsne.txt\")"
   ]
  },
  {
   "cell_type": "markdown",
   "metadata": {},
   "source": [
    "### Reading in expression data: 10x Genomics mtx files"
   ]
  },
  {
   "cell_type": "code",
   "execution_count": null,
   "metadata": {},
   "outputs": [],
   "source": [
    "%%time\n",
    "adata = sc.read_10x_mtx(\n",
    "    f_mtx_dir ,                 # the directory with the `.mtx` file\n",
    "    var_names='gene_symbols',   # use gene symbols for the variable names (variables-axis index)\n",
    "    cache=False) "
   ]
  },
  {
   "cell_type": "markdown",
   "metadata": {},
   "source": [
    "### Initial/basic filtering"
   ]
  },
  {
   "cell_type": "code",
   "execution_count": null,
   "metadata": {},
   "outputs": [],
   "source": [
    "nCountsPerGene = np.sum(adata.X, axis=0)\n",
    "nCellsPerGene = np.sum(adata.X>0, axis=0)\n",
    "nCells=adata.X.shape[0]\n",
    "\n",
    "# pySCENIC thresholds\n",
    "minCountsPerGene=3*.01*nCells # 3 counts in 1% of cells\n",
    "minSamples=.01*nCells # 1% of cells\n",
    "\n",
    "# simply compute the number of genes per cell (computers 'n_genes' column)\n",
    "sc.pp.filter_cells(adata, min_genes=0)\n",
    "\n",
    "# mito and genes/counts cuts\n",
    "mito_genes = adata.var_names.str.startswith('MT-')\n",
    "\n",
    "# total counts per cell as observations-annotation to adata\n",
    "adata.obs['n_counts'] = adata.X.sum(axis=1).A1\n",
    "# for each cell compute fraction of counts in mito genes vs. all genes\n",
    "adata.obs['percent_mito'] = np.sum(adata[:, mito_genes].X, axis=1).A1 / adata.obs['n_counts']\n",
    "\n",
    "# Show info\n",
    "print(\"Number of counts (in the dataset units) per gene:\", nCountsPerGene.min(), \" - \" ,nCountsPerGene.max())\n",
    "print(\"Number of cells in which each gene is detected:\", nCellsPerGene.min(), \" - \" ,nCellsPerGene.max())\n",
    "print(\"minCountsPerGene: \", minCountsPerGene)\n",
    "print(\"minSamples: \", minSamples)"
   ]
  },
  {
   "cell_type": "code",
   "execution_count": null,
   "metadata": {},
   "outputs": [],
   "source": [
    "sc.pl.violin(adata, ['n_genes', 'n_counts', 'percent_mito'], jitter=0.4, multi_panel=True )\n",
    "sc.pl.scatter(adata, x='n_counts', y='n_genes', color='percent_mito')"
   ]
  },
  {
   "cell_type": "code",
   "execution_count": null,
   "metadata": {},
   "outputs": [],
   "source": [
    "# initial cuts\n",
    "sc.pp.filter_cells(adata, min_genes=200)\n",
    "sc.pp.filter_genes(adata, min_cells=3)\n",
    "\n",
    "# cuts\n",
    "adata = adata[adata.obs['n_genes'] < 4000, :]\n",
    "adata = adata[adata.obs['percent_mito'] < 0.15, :]"
   ]
  },
  {
   "cell_type": "code",
   "execution_count": null,
   "metadata": {},
   "outputs": [],
   "source": [
    "sc.pl.violin(adata, ['n_genes', 'n_counts', 'percent_mito'], jitter=0.4, multi_panel=True )\n",
    "sc.pl.scatter(adata, x='n_counts', y='n_genes', color='percent_mito')"
   ]
  },
  {
   "cell_type": "code",
   "execution_count": null,
   "metadata": {},
   "outputs": [],
   "source": [
    "# create basic row and column attributes for the loom file:\n",
    "row_attrs = {\n",
    "    \"Gene\"  : np.array(adata.var_names),\n",
    "}\n",
    "col_attrs = {\n",
    "    \"CellID\": np.array(adata.obs_names),\n",
    "    \"nGene\" : np.array(np.sum(adata.X.transpose()>0, axis=0)).flatten(),\n",
    "    \"nUMI\"  : np.array(np.sum(adata.X.transpose()  , axis=0)).flatten(),\n",
    "}\n",
    "lp.create(f_loom_path_scenic, adata.X.transpose(), row_attrs, col_attrs)"
   ]
  },
  {
   "cell_type": "markdown",
   "metadata": {},
   "source": [
    "## SCENIC steps"
   ]
  },
  {
   "cell_type": "markdown",
   "metadata": {},
   "source": [
    "### STEP 1: Gene regulatory network inference, and generation of co-expression modules\n",
    "#### Phase Ia: GRN inference using the GRNBoost2 algorithm\n",
    "\n",
    "For this step the CLI version of SCENIC is used. This step can be deployed on an High Performance Computing system. We use the counts matrix (without log transformation or further processing) from the loom file we wrote earlier.\n",
    "_Output:_ List of adjacencies between a TF and its targets stored in `ADJACENCIES_FNAME`."
   ]
  },
  {
   "cell_type": "markdown",
   "metadata": {},
   "source": [
    "### STEP 2-3: Regulon prediction aka cisTarget from CLI\n",
    "\n",
    "For this step the CLI version of SCENIC is used. This step can be deployed on an High Performance Computing system.\n",
    "\n",
    "_Output:_ List of adjacencies between a TF and its targets stored in `MOTIFS_FNAME`.\n",
    "\n",
    "locations for ranking databases, and motif annotations:\n",
    "\n",
    "Here, we use the `--mask_dropouts` option, which affects how the correlation between TF and target genes is calculated during module creation. It is important to note that prior to pySCENIC v0.9.18, the default behavior was to mask dropouts, while in v0.9.18 and later, the correlation is performed using the entire set of cells (including those with zero expression). When using the `modules_from_adjacencies` function directly in python instead of via the command line, the `rho_mask_dropouts` option can be used to control this."
   ]
  },
  {
   "cell_type": "markdown",
   "metadata": {
    "tags": []
   },
   "source": [
    "### STEP 4: Cellular enrichment (aka AUCell) from CLI\n",
    "\n",
    "It is important to check that most cells have a substantial fraction of expressed/detected genes in the calculation of the AUC.\n",
    "The following histogram gives an idea of the distribution and allows selection of an appropriate threshold.\n",
    "In this plot, a few thresholds are highlighted, with the number of genes selected shown in red text and the corresponding percentile in parentheses).\n",
    "See [the relevant section in the R tutorial](https://bioconductor.org/packages/devel/bioc/vignettes/AUCell/inst/doc/AUCell.html#build-gene-expression-rankings-for-each-cell) for more information.\n",
    "\n",
    "By using the default setting for `--auc_threshold` of `0.05`, we see that **1192** genes are selected for the rankings based on the plot below."
   ]
  },
  {
   "cell_type": "code",
   "execution_count": null,
   "metadata": {},
   "outputs": [],
   "source": [
    "%%time\n",
    "# 4 hrs\n",
    "# !pyscenic grn {f_loom_path_scenic} {f_tfs} -o {f_adj} --num_workers 1"
   ]
  },
  {
   "cell_type": "code",
   "execution_count": null,
   "metadata": {},
   "outputs": [],
   "source": [
    "%%time \n",
    "# ~0.5 hr\n",
    "# !pyscenic ctx {f_adj} \\\n",
    "#     {f_db_names} \\\n",
    "#     --annotations_fname {f_motif_path} \\\n",
    "#     --expression_mtx_fname {f_loom_path_scenic} \\\n",
    "#     --output {f_reg} \\\n",
    "#     --mask_dropouts \\\n",
    "#     --num_workers 2"
   ]
  },
  {
   "cell_type": "code",
   "execution_count": null,
   "metadata": {},
   "outputs": [],
   "source": [
    "%%time \n",
    "# 10 min\n",
    "# !pyscenic aucell \\\n",
    "#     {f_loom_path_scenic} \\\n",
    "#     {f_reg} \\\n",
    "#     --output {f_pyscenic_output} \\\n",
    "#     --num_workers 2"
   ]
  },
  {
   "cell_type": "markdown",
   "metadata": {},
   "source": [
    "### Visualization of SCENIC's AUC matrix"
   ]
  },
  {
   "cell_type": "code",
   "execution_count": null,
   "metadata": {},
   "outputs": [],
   "source": [
    "nGenesDetectedPerCell = np.ravel(np.sum(adata.X>0, axis=1))\n",
    "percentiles = pd.Series(nGenesDetectedPerCell).quantile([.01, .05, .10, .50, 1])\n",
    "print(percentiles)"
   ]
  },
  {
   "cell_type": "code",
   "execution_count": null,
   "metadata": {},
   "outputs": [],
   "source": [
    "fig, ax = plt.subplots(1, 1, figsize=(8, 5), dpi=150)\n",
    "sns.distplot(nGenesDetectedPerCell, norm_hist=False, kde=False, bins='fd')\n",
    "for i,x in enumerate(percentiles):\n",
    "    fig.gca().axvline(x=x, ymin=0,ymax=1, color='red')\n",
    "    ax.text(x=x, y=ax.get_ylim()[1], s=f'{int(x)} ({percentiles.index.values[i]*100}%)', color='red', rotation=30, size='x-small',rotation_mode='anchor' )\n",
    "ax.set_xlabel('# of genes')\n",
    "ax.set_ylabel('# of cells')\n",
    "fig.tight_layout()"
   ]
  },
  {
   "cell_type": "markdown",
   "metadata": {},
   "source": [
    "First, load the relevant data from the loom we just created"
   ]
  },
  {
   "cell_type": "code",
   "execution_count": null,
   "metadata": {},
   "outputs": [],
   "source": [
    "# collect SCENIC AUCell output\n",
    "lf = lp.connect( f_pyscenic_output, mode='r+', validate=False )\n",
    "auc_mtx = pd.DataFrame( lf.ca.RegulonsAUC, index=lf.ca.CellID)\n",
    "lf.close()"
   ]
  },
  {
   "cell_type": "code",
   "execution_count": null,
   "metadata": {},
   "outputs": [],
   "source": [
    "# UMAP\n",
    "dr_umap = umap.UMAP(n_neighbors=10, min_dist=0.4, metric='correlation').fit_transform(auc_mtx)\n",
    "pd.DataFrame(dr_umap, columns=['X', 'Y'], index=auc_mtx.index).to_csv(f_umap, sep='\\t')\n",
    "# tSNE\n",
    "dr_tsne = TSNE(n_jobs=2).fit_transform(auc_mtx)\n",
    "pd.DataFrame(dr_tsne, columns=['X', 'Y'], index=auc_mtx.index).to_csv(f_tsne, sep='\\t')"
   ]
  },
  {
   "cell_type": "markdown",
   "metadata": {},
   "source": [
    "## Integrate the output\n",
    "\n",
    "Here, we combine the results from SCENIC and the Scanpy analysis into a SCope-compatible loom file"
   ]
  },
  {
   "cell_type": "code",
   "execution_count": null,
   "metadata": {},
   "outputs": [],
   "source": [
    "# scenic output\n",
    "lf = lp.connect( f_pyscenic_output, mode='r+', validate=False )\n",
    "meta = json.loads(zlib.decompress(base64.b64decode( lf.attrs.MetaData )))\n",
    "auc_mtx = pd.DataFrame( lf.ca.RegulonsAUC, index=lf.ca.CellID)\n",
    "regulons = lf.ra.Regulons\n",
    "dr_umap = pd.read_csv(f_umap, sep='\\t', header=0, index_col=0)\n",
    "dr_tsne = pd.read_csv(f_tsne, sep='\\t', header=0, index_col=0)\n",
    "###"
   ]
  },
  {
   "cell_type": "markdown",
   "metadata": {},
   "source": [
    "Fix regulon objects to display properly in SCope:"
   ]
  },
  {
   "cell_type": "code",
   "execution_count": null,
   "metadata": {},
   "outputs": [],
   "source": [
    "auc_mtx.columns = auc_mtx.columns.str.replace('\\(','_(')\n",
    "regulons.dtype.names = tuple( [ x.replace(\"(\",\"_(\") for x in regulons.dtype.names ] )\n",
    "# regulon thresholds\n",
    "rt = meta['regulonThresholds']\n",
    "for i,x in enumerate(rt):\n",
    "    tmp = x.get('regulon').replace(\"(\",\"_(\")\n",
    "    x.update( {'regulon': tmp} )"
   ]
  },
  {
   "cell_type": "markdown",
   "metadata": {},
   "source": [
    "Concatenate embeddings (tSNE, UMAP, etc.)"
   ]
  },
  {
   "cell_type": "code",
   "execution_count": null,
   "metadata": {},
   "outputs": [],
   "source": [
    "tsneDF = pd.DataFrame(adata.obsm['X_tsne'], columns=['_X', '_Y'])\n",
    "\n",
    "Embeddings_X = pd.DataFrame( index=lf.ca.CellID )\n",
    "Embeddings_X = pd.concat( [\n",
    "        pd.DataFrame(adata.obsm['X_umap'],index=adata.obs.index)[0],\n",
    "        pd.DataFrame(adata.obsm['X_pca'], index=adata.obs.index)[0],\n",
    "        dr_tsne['X'],\n",
    "        dr_umap['X'],\n",
    "    ], sort=False, axis=1, join='outer' )\n",
    "Embeddings_X.columns = ['1','2','3','4']\n",
    "\n",
    "Embeddings_Y = pd.DataFrame( index=lf.ca.CellID )\n",
    "Embeddings_Y = pd.concat( [\n",
    "        pd.DataFrame(adata.obsm['X_umap'],index=adata.obs.index)[1],\n",
    "        pd.DataFrame(adata.obsm['X_pca'], index=adata.obs.index)[1],\n",
    "        dr_tsne['Y'],\n",
    "        dr_umap['Y'],\n",
    "    ], sort=False, axis=1, join='outer' )\n",
    "Embeddings_Y.columns = ['1','2','3','4']"
   ]
  },
  {
   "cell_type": "markdown",
   "metadata": {},
   "source": [
    "Metadata:"
   ]
  },
  {
   "cell_type": "code",
   "execution_count": null,
   "metadata": {},
   "outputs": [],
   "source": [
    "### metadata\n",
    "metaJson = {}\n",
    "\n",
    "metaJson['embeddings'] = [\n",
    "    {\n",
    "        \"id\": -1,\n",
    "        \"name\": f\"Scanpy t-SNE (highly variable genes)\"\n",
    "    },\n",
    "    {\n",
    "        \"id\": 1,\n",
    "        \"name\": f\"Scanpy UMAP  (highly variable genes)\"\n",
    "    },\n",
    "    {\n",
    "        \"id\": 2,\n",
    "        \"name\": \"Scanpy PC1/PC2\"\n",
    "    },\n",
    "    {\n",
    "        \"id\": 3,\n",
    "        \"name\": \"SCENIC AUC t-SNE\"\n",
    "    },\n",
    "    {\n",
    "        \"id\": 4,\n",
    "        \"name\": \"SCENIC AUC UMAP\"\n",
    "    },\n",
    "]\n",
    "\n",
    "metaJson[\"clusterings\"] = [{\n",
    "            \"id\": 0,\n",
    "            \"group\": \"Scanpy\",\n",
    "            \"name\": \"Scanpy leiden default resolution\",\n",
    "            \"clusters\": [],\n",
    "        }]\n",
    "\n",
    "metaJson[\"metrics\"] = [\n",
    "        {\n",
    "            \"name\": \"nUMI\"\n",
    "        }, {\n",
    "            \"name\": \"nGene\"\n",
    "        }, {\n",
    "            \"name\": \"Percent_mito\"\n",
    "        }\n",
    "]\n",
    "\n",
    "metaJson[\"annotations\"] = [\n",
    "    {\n",
    "        \"name\": \"Leiden_clusters_Scanpy\",\n",
    "        \"values\": list(set( adata.obs['leiden'].astype(np.str) ))\n",
    "    },\n",
    "]\n",
    "\n",
    "# SCENIC regulon thresholds:\n",
    "metaJson[\"regulonThresholds\"] = rt\n",
    "\n",
    "for i in range(max(set([int(x) for x in adata.obs['leiden']])) + 1):\n",
    "    clustDict = {}\n",
    "    clustDict['id'] = i\n",
    "    clustDict['description'] = f'Unannotated Cluster {i + 1}'\n",
    "    metaJson['clusterings'][0]['clusters'].append(clustDict)\n",
    "    \n",
    "clusterings = pd.DataFrame()\n",
    "clusterings[\"0\"] = adata.obs['leiden'].values.astype(np.int64)"
   ]
  },
  {
   "cell_type": "markdown",
   "metadata": {},
   "source": [
    "Assemble loom file row and column attributes"
   ]
  },
  {
   "cell_type": "code",
   "execution_count": null,
   "metadata": {},
   "outputs": [],
   "source": [
    "def dfToNamedMatrix(df):\n",
    "    arr_ip = [tuple(i) for i in df.values]\n",
    "    dtyp = np.dtype(list(zip(df.dtypes.index, df.dtypes)))\n",
    "    arr = np.array(arr_ip, dtype=dtyp)\n",
    "    return arr"
   ]
  },
  {
   "cell_type": "code",
   "execution_count": null,
   "metadata": {},
   "outputs": [],
   "source": [
    "col_attrs = {\n",
    "    \"CellID\": np.array(adata.obs.index),\n",
    "    \"nUMI\": np.array(adata.obs['n_counts'].values),\n",
    "    \"nGene\": np.array(adata.obs['n_genes'].values),\n",
    "    \"Leiden_clusters_Scanpy\": np.array( adata.obs['leiden'].values ),\n",
    "    \"Percent_mito\": np.array(adata.obs['percent_mito'].values),\n",
    "    \"Embedding\": dfToNamedMatrix(tsneDF),\n",
    "    \"Embeddings_X\": dfToNamedMatrix(Embeddings_X),\n",
    "    \"Embeddings_Y\": dfToNamedMatrix(Embeddings_Y),\n",
    "    \"RegulonsAUC\": dfToNamedMatrix(auc_mtx),\n",
    "    \"Clusterings\": dfToNamedMatrix(clusterings),\n",
    "    \"ClusterID\": np.array(adata.obs['leiden'].values)\n",
    "}\n",
    "\n",
    "row_attrs = {\n",
    "    \"Gene\": lf.ra.Gene,\n",
    "    \"Regulons\": regulons,\n",
    "}\n",
    "\n",
    "attrs = {\n",
    "    \"title\": \"sampleTitle\",\n",
    "    \"MetaData\": json.dumps(metaJson),\n",
    "    \"Genome\": 'hg38',\n",
    "    \"SCopeTreeL1\": \"\",\n",
    "    \"SCopeTreeL2\": \"\",\n",
    "    \"SCopeTreeL3\": \"\"\n",
    "}\n",
    "\n",
    "# compress the metadata field:\n",
    "attrs['MetaData'] = base64.b64encode(zlib.compress(json.dumps(metaJson).encode('ascii'))).decode('ascii')"
   ]
  },
  {
   "cell_type": "markdown",
   "metadata": {},
   "source": [
    "Create a new loom file, copying the expression matrix from the open loom connection:"
   ]
  },
  {
   "cell_type": "code",
   "execution_count": null,
   "metadata": {},
   "outputs": [],
   "source": [
    "lp.create(\n",
    "    filename = f_final_loom ,\n",
    "    layers=lf[:,:],\n",
    "    row_attrs=row_attrs, \n",
    "    col_attrs=col_attrs, \n",
    "    file_attrs=attrs\n",
    ")\n",
    "lf.close() # close original pyscenic loom file"
   ]
  },
  {
   "cell_type": "code",
   "execution_count": null,
   "metadata": {},
   "outputs": [],
   "source": []
  }
 ],
 "metadata": {
  "kernelspec": {
   "display_name": "Python 3 (ipykernel)",
   "language": "python",
   "name": "python3"
  },
  "language_info": {
   "codemirror_mode": {
    "name": "ipython",
    "version": 3
   },
   "file_extension": ".py",
   "mimetype": "text/x-python",
   "name": "python",
   "nbconvert_exporter": "python",
   "pygments_lexer": "ipython3",
   "version": "3.8.16"
  }
 },
 "nbformat": 4,
 "nbformat_minor": 4
}
