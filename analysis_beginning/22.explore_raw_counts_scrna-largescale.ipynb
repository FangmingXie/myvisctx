{
 "cells": [
  {
   "cell_type": "code",
   "execution_count": 1,
   "id": "d1223cbd-cb38-497f-bcab-23fb55bab0ff",
   "metadata": {},
   "outputs": [],
   "source": [
    "import numpy as np\n",
    "import pandas as pd\n",
    "from scipy.io import mmread\n",
    "import os\n",
    "import glob\n",
    "import anndata\n",
    "import tqdm\n",
    "import zarr"
   ]
  },
  {
   "cell_type": "markdown",
   "id": "ab920710-7510-45f7-ab72-0a01550680a4",
   "metadata": {},
   "source": [
    "- merge marker genes (types ABC)\n",
    "- feed into NN design"
   ]
  },
  {
   "cell_type": "code",
   "execution_count": 2,
   "id": "24a0ebb0-fbcb-445e-bd3f-125b32a0be8b",
   "metadata": {},
   "outputs": [],
   "source": [
    "rootpth = '/bigstore/GeneralStorage/fangming/projects/visctx/data_dump/counts/scRNAseq_Cheng2022_Cell_v1ctx/'\n",
    "dirs = glob.glob(\"*\", root_dir=rootpth)"
   ]
  },
  {
   "cell_type": "code",
   "execution_count": 9,
   "id": "90901c6b-1b7e-441d-bf87-ec4dc9bfe3fe",
   "metadata": {},
   "outputs": [
    {
     "data": {
      "text/plain": [
       "['P38_nr_1_a',\n",
       " 'P38_nr_2_a',\n",
       " 'P38_dr_2_b',\n",
       " 'P38_dr_2_a',\n",
       " 'P8_nr_2_b',\n",
       " 'P8_nr_2_a',\n",
       " 'P14_nr_1_a',\n",
       " 'P8_nr_1_b',\n",
       " 'P17_nr_1_a',\n",
       " 'P28_nr_2_b',\n",
       " 'P28_dr_1_b',\n",
       " 'P14_nr_2_b',\n",
       " 'P28_dl_1_b',\n",
       " 'P14_nr_2_a',\n",
       " 'P21_nr_2_a',\n",
       " 'P28_dl_2_a',\n",
       " 'P28_dl_2_b',\n",
       " 'P38_dr_1_b',\n",
       " 'P21_nr_1_a',\n",
       " 'P21_nr_2_b',\n",
       " 'P17_nr_2_a',\n",
       " 'P28_dr_3_b',\n",
       " 'P28_dr_3_a',\n",
       " 'P28_dr_1_a',\n",
       " 'P28_dl_1_a',\n",
       " 'P28_nr_2_a',\n",
       " 'P14_nr_1_b',\n",
       " 'P8_nr_1_a',\n",
       " 'P38_dr_1_a',\n",
       " 'P21_nr_1_b',\n",
       " 'P28_nr_1_b',\n",
       " 'P17_nr_1_b',\n",
       " 'P38_nr_2_b',\n",
       " 'P28_nr_1_a',\n",
       " 'P17_nr_2_b']"
      ]
     },
     "execution_count": 9,
     "metadata": {},
     "output_type": "execute_result"
    }
   ],
   "source": [
    "dirs"
   ]
  },
  {
   "cell_type": "code",
   "execution_count": 3,
   "id": "34c13620-a223-4e38-9480-27f13e8c7085",
   "metadata": {},
   "outputs": [],
   "source": [
    "# pth = '/bigstore/GeneralStorage/fangming/projects/visctx/data_dump/counts/scRNAseq_Cheng2022_Cell_v1ctx/P38_nr_1_a/filtered_feature_bc_matrix'\n",
    "# !ls $pth"
   ]
  },
  {
   "cell_type": "code",
   "execution_count": 10,
   "id": "a4113e65-756e-4cff-8756-151f3902f857",
   "metadata": {},
   "outputs": [
    {
     "name": "stderr",
     "output_type": "stream",
     "text": [
      "1it [00:00,  7.22it/s]"
     ]
    },
    {
     "name": "stdout",
     "output_type": "stream",
     "text": [
      "/bigstore/GeneralStorage/fangming/projects/visctx/data_dump/counts/scRNAseq_Cheng2022_Cell_v1ctx/P38_nr_1_a/filtered_feature_bc_matrix\n",
      "0 /bigstore/GeneralStorage/fangming/projects/visctx/data_dump/counts/scRNAseq_Cheng2022_Cell_v1ctx/P38_nr_1_a/filtered_feature_bc_matrix/counts.h5ad\n",
      "P38_nr_1_a skipped...\n",
      "/bigstore/GeneralStorage/fangming/projects/visctx/data_dump/counts/scRNAseq_Cheng2022_Cell_v1ctx/P38_nr_2_a/filtered_feature_bc_matrix\n",
      "1 /bigstore/GeneralStorage/fangming/projects/visctx/data_dump/counts/scRNAseq_Cheng2022_Cell_v1ctx/P38_nr_2_a/filtered_feature_bc_matrix/counts.h5ad\n",
      "P38_nr_2_a skipped...\n",
      "/bigstore/GeneralStorage/fangming/projects/visctx/data_dump/counts/scRNAseq_Cheng2022_Cell_v1ctx/P38_dr_2_b/filtered_feature_bc_matrix\n",
      "2 /bigstore/GeneralStorage/fangming/projects/visctx/data_dump/counts/scRNAseq_Cheng2022_Cell_v1ctx/P38_dr_2_b/filtered_feature_bc_matrix/counts.h5ad\n",
      "P38_dr_2_b failed...\n",
      "/bigstore/GeneralStorage/fangming/projects/visctx/data_dump/counts/scRNAseq_Cheng2022_Cell_v1ctx/P38_dr_2_a/filtered_feature_bc_matrix\n",
      "3 /bigstore/GeneralStorage/fangming/projects/visctx/data_dump/counts/scRNAseq_Cheng2022_Cell_v1ctx/P38_dr_2_a/filtered_feature_bc_matrix/counts.h5ad\n",
      "P38_dr_2_a skipped...\n",
      "/bigstore/GeneralStorage/fangming/projects/visctx/data_dump/counts/scRNAseq_Cheng2022_Cell_v1ctx/P8_nr_2_b/filtered_feature_bc_matrix\n",
      "4 /bigstore/GeneralStorage/fangming/projects/visctx/data_dump/counts/scRNAseq_Cheng2022_Cell_v1ctx/P8_nr_2_b/filtered_feature_bc_matrix/counts.h5ad\n",
      "P8_nr_2_b skipped...\n",
      "/bigstore/GeneralStorage/fangming/projects/visctx/data_dump/counts/scRNAseq_Cheng2022_Cell_v1ctx/P8_nr_2_a/filtered_feature_bc_matrix\n",
      "5 /bigstore/GeneralStorage/fangming/projects/visctx/data_dump/counts/scRNAseq_Cheng2022_Cell_v1ctx/P8_nr_2_a/filtered_feature_bc_matrix/counts.h5ad\n",
      "P8_nr_2_a skipped...\n",
      "/bigstore/GeneralStorage/fangming/projects/visctx/data_dump/counts/scRNAseq_Cheng2022_Cell_v1ctx/P14_nr_1_a/filtered_feature_bc_matrix\n",
      "6 /bigstore/GeneralStorage/fangming/projects/visctx/data_dump/counts/scRNAseq_Cheng2022_Cell_v1ctx/P14_nr_1_a/filtered_feature_bc_matrix/counts.h5ad\n",
      "P14_nr_1_a skipped...\n",
      "/bigstore/GeneralStorage/fangming/projects/visctx/data_dump/counts/scRNAseq_Cheng2022_Cell_v1ctx/P8_nr_1_b/filtered_feature_bc_matrix\n",
      "7 /bigstore/GeneralStorage/fangming/projects/visctx/data_dump/counts/scRNAseq_Cheng2022_Cell_v1ctx/P8_nr_1_b/filtered_feature_bc_matrix/counts.h5ad\n",
      "P8_nr_1_b skipped...\n",
      "/bigstore/GeneralStorage/fangming/projects/visctx/data_dump/counts/scRNAseq_Cheng2022_Cell_v1ctx/P17_nr_1_a/filtered_feature_bc_matrix\n",
      "8 /bigstore/GeneralStorage/fangming/projects/visctx/data_dump/counts/scRNAseq_Cheng2022_Cell_v1ctx/P17_nr_1_a/filtered_feature_bc_matrix/counts.h5ad\n",
      "P17_nr_1_a skipped...\n",
      "/bigstore/GeneralStorage/fangming/projects/visctx/data_dump/counts/scRNAseq_Cheng2022_Cell_v1ctx/P28_nr_2_b/filtered_feature_bc_matrix\n",
      "9 /bigstore/GeneralStorage/fangming/projects/visctx/data_dump/counts/scRNAseq_Cheng2022_Cell_v1ctx/P28_nr_2_b/filtered_feature_bc_matrix/counts.h5ad\n",
      "P28_nr_2_b skipped...\n",
      "/bigstore/GeneralStorage/fangming/projects/visctx/data_dump/counts/scRNAseq_Cheng2022_Cell_v1ctx/P28_dr_1_b/filtered_feature_bc_matrix\n",
      "10 /bigstore/GeneralStorage/fangming/projects/visctx/data_dump/counts/scRNAseq_Cheng2022_Cell_v1ctx/P28_dr_1_b/filtered_feature_bc_matrix/counts.h5ad\n",
      "P28_dr_1_b skipped...\n",
      "/bigstore/GeneralStorage/fangming/projects/visctx/data_dump/counts/scRNAseq_Cheng2022_Cell_v1ctx/P14_nr_2_b/filtered_feature_bc_matrix\n",
      "11 /bigstore/GeneralStorage/fangming/projects/visctx/data_dump/counts/scRNAseq_Cheng2022_Cell_v1ctx/P14_nr_2_b/filtered_feature_bc_matrix/counts.h5ad\n",
      "P14_nr_2_b skipped...\n",
      "/bigstore/GeneralStorage/fangming/projects/visctx/data_dump/counts/scRNAseq_Cheng2022_Cell_v1ctx/P28_dl_1_b/filtered_feature_bc_matrix\n",
      "12 /bigstore/GeneralStorage/fangming/projects/visctx/data_dump/counts/scRNAseq_Cheng2022_Cell_v1ctx/P28_dl_1_b/filtered_feature_bc_matrix/counts.h5ad\n",
      "P28_dl_1_b failed...\n",
      "/bigstore/GeneralStorage/fangming/projects/visctx/data_dump/counts/scRNAseq_Cheng2022_Cell_v1ctx/P14_nr_2_a/filtered_feature_bc_matrix\n",
      "13 /bigstore/GeneralStorage/fangming/projects/visctx/data_dump/counts/scRNAseq_Cheng2022_Cell_v1ctx/P14_nr_2_a/filtered_feature_bc_matrix/counts.h5ad\n",
      "P14_nr_2_a skipped...\n",
      "/bigstore/GeneralStorage/fangming/projects/visctx/data_dump/counts/scRNAseq_Cheng2022_Cell_v1ctx/P21_nr_2_a/filtered_feature_bc_matrix\n",
      "14 /bigstore/GeneralStorage/fangming/projects/visctx/data_dump/counts/scRNAseq_Cheng2022_Cell_v1ctx/P21_nr_2_a/filtered_feature_bc_matrix/counts.h5ad\n",
      "P21_nr_2_a skipped...\n",
      "/bigstore/GeneralStorage/fangming/projects/visctx/data_dump/counts/scRNAseq_Cheng2022_Cell_v1ctx/P28_dl_2_a/filtered_feature_bc_matrix\n",
      "15 /bigstore/GeneralStorage/fangming/projects/visctx/data_dump/counts/scRNAseq_Cheng2022_Cell_v1ctx/P28_dl_2_a/filtered_feature_bc_matrix/counts.h5ad\n",
      "P28_dl_2_a skipped...\n",
      "/bigstore/GeneralStorage/fangming/projects/visctx/data_dump/counts/scRNAseq_Cheng2022_Cell_v1ctx/P28_dl_2_b/filtered_feature_bc_matrix\n",
      "16 /bigstore/GeneralStorage/fangming/projects/visctx/data_dump/counts/scRNAseq_Cheng2022_Cell_v1ctx/P28_dl_2_b/filtered_feature_bc_matrix/counts.h5ad\n",
      "P28_dl_2_b skipped...\n",
      "/bigstore/GeneralStorage/fangming/projects/visctx/data_dump/counts/scRNAseq_Cheng2022_Cell_v1ctx/P38_dr_1_b/filtered_feature_bc_matrix\n",
      "17 /bigstore/GeneralStorage/fangming/projects/visctx/data_dump/counts/scRNAseq_Cheng2022_Cell_v1ctx/P38_dr_1_b/filtered_feature_bc_matrix/counts.h5ad\n",
      "P38_dr_1_b skipped...\n",
      "/bigstore/GeneralStorage/fangming/projects/visctx/data_dump/counts/scRNAseq_Cheng2022_Cell_v1ctx/P21_nr_1_a/filtered_feature_bc_matrix\n",
      "18 /bigstore/GeneralStorage/fangming/projects/visctx/data_dump/counts/scRNAseq_Cheng2022_Cell_v1ctx/P21_nr_1_a/filtered_feature_bc_matrix/counts.h5ad\n",
      "P21_nr_1_a skipped...\n",
      "/bigstore/GeneralStorage/fangming/projects/visctx/data_dump/counts/scRNAseq_Cheng2022_Cell_v1ctx/P21_nr_2_b/filtered_feature_bc_matrix\n",
      "19 /bigstore/GeneralStorage/fangming/projects/visctx/data_dump/counts/scRNAseq_Cheng2022_Cell_v1ctx/P21_nr_2_b/filtered_feature_bc_matrix/counts.h5ad\n",
      "P21_nr_2_b skipped...\n",
      "/bigstore/GeneralStorage/fangming/projects/visctx/data_dump/counts/scRNAseq_Cheng2022_Cell_v1ctx/P17_nr_2_a/filtered_feature_bc_matrix\n",
      "20 /bigstore/GeneralStorage/fangming/projects/visctx/data_dump/counts/scRNAseq_Cheng2022_Cell_v1ctx/P17_nr_2_a/filtered_feature_bc_matrix/counts.h5ad\n",
      "P17_nr_2_a skipped...\n",
      "/bigstore/GeneralStorage/fangming/projects/visctx/data_dump/counts/scRNAseq_Cheng2022_Cell_v1ctx/P28_dr_3_b/filtered_feature_bc_matrix\n",
      "21 /bigstore/GeneralStorage/fangming/projects/visctx/data_dump/counts/scRNAseq_Cheng2022_Cell_v1ctx/P28_dr_3_b/filtered_feature_bc_matrix/counts.h5ad\n"
     ]
    },
    {
     "name": "stderr",
     "output_type": "stream",
     "text": [
      "35it [00:00, 118.78it/s]"
     ]
    },
    {
     "name": "stdout",
     "output_type": "stream",
     "text": [
      "P28_dr_3_b failed...\n",
      "/bigstore/GeneralStorage/fangming/projects/visctx/data_dump/counts/scRNAseq_Cheng2022_Cell_v1ctx/P28_dr_3_a/filtered_feature_bc_matrix\n",
      "22 /bigstore/GeneralStorage/fangming/projects/visctx/data_dump/counts/scRNAseq_Cheng2022_Cell_v1ctx/P28_dr_3_a/filtered_feature_bc_matrix/counts.h5ad\n",
      "P28_dr_3_a skipped...\n",
      "/bigstore/GeneralStorage/fangming/projects/visctx/data_dump/counts/scRNAseq_Cheng2022_Cell_v1ctx/P28_dr_1_a/filtered_feature_bc_matrix\n",
      "23 /bigstore/GeneralStorage/fangming/projects/visctx/data_dump/counts/scRNAseq_Cheng2022_Cell_v1ctx/P28_dr_1_a/filtered_feature_bc_matrix/counts.h5ad\n",
      "P28_dr_1_a failed...\n",
      "/bigstore/GeneralStorage/fangming/projects/visctx/data_dump/counts/scRNAseq_Cheng2022_Cell_v1ctx/P28_dl_1_a/filtered_feature_bc_matrix\n",
      "24 /bigstore/GeneralStorage/fangming/projects/visctx/data_dump/counts/scRNAseq_Cheng2022_Cell_v1ctx/P28_dl_1_a/filtered_feature_bc_matrix/counts.h5ad\n",
      "P28_dl_1_a skipped...\n",
      "/bigstore/GeneralStorage/fangming/projects/visctx/data_dump/counts/scRNAseq_Cheng2022_Cell_v1ctx/P28_nr_2_a/filtered_feature_bc_matrix\n",
      "25 /bigstore/GeneralStorage/fangming/projects/visctx/data_dump/counts/scRNAseq_Cheng2022_Cell_v1ctx/P28_nr_2_a/filtered_feature_bc_matrix/counts.h5ad\n",
      "P28_nr_2_a skipped...\n",
      "/bigstore/GeneralStorage/fangming/projects/visctx/data_dump/counts/scRNAseq_Cheng2022_Cell_v1ctx/P14_nr_1_b/filtered_feature_bc_matrix\n",
      "26 /bigstore/GeneralStorage/fangming/projects/visctx/data_dump/counts/scRNAseq_Cheng2022_Cell_v1ctx/P14_nr_1_b/filtered_feature_bc_matrix/counts.h5ad\n",
      "P14_nr_1_b skipped...\n",
      "/bigstore/GeneralStorage/fangming/projects/visctx/data_dump/counts/scRNAseq_Cheng2022_Cell_v1ctx/P8_nr_1_a/filtered_feature_bc_matrix\n",
      "27 /bigstore/GeneralStorage/fangming/projects/visctx/data_dump/counts/scRNAseq_Cheng2022_Cell_v1ctx/P8_nr_1_a/filtered_feature_bc_matrix/counts.h5ad\n",
      "P8_nr_1_a failed...\n",
      "/bigstore/GeneralStorage/fangming/projects/visctx/data_dump/counts/scRNAseq_Cheng2022_Cell_v1ctx/P38_dr_1_a/filtered_feature_bc_matrix\n",
      "28 /bigstore/GeneralStorage/fangming/projects/visctx/data_dump/counts/scRNAseq_Cheng2022_Cell_v1ctx/P38_dr_1_a/filtered_feature_bc_matrix/counts.h5ad\n",
      "P38_dr_1_a failed...\n",
      "/bigstore/GeneralStorage/fangming/projects/visctx/data_dump/counts/scRNAseq_Cheng2022_Cell_v1ctx/P21_nr_1_b/filtered_feature_bc_matrix\n",
      "29 /bigstore/GeneralStorage/fangming/projects/visctx/data_dump/counts/scRNAseq_Cheng2022_Cell_v1ctx/P21_nr_1_b/filtered_feature_bc_matrix/counts.h5ad\n",
      "P21_nr_1_b skipped...\n",
      "/bigstore/GeneralStorage/fangming/projects/visctx/data_dump/counts/scRNAseq_Cheng2022_Cell_v1ctx/P28_nr_1_b/filtered_feature_bc_matrix\n",
      "30 /bigstore/GeneralStorage/fangming/projects/visctx/data_dump/counts/scRNAseq_Cheng2022_Cell_v1ctx/P28_nr_1_b/filtered_feature_bc_matrix/counts.h5ad\n",
      "P28_nr_1_b failed...\n",
      "/bigstore/GeneralStorage/fangming/projects/visctx/data_dump/counts/scRNAseq_Cheng2022_Cell_v1ctx/P17_nr_1_b/filtered_feature_bc_matrix\n",
      "31 /bigstore/GeneralStorage/fangming/projects/visctx/data_dump/counts/scRNAseq_Cheng2022_Cell_v1ctx/P17_nr_1_b/filtered_feature_bc_matrix/counts.h5ad\n",
      "P17_nr_1_b failed...\n",
      "/bigstore/GeneralStorage/fangming/projects/visctx/data_dump/counts/scRNAseq_Cheng2022_Cell_v1ctx/P38_nr_2_b/filtered_feature_bc_matrix\n",
      "32 /bigstore/GeneralStorage/fangming/projects/visctx/data_dump/counts/scRNAseq_Cheng2022_Cell_v1ctx/P38_nr_2_b/filtered_feature_bc_matrix/counts.h5ad\n",
      "P38_nr_2_b failed...\n",
      "/bigstore/GeneralStorage/fangming/projects/visctx/data_dump/counts/scRNAseq_Cheng2022_Cell_v1ctx/P28_nr_1_a/filtered_feature_bc_matrix\n",
      "33 /bigstore/GeneralStorage/fangming/projects/visctx/data_dump/counts/scRNAseq_Cheng2022_Cell_v1ctx/P28_nr_1_a/filtered_feature_bc_matrix/counts.h5ad\n",
      "P28_nr_1_a failed...\n",
      "/bigstore/GeneralStorage/fangming/projects/visctx/data_dump/counts/scRNAseq_Cheng2022_Cell_v1ctx/P17_nr_2_b/filtered_feature_bc_matrix\n",
      "34 /bigstore/GeneralStorage/fangming/projects/visctx/data_dump/counts/scRNAseq_Cheng2022_Cell_v1ctx/P17_nr_2_b/filtered_feature_bc_matrix/counts.h5ad\n",
      "P17_nr_2_b failed...\n"
     ]
    },
    {
     "name": "stderr",
     "output_type": "stream",
     "text": [
      "\n"
     ]
    }
   ],
   "source": [
    "for i, _dir in tqdm.tqdm(enumerate(dirs)):\n",
    "    pth = os.path.join(rootpth, _dir, 'filtered_feature_bc_matrix')\n",
    "    output = os.path.join(pth, 'counts.h5ad')\n",
    "    print(pth)\n",
    "    print(i, output)\n",
    "    \n",
    "    # check\n",
    "    if os.path.isfile(output):\n",
    "        print(_dir + \" skipped...\")\n",
    "        continue\n",
    "    \n",
    "    # fnames \n",
    "    fc = os.path.join(pth, 'barcodes.tsv.gz')\n",
    "    fg = os.path.join(pth, 'features.tsv.gz')\n",
    "    fm = os.path.join(pth, 'matrix.mtx')\n",
    "    fmgz = os.path.join(pth, 'matrix.mtx.gz')\n",
    "    \n",
    "    if not os.path.isfile(fc): \n",
    "        print(_dir + \" failed...\")\n",
    "        continue\n",
    "        \n",
    "    if not os.path.isfile(fg): \n",
    "        print(_dir + \" failed...\")\n",
    "        continue\n",
    "        \n",
    "    if not (os.path.isfile(fm) or os.path.isfile(fmgz)):\n",
    "        print(_dir + \" failed...\")\n",
    "        continue\n",
    "\n",
    "    # load\n",
    "    cells = pd.read_csv(fc, sep='\\t', header=None)[0].values\n",
    "    genes = pd.read_csv(fg, sep='\\t', header=None).rename(columns={0: 'id', 1: 'name'})[['id', 'name']]\n",
    "    if os.path.isfile(fm):\n",
    "        mtx = mmread(fm)\n",
    "    elif os.path.isfile(fmgz):\n",
    "        mtx = mmread(fmgz)\n",
    "    print(cells.shape, genes.shape, mtx.shape)\n",
    "    \n",
    "    # check\n",
    "    if len(cells) != mtx.shape[1]:\n",
    "        print(_dir + \" failed...\")\n",
    "        continue\n",
    "        \n",
    "        \n",
    "    # adata \n",
    "    adata = anndata.AnnData(\n",
    "        X=mtx.T.tocsc(), \n",
    "        obs=pd.DataFrame(index=cells), \n",
    "        var=genes,\n",
    "    )\n",
    "    adata.write(output)"
   ]
  },
  {
   "cell_type": "code",
   "execution_count": null,
   "id": "9383ac69-abd3-4556-97ab-d73ea6a2ce2b",
   "metadata": {},
   "outputs": [],
   "source": []
  }
 ],
 "metadata": {
  "kernelspec": {
   "display_name": "Python 3 (ipykernel)",
   "language": "python",
   "name": "python3"
  },
  "language_info": {
   "codemirror_mode": {
    "name": "ipython",
    "version": 3
   },
   "file_extension": ".py",
   "mimetype": "text/x-python",
   "name": "python",
   "nbconvert_exporter": "python",
   "pygments_lexer": "ipython3",
   "version": "3.10.2"
  }
 },
 "nbformat": 4,
 "nbformat_minor": 5
}
