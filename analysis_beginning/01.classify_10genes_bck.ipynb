{
 "cells": [
  {
   "cell_type": "code",
   "execution_count": 46,
   "id": "20017ba7-fa38-45e7-80b3-c942c6e65a7d",
   "metadata": {},
   "outputs": [],
   "source": [
    "import pandas as pd\n",
    "import numpy as np\n",
    "import anndata as ad\n",
    "import seaborn as sns\n",
    "import matplotlib.pyplot as plt\n",
    "\n",
    "import sys\n",
    "sys.path.insert(0, '/home/fangming/projects/myutils')\n",
    "import importlib\n",
    "import basicu\n",
    "\n",
    "importlib.reload(basicu)\n",
    "\n",
    "sns.set_context('talk')"
   ]
  },
  {
   "cell_type": "markdown",
   "id": "55471211-9ae4-4c3a-8ed2-9d6f6e3aa66d",
   "metadata": {},
   "source": [
    "# Metadata"
   ]
  },
  {
   "cell_type": "code",
   "execution_count": 2,
   "id": "98561d18-44eb-423f-87a9-4e37965e333c",
   "metadata": {},
   "outputs": [
    {
     "name": "stdout",
     "output_type": "stream",
     "text": [
      "(103, 9) (13, 8)\n"
     ]
    }
   ],
   "source": [
    "f = '../data/candidate_genes_vincent_0316.xlsx'\n",
    "df0 = pd.read_excel(f, sheet_name=0)\n",
    "df1 = pd.read_excel(f, sheet_name=1)\n",
    "\n",
    "print(df0.shape, df1.shape)"
   ]
  },
  {
   "cell_type": "code",
   "execution_count": 3,
   "id": "9b011787-7bdd-4736-91cd-a9672b32af6c",
   "metadata": {},
   "outputs": [
    {
     "data": {
      "text/html": [
       "<div>\n",
       "<style scoped>\n",
       "    .dataframe tbody tr th:only-of-type {\n",
       "        vertical-align: middle;\n",
       "    }\n",
       "\n",
       "    .dataframe tbody tr th {\n",
       "        vertical-align: top;\n",
       "    }\n",
       "\n",
       "    .dataframe thead th {\n",
       "        text-align: right;\n",
       "    }\n",
       "</style>\n",
       "<table border=\"1\" class=\"dataframe\">\n",
       "  <thead>\n",
       "    <tr style=\"text-align: right;\">\n",
       "      <th></th>\n",
       "      <th>Target Name</th>\n",
       "      <th>Not in Catatlog</th>\n",
       "      <th>Probe set size</th>\n",
       "      <th>HCR Amplifer to use with</th>\n",
       "      <th>Order (11/11/2021)</th>\n",
       "      <th>Accession # (validated w/ CCDS)</th>\n",
       "      <th>ABA Accession #</th>\n",
       "      <th>Order?</th>\n",
       "      <th>Unnamed: 8</th>\n",
       "    </tr>\n",
       "  </thead>\n",
       "  <tbody>\n",
       "    <tr>\n",
       "      <th>0</th>\n",
       "      <td>Baz1a</td>\n",
       "      <td>NaN</td>\n",
       "      <td>20.0</td>\n",
       "      <td>B2</td>\n",
       "      <td>x - B2</td>\n",
       "      <td>NaN</td>\n",
       "      <td>NaN</td>\n",
       "      <td>y - B2</td>\n",
       "      <td>NaN</td>\n",
       "    </tr>\n",
       "    <tr>\n",
       "      <th>1</th>\n",
       "      <td>Agmat</td>\n",
       "      <td>NaN</td>\n",
       "      <td>20.0</td>\n",
       "      <td>B2, B3</td>\n",
       "      <td>x - B3</td>\n",
       "      <td>NaN</td>\n",
       "      <td>NaN</td>\n",
       "      <td>NaN</td>\n",
       "      <td>NaN</td>\n",
       "    </tr>\n",
       "    <tr>\n",
       "      <th>2</th>\n",
       "      <td>Adamts2</td>\n",
       "      <td>NaN</td>\n",
       "      <td>20.0</td>\n",
       "      <td>B1, B2, B3</td>\n",
       "      <td>x - B1</td>\n",
       "      <td>NaN</td>\n",
       "      <td>NaN</td>\n",
       "      <td>y - B1</td>\n",
       "      <td>NaN</td>\n",
       "    </tr>\n",
       "    <tr>\n",
       "      <th>3</th>\n",
       "      <td>Rrad</td>\n",
       "      <td>NaN</td>\n",
       "      <td>20.0</td>\n",
       "      <td>B2, B3</td>\n",
       "      <td>NaN</td>\n",
       "      <td>NM_019662.3</td>\n",
       "      <td>NM_019662.1</td>\n",
       "      <td>y - B3</td>\n",
       "      <td>NaN</td>\n",
       "    </tr>\n",
       "    <tr>\n",
       "      <th>4</th>\n",
       "      <td>Trpc6</td>\n",
       "      <td>NaN</td>\n",
       "      <td>20.0</td>\n",
       "      <td>B1</td>\n",
       "      <td>x - B1</td>\n",
       "      <td>NaN</td>\n",
       "      <td>NaN</td>\n",
       "      <td>y - B1</td>\n",
       "      <td>NaN</td>\n",
       "    </tr>\n",
       "    <tr>\n",
       "      <th>...</th>\n",
       "      <td>...</td>\n",
       "      <td>...</td>\n",
       "      <td>...</td>\n",
       "      <td>...</td>\n",
       "      <td>...</td>\n",
       "      <td>...</td>\n",
       "      <td>...</td>\n",
       "      <td>...</td>\n",
       "      <td>...</td>\n",
       "    </tr>\n",
       "    <tr>\n",
       "      <th>98</th>\n",
       "      <td>Stard7</td>\n",
       "      <td>NaN</td>\n",
       "      <td>NaN</td>\n",
       "      <td>NaN</td>\n",
       "      <td>NaN</td>\n",
       "      <td>NaN</td>\n",
       "      <td>NaN</td>\n",
       "      <td>NaN</td>\n",
       "      <td>NaN</td>\n",
       "    </tr>\n",
       "    <tr>\n",
       "      <th>99</th>\n",
       "      <td>Cldn5</td>\n",
       "      <td>NaN</td>\n",
       "      <td>NaN</td>\n",
       "      <td>NaN</td>\n",
       "      <td>NaN</td>\n",
       "      <td>NM_013805.3</td>\n",
       "      <td>NM_013805.4</td>\n",
       "      <td>Y - B5</td>\n",
       "      <td>NaN</td>\n",
       "    </tr>\n",
       "    <tr>\n",
       "      <th>100</th>\n",
       "      <td>Chrm3</td>\n",
       "      <td>Y</td>\n",
       "      <td>20.0</td>\n",
       "      <td>NaN</td>\n",
       "      <td>NaN</td>\n",
       "      <td>NM_033269</td>\n",
       "      <td>NaN</td>\n",
       "      <td>Y - B2</td>\n",
       "      <td>NaN</td>\n",
       "    </tr>\n",
       "    <tr>\n",
       "      <th>101</th>\n",
       "      <td>Whrn</td>\n",
       "      <td>NaN</td>\n",
       "      <td>NaN</td>\n",
       "      <td>NaN</td>\n",
       "      <td>NaN</td>\n",
       "      <td>NaN</td>\n",
       "      <td>NaN</td>\n",
       "      <td>NaN</td>\n",
       "      <td>NaN</td>\n",
       "    </tr>\n",
       "    <tr>\n",
       "      <th>102</th>\n",
       "      <td>Stard8</td>\n",
       "      <td>NaN</td>\n",
       "      <td>NaN</td>\n",
       "      <td>NaN</td>\n",
       "      <td>NaN</td>\n",
       "      <td>NaN</td>\n",
       "      <td>NaN</td>\n",
       "      <td>NaN</td>\n",
       "      <td>NaN</td>\n",
       "    </tr>\n",
       "  </tbody>\n",
       "</table>\n",
       "<p>103 rows × 9 columns</p>\n",
       "</div>"
      ],
      "text/plain": [
       "    Target Name Not in Catatlog  Probe set size HCR Amplifer to use with  \\\n",
       "0         Baz1a             NaN            20.0                       B2   \n",
       "1         Agmat             NaN            20.0                   B2, B3   \n",
       "2       Adamts2             NaN            20.0               B1, B2, B3   \n",
       "3          Rrad             NaN            20.0                   B2, B3   \n",
       "4         Trpc6             NaN            20.0                       B1   \n",
       "..          ...             ...             ...                      ...   \n",
       "98       Stard7             NaN             NaN                      NaN   \n",
       "99        Cldn5             NaN             NaN                      NaN   \n",
       "100       Chrm3               Y            20.0                      NaN   \n",
       "101        Whrn             NaN             NaN                      NaN   \n",
       "102      Stard8             NaN             NaN                      NaN   \n",
       "\n",
       "    Order (11/11/2021) Accession # (validated w/ CCDS) ABA Accession #  \\\n",
       "0               x - B2                             NaN             NaN   \n",
       "1               x - B3                             NaN             NaN   \n",
       "2               x - B1                             NaN             NaN   \n",
       "3                  NaN                     NM_019662.3     NM_019662.1   \n",
       "4               x - B1                             NaN             NaN   \n",
       "..                 ...                             ...             ...   \n",
       "98                 NaN                             NaN             NaN   \n",
       "99                 NaN                     NM_013805.3     NM_013805.4   \n",
       "100                NaN                       NM_033269             NaN   \n",
       "101                NaN                             NaN             NaN   \n",
       "102                NaN                             NaN             NaN   \n",
       "\n",
       "     Order? Unnamed: 8  \n",
       "0    y - B2        NaN  \n",
       "1       NaN        NaN  \n",
       "2    y - B1        NaN  \n",
       "3    y - B3        NaN  \n",
       "4    y - B1        NaN  \n",
       "..      ...        ...  \n",
       "98      NaN        NaN  \n",
       "99   Y - B5        NaN  \n",
       "100  Y - B2        NaN  \n",
       "101     NaN        NaN  \n",
       "102     NaN        NaN  \n",
       "\n",
       "[103 rows x 9 columns]"
      ]
     },
     "execution_count": 3,
     "metadata": {},
     "output_type": "execute_result"
    }
   ],
   "source": [
    "df0"
   ]
  },
  {
   "cell_type": "code",
   "execution_count": 4,
   "id": "390e2473-aca6-4cf3-b1e5-e4a7c04260bc",
   "metadata": {},
   "outputs": [
    {
     "data": {
      "text/html": [
       "<div>\n",
       "<style scoped>\n",
       "    .dataframe tbody tr th:only-of-type {\n",
       "        vertical-align: middle;\n",
       "    }\n",
       "\n",
       "    .dataframe tbody tr th {\n",
       "        vertical-align: top;\n",
       "    }\n",
       "\n",
       "    .dataframe thead th {\n",
       "        text-align: right;\n",
       "    }\n",
       "</style>\n",
       "<table border=\"1\" class=\"dataframe\">\n",
       "  <thead>\n",
       "    <tr style=\"text-align: right;\">\n",
       "      <th></th>\n",
       "      <th>Target Name</th>\n",
       "      <th>Not in Catatlog</th>\n",
       "      <th>Probe set size</th>\n",
       "      <th>HCR Amplifer to use with</th>\n",
       "      <th>Order (11/11/2021)</th>\n",
       "      <th>Accession # (validated w/ CCDS)</th>\n",
       "      <th>ABA Accession #</th>\n",
       "      <th>Order?</th>\n",
       "    </tr>\n",
       "  </thead>\n",
       "  <tbody>\n",
       "    <tr>\n",
       "      <th>0</th>\n",
       "      <td>Slc1a3</td>\n",
       "      <td>Y</td>\n",
       "      <td>20.0</td>\n",
       "      <td>B1, B2, B3, B4</td>\n",
       "      <td>NaN</td>\n",
       "      <td>NaN</td>\n",
       "      <td>NaN</td>\n",
       "      <td>NaN</td>\n",
       "    </tr>\n",
       "    <tr>\n",
       "      <th>1</th>\n",
       "      <td>Mertk</td>\n",
       "      <td>N</td>\n",
       "      <td>NaN</td>\n",
       "      <td>NaN</td>\n",
       "      <td>NaN</td>\n",
       "      <td>NaN</td>\n",
       "      <td>NaN</td>\n",
       "      <td>NaN</td>\n",
       "    </tr>\n",
       "    <tr>\n",
       "      <th>2</th>\n",
       "      <td>Rfx4</td>\n",
       "      <td>N</td>\n",
       "      <td>NaN</td>\n",
       "      <td>NaN</td>\n",
       "      <td>NaN</td>\n",
       "      <td>NaN</td>\n",
       "      <td>NaN</td>\n",
       "      <td>NaN</td>\n",
       "    </tr>\n",
       "    <tr>\n",
       "      <th>3</th>\n",
       "      <td>Clasp2</td>\n",
       "      <td>N</td>\n",
       "      <td>NaN</td>\n",
       "      <td>NaN</td>\n",
       "      <td>NaN</td>\n",
       "      <td>NaN</td>\n",
       "      <td>NaN</td>\n",
       "      <td>NaN</td>\n",
       "    </tr>\n",
       "    <tr>\n",
       "      <th>4</th>\n",
       "      <td>Ntrk2(TrkB)</td>\n",
       "      <td>Y</td>\n",
       "      <td>20.0</td>\n",
       "      <td>B2, B3, B4, B5</td>\n",
       "      <td>NaN</td>\n",
       "      <td>NaN</td>\n",
       "      <td>NaN</td>\n",
       "      <td>NaN</td>\n",
       "    </tr>\n",
       "    <tr>\n",
       "      <th>5</th>\n",
       "      <td>Chrdl1</td>\n",
       "      <td>N</td>\n",
       "      <td>NaN</td>\n",
       "      <td>NaN</td>\n",
       "      <td>NaN</td>\n",
       "      <td>NaN</td>\n",
       "      <td>NaN</td>\n",
       "      <td>NaN</td>\n",
       "    </tr>\n",
       "    <tr>\n",
       "      <th>6</th>\n",
       "      <td>Id3</td>\n",
       "      <td>Y</td>\n",
       "      <td>14.0</td>\n",
       "      <td>B2, B3</td>\n",
       "      <td>NaN</td>\n",
       "      <td>NaN</td>\n",
       "      <td>NaN</td>\n",
       "      <td>NaN</td>\n",
       "    </tr>\n",
       "    <tr>\n",
       "      <th>7</th>\n",
       "      <td>Nrxn1</td>\n",
       "      <td>N</td>\n",
       "      <td>NaN</td>\n",
       "      <td>NaN</td>\n",
       "      <td>NaN</td>\n",
       "      <td>NaN</td>\n",
       "      <td>NaN</td>\n",
       "      <td>NaN</td>\n",
       "    </tr>\n",
       "    <tr>\n",
       "      <th>8</th>\n",
       "      <td>Il33</td>\n",
       "      <td>N</td>\n",
       "      <td>NaN</td>\n",
       "      <td>NaN</td>\n",
       "      <td>NaN</td>\n",
       "      <td>NaN</td>\n",
       "      <td>NaN</td>\n",
       "      <td>NaN</td>\n",
       "    </tr>\n",
       "    <tr>\n",
       "      <th>9</th>\n",
       "      <td>Scel</td>\n",
       "      <td>N</td>\n",
       "      <td>NaN</td>\n",
       "      <td>NaN</td>\n",
       "      <td>NaN</td>\n",
       "      <td>NaN</td>\n",
       "      <td>NaN</td>\n",
       "      <td>NaN</td>\n",
       "    </tr>\n",
       "    <tr>\n",
       "      <th>10</th>\n",
       "      <td>Cdh19</td>\n",
       "      <td>N</td>\n",
       "      <td>NaN</td>\n",
       "      <td>NaN</td>\n",
       "      <td>NaN</td>\n",
       "      <td>NaN</td>\n",
       "      <td>NaN</td>\n",
       "      <td>NaN</td>\n",
       "    </tr>\n",
       "    <tr>\n",
       "      <th>11</th>\n",
       "      <td>Pcdh9</td>\n",
       "      <td>N</td>\n",
       "      <td>NaN</td>\n",
       "      <td>NaN</td>\n",
       "      <td>NaN</td>\n",
       "      <td>NaN</td>\n",
       "      <td>NaN</td>\n",
       "      <td>NaN</td>\n",
       "    </tr>\n",
       "    <tr>\n",
       "      <th>12</th>\n",
       "      <td>Pcdhgc3</td>\n",
       "      <td>N</td>\n",
       "      <td>NaN</td>\n",
       "      <td>NaN</td>\n",
       "      <td>NaN</td>\n",
       "      <td>NaN</td>\n",
       "      <td>NaN</td>\n",
       "      <td>NaN</td>\n",
       "    </tr>\n",
       "  </tbody>\n",
       "</table>\n",
       "</div>"
      ],
      "text/plain": [
       "    Target Name Not in Catatlog  Probe set size HCR Amplifer to use with  \\\n",
       "0        Slc1a3               Y            20.0           B1, B2, B3, B4   \n",
       "1         Mertk               N             NaN                      NaN   \n",
       "2          Rfx4               N             NaN                      NaN   \n",
       "3        Clasp2               N             NaN                      NaN   \n",
       "4   Ntrk2(TrkB)               Y            20.0           B2, B3, B4, B5   \n",
       "5        Chrdl1               N             NaN                      NaN   \n",
       "6           Id3               Y            14.0                   B2, B3   \n",
       "7         Nrxn1               N             NaN                      NaN   \n",
       "8          Il33               N             NaN                      NaN   \n",
       "9          Scel               N             NaN                      NaN   \n",
       "10        Cdh19               N             NaN                      NaN   \n",
       "11        Pcdh9               N             NaN                      NaN   \n",
       "12      Pcdhgc3               N             NaN                      NaN   \n",
       "\n",
       "    Order (11/11/2021)  Accession # (validated w/ CCDS)  ABA Accession #  \\\n",
       "0                  NaN                              NaN              NaN   \n",
       "1                  NaN                              NaN              NaN   \n",
       "2                  NaN                              NaN              NaN   \n",
       "3                  NaN                              NaN              NaN   \n",
       "4                  NaN                              NaN              NaN   \n",
       "5                  NaN                              NaN              NaN   \n",
       "6                  NaN                              NaN              NaN   \n",
       "7                  NaN                              NaN              NaN   \n",
       "8                  NaN                              NaN              NaN   \n",
       "9                  NaN                              NaN              NaN   \n",
       "10                 NaN                              NaN              NaN   \n",
       "11                 NaN                              NaN              NaN   \n",
       "12                 NaN                              NaN              NaN   \n",
       "\n",
       "    Order?  \n",
       "0      NaN  \n",
       "1      NaN  \n",
       "2      NaN  \n",
       "3      NaN  \n",
       "4      NaN  \n",
       "5      NaN  \n",
       "6      NaN  \n",
       "7      NaN  \n",
       "8      NaN  \n",
       "9      NaN  \n",
       "10     NaN  \n",
       "11     NaN  \n",
       "12     NaN  "
      ]
     },
     "execution_count": 4,
     "metadata": {},
     "output_type": "execute_result"
    }
   ],
   "source": [
    "df1"
   ]
  },
  {
   "cell_type": "code",
   "execution_count": 64,
   "id": "6f0a1bfb-ecb4-45ff-97e3-cb5b83e6afea",
   "metadata": {},
   "outputs": [
    {
     "name": "stdout",
     "output_type": "stream",
     "text": [
      "CPU times: user 528 ms, sys: 11.1 s, total: 11.6 s\n",
      "Wall time: 13.9 s\n"
     ]
    },
    {
     "data": {
      "text/plain": [
       "AnnData object with n_obs × n_vars = 10485 × 10\n",
       "    obs: 'batch', 'n_genes', 'percent_mito', 'n_counts', 'leiden', 'Doublet', 'Doublet Score', 'cluster', 'Class_broad', 'sample', 'Age', 'subclass', 'layer', 'Type', 'Subclass'\n",
       "    var: 'gene_ids', 'feature_types', 'n_cells', 'highly_variable', 'means', 'dispersions', 'dispersions_norm', 'mean', 'std'\n",
       "    uns: 'Type_colors', 'cluster_colors', \"dendrogram_['leiden']\", 'hvg', 'layer_colors', 'leiden', 'neighbors', 'pca', 'sample_colors', 'umap'\n",
       "    obsm: 'X_harmony', 'X_pca', 'X_umap'\n",
       "    varm: 'PCs'\n",
       "    obsp: 'connectivities', 'distances'"
      ]
     },
     "execution_count": 64,
     "metadata": {},
     "output_type": "execute_result"
    }
   ],
   "source": [
    "%%time\n",
    "adata = ad.read('/bigstore/GeneralStorage/fangming/visctx/P38_glut_10genes.h5ad')\n",
    "adata_dr = ad.read('/bigstore/GeneralStorage/fangming/visctx/P38_glut_dr_10genes.h5ad')\n",
    "adata"
   ]
  },
  {
   "cell_type": "markdown",
   "id": "3fc329e3-2eeb-49cb-b1ed-07adcef229fc",
   "metadata": {},
   "source": [
    "# Explore cluster level"
   ]
  },
  {
   "cell_type": "code",
   "execution_count": 23,
   "id": "4dd9e2bb-1859-45fc-bae6-6f63951824e8",
   "metadata": {},
   "outputs": [
    {
     "data": {
      "text/plain": [
       "((16, 10),\n",
       " (16,),\n",
       " array(['L2/3_A', 'L2/3_B', 'L2/3_C', 'L4_A', 'L4_B', 'L4_C', 'L5IT',\n",
       "        'L5NP', 'L5PT_A', 'L5PT_B', 'L6CT_A', 'L6CT_B', 'L6CT_C', 'L6IT_A',\n",
       "        'L6IT_B', 'L6b'], dtype=object))"
      ]
     },
     "execution_count": 23,
     "metadata": {},
     "output_type": "execute_result"
    }
   ],
   "source": [
    "Xk, xclsts = basicu.group_mean(adata.X, adata.obs['cluster'].values,)\n",
    "Xk = np.array(Xk)\n",
    "Xk = pd.DataFrame(Xk, index=xclsts, columns=adata.var.index.values)\n",
    "Xk.shape, xclsts.shape, xclsts"
   ]
  },
  {
   "cell_type": "code",
   "execution_count": 65,
   "id": "e3a04abf-8b70-48b5-aa64-86d7abd2f72f",
   "metadata": {},
   "outputs": [
    {
     "data": {
      "text/plain": [
       "((17, 10),\n",
       " (17,),\n",
       " array(['11', '5', 'L2/3_2', 'L2/3_3', 'L4_1', 'L4_2', 'L4_A', 'L5IT',\n",
       "        'L5NP', 'L5PT_A', 'L5PT_B', 'L6CT_A', 'L6CT_B', 'L6CT_C', 'L6IT_A',\n",
       "        'L6IT_B', 'L6b'], dtype=object))"
      ]
     },
     "execution_count": 65,
     "metadata": {},
     "output_type": "execute_result"
    }
   ],
   "source": [
    "Yk, yclsts = basicu.group_mean(adata_dr.X, adata_dr.obs['cluster'].values,)\n",
    "Yk = np.array(Yk)\n",
    "Yk = pd.DataFrame(Yk, index=yclsts, columns=adata_dr.var.index.values)\n",
    "Yk.shape, yclsts.shape, yclsts"
   ]
  },
  {
   "cell_type": "code",
   "execution_count": 60,
   "id": "f0b0972c-72a3-453d-8525-1768dce54002",
   "metadata": {},
   "outputs": [],
   "source": [
    "gene_order = [\n",
    "    'Igfn1',\n",
    "    'Trpc6',\n",
    "    'Baz1a',\n",
    "    'Epha3',\n",
    "    \n",
    "    'Cdh13', \n",
    "    'Adamts2',\n",
    "    \n",
    "    'Chrm2',\n",
    "    'Kcna1',\n",
    "    \n",
    "    'Gria3',\n",
    "    'Whrn',\n",
    "]"
   ]
  },
  {
   "cell_type": "code",
   "execution_count": 63,
   "id": "8f8eed35-0654-4f76-9116-6e61ddd89c35",
   "metadata": {},
   "outputs": [
    {
     "data": {
      "image/png": "[encoded data removed]",
      "text/plain": [
       "<Figure size 432x432 with 2 Axes>"
      ]
     },
     "metadata": {
      "needs_background": "light"
     },
     "output_type": "display_data"
    }
   ],
   "source": [
    "fig, ax = plt.subplots(figsize=(6,6))\n",
    "sns.heatmap(Xk[gene_order], \n",
    "            cmap='coolwarm', \n",
    "            cbar_kws=dict(shrink=0.5, label='Mean gene expression (normed)'),\n",
    "            ax=ax)\n",
    "ax.axhline(3, color='gray', linewidth=1)\n",
    "ax.axhline(6, color='gray', linewidth=1)\n",
    "ax.set_title('P38 Glut. cell types')\n",
    "plt.show()"
   ]
  },
  {
   "cell_type": "code",
   "execution_count": 68,
   "id": "d8251444-e467-4ec4-b400-2be231d46036",
   "metadata": {},
   "outputs": [
    {
     "data": {
      "image/png": "[encoded data removed]",
      "text/plain": [
       "<Figure size 432x432 with 2 Axes>"
      ]
     },
     "metadata": {
      "needs_background": "light"
     },
     "output_type": "display_data"
    }
   ],
   "source": [
    "fig, ax = plt.subplots(figsize=(6,6))\n",
    "sns.heatmap(Yk[gene_order], \n",
    "            cmap='coolwarm', \n",
    "            cbar_kws=dict(shrink=0.5, label='Mean gene expression (normed)'),\n",
    "            ax=ax)\n",
    "ax.axhline(4, color='gray', linewidth=1)\n",
    "ax.axhline(7, color='gray', linewidth=1)\n",
    "ax.set_title('P38 DR Glut. cell types')\n",
    "plt.show()"
   ]
  },
  {
   "cell_type": "markdown",
   "id": "7fa066a2-2041-49b5-9a64-eec2474c19a4",
   "metadata": {},
   "source": [
    "# Explore cell level"
   ]
  },
  {
   "cell_type": "code",
   "execution_count": 134,
   "id": "112527a8-ac02-486d-83df-2ef7e0dcaa74",
   "metadata": {},
   "outputs": [],
   "source": [
    "adataX = adata[adata.obs['cluster'].str.contains('L2/3|L4')].copy()\n",
    "adataX.obs['index'] = np.arange(len(adataX))\n",
    "adataX.obs['clst'] = adataX.obs['cluster'].astype(str) # sort properly"
   ]
  },
  {
   "cell_type": "code",
   "execution_count": 135,
   "id": "cfe5a972-3653-46ee-89a5-bdb9297e4bbf",
   "metadata": {},
   "outputs": [
    {
     "data": {
      "text/plain": [
       "array(['L2/3_A', 'L4_A', 'L4_B', 'L2/3_C', 'L4_C', 'L2/3_B'], dtype=object)"
      ]
     },
     "execution_count": 135,
     "metadata": {},
     "output_type": "execute_result"
    }
   ],
   "source": [
    "adataX.obs['clst'].unique()"
   ]
  },
  {
   "cell_type": "code",
   "execution_count": 136,
   "id": "1dc1f865-3531-422f-9c90-6e032bd8857e",
   "metadata": {},
   "outputs": [
    {
     "data": {
      "text/plain": [
       "array(['L2/3_A', 'L2/3_B', 'L2/3_C', 'L4_A', 'L4_B', 'L4_C'], dtype=object)"
      ]
     },
     "execution_count": 136,
     "metadata": {},
     "output_type": "execute_result"
    }
   ],
   "source": [
    "adataX.obs.sort_values(['clst', 'n_counts'])['clst'].unique()"
   ]
  },
  {
   "cell_type": "code",
   "execution_count": 137,
   "id": "d7ebd5b9-aa39-47c7-b801-a2b9da90d78d",
   "metadata": {},
   "outputs": [
    {
     "data": {
      "text/html": [
       "<div>\n",
       "<style scoped>\n",
       "    .dataframe tbody tr th:only-of-type {\n",
       "        vertical-align: middle;\n",
       "    }\n",
       "\n",
       "    .dataframe tbody tr th {\n",
       "        vertical-align: top;\n",
       "    }\n",
       "\n",
       "    .dataframe thead th {\n",
       "        text-align: right;\n",
       "    }\n",
       "</style>\n",
       "<table border=\"1\" class=\"dataframe\">\n",
       "  <thead>\n",
       "    <tr style=\"text-align: right;\">\n",
       "      <th></th>\n",
       "      <th>Igfn1</th>\n",
       "      <th>Trpc6</th>\n",
       "      <th>Baz1a</th>\n",
       "      <th>Epha3</th>\n",
       "      <th>Cdh13</th>\n",
       "      <th>Adamts2</th>\n",
       "      <th>Chrm2</th>\n",
       "      <th>Kcna1</th>\n",
       "      <th>Gria3</th>\n",
       "      <th>Whrn</th>\n",
       "    </tr>\n",
       "  </thead>\n",
       "  <tbody>\n",
       "    <tr>\n",
       "      <th>AGAAGTACATATACCG-1-P38_2a-P38</th>\n",
       "      <td>-0.548240</td>\n",
       "      <td>5.261216</td>\n",
       "      <td>-0.298222</td>\n",
       "      <td>-0.726854</td>\n",
       "      <td>-0.500343</td>\n",
       "      <td>-0.353857</td>\n",
       "      <td>-0.683110</td>\n",
       "      <td>-0.631392</td>\n",
       "      <td>-2.000220</td>\n",
       "      <td>-0.553964</td>\n",
       "    </tr>\n",
       "    <tr>\n",
       "      <th>AGCGTCGCAAAGGCTG-1-P38_1a-P38</th>\n",
       "      <td>-0.548240</td>\n",
       "      <td>-0.375199</td>\n",
       "      <td>-0.298222</td>\n",
       "      <td>3.583193</td>\n",
       "      <td>-0.500343</td>\n",
       "      <td>-0.353857</td>\n",
       "      <td>-0.683110</td>\n",
       "      <td>-0.631392</td>\n",
       "      <td>-2.000220</td>\n",
       "      <td>-0.553964</td>\n",
       "    </tr>\n",
       "    <tr>\n",
       "      <th>AGATGAAAGCAACAGC-1-P38_2a-P38</th>\n",
       "      <td>-0.548240</td>\n",
       "      <td>-0.375199</td>\n",
       "      <td>-0.298222</td>\n",
       "      <td>2.228634</td>\n",
       "      <td>-0.500343</td>\n",
       "      <td>4.605747</td>\n",
       "      <td>-0.683110</td>\n",
       "      <td>-0.631392</td>\n",
       "      <td>-0.337545</td>\n",
       "      <td>-0.553964</td>\n",
       "    </tr>\n",
       "    <tr>\n",
       "      <th>CCATCACCAGCTGGTC-1-P38_1a-P38</th>\n",
       "      <td>-0.548240</td>\n",
       "      <td>-0.375199</td>\n",
       "      <td>-0.298222</td>\n",
       "      <td>-0.726854</td>\n",
       "      <td>1.912442</td>\n",
       "      <td>-0.353857</td>\n",
       "      <td>-0.683110</td>\n",
       "      <td>-0.631392</td>\n",
       "      <td>1.181345</td>\n",
       "      <td>-0.553964</td>\n",
       "    </tr>\n",
       "    <tr>\n",
       "      <th>CATCGCTAGAATTGTG-1-P38_1a-P38</th>\n",
       "      <td>-0.548240</td>\n",
       "      <td>-0.375199</td>\n",
       "      <td>-0.298222</td>\n",
       "      <td>3.075032</td>\n",
       "      <td>-0.500343</td>\n",
       "      <td>-0.353857</td>\n",
       "      <td>-0.683110</td>\n",
       "      <td>-0.631392</td>\n",
       "      <td>1.286807</td>\n",
       "      <td>-0.553964</td>\n",
       "    </tr>\n",
       "    <tr>\n",
       "      <th>...</th>\n",
       "      <td>...</td>\n",
       "      <td>...</td>\n",
       "      <td>...</td>\n",
       "      <td>...</td>\n",
       "      <td>...</td>\n",
       "      <td>...</td>\n",
       "      <td>...</td>\n",
       "      <td>...</td>\n",
       "      <td>...</td>\n",
       "      <td>...</td>\n",
       "    </tr>\n",
       "    <tr>\n",
       "      <th>GTAGAAAGTCGCTCGA-1-P38_2b-P38</th>\n",
       "      <td>0.339136</td>\n",
       "      <td>0.753852</td>\n",
       "      <td>-0.298222</td>\n",
       "      <td>-0.726854</td>\n",
       "      <td>-0.500343</td>\n",
       "      <td>-0.353857</td>\n",
       "      <td>1.952843</td>\n",
       "      <td>-0.631392</td>\n",
       "      <td>-1.617452</td>\n",
       "      <td>2.073658</td>\n",
       "    </tr>\n",
       "    <tr>\n",
       "      <th>GCTTCACTCTTCCCAG-1-P38_2b-P38</th>\n",
       "      <td>0.338366</td>\n",
       "      <td>-0.375199</td>\n",
       "      <td>-0.298222</td>\n",
       "      <td>-0.726854</td>\n",
       "      <td>0.077531</td>\n",
       "      <td>-0.353857</td>\n",
       "      <td>1.540496</td>\n",
       "      <td>0.320382</td>\n",
       "      <td>-1.343174</td>\n",
       "      <td>0.747331</td>\n",
       "    </tr>\n",
       "    <tr>\n",
       "      <th>GATAGCTAGACGACGT-1-P38_1a-P38</th>\n",
       "      <td>1.421312</td>\n",
       "      <td>-0.375199</td>\n",
       "      <td>-0.298222</td>\n",
       "      <td>-0.068275</td>\n",
       "      <td>-0.500343</td>\n",
       "      <td>-0.353857</td>\n",
       "      <td>1.499299</td>\n",
       "      <td>1.482926</td>\n",
       "      <td>0.135379</td>\n",
       "      <td>2.017399</td>\n",
       "    </tr>\n",
       "    <tr>\n",
       "      <th>TCAATCTCACCGCTGA-1-P38_2b-P38</th>\n",
       "      <td>0.236337</td>\n",
       "      <td>-0.375199</td>\n",
       "      <td>-0.298222</td>\n",
       "      <td>-0.726854</td>\n",
       "      <td>-0.500343</td>\n",
       "      <td>-0.353857</td>\n",
       "      <td>1.869357</td>\n",
       "      <td>0.210853</td>\n",
       "      <td>-1.410525</td>\n",
       "      <td>0.613940</td>\n",
       "    </tr>\n",
       "    <tr>\n",
       "      <th>ATCCCTGCAACAAGTA-1-P38_2a-P38</th>\n",
       "      <td>0.223062</td>\n",
       "      <td>-0.375199</td>\n",
       "      <td>-0.298222</td>\n",
       "      <td>-0.135464</td>\n",
       "      <td>-0.500343</td>\n",
       "      <td>-0.353857</td>\n",
       "      <td>1.578005</td>\n",
       "      <td>0.814083</td>\n",
       "      <td>-0.915795</td>\n",
       "      <td>0.104955</td>\n",
       "    </tr>\n",
       "  </tbody>\n",
       "</table>\n",
       "<p>5837 rows × 10 columns</p>\n",
       "</div>"
      ],
      "text/plain": [
       "                                  Igfn1     Trpc6     Baz1a     Epha3  \\\n",
       "AGAAGTACATATACCG-1-P38_2a-P38 -0.548240  5.261216 -0.298222 -0.726854   \n",
       "AGCGTCGCAAAGGCTG-1-P38_1a-P38 -0.548240 -0.375199 -0.298222  3.583193   \n",
       "AGATGAAAGCAACAGC-1-P38_2a-P38 -0.548240 -0.375199 -0.298222  2.228634   \n",
       "CCATCACCAGCTGGTC-1-P38_1a-P38 -0.548240 -0.375199 -0.298222 -0.726854   \n",
       "CATCGCTAGAATTGTG-1-P38_1a-P38 -0.548240 -0.375199 -0.298222  3.075032   \n",
       "...                                 ...       ...       ...       ...   \n",
       "GTAGAAAGTCGCTCGA-1-P38_2b-P38  0.339136  0.753852 -0.298222 -0.726854   \n",
       "GCTTCACTCTTCCCAG-1-P38_2b-P38  0.338366 -0.375199 -0.298222 -0.726854   \n",
       "GATAGCTAGACGACGT-1-P38_1a-P38  1.421312 -0.375199 -0.298222 -0.068275   \n",
       "TCAATCTCACCGCTGA-1-P38_2b-P38  0.236337 -0.375199 -0.298222 -0.726854   \n",
       "ATCCCTGCAACAAGTA-1-P38_2a-P38  0.223062 -0.375199 -0.298222 -0.135464   \n",
       "\n",
       "                                  Cdh13   Adamts2     Chrm2     Kcna1  \\\n",
       "AGAAGTACATATACCG-1-P38_2a-P38 -0.500343 -0.353857 -0.683110 -0.631392   \n",
       "AGCGTCGCAAAGGCTG-1-P38_1a-P38 -0.500343 -0.353857 -0.683110 -0.631392   \n",
       "AGATGAAAGCAACAGC-1-P38_2a-P38 -0.500343  4.605747 -0.683110 -0.631392   \n",
       "CCATCACCAGCTGGTC-1-P38_1a-P38  1.912442 -0.353857 -0.683110 -0.631392   \n",
       "CATCGCTAGAATTGTG-1-P38_1a-P38 -0.500343 -0.353857 -0.683110 -0.631392   \n",
       "...                                 ...       ...       ...       ...   \n",
       "GTAGAAAGTCGCTCGA-1-P38_2b-P38 -0.500343 -0.353857  1.952843 -0.631392   \n",
       "GCTTCACTCTTCCCAG-1-P38_2b-P38  0.077531 -0.353857  1.540496  0.320382   \n",
       "GATAGCTAGACGACGT-1-P38_1a-P38 -0.500343 -0.353857  1.499299  1.482926   \n",
       "TCAATCTCACCGCTGA-1-P38_2b-P38 -0.500343 -0.353857  1.869357  0.210853   \n",
       "ATCCCTGCAACAAGTA-1-P38_2a-P38 -0.500343 -0.353857  1.578005  0.814083   \n",
       "\n",
       "                                  Gria3      Whrn  \n",
       "AGAAGTACATATACCG-1-P38_2a-P38 -2.000220 -0.553964  \n",
       "AGCGTCGCAAAGGCTG-1-P38_1a-P38 -2.000220 -0.553964  \n",
       "AGATGAAAGCAACAGC-1-P38_2a-P38 -0.337545 -0.553964  \n",
       "CCATCACCAGCTGGTC-1-P38_1a-P38  1.181345 -0.553964  \n",
       "CATCGCTAGAATTGTG-1-P38_1a-P38  1.286807 -0.553964  \n",
       "...                                 ...       ...  \n",
       "GTAGAAAGTCGCTCGA-1-P38_2b-P38 -1.617452  2.073658  \n",
       "GCTTCACTCTTCCCAG-1-P38_2b-P38 -1.343174  0.747331  \n",
       "GATAGCTAGACGACGT-1-P38_1a-P38  0.135379  2.017399  \n",
       "TCAATCTCACCGCTGA-1-P38_2b-P38 -1.410525  0.613940  \n",
       "ATCCCTGCAACAAGTA-1-P38_2a-P38 -0.915795  0.104955  \n",
       "\n",
       "[5837 rows x 10 columns]"
      ]
     },
     "execution_count": 137,
     "metadata": {},
     "output_type": "execute_result"
    }
   ],
   "source": [
    "adata_meta = adataX.obs.sort_values(['clst', 'n_counts'])\n",
    "cell_order = adata_meta['index'].values\n",
    "\n",
    "dfX = pd.DataFrame(\n",
    "    adataX.X[cell_order,:],\n",
    "    index=adata_meta.index,\n",
    "    columns=adata.var.index,\n",
    ")[gene_order]\n",
    "dfX"
   ]
  },
  {
   "cell_type": "code",
   "execution_count": 140,
   "id": "a92feb06-126b-428c-949b-7247a228a75f",
   "metadata": {},
   "outputs": [
    {
     "data": {
      "text/plain": [
       "L2/3_A    1971\n",
       "L2/3_B     236\n",
       "L2/3_C     611\n",
       "L4_A       784\n",
       "L4_B       955\n",
       "L4_C      1280\n",
       "Name: clst, dtype: int64"
      ]
     },
     "execution_count": 140,
     "metadata": {},
     "output_type": "execute_result"
    }
   ],
   "source": [
    "clst_sizes = adata_meta['clst'].value_counts(sort=False)\n",
    "clst_sizes"
   ]
  },
  {
   "cell_type": "code",
   "execution_count": 141,
   "id": "b2a1eb83-55f1-41cf-841c-ab0d8b8974bc",
   "metadata": {},
   "outputs": [
    {
     "data": {
      "text/plain": [
       "L2/3_A    1971\n",
       "L2/3_B    2207\n",
       "L2/3_C    2818\n",
       "L4_A      3602\n",
       "L4_B      4557\n",
       "L4_C      5837\n",
       "Name: clst, dtype: int64"
      ]
     },
     "execution_count": 141,
     "metadata": {},
     "output_type": "execute_result"
    }
   ],
   "source": [
    "np.cumsum(clst_sizes)"
   ]
  },
  {
   "cell_type": "code",
   "execution_count": 146,
   "id": "4f23dc45-d39d-493c-a7bd-ed3208aae5e1",
   "metadata": {},
   "outputs": [
    {
     "data": {
      "image/png": "[encoded data removed]",
      "text/plain": [
       "<Figure size 432x1080 with 2 Axes>"
      ]
     },
     "metadata": {
      "needs_background": "light"
     },
     "output_type": "display_data"
    }
   ],
   "source": [
    "fig, ax = plt.subplots(figsize=(6, 15))\n",
    "sns.heatmap(dfX, \n",
    "            yticklabels=False,\n",
    "            cmap='coolwarm', \n",
    "            cbar_kws=dict(shrink=0.5, label='Mean gene expression (normed)'),\n",
    "            vmax=1,\n",
    "            vmin=-1,\n",
    "            ax=ax)\n",
    "\n",
    "ax.hlines(np.cumsum(clst_sizes), xmin=0, xmax=dfX.shape[1], \n",
    "          color='white', \n",
    "          linewidth=1,\n",
    "         )\n",
    "for clst, y in np.cumsum(clst_sizes).iteritems():\n",
    "    ax.text(0, y, clst, ha='right')\n",
    "ax.set_title('P38 Glut. individual cells')\n",
    "plt.show()"
   ]
  },
  {
   "cell_type": "markdown",
   "id": "f840d622-6255-42b0-af7b-1cca28a2c7b3",
   "metadata": {},
   "source": [
    "# classsification based of the 10 genes"
   ]
  },
  {
   "cell_type": "code",
   "execution_count": 214,
   "id": "d6886d3e-28cb-4f30-8f3a-4894aa91ed9f",
   "metadata": {},
   "outputs": [],
   "source": [
    "from sklearn.linear_model import LogisticRegression\n",
    "from sklearn.model_selection import KFold\n",
    "from sklearn import metrics "
   ]
  },
  {
   "cell_type": "code",
   "execution_count": 172,
   "id": "31dd3f6a-04bf-4c73-a220-ba6a60daa88d",
   "metadata": {},
   "outputs": [],
   "source": [
    "# data\n",
    "X = dfX.values\n",
    "y = adata_meta['clst'].str.contains('L2/3')"
   ]
  },
  {
   "cell_type": "code",
   "execution_count": 220,
   "id": "a3b3d8d2-3614-4367-853e-1a5fcf0760f1",
   "metadata": {},
   "outputs": [],
   "source": [
    "kf = KFold(n_splits=5, shuffle=True, random_state=0)\n",
    "ps = []\n",
    "rs = []\n",
    "auprs = []\n",
    "for train_idx, test_idx, in kf.split(X):\n",
    "    X_train, X_test = X[train_idx], X[test_idx]\n",
    "    y_train, y_test = y[train_idx], y[test_idx]\n",
    "    \n",
    "    # train\n",
    "    lrf = LogisticRegression(random_state=0).fit(X_train,y_train)\n",
    "    # test\n",
    "    yp = lrf.predict_proba(X_test)\n",
    "    # evaluation\n",
    "    p, r, th = metrics.precision_recall_curve(y_test.values.astype(int), yp[:,1])\n",
    "    pidx = np.argsort(p)\n",
    "    p = p[pidx]\n",
    "    r = r[pidx]\n",
    "    \n",
    "    p = np.hstack([0, p, 1])\n",
    "    r = np.hstack([1, r, 0])\n",
    "    aupr = metrics.auc(p, r)\n",
    "    \n",
    "    ps.append(p)\n",
    "    rs.append(r)\n",
    "    auprs.append(aupr)"
   ]
  },
  {
   "cell_type": "code",
   "execution_count": 232,
   "id": "00094b0e-badf-4a0a-b108-a2c0a0a89a6b",
   "metadata": {},
   "outputs": [
    {
     "data": {
      "image/png": "[encoded data removed]",
      "text/plain": [
       "<Figure size 360x360 with 1 Axes>"
      ]
     },
     "metadata": {
      "needs_background": "light"
     },
     "output_type": "display_data"
    }
   ],
   "source": [
    "# plot\n",
    "fig, ax = plt.subplots(figsize=(5,5))\n",
    "for p, r in zip(ps, rs):\n",
    "    ax.plot(p, r, color='C0', linewidth=1)\n",
    "ax.text(0,0, f\"AUPR={np.mean(auprs):.2f}\\n(mean over 5-fold CV)\")\n",
    "sns.despine(ax=ax)\n",
    "ax.set_aspect('equal')\n",
    "ax.set_xticks(np.linspace(0,1,6))\n",
    "ax.set_yticks(np.linspace(0,1,6))\n",
    "ax.set_xlabel('Precision')\n",
    "ax.set_ylabel('Recall')\n",
    "ax.set_title(f'L2/3 vs L4')\n",
    "plt.show()"
   ]
  },
  {
   "cell_type": "markdown",
   "id": "e0d065e3-a7e1-4d7f-b028-051b4e0dffb1",
   "metadata": {},
   "source": [
    "# within L2/3"
   ]
  },
  {
   "cell_type": "code",
   "execution_count": 233,
   "id": "feb7a214-d1c5-4aea-9a29-94b85d7f151b",
   "metadata": {},
   "outputs": [],
   "source": [
    "# data\n",
    "cond = adata_meta['clst'].str.contains('L2/3')\n",
    "adata_meta_l23 = adata_meta[cond]\n",
    "dfX_l23 = dfX.loc[adata_meta_l23.index]"
   ]
  },
  {
   "cell_type": "code",
   "execution_count": 245,
   "id": "e77ed497-7fdf-4569-a484-583991c10be2",
   "metadata": {},
   "outputs": [],
   "source": [
    "def classifier_pipe(X, y):\n",
    "    kf = KFold(n_splits=5, shuffle=True, random_state=0)\n",
    "    ps = []\n",
    "    rs = []\n",
    "    auprs = []\n",
    "    for train_idx, test_idx, in kf.split(X):\n",
    "        X_train, X_test = X[train_idx], X[test_idx]\n",
    "        y_train, y_test = y[train_idx], y[test_idx]\n",
    "\n",
    "        # train\n",
    "        lrf = LogisticRegression(random_state=0).fit(X_train,y_train)\n",
    "        # test\n",
    "        yp = lrf.predict_proba(X_test)\n",
    "        # evaluation\n",
    "        p, r, th = metrics.precision_recall_curve(y_test.values.astype(int), yp[:,1])\n",
    "        pidx = np.argsort(p)\n",
    "        p = p[pidx]\n",
    "        r = r[pidx]\n",
    "\n",
    "        p = np.hstack([0, p, 1])\n",
    "        r = np.hstack([1, r, 0])\n",
    "        aupr = metrics.auc(p, r)\n",
    "\n",
    "        ps.append(p)\n",
    "        rs.append(r)\n",
    "        auprs.append(aupr)\n",
    "    return ps, rs, auprs\n",
    "\n",
    "def plot_pipe(ax, ps, rs, auprs):\n",
    "    for p, r in zip(ps, rs):\n",
    "        ax.plot(p, r, color='C0', linewidth=1)\n",
    "    ax.text(0,0, f\"AUPR={np.mean(auprs):.2f}\\n(mean over 5-fold CV)\")\n",
    "    sns.despine(ax=ax)\n",
    "    ax.set_aspect('equal')\n",
    "    ax.set_xticks(np.linspace(0,1,6))\n",
    "    ax.set_yticks(np.linspace(0,1,6))\n",
    "    ax.set_xlabel('Precision')\n",
    "    ax.set_ylabel('Recall')\n",
    "    return ax"
   ]
  },
  {
   "cell_type": "code",
   "execution_count": 249,
   "id": "0d514a4d-1362-43b5-8672-d282046d9c89",
   "metadata": {},
   "outputs": [],
   "source": [
    "X = dfX_l23.values \n",
    "\n",
    "y_a = adata_meta_l23['clst'].str.contains('L2/3_A') \n",
    "y_b = adata_meta_l23['clst'].str.contains('L2/3_B') \n",
    "y_c = adata_meta_l23['clst'].str.contains('L2/3_C') \n",
    "\n",
    "ps_a, rs_a, auprs_a = classifier_pipe(X, y_a)\n",
    "ps_b, rs_b, auprs_b = classifier_pipe(X, y_b)\n",
    "ps_c, rs_c, auprs_c = classifier_pipe(X, y_c)"
   ]
  },
  {
   "cell_type": "code",
   "execution_count": 253,
   "id": "41a0232d-0e5f-4f25-9f1e-8c3ed751fd7b",
   "metadata": {},
   "outputs": [
    {
     "data": {
      "image/png": "[encoded data removed]",
      "text/plain": [
       "<Figure size 1080x360 with 3 Axes>"
      ]
     },
     "metadata": {
      "needs_background": "light"
     },
     "output_type": "display_data"
    }
   ],
   "source": [
    "fig, axs = plt.subplots(1,3,figsize=(5*3,5))\n",
    "ax = axs[0]\n",
    "plot_pipe(ax, ps_a, rs_a, auprs_a)\n",
    "ax.set_title(f'L2/3_A vs other L2/3')\n",
    "\n",
    "ax = axs[1]\n",
    "plot_pipe(ax, ps_b, rs_b, auprs_b)\n",
    "ax.set_title(f'L2/3_B vs other L2/3')\n",
    "\n",
    "ax = axs[2]\n",
    "plot_pipe(ax, ps_c, rs_c, auprs_c)\n",
    "ax.set_title(f'L2/3_C vs other L2/3')\n",
    "plt.show()"
   ]
  },
  {
   "cell_type": "code",
   "execution_count": null,
   "id": "7afe22b1-e686-4d30-9a44-1df30d04db2a",
   "metadata": {},
   "outputs": [],
   "source": []
  }
 ],
 "metadata": {
  "kernelspec": {
   "display_name": "Python 3 (ipykernel)",
   "language": "python",
   "name": "python3"
  },
  "language_info": {
   "codemirror_mode": {
    "name": "ipython",
    "version": 3
   },
   "file_extension": ".py",
   "mimetype": "text/x-python",
   "name": "python",
   "nbconvert_exporter": "python",
   "pygments_lexer": "ipython3",
   "version": "3.10.2"
  }
 },
 "nbformat": 4,
 "nbformat_minor": 5
}
