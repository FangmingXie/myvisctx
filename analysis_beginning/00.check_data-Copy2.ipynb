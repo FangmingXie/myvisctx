{
 "cells": [
  {
   "cell_type": "code",
   "execution_count": 1,
   "id": "20017ba7-fa38-45e7-80b3-c942c6e65a7d",
   "metadata": {},
   "outputs": [],
   "source": [
    "import pandas as pd\n",
    "import numpy as np\n",
    "import anndata as ad"
   ]
  },
  {
   "cell_type": "markdown",
   "id": "55471211-9ae4-4c3a-8ed2-9d6f6e3aa66d",
   "metadata": {},
   "source": [
    "# Metadata"
   ]
  },
  {
   "cell_type": "code",
   "execution_count": 2,
   "id": "e16ae9fb-1b09-46d3-8659-4c14bb2333f2",
   "metadata": {},
   "outputs": [
    {
     "name": "stdout",
     "output_type": "stream",
     "text": [
      "../data_dump/candidate_genes_vincent_0316.xlsx\n",
      "../data_dump/candidate_genes_vincent_0328.csv\n",
      "../data_dump/candidate_genes_vincent_0503.csv\n"
     ]
    }
   ],
   "source": [
    "!ls ../data_dump/candidate_genes*"
   ]
  },
  {
   "cell_type": "code",
   "execution_count": 27,
   "id": "98561d18-44eb-423f-87a9-4e37965e333c",
   "metadata": {},
   "outputs": [
    {
     "name": "stdout",
     "output_type": "stream",
     "text": [
      "(88, 6)\n"
     ]
    }
   ],
   "source": [
    "f = '../data_dump/candidate_genes_vincent_0503.csv'\n",
    "# df0 = pd.read_excel(f, sheet_name=0)\n",
    "df0 = pd.read_csv(f)\n",
    "print(df0.shape)"
   ]
  },
  {
   "cell_type": "code",
   "execution_count": 28,
   "id": "9b011787-7bdd-4736-91cd-a9672b32af6c",
   "metadata": {},
   "outputs": [
    {
     "name": "stdout",
     "output_type": "stream",
     "text": [
      "(84, 6)\n",
      "(84, 6)\n",
      "(84, 6)\n"
     ]
    },
    {
     "data": {
      "text/html": [
       "<div>\n",
       "<style scoped>\n",
       "    .dataframe tbody tr th:only-of-type {\n",
       "        vertical-align: middle;\n",
       "    }\n",
       "\n",
       "    .dataframe tbody tr th {\n",
       "        vertical-align: top;\n",
       "    }\n",
       "\n",
       "    .dataframe thead th {\n",
       "        text-align: right;\n",
       "    }\n",
       "</style>\n",
       "<table border=\"1\" class=\"dataframe\">\n",
       "  <thead>\n",
       "    <tr style=\"text-align: right;\">\n",
       "      <th></th>\n",
       "      <th>Gene</th>\n",
       "      <th>Subclass</th>\n",
       "      <th>Type/Gradient</th>\n",
       "      <th>Function</th>\n",
       "      <th>Priority</th>\n",
       "      <th>Allen marker</th>\n",
       "    </tr>\n",
       "  </thead>\n",
       "  <tbody>\n",
       "    <tr>\n",
       "      <th>0</th>\n",
       "      <td>Adamts2</td>\n",
       "      <td>L2/3</td>\n",
       "      <td>A&gt;B=C</td>\n",
       "      <td>other</td>\n",
       "      <td>***</td>\n",
       "      <td>x</td>\n",
       "    </tr>\n",
       "    <tr>\n",
       "      <th>1</th>\n",
       "      <td>Agmat</td>\n",
       "      <td>L2/3</td>\n",
       "      <td>None</td>\n",
       "      <td>other</td>\n",
       "      <td>None</td>\n",
       "      <td>x</td>\n",
       "    </tr>\n",
       "    <tr>\n",
       "      <th>2</th>\n",
       "      <td>Astn2</td>\n",
       "      <td>L2/3</td>\n",
       "      <td>C&gt;B&gt;A</td>\n",
       "      <td>Syn</td>\n",
       "      <td>None</td>\n",
       "      <td>None</td>\n",
       "    </tr>\n",
       "    <tr>\n",
       "      <th>3</th>\n",
       "      <td>Baz1a</td>\n",
       "      <td>L2/3</td>\n",
       "      <td>A&lt;B&gt;C</td>\n",
       "      <td>TF</td>\n",
       "      <td>***</td>\n",
       "      <td>None</td>\n",
       "    </tr>\n",
       "    <tr>\n",
       "      <th>4</th>\n",
       "      <td>Bdnf</td>\n",
       "      <td>L2/3</td>\n",
       "      <td>A&lt;B&gt;C</td>\n",
       "      <td>CAM</td>\n",
       "      <td>***</td>\n",
       "      <td>None</td>\n",
       "    </tr>\n",
       "    <tr>\n",
       "      <th>...</th>\n",
       "      <td>...</td>\n",
       "      <td>...</td>\n",
       "      <td>...</td>\n",
       "      <td>...</td>\n",
       "      <td>...</td>\n",
       "      <td>...</td>\n",
       "    </tr>\n",
       "    <tr>\n",
       "      <th>79</th>\n",
       "      <td>Tbr1</td>\n",
       "      <td>L2/3</td>\n",
       "      <td>C&gt;B&gt;A</td>\n",
       "      <td>TF</td>\n",
       "      <td>None</td>\n",
       "      <td>None</td>\n",
       "    </tr>\n",
       "    <tr>\n",
       "      <th>80</th>\n",
       "      <td>Tenm1</td>\n",
       "      <td>L2/3</td>\n",
       "      <td>A&gt;B&gt;C</td>\n",
       "      <td>CAM</td>\n",
       "      <td>None</td>\n",
       "      <td>None</td>\n",
       "    </tr>\n",
       "    <tr>\n",
       "      <th>81</th>\n",
       "      <td>Trpc6</td>\n",
       "      <td>L2/3</td>\n",
       "      <td>A&lt;B&gt;C</td>\n",
       "      <td>IC</td>\n",
       "      <td>***</td>\n",
       "      <td>None</td>\n",
       "    </tr>\n",
       "    <tr>\n",
       "      <th>82</th>\n",
       "      <td>Whrn</td>\n",
       "      <td>L4</td>\n",
       "      <td>None</td>\n",
       "      <td>other</td>\n",
       "      <td>None</td>\n",
       "      <td>None</td>\n",
       "    </tr>\n",
       "    <tr>\n",
       "      <th>83</th>\n",
       "      <td>Wnt4</td>\n",
       "      <td>L2/3</td>\n",
       "      <td>A&gt;B&gt;C</td>\n",
       "      <td>CAM</td>\n",
       "      <td>None</td>\n",
       "      <td>None</td>\n",
       "    </tr>\n",
       "  </tbody>\n",
       "</table>\n",
       "<p>84 rows × 6 columns</p>\n",
       "</div>"
      ],
      "text/plain": [
       "       Gene Subclass Type/Gradient Function Priority Allen marker\n",
       "0   Adamts2     L2/3         A>B=C    other      ***            x\n",
       "1     Agmat     L2/3          None    other     None            x\n",
       "2     Astn2     L2/3         C>B>A      Syn     None         None\n",
       "3     Baz1a     L2/3         A<B>C       TF      ***         None\n",
       "4      Bdnf     L2/3         A<B>C      CAM      ***         None\n",
       "..      ...      ...           ...      ...      ...          ...\n",
       "79     Tbr1     L2/3         C>B>A       TF     None         None\n",
       "80    Tenm1     L2/3         A>B>C      CAM     None         None\n",
       "81    Trpc6     L2/3         A<B>C       IC      ***         None\n",
       "82     Whrn       L4          None    other     None         None\n",
       "83     Wnt4     L2/3         A>B>C      CAM     None         None\n",
       "\n",
       "[84 rows x 6 columns]"
      ]
     },
     "execution_count": 28,
     "metadata": {},
     "output_type": "execute_result"
    }
   ],
   "source": [
    "df0 = df0.groupby('Gene').first().reset_index()\n",
    "print(df0.shape)\n",
    "df0 = df0[~df0['Gene'].isnull()]\n",
    "print(df0.shape)\n",
    "df0['Gene'] = df0['Gene'].apply(lambda x: x[0].upper() + x[1:].lower())\n",
    "print(df0.shape)\n",
    "df0"
   ]
  },
  {
   "cell_type": "markdown",
   "id": "4db41082-0e9f-4430-8686-cf6a5be9061e",
   "metadata": {},
   "source": [
    "# Files "
   ]
  },
  {
   "cell_type": "code",
   "execution_count": 29,
   "id": "f164db3d-ab80-44b4-b476-2f03b02fc0fa",
   "metadata": {},
   "outputs": [
    {
     "data": {
      "text/plain": [
       "AnnData object with n_obs × n_vars = 10485 × 30869\n",
       "    obs: 'batch', 'n_genes', 'percent_mito', 'n_counts', 'leiden', 'Doublet', 'Doublet Score', 'cluster', 'Class_broad', 'sample', 'Age', 'subclass', 'layer', 'Type', 'Subclass'\n",
       "    var: 'gene_ids', 'feature_types', 'n_cells', 'highly_variable', 'means', 'dispersions', 'dispersions_norm', 'mean', 'std'\n",
       "    uns: 'Type_colors', 'cluster_colors', \"dendrogram_['leiden']\", 'hvg', 'layer_colors', 'leiden', 'leiden_colors', 'neighbors', 'pca', 'sample_colors', 'umap'\n",
       "    obsm: 'X_harmony', 'X_pca', 'X_umap'\n",
       "    varm: 'PCs'\n",
       "    obsp: 'connectivities', 'distances'"
      ]
     },
     "execution_count": 29,
     "metadata": {},
     "output_type": "execute_result"
    }
   ],
   "source": [
    "f = '../data_dump/P38_glut.h5ad'\n",
    "adata = ad.read(f)\n",
    "adata"
   ]
  },
  {
   "cell_type": "markdown",
   "id": "d1bf5d50-36d3-411d-91fe-3161f0a99f18",
   "metadata": {},
   "source": [
    "# save specific genes"
   ]
  },
  {
   "cell_type": "code",
   "execution_count": 30,
   "id": "35a94518-a61b-463c-ad8a-d99637650b4a",
   "metadata": {},
   "outputs": [
    {
     "name": "stdout",
     "output_type": "stream",
     "text": [
      "['Neurod1']\n"
     ]
    },
    {
     "data": {
      "text/plain": [
       "(83,)"
      ]
     },
     "execution_count": 30,
     "metadata": {},
     "output_type": "execute_result"
    }
   ],
   "source": [
    "cgenes = np.intersect1d(adata.var.index.values, df0['Gene'].values)\n",
    "print([g for g in df0['Gene'].values if g not in cgenes])\n",
    "cgenes.shape"
   ]
  },
  {
   "cell_type": "code",
   "execution_count": 31,
   "id": "b36c0169-231d-41c7-8e47-54f1cf9372c8",
   "metadata": {},
   "outputs": [
    {
     "data": {
      "text/html": [
       "<div>\n",
       "<style scoped>\n",
       "    .dataframe tbody tr th:only-of-type {\n",
       "        vertical-align: middle;\n",
       "    }\n",
       "\n",
       "    .dataframe tbody tr th {\n",
       "        vertical-align: top;\n",
       "    }\n",
       "\n",
       "    .dataframe thead th {\n",
       "        text-align: right;\n",
       "    }\n",
       "</style>\n",
       "<table border=\"1\" class=\"dataframe\">\n",
       "  <thead>\n",
       "    <tr style=\"text-align: right;\">\n",
       "      <th></th>\n",
       "      <th>Gene</th>\n",
       "      <th>Subclass</th>\n",
       "      <th>Type/Gradient</th>\n",
       "      <th>Function</th>\n",
       "      <th>Priority</th>\n",
       "      <th>Allen marker</th>\n",
       "    </tr>\n",
       "  </thead>\n",
       "  <tbody>\n",
       "    <tr>\n",
       "      <th>0</th>\n",
       "      <td>Adamts2</td>\n",
       "      <td>L2/3</td>\n",
       "      <td>A&gt;B=C</td>\n",
       "      <td>other</td>\n",
       "      <td>***</td>\n",
       "      <td>x</td>\n",
       "    </tr>\n",
       "    <tr>\n",
       "      <th>1</th>\n",
       "      <td>Agmat</td>\n",
       "      <td>L2/3</td>\n",
       "      <td>None</td>\n",
       "      <td>other</td>\n",
       "      <td>None</td>\n",
       "      <td>x</td>\n",
       "    </tr>\n",
       "    <tr>\n",
       "      <th>2</th>\n",
       "      <td>Astn2</td>\n",
       "      <td>L2/3</td>\n",
       "      <td>C&gt;B&gt;A</td>\n",
       "      <td>Syn</td>\n",
       "      <td>None</td>\n",
       "      <td>None</td>\n",
       "    </tr>\n",
       "    <tr>\n",
       "      <th>3</th>\n",
       "      <td>Baz1a</td>\n",
       "      <td>L2/3</td>\n",
       "      <td>A&lt;B&gt;C</td>\n",
       "      <td>TF</td>\n",
       "      <td>***</td>\n",
       "      <td>None</td>\n",
       "    </tr>\n",
       "    <tr>\n",
       "      <th>4</th>\n",
       "      <td>Bdnf</td>\n",
       "      <td>L2/3</td>\n",
       "      <td>A&lt;B&gt;C</td>\n",
       "      <td>CAM</td>\n",
       "      <td>***</td>\n",
       "      <td>None</td>\n",
       "    </tr>\n",
       "    <tr>\n",
       "      <th>...</th>\n",
       "      <td>...</td>\n",
       "      <td>...</td>\n",
       "      <td>...</td>\n",
       "      <td>...</td>\n",
       "      <td>...</td>\n",
       "      <td>...</td>\n",
       "    </tr>\n",
       "    <tr>\n",
       "      <th>79</th>\n",
       "      <td>Tbr1</td>\n",
       "      <td>L2/3</td>\n",
       "      <td>C&gt;B&gt;A</td>\n",
       "      <td>TF</td>\n",
       "      <td>None</td>\n",
       "      <td>None</td>\n",
       "    </tr>\n",
       "    <tr>\n",
       "      <th>80</th>\n",
       "      <td>Tenm1</td>\n",
       "      <td>L2/3</td>\n",
       "      <td>A&gt;B&gt;C</td>\n",
       "      <td>CAM</td>\n",
       "      <td>None</td>\n",
       "      <td>None</td>\n",
       "    </tr>\n",
       "    <tr>\n",
       "      <th>81</th>\n",
       "      <td>Trpc6</td>\n",
       "      <td>L2/3</td>\n",
       "      <td>A&lt;B&gt;C</td>\n",
       "      <td>IC</td>\n",
       "      <td>***</td>\n",
       "      <td>None</td>\n",
       "    </tr>\n",
       "    <tr>\n",
       "      <th>82</th>\n",
       "      <td>Whrn</td>\n",
       "      <td>L4</td>\n",
       "      <td>None</td>\n",
       "      <td>other</td>\n",
       "      <td>None</td>\n",
       "      <td>None</td>\n",
       "    </tr>\n",
       "    <tr>\n",
       "      <th>83</th>\n",
       "      <td>Wnt4</td>\n",
       "      <td>L2/3</td>\n",
       "      <td>A&gt;B&gt;C</td>\n",
       "      <td>CAM</td>\n",
       "      <td>None</td>\n",
       "      <td>None</td>\n",
       "    </tr>\n",
       "  </tbody>\n",
       "</table>\n",
       "<p>83 rows × 6 columns</p>\n",
       "</div>"
      ],
      "text/plain": [
       "       Gene Subclass Type/Gradient Function Priority Allen marker\n",
       "0   Adamts2     L2/3         A>B=C    other      ***            x\n",
       "1     Agmat     L2/3          None    other     None            x\n",
       "2     Astn2     L2/3         C>B>A      Syn     None         None\n",
       "3     Baz1a     L2/3         A<B>C       TF      ***         None\n",
       "4      Bdnf     L2/3         A<B>C      CAM      ***         None\n",
       "..      ...      ...           ...      ...      ...          ...\n",
       "79     Tbr1     L2/3         C>B>A       TF     None         None\n",
       "80    Tenm1     L2/3         A>B>C      CAM     None         None\n",
       "81    Trpc6     L2/3         A<B>C       IC      ***         None\n",
       "82     Whrn       L4          None    other     None         None\n",
       "83     Wnt4     L2/3         A>B>C      CAM     None         None\n",
       "\n",
       "[83 rows x 6 columns]"
      ]
     },
     "execution_count": 31,
     "metadata": {},
     "output_type": "execute_result"
    }
   ],
   "source": [
    "df0 = df0[df0['Gene'].isin(cgenes)]\n",
    "df0"
   ]
  },
  {
   "cell_type": "code",
   "execution_count": 32,
   "id": "57f0648d-c40b-4c17-b169-ed010bf187df",
   "metadata": {},
   "outputs": [],
   "source": [
    "# f = '../data_dump/candidate_genes_vincent_0503_v2.csv'\n",
    "# df0.to_csv(f, header=True, index=False)"
   ]
  },
  {
   "cell_type": "code",
   "execution_count": 33,
   "id": "67a06d86-e263-48eb-ade3-856fc7804003",
   "metadata": {},
   "outputs": [
    {
     "data": {
      "text/html": [
       "<div>\n",
       "<style scoped>\n",
       "    .dataframe tbody tr th:only-of-type {\n",
       "        vertical-align: middle;\n",
       "    }\n",
       "\n",
       "    .dataframe tbody tr th {\n",
       "        vertical-align: top;\n",
       "    }\n",
       "\n",
       "    .dataframe thead th {\n",
       "        text-align: right;\n",
       "    }\n",
       "</style>\n",
       "<table border=\"1\" class=\"dataframe\">\n",
       "  <thead>\n",
       "    <tr style=\"text-align: right;\">\n",
       "      <th></th>\n",
       "      <th>Gene</th>\n",
       "      <th>Subclass</th>\n",
       "      <th>Type/Gradient</th>\n",
       "      <th>Function</th>\n",
       "      <th>Priority</th>\n",
       "      <th>Allen marker</th>\n",
       "    </tr>\n",
       "  </thead>\n",
       "  <tbody>\n",
       "    <tr>\n",
       "      <th>0</th>\n",
       "      <td>Adamts2</td>\n",
       "      <td>L2/3</td>\n",
       "      <td>A&gt;B=C</td>\n",
       "      <td>other</td>\n",
       "      <td>***</td>\n",
       "      <td>x</td>\n",
       "    </tr>\n",
       "    <tr>\n",
       "      <th>1</th>\n",
       "      <td>Agmat</td>\n",
       "      <td>L2/3</td>\n",
       "      <td>NaN</td>\n",
       "      <td>other</td>\n",
       "      <td>NaN</td>\n",
       "      <td>x</td>\n",
       "    </tr>\n",
       "    <tr>\n",
       "      <th>2</th>\n",
       "      <td>Astn2</td>\n",
       "      <td>L2/3</td>\n",
       "      <td>C&gt;B&gt;A</td>\n",
       "      <td>Syn</td>\n",
       "      <td>NaN</td>\n",
       "      <td>NaN</td>\n",
       "    </tr>\n",
       "    <tr>\n",
       "      <th>3</th>\n",
       "      <td>Baz1a</td>\n",
       "      <td>L2/3</td>\n",
       "      <td>A&lt;B&gt;C</td>\n",
       "      <td>TF</td>\n",
       "      <td>***</td>\n",
       "      <td>NaN</td>\n",
       "    </tr>\n",
       "    <tr>\n",
       "      <th>4</th>\n",
       "      <td>Bdnf</td>\n",
       "      <td>L2/3</td>\n",
       "      <td>A&lt;B&gt;C</td>\n",
       "      <td>CAM</td>\n",
       "      <td>***</td>\n",
       "      <td>NaN</td>\n",
       "    </tr>\n",
       "    <tr>\n",
       "      <th>...</th>\n",
       "      <td>...</td>\n",
       "      <td>...</td>\n",
       "      <td>...</td>\n",
       "      <td>...</td>\n",
       "      <td>...</td>\n",
       "      <td>...</td>\n",
       "    </tr>\n",
       "    <tr>\n",
       "      <th>78</th>\n",
       "      <td>Tbr1</td>\n",
       "      <td>L2/3</td>\n",
       "      <td>C&gt;B&gt;A</td>\n",
       "      <td>TF</td>\n",
       "      <td>NaN</td>\n",
       "      <td>NaN</td>\n",
       "    </tr>\n",
       "    <tr>\n",
       "      <th>79</th>\n",
       "      <td>Tenm1</td>\n",
       "      <td>L2/3</td>\n",
       "      <td>A&gt;B&gt;C</td>\n",
       "      <td>CAM</td>\n",
       "      <td>NaN</td>\n",
       "      <td>NaN</td>\n",
       "    </tr>\n",
       "    <tr>\n",
       "      <th>80</th>\n",
       "      <td>Trpc6</td>\n",
       "      <td>L2/3</td>\n",
       "      <td>A&lt;B&gt;C</td>\n",
       "      <td>IC</td>\n",
       "      <td>***</td>\n",
       "      <td>NaN</td>\n",
       "    </tr>\n",
       "    <tr>\n",
       "      <th>81</th>\n",
       "      <td>Whrn</td>\n",
       "      <td>L4</td>\n",
       "      <td>NaN</td>\n",
       "      <td>other</td>\n",
       "      <td>NaN</td>\n",
       "      <td>NaN</td>\n",
       "    </tr>\n",
       "    <tr>\n",
       "      <th>82</th>\n",
       "      <td>Wnt4</td>\n",
       "      <td>L2/3</td>\n",
       "      <td>A&gt;B&gt;C</td>\n",
       "      <td>CAM</td>\n",
       "      <td>NaN</td>\n",
       "      <td>NaN</td>\n",
       "    </tr>\n",
       "  </tbody>\n",
       "</table>\n",
       "<p>83 rows × 6 columns</p>\n",
       "</div>"
      ],
      "text/plain": [
       "       Gene Subclass Type/Gradient Function Priority Allen marker\n",
       "0   Adamts2     L2/3         A>B=C    other      ***            x\n",
       "1     Agmat     L2/3           NaN    other      NaN            x\n",
       "2     Astn2     L2/3         C>B>A      Syn      NaN          NaN\n",
       "3     Baz1a     L2/3         A<B>C       TF      ***          NaN\n",
       "4      Bdnf     L2/3         A<B>C      CAM      ***          NaN\n",
       "..      ...      ...           ...      ...      ...          ...\n",
       "78     Tbr1     L2/3         C>B>A       TF      NaN          NaN\n",
       "79    Tenm1     L2/3         A>B>C      CAM      NaN          NaN\n",
       "80    Trpc6     L2/3         A<B>C       IC      ***          NaN\n",
       "81     Whrn       L4           NaN    other      NaN          NaN\n",
       "82     Wnt4     L2/3         A>B>C      CAM      NaN          NaN\n",
       "\n",
       "[83 rows x 6 columns]"
      ]
     },
     "execution_count": 33,
     "metadata": {},
     "output_type": "execute_result"
    }
   ],
   "source": [
    "f = '../data_dump/candidate_genes_vincent_0503_v2.csv'\n",
    "df0 = pd.read_csv(f)\n",
    "df0"
   ]
  },
  {
   "cell_type": "code",
   "execution_count": 34,
   "id": "a083590f-290c-4dfc-8172-afcb9d0e4de9",
   "metadata": {},
   "outputs": [
    {
     "name": "stdout",
     "output_type": "stream",
     "text": [
      "CPU times: user 83.3 ms, sys: 571 ms, total: 654 ms\n",
      "Wall time: 653 ms\n"
     ]
    },
    {
     "data": {
      "text/plain": [
       "View of AnnData object with n_obs × n_vars = 10485 × 83\n",
       "    obs: 'batch', 'n_genes', 'percent_mito', 'n_counts', 'leiden', 'Doublet', 'Doublet Score', 'cluster', 'Class_broad', 'sample', 'Age', 'subclass', 'layer', 'Type', 'Subclass'\n",
       "    var: 'gene_ids', 'feature_types', 'n_cells', 'highly_variable', 'means', 'dispersions', 'dispersions_norm', 'mean', 'std'\n",
       "    uns: 'Type_colors', 'cluster_colors', \"dendrogram_['leiden']\", 'hvg', 'layer_colors', 'leiden', 'neighbors', 'pca', 'sample_colors', 'umap'\n",
       "    obsm: 'X_harmony', 'X_pca', 'X_umap'\n",
       "    varm: 'PCs'\n",
       "    obsp: 'connectivities', 'distances'"
      ]
     },
     "execution_count": 34,
     "metadata": {},
     "output_type": "execute_result"
    }
   ],
   "source": [
    "%%time\n",
    "adata = adata[:,cgenes]\n",
    "adata"
   ]
  },
  {
   "cell_type": "code",
   "execution_count": 35,
   "id": "bad82682-3400-4733-be0a-2c30fcf2aa85",
   "metadata": {},
   "outputs": [],
   "source": [
    "def rename_clsts(x):\n",
    "    thedict = {\n",
    "        'L2/3_A': 'L2/3_B',\n",
    "        'L2/3_B': 'L2/3_A',\n",
    "    }\n",
    "    if x in thedict.keys():\n",
    "        return thedict[x]\n",
    "    else:\n",
    "        return x"
   ]
  },
  {
   "cell_type": "code",
   "execution_count": 36,
   "id": "d7eb00a7",
   "metadata": {},
   "outputs": [
    {
     "name": "stderr",
     "output_type": "stream",
     "text": [
      "Trying to set attribute `.obs` of view, copying.\n"
     ]
    },
    {
     "name": "stdout",
     "output_type": "stream",
     "text": [
      "CPU times: user 80.3 ms, sys: 720 ms, total: 800 ms\n",
      "Wall time: 797 ms\n"
     ]
    },
    {
     "data": {
      "text/plain": [
       "AnnData object with n_obs × n_vars = 5837 × 83\n",
       "    obs: 'batch', 'n_genes', 'percent_mito', 'n_counts', 'leiden', 'Doublet', 'Doublet Score', 'cluster', 'Class_broad', 'sample', 'Age', 'subclass', 'layer', 'Type', 'Subclass'\n",
       "    var: 'gene_ids', 'feature_types', 'n_cells', 'highly_variable', 'means', 'dispersions', 'dispersions_norm', 'mean', 'std'\n",
       "    uns: 'Type_colors', 'cluster_colors', \"dendrogram_['leiden']\", 'hvg', 'layer_colors', 'leiden', 'neighbors', 'pca', 'sample_colors', 'umap'\n",
       "    obsm: 'X_harmony', 'X_pca', 'X_umap'\n",
       "    varm: 'PCs'\n",
       "    obsp: 'connectivities', 'distances'"
      ]
     },
     "execution_count": 36,
     "metadata": {},
     "output_type": "execute_result"
    }
   ],
   "source": [
    "%%time\n",
    "adata = adata[adata.obs['cluster'].str.contains(r'^L2|L4')]\n",
    "adata.obs['cluster'] = adata.obs['cluster'].apply(rename_clsts) \n",
    "adata"
   ]
  },
  {
   "cell_type": "code",
   "execution_count": 37,
   "id": "ff77332e-0647-431e-b591-c6417483b025",
   "metadata": {},
   "outputs": [],
   "source": [
    "adata.write('/bigstore/GeneralStorage/fangming/projects/visctx/data_dump/P38_glut_genes_v3.h5ad')"
   ]
  },
  {
   "cell_type": "code",
   "execution_count": null,
   "id": "2af10a97-56d9-4a95-abde-dba76aaedfb9",
   "metadata": {},
   "outputs": [],
   "source": []
  }
 ],
 "metadata": {
  "kernelspec": {
   "display_name": "Python 3 (ipykernel)",
   "language": "python",
   "name": "python3"
  },
  "language_info": {
   "codemirror_mode": {
    "name": "ipython",
    "version": 3
   },
   "file_extension": ".py",
   "mimetype": "text/x-python",
   "name": "python",
   "nbconvert_exporter": "python",
   "pygments_lexer": "ipython3",
   "version": "3.10.2"
  }
 },
 "nbformat": 4,
 "nbformat_minor": 5
}
