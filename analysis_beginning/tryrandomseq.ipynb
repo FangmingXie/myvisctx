{
 "cells": [
  {
   "cell_type": "code",
   "execution_count": 1,
   "id": "f0a09f2b-ef46-4240-b4db-2c602c88830d",
   "metadata": {
    "tags": []
   },
   "outputs": [],
   "source": [
    "import numpy as np"
   ]
  },
  {
   "cell_type": "code",
   "execution_count": 2,
   "id": "49bf3126-e5c8-46b0-8c1e-318fd4727416",
   "metadata": {
    "tags": []
   },
   "outputs": [],
   "source": [
    "n = 5"
   ]
  },
  {
   "cell_type": "code",
   "execution_count": 3,
   "id": "71b75305-c3bf-4fb9-ab34-610bb83e7b82",
   "metadata": {
    "tags": []
   },
   "outputs": [
    {
     "data": {
      "text/plain": [
       "array([[2, 0, 1, 3, 3],\n",
       "       [1, 2, 3, 0, 0],\n",
       "       [2, 0, 0, 3, 2],\n",
       "       ...,\n",
       "       [2, 2, 3, 3, 1],\n",
       "       [1, 1, 3, 1, 2],\n",
       "       [0, 0, 3, 1, 0]])"
      ]
     },
     "execution_count": 3,
     "metadata": {},
     "output_type": "execute_result"
    }
   ],
   "source": [
    "mat = np.random.randint(4, size=(10000,n))\n",
    "mat"
   ]
  },
  {
   "cell_type": "code",
   "execution_count": 4,
   "id": "6d3f7fe3-22c3-42fa-8118-ee47ebc7a2df",
   "metadata": {
    "tags": []
   },
   "outputs": [],
   "source": [
    "seq = mat[0]"
   ]
  },
  {
   "cell_type": "code",
   "execution_count": 5,
   "id": "521b499d-162a-43a9-86b2-eb36dcaf94ad",
   "metadata": {
    "tags": []
   },
   "outputs": [
    {
     "data": {
      "text/plain": [
       "array([2, 0, 1, 3, 3])"
      ]
     },
     "execution_count": 5,
     "metadata": {},
     "output_type": "execute_result"
    }
   ],
   "source": [
    "seq"
   ]
  },
  {
   "cell_type": "code",
   "execution_count": 6,
   "id": "7eabd464-7cfa-4933-a18b-dd5e7cac8d92",
   "metadata": {
    "tags": []
   },
   "outputs": [
    {
     "data": {
      "text/plain": [
       "array([[1, 2, 3, 0, 0],\n",
       "       [2, 0, 0, 3, 2],\n",
       "       [3, 3, 1, 1, 3],\n",
       "       ...,\n",
       "       [2, 2, 3, 3, 1],\n",
       "       [1, 1, 3, 1, 2],\n",
       "       [0, 0, 3, 1, 0]])"
      ]
     },
     "execution_count": 6,
     "metadata": {},
     "output_type": "execute_result"
    }
   ],
   "source": [
    "mat2 = mat[1:]\n",
    "mat2"
   ]
  },
  {
   "cell_type": "code",
   "execution_count": 7,
   "id": "a498b66d-d651-4430-be3d-9710ee505bcf",
   "metadata": {
    "tags": []
   },
   "outputs": [
    {
     "data": {
      "text/plain": [
       "array([2, 0, 1, 3, 3])"
      ]
     },
     "execution_count": 7,
     "metadata": {},
     "output_type": "execute_result"
    }
   ],
   "source": [
    "seq"
   ]
  },
  {
   "cell_type": "code",
   "execution_count": 8,
   "id": "8402a570-ce5e-40bf-b017-d157dae47204",
   "metadata": {
    "tags": []
   },
   "outputs": [
    {
     "data": {
      "text/plain": [
       "array([[1, 2, 3, 0, 0],\n",
       "       [2, 0, 0, 3, 2],\n",
       "       [3, 3, 1, 1, 3],\n",
       "       ...,\n",
       "       [2, 2, 3, 3, 1],\n",
       "       [1, 1, 3, 1, 2],\n",
       "       [0, 0, 3, 1, 0]])"
      ]
     },
     "execution_count": 8,
     "metadata": {},
     "output_type": "execute_result"
    }
   ],
   "source": [
    "mat2"
   ]
  },
  {
   "cell_type": "code",
   "execution_count": 9,
   "id": "3a4981e1-7df4-4793-ab83-84129799fe26",
   "metadata": {
    "tags": []
   },
   "outputs": [
    {
     "data": {
      "text/plain": [
       "((5,), (9999, 5))"
      ]
     },
     "execution_count": 9,
     "metadata": {},
     "output_type": "execute_result"
    }
   ],
   "source": [
    "seq.shape, mat2.shape"
   ]
  },
  {
   "cell_type": "code",
   "execution_count": 10,
   "id": "ed520374-5508-438f-b08d-b55459387faa",
   "metadata": {
    "tags": []
   },
   "outputs": [
    {
     "data": {
      "text/plain": [
       "array([5, 5, 5, 5, 2, 0, 1, 3, 3, 5, 5, 5, 5])"
      ]
     },
     "execution_count": 10,
     "metadata": {},
     "output_type": "execute_result"
    }
   ],
   "source": [
    "n-1\n",
    "seqpad = np.hstack([[5]*(n-1), seq, [5]*(n-1)])\n",
    "seqpad"
   ]
  },
  {
   "cell_type": "code",
   "execution_count": 11,
   "id": "ce49e07f-d9c7-4650-9800-da7c4c8458b2",
   "metadata": {
    "tags": []
   },
   "outputs": [
    {
     "name": "stdout",
     "output_type": "stream",
     "text": [
      "[0 1 0 ... 0 1 0]\n",
      "(9999,)\n",
      "[1 0 0 ... 0 0 1]\n",
      "(9999,)\n",
      "[1 0 0 ... 1 0 0]\n",
      "(9999,)\n",
      "[1 1 2 ... 1 1 1]\n",
      "(9999,)\n",
      "[0 3 2 ... 2 0 1]\n",
      "(9999,)\n",
      "[1 1 0 ... 2 2 2]\n",
      "(9999,)\n",
      "[2 0 1 ... 1 2 1]\n",
      "(9999,)\n",
      "[0 0 2 ... 0 0 0]\n",
      "(9999,)\n",
      "[0 0 1 ... 0 0 0]\n",
      "(9999,)\n"
     ]
    }
   ],
   "source": [
    "for i in range(2*n-1):\n",
    "    overlap = np.sum(seqpad[i:i+5]==mat2, axis=1)\n",
    "    print(overlap)\n",
    "    print(overlap.shape)\n",
    "    # print(seqpad[i:i+5]-mat2)"
   ]
  },
  {
   "cell_type": "code",
   "execution_count": null,
   "id": "9bb639bb-934b-403f-ad20-3d4064cd36e0",
   "metadata": {},
   "outputs": [],
   "source": []
  }
 ],
 "metadata": {
  "kernelspec": {
   "display_name": "Python 3 (ipykernel)",
   "language": "python",
   "name": "python3"
  },
  "language_info": {
   "codemirror_mode": {
    "name": "ipython",
    "version": 3
   },
   "file_extension": ".py",
   "mimetype": "text/x-python",
   "name": "python",
   "nbconvert_exporter": "python",
   "pygments_lexer": "ipython3",
   "version": "3.8.16"
  }
 },
 "nbformat": 4,
 "nbformat_minor": 5
}
