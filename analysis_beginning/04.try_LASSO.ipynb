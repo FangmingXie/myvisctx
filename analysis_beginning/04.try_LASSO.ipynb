{
 "cells": [
  {
   "cell_type": "code",
   "execution_count": 1,
   "id": "20017ba7-fa38-45e7-80b3-c942c6e65a7d",
   "metadata": {},
   "outputs": [],
   "source": [
    "import pandas as pd\n",
    "import numpy as np\n",
    "import anndata as ad\n",
    "import seaborn as sns\n",
    "import matplotlib.pyplot as plt\n",
    "import umap\n",
    "from sklearn.decomposition import PCA\n",
    "from sklearn.linear_model import LogisticRegression\n",
    "from sklearn.model_selection import KFold\n",
    "from sklearn import metrics \n",
    "\n",
    "import sys\n",
    "# sys.path.insert(0, '')\n",
    "import importlib\n",
    "from dredFISH.Analysis import basicu\n",
    "\n",
    "importlib.reload(basicu)\n",
    "\n",
    "sns.set_context('talk')"
   ]
  },
  {
   "cell_type": "markdown",
   "id": "55471211-9ae4-4c3a-8ed2-9d6f6e3aa66d",
   "metadata": {},
   "source": [
    "# Load data"
   ]
  },
  {
   "cell_type": "code",
   "execution_count": 2,
   "id": "98561d18-44eb-423f-87a9-4e37965e333c",
   "metadata": {},
   "outputs": [
    {
     "data": {
      "text/html": [
       "<div>\n",
       "<style scoped>\n",
       "    .dataframe tbody tr th:only-of-type {\n",
       "        vertical-align: middle;\n",
       "    }\n",
       "\n",
       "    .dataframe tbody tr th {\n",
       "        vertical-align: top;\n",
       "    }\n",
       "\n",
       "    .dataframe thead th {\n",
       "        text-align: right;\n",
       "    }\n",
       "</style>\n",
       "<table border=\"1\" class=\"dataframe\">\n",
       "  <thead>\n",
       "    <tr style=\"text-align: right;\">\n",
       "      <th></th>\n",
       "      <th>Subclass</th>\n",
       "      <th>Type/Gradient</th>\n",
       "      <th>Function</th>\n",
       "      <th>Priority</th>\n",
       "      <th>Note</th>\n",
       "    </tr>\n",
       "    <tr>\n",
       "      <th>Gene</th>\n",
       "      <th></th>\n",
       "      <th></th>\n",
       "      <th></th>\n",
       "      <th></th>\n",
       "      <th></th>\n",
       "    </tr>\n",
       "  </thead>\n",
       "  <tbody>\n",
       "    <tr>\n",
       "      <th>Baz1a</th>\n",
       "      <td>L2/3</td>\n",
       "      <td>A&lt;B&gt;C</td>\n",
       "      <td>TF</td>\n",
       "      <td>***</td>\n",
       "      <td>NaN</td>\n",
       "    </tr>\n",
       "    <tr>\n",
       "      <th>Trpc6</th>\n",
       "      <td>L2/3</td>\n",
       "      <td>A&lt;B&gt;C</td>\n",
       "      <td>IC</td>\n",
       "      <td>***</td>\n",
       "      <td>NaN</td>\n",
       "    </tr>\n",
       "    <tr>\n",
       "      <th>Bdnf</th>\n",
       "      <td>L2/3</td>\n",
       "      <td>A&lt;B&gt;C</td>\n",
       "      <td>CAM</td>\n",
       "      <td>***</td>\n",
       "      <td>NaN</td>\n",
       "    </tr>\n",
       "    <tr>\n",
       "      <th>Sox5</th>\n",
       "      <td>L2/3</td>\n",
       "      <td>A&lt;B&gt;C</td>\n",
       "      <td>TF</td>\n",
       "      <td>NaN</td>\n",
       "      <td>NaN</td>\n",
       "    </tr>\n",
       "    <tr>\n",
       "      <th>Nrp1</th>\n",
       "      <td>L2/3</td>\n",
       "      <td>A&lt;B&gt;C</td>\n",
       "      <td>CAM</td>\n",
       "      <td>***</td>\n",
       "      <td>NaN</td>\n",
       "    </tr>\n",
       "    <tr>\n",
       "      <th>...</th>\n",
       "      <td>...</td>\n",
       "      <td>...</td>\n",
       "      <td>...</td>\n",
       "      <td>...</td>\n",
       "      <td>...</td>\n",
       "    </tr>\n",
       "    <tr>\n",
       "      <th>Ngb</th>\n",
       "      <td>L2/3</td>\n",
       "      <td>NaN</td>\n",
       "      <td>other</td>\n",
       "      <td>NaN</td>\n",
       "      <td>NaN</td>\n",
       "    </tr>\n",
       "    <tr>\n",
       "      <th>Penk</th>\n",
       "      <td>L2/3</td>\n",
       "      <td>NaN</td>\n",
       "      <td>other</td>\n",
       "      <td>NaN</td>\n",
       "      <td>NaN</td>\n",
       "    </tr>\n",
       "    <tr>\n",
       "      <th>Chrm2</th>\n",
       "      <td>L2/3, L4</td>\n",
       "      <td>C&gt;B=A</td>\n",
       "      <td>IC</td>\n",
       "      <td>***</td>\n",
       "      <td>NaN</td>\n",
       "    </tr>\n",
       "    <tr>\n",
       "      <th>Cux1</th>\n",
       "      <td>L2/3, L4</td>\n",
       "      <td>all</td>\n",
       "      <td>TF</td>\n",
       "      <td>NaN</td>\n",
       "      <td>NaN</td>\n",
       "    </tr>\n",
       "    <tr>\n",
       "      <th>Whrn</th>\n",
       "      <td>L4</td>\n",
       "      <td>NaN</td>\n",
       "      <td>other</td>\n",
       "      <td>NaN</td>\n",
       "      <td>NaN</td>\n",
       "    </tr>\n",
       "  </tbody>\n",
       "</table>\n",
       "<p>86 rows × 5 columns</p>\n",
       "</div>"
      ],
      "text/plain": [
       "       Subclass Type/Gradient Function Priority Note\n",
       "Gene                                                \n",
       "Baz1a      L2/3         A<B>C       TF      ***  NaN\n",
       "Trpc6      L2/3         A<B>C       IC      ***  NaN\n",
       "Bdnf       L2/3         A<B>C      CAM      ***  NaN\n",
       "Sox5       L2/3         A<B>C       TF      NaN  NaN\n",
       "Nrp1       L2/3         A<B>C      CAM      ***  NaN\n",
       "...         ...           ...      ...      ...  ...\n",
       "Ngb        L2/3           NaN    other      NaN  NaN\n",
       "Penk       L2/3           NaN    other      NaN  NaN\n",
       "Chrm2  L2/3, L4         C>B=A       IC      ***  NaN\n",
       "Cux1   L2/3, L4           all       TF      NaN  NaN\n",
       "Whrn         L4           NaN    other      NaN  NaN\n",
       "\n",
       "[86 rows x 5 columns]"
      ]
     },
     "execution_count": 2,
     "metadata": {},
     "output_type": "execute_result"
    }
   ],
   "source": [
    "f = '../data_dump/candidate_genes_vincent_0328.csv'\n",
    "df0 = pd.read_csv(f)\n",
    "df0 = df0.sort_values(['Subclass', 'Type/Gradient'])\n",
    "df0 = df0[df0['Gene']!='Neurod1']\n",
    "df0 = df0.set_index('Gene')\n",
    "df0"
   ]
  },
  {
   "cell_type": "code",
   "execution_count": 3,
   "id": "6f0a1bfb-ecb4-45ff-97e3-cb5b83e6afea",
   "metadata": {},
   "outputs": [
    {
     "name": "stdout",
     "output_type": "stream",
     "text": [
      "CPU times: user 239 ms, sys: 469 ms, total: 708 ms\n",
      "Wall time: 1.62 s\n"
     ]
    },
    {
     "data": {
      "text/plain": [
       "AnnData object with n_obs × n_vars = 5837 × 86\n",
       "    obs: 'batch', 'n_genes', 'percent_mito', 'n_counts', 'leiden', 'Doublet', 'Doublet Score', 'cluster', 'Class_broad', 'sample', 'Age', 'subclass', 'layer', 'Type', 'Subclass', 'embed_1', 'embed_2', 'PC_1', 'PC_2', 'PC_3', 'PC_4', 'PC_5', 'PC_6', 'PC_7', 'PC_8', 'PC_9', 'PC_10', 'PC_11', 'PC_12', 'PC_13', 'PC_14', 'PC_15', 'PC_16', 'PC_17', 'PC_18', 'PC_19', 'PC_20', 'PC_21', 'PC_22', 'PC_23', 'PC_24', 'PC_25', 'PC_26', 'PC_27', 'PC_28', 'PC_29', 'PC_30', 'PC_31', 'PC_32', 'PC_33', 'PC_34', 'PC_35', 'PC_36', 'PC_37', 'PC_38', 'PC_39', 'PC_40', 'PC_41', 'PC_42', 'PC_43', 'PC_44', 'PC_45', 'PC_46', 'PC_47', 'PC_48', 'PC_49', 'PC_50', 'PC_51', 'PC_52', 'PC_53', 'PC_54', 'PC_55', 'PC_56', 'PC_57', 'PC_58', 'PC_59', 'PC_60', 'PC_61', 'PC_62', 'PC_63', 'PC_64', 'PC_65', 'PC_66', 'PC_67', 'PC_68', 'PC_69', 'PC_70', 'PC_71', 'PC_72', 'PC_73', 'PC_74', 'PC_75', 'PC_76', 'PC_77', 'PC_78', 'PC_79', 'PC_80', 'PC_81', 'PC_82', 'PC_83', 'PC_84', 'PC_85', 'PC_86'\n",
       "    var: 'gene_ids', 'feature_types', 'n_cells', 'highly_variable', 'means', 'dispersions', 'dispersions_norm', 'mean', 'std'\n",
       "    uns: 'Type_colors', 'cluster_colors', \"dendrogram_['leiden']\", 'hvg', 'layer_colors', 'leiden', 'neighbors', 'pca', 'sample_colors', 'umap'\n",
       "    obsm: 'X_harmony', 'X_pca', 'X_umap'\n",
       "    varm: 'PCs'\n",
       "    obsp: 'connectivities', 'distances'"
      ]
     },
     "execution_count": 3,
     "metadata": {},
     "output_type": "execute_result"
    }
   ],
   "source": [
    "%%time\n",
    "adata = ad.read('../data_dump/P38_glut_genes_v2_annot.h5ad')\n",
    "adata"
   ]
  },
  {
   "cell_type": "code",
   "execution_count": 4,
   "id": "65ae302e-536e-4e10-8566-3f95fcb0a4bc",
   "metadata": {},
   "outputs": [
    {
     "data": {
      "text/plain": [
       "Layers with keys: "
      ]
     },
     "execution_count": 4,
     "metadata": {},
     "output_type": "execute_result"
    }
   ],
   "source": [
    "adata.layers"
   ]
  },
  {
   "cell_type": "code",
   "execution_count": 4,
   "id": "6431549f-930f-47b7-971b-42aebe544595",
   "metadata": {
    "tags": []
   },
   "outputs": [],
   "source": [
    "# ## classsification based off the ~86 genes (Try LASSO for the minimum set of genes)\n",
    "# - L2/3 vs L4\n",
    "# - L2/3 subtypes\n",
    "# - continuum (UMAP_1 as a proxy)"
   ]
  },
  {
   "cell_type": "code",
   "execution_count": 5,
   "id": "30afd247-83b7-4b12-808a-7424586be229",
   "metadata": {},
   "outputs": [],
   "source": [
    "# def classifier_pipe(X, y):\n",
    "#     kf = KFold(n_splits=5, shuffle=True, random_state=0)\n",
    "#     ps = []\n",
    "#     rs = []\n",
    "#     auprs = []\n",
    "#     for train_idx, test_idx, in kf.split(X):\n",
    "#         X_train, X_test = X[train_idx], X[test_idx]\n",
    "#         y_train, y_test = y[train_idx], y[test_idx]\n",
    "\n",
    "#         # train\n",
    "#         lrf = LogisticRegression(random_state=0).fit(X_train,y_train)\n",
    "#         # test\n",
    "#         yp = lrf.predict_proba(X_test)\n",
    "#         # evaluation\n",
    "#         p, r, th = metrics.precision_recall_curve(y_test.values.astype(int), yp[:,1])\n",
    "#         pidx = np.argsort(p)\n",
    "#         p = p[pidx]\n",
    "#         r = r[pidx]\n",
    "\n",
    "#         p = np.hstack([0, p, 1])\n",
    "#         r = np.hstack([1, r, 0])\n",
    "#         aupr = metrics.auc(p, r)\n",
    "\n",
    "#         ps.append(p)\n",
    "#         rs.append(r)\n",
    "#         auprs.append(aupr)\n",
    "#     return ps, rs, auprs\n",
    "\n",
    "# def plot_pipe(ax, ps, rs, auprs):\n",
    "#     for p, r in zip(ps, rs):\n",
    "#         ax.plot(r, p, color='C0', linewidth=1)\n",
    "#     ax.text(0,0, f\"AUPR={np.mean(auprs):.2f}\\n(mean over 5-fold CV)\")\n",
    "#     sns.despine(ax=ax)\n",
    "#     ax.set_aspect('equal')\n",
    "#     ax.set_xticks(np.linspace(0,1,6))\n",
    "#     ax.set_yticks(np.linspace(0,1,6))\n",
    "#     ax.set_xlabel('Recall')\n",
    "#     ax.set_ylabel('Precision')\n",
    "#     return ax"
   ]
  },
  {
   "cell_type": "code",
   "execution_count": 6,
   "id": "3cafc6fe-c48d-40a8-9f28-d87da53d2fc5",
   "metadata": {},
   "outputs": [],
   "source": [
    "def get_precision_recall(y_true, y_pred):\n",
    "    \"\"\"Auto system; has some edge case issues\n",
    "    \"\"\"\n",
    "    p, r, th = metrics.precision_recall_curve(y_true, y_pred)\n",
    "    # pidx = np.argsort(p)\n",
    "    # p = p[pidx]\n",
    "    # r = r[pidx]\n",
    "    # p = np.hstack([0, p, 1])\n",
    "    # r = np.hstack([1, r, 0])\n",
    "    return p, r\n",
    "\n",
    "def get_precision_recall_v2(y_true, y_pred):\n",
    "    \"\"\"Auto system; has some edge case issues\n",
    "    \"\"\"\n",
    "    pth = np.linspace(0,1,101)\n",
    "    p = []\n",
    "    r = []\n",
    "    for pth1 in pth:\n",
    "        conf = metrics.confusion_matrix(y_true, y_pred>pth)\n",
    "        tn, fp, fn, tp = conf.ravel()\n",
    "        p1 = tp/(tp+fp)\n",
    "        r1 = tp/(tp+fn)\n",
    "        p.append(p1)\n",
    "        r.append(r1)\n",
    "    \n",
    "    return p, r\n",
    "\n",
    "def evaluate(y_true, y_pred, pr_opt='v1'):\n",
    "    \"\"\"\n",
    "    \"\"\"\n",
    "    # evaluation\n",
    "    if pr_opt == 'v1':\n",
    "        p, r = get_precision_recall(y_true, y_pred)\n",
    "    elif pr_opt == 'v2':\n",
    "        p, r = get_precision_recall_v2(y_true, y_pred)\n",
    "    aupr = metrics.auc(r, p)\n",
    "    # aupr = -1\n",
    "    return p, r, aupr\n",
    "\n",
    "def classifier_pipe(X, y, c=1):\n",
    "    \"\"\"\n",
    "    \"\"\"\n",
    "    kf = KFold(n_splits=5, shuffle=True, random_state=0)\n",
    "    ps = []\n",
    "    rs = []\n",
    "    auprs = []\n",
    "    \n",
    "    y_true = np.empty(len(y))\n",
    "    y_pred = np.empty(len(y))\n",
    "    \n",
    "    \n",
    "    l0s = []\n",
    "    l1s = []\n",
    "    for train_idx, test_idx, in kf.split(X):\n",
    "        X_train, X_test = X[train_idx], X[test_idx]\n",
    "        y_train, y_test = y[train_idx], y[test_idx]\n",
    "\n",
    "        # train\n",
    "        model = LogisticRegression(penalty='l1', solver='liblinear', C=c, random_state=0)\n",
    "        # model = LogisticRegression(random_state=0)\n",
    "        model.fit(X_train, y_train)\n",
    "        \n",
    "        # test\n",
    "        yp = model.predict_proba(X_test)\n",
    "        \n",
    "        # results\n",
    "        l0 = (np.abs(model.coef_) > 1e-6).sum() \n",
    "        l1 = np.abs(model.coef_).sum()\n",
    "        l0s.append(l0)\n",
    "        l1s.append(l1)\n",
    "        \n",
    "        # results\n",
    "        y_true[test_idx] = y_test.values.astype(int)\n",
    "        y_pred[test_idx] = yp[:,1]\n",
    "        \n",
    "        \n",
    "    return y_true, y_pred, l0s, l1s\n",
    "\n",
    "def plot_pipe(ax, y_true, y_pred, pr_opt='v1'):\n",
    "    \"\"\"\n",
    "    \"\"\"\n",
    "    ps, rs, aupr = evaluate(y_true, y_pred, pr_opt=pr_opt) \n",
    "    \n",
    "    ax.plot(rs, ps, color='C0', linewidth=2)\n",
    "    ax.text(0,0.1, f\"AUPR={aupr:.2f}\")\n",
    "    sns.despine(ax=ax)\n",
    "    ax.set_aspect('equal')\n",
    "    ax.set_xticks(np.linspace(0,1,6))\n",
    "    ax.set_yticks(np.linspace(0,1,6))\n",
    "    ax.set_xlabel('Recall')\n",
    "    ax.set_ylabel('Precision')\n",
    "    return ax"
   ]
  },
  {
   "cell_type": "markdown",
   "id": "b4123139-57eb-4230-b24a-69c506080571",
   "metadata": {},
   "source": [
    "# L2/3 vs L4"
   ]
  },
  {
   "cell_type": "code",
   "execution_count": 7,
   "id": "e54eb521-9ab8-44c0-8d94-f73f8b68ab02",
   "metadata": {},
   "outputs": [
    {
     "name": "stdout",
     "output_type": "stream",
     "text": [
      "(5837, 86) (5837,)\n"
     ]
    }
   ],
   "source": [
    "# data\n",
    "X = adata.X\n",
    "y = adata.obs['cluster'].str.contains('L2/3')\n",
    "print(X.shape, y.shape)\n",
    "\n",
    "# run\n",
    "y_true, y_pred, l0s, l1s = classifier_pipe(X, y, c=1)"
   ]
  },
  {
   "cell_type": "code",
   "execution_count": 8,
   "id": "ca9a6d7f-ee3c-4643-ad8d-95a132503825",
   "metadata": {},
   "outputs": [
    {
     "data": {
      "image/png": "[encoded data removed]",
      "text/plain": [
       "<Figure size 360x360 with 1 Axes>"
      ]
     },
     "metadata": {
      "needs_background": "light"
     },
     "output_type": "display_data"
    }
   ],
   "source": [
    "# vis\n",
    "fig, ax = plt.subplots(1,1,figsize=(5*1,5))\n",
    "plot_pipe(ax, y_true, y_pred, pr_opt='v1')\n",
    "ax.set_title(f'L2/3 vs L4')\n",
    "plt.show()"
   ]
  },
  {
   "cell_type": "markdown",
   "id": "a48cfc03-a2cf-4690-a407-fe92f53ffed9",
   "metadata": {},
   "source": [
    "# within L2/3"
   ]
  },
  {
   "cell_type": "code",
   "execution_count": 9,
   "id": "8bf35189-94f8-4e01-9c0a-b7ac5c6523f3",
   "metadata": {},
   "outputs": [
    {
     "name": "stdout",
     "output_type": "stream",
     "text": [
      "(2818, 86) (2818,) (2818,) (2818,)\n"
     ]
    }
   ],
   "source": [
    "# data\n",
    "cond = adata.obs['cluster'].str.contains('L2/3')\n",
    "adatasub = adata[cond].copy()\n",
    "X = adatasub.X\n",
    "\n",
    "y_a = adatasub.obs['cluster'].str.contains('L2/3_A') \n",
    "y_b = adatasub.obs['cluster'].str.contains('L2/3_B') \n",
    "y_c = adatasub.obs['cluster'].str.contains('L2/3_C') \n",
    "print(X.shape, y_a.shape, y_b.shape, y_c.shape)"
   ]
  },
  {
   "cell_type": "code",
   "execution_count": 18,
   "id": "1a7ca7b0-f599-4947-beb7-67ec5af064af",
   "metadata": {},
   "outputs": [],
   "source": [
    "y_true_a, y_pred_a, _, _ = classifier_pipe(X, y_a, c=1)\n",
    "y_true_b, y_pred_b, _, _ = classifier_pipe(X, y_b, c=1)\n",
    "y_true_c, y_pred_c, _, _ = classifier_pipe(X, y_c, c=1)"
   ]
  },
  {
   "cell_type": "code",
   "execution_count": 19,
   "id": "85688354-d5f0-46b7-98b9-5f3389d778ed",
   "metadata": {},
   "outputs": [
    {
     "data": {
      "image/png": "[encoded data removed]",
      "text/plain": [
       "<Figure size 1080x360 with 3 Axes>"
      ]
     },
     "metadata": {
      "needs_background": "light"
     },
     "output_type": "display_data"
    }
   ],
   "source": [
    "fig, axs = plt.subplots(1,3,figsize=(5*3,5))\n",
    "ax = axs[0]\n",
    "plot_pipe(ax, y_true_a, y_pred_a)\n",
    "ax.set_title(f'L2/3_A vs other L2/3')\n",
    "\n",
    "ax = axs[1]\n",
    "plot_pipe(ax, y_true_b, y_pred_b)\n",
    "ax.set_title(f'L2/3_B vs other L2/3')\n",
    "\n",
    "ax = axs[2]\n",
    "plot_pipe(ax, y_true_c, y_pred_c)\n",
    "ax.set_title(f'L2/3_C vs other L2/3')\n",
    "plt.show()"
   ]
  },
  {
   "cell_type": "code",
   "execution_count": null,
   "id": "ab5db320-d315-4385-85d3-9f271d0586f2",
   "metadata": {},
   "outputs": [],
   "source": []
  }
 ],
 "metadata": {
  "kernelspec": {
   "display_name": "Python 3 (ipykernel)",
   "language": "python",
   "name": "python3"
  },
  "language_info": {
   "codemirror_mode": {
    "name": "ipython",
    "version": 3
   },
   "file_extension": ".py",
   "mimetype": "text/x-python",
   "name": "python",
   "nbconvert_exporter": "python",
   "pygments_lexer": "ipython3",
   "version": "3.10.2"
  }
 },
 "nbformat": 4,
 "nbformat_minor": 5
}
