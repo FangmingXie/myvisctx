{
 "cells": [
  {
   "cell_type": "code",
   "execution_count": 1,
   "id": "f1f450c8-20a1-4745-9449-dd52c10a4e94",
   "metadata": {},
   "outputs": [],
   "source": [
    "import os\n",
    "import numpy as np\n",
    "import pandas as pd\n",
    "from scipy import sparse\n",
    "import anndata\n",
    "from scroutines import basicu"
   ]
  },
  {
   "cell_type": "code",
   "execution_count": 5,
   "id": "4130a03d-54dc-4a68-a20c-9a0c084ed212",
   "metadata": {},
   "outputs": [],
   "source": [
    "ddir1 = '../data/cheng21_cell_scrna/counts/'\n",
    "files1 = [\n",
    "    # \"GSE190940_P8NR.csv.gz\",\n",
    "    # \"GSE190940_P14NR.csv.gz\",\n",
    "    # \"GSE190940_P17NR.csv.gz\",\n",
    "    # \"GSE190940_P21NR.csv.gz\",\n",
    "    # \"GSE190940_P28NR.csv.gz\",\n",
    "    # \"GSE190940_P38NR.csv.gz\",\n",
    "    \n",
    "    \"GSE190940_P28DR.csv.gz\",\n",
    "    \"GSE190940_P38DR.csv.gz\",\n",
    "    \n",
    "    \"GSE190940_P28DL.csv.gz\",\n",
    "] \n",
    "\n",
    "ddir2 = \"../data/cheng21_cell_scrna/processed\"\n",
    "files2 = [\n",
    "#     'P8_glut.h5ad',\n",
    "#     'P8_gaba.h5ad',\n",
    "#     'P8_non.h5ad',\n",
    "    \n",
    "#     'P14_glut.h5ad',  \n",
    "#     'P14_gaba.h5ad',\n",
    "#     'P14_non.h5ad',  \n",
    "    \n",
    "#     'P17_glut.h5ad', \n",
    "#     'P17_gaba.h5ad',  \n",
    "#     'P17_non.h5ad',   \n",
    "    \n",
    "#     'P21_glut.h5ad',  \n",
    "#     'P21_gaba.h5ad',  \n",
    "#     'P21_non.h5ad',     \n",
    "    \n",
    "#     'P28_glut.h5ad',     \n",
    "#     'P28_gaba.h5ad',     \n",
    "#     'P28_non.h5ad',      \n",
    "    \n",
    "#     'P38_glut.h5ad',    \n",
    "#     'P38_gaba.h5ad',    \n",
    "#     'P38_non.h5ad',   \n",
    "    \n",
    "    'P28DR_glut.h5ad', \n",
    "    'P28DR_gaba.h5ad',\n",
    "    'P28DR_non.h5ad',\n",
    "    \n",
    "    'P38DR_glut.h5ad',  \n",
    "    'P38DR_gaba.h5ad',\n",
    "    'P38DR_non.h5ad',   \n",
    "    \n",
    "    'P28DL_glut.h5ad',  \n",
    "    'P28DL_gaba.h5ad',  \n",
    "    'P28DL_non.h5ad',   \n",
    "    ]"
   ]
  },
  {
   "cell_type": "code",
   "execution_count": 6,
   "id": "ec186d45-b001-49c6-86b0-3c355f5922ec",
   "metadata": {
    "tags": []
   },
   "outputs": [],
   "source": [
    "ddir3 = '../data/cheng21_cell_scrna/organized'"
   ]
  },
  {
   "cell_type": "code",
   "execution_count": null,
   "id": "5eae96bc-cefb-4eb0-970b-0a82ca6b3586",
   "metadata": {},
   "outputs": [],
   "source": [
    "# for i, f in enumerate(files1[:6]):\n",
    "#     sample = f[len('GSE190940_'):-len('.csv.gz')]\n",
    "#     f1, f2, f3 = files2[3*i:3*i+3]\n",
    "#     print(sample, f1, f2, f3)\n",
    "    \n",
    "#     path = os.path.join(ddir1, f)\n",
    "#     df = pd.read_csv(path, index_col=0) #, nrows=5)\n",
    "    \n",
    "#     path = os.path.join(ddir2, f1)\n",
    "#     adata1 = anndata.read(path, backed='r')\n",
    "    \n",
    "#     path = os.path.join(ddir2, f2)\n",
    "#     adata2 = anndata.read(path, backed='r')\n",
    "    \n",
    "#     path = os.path.join(ddir2, f3)\n",
    "#     adata3 = anndata.read(path, backed='r')\n",
    "    \n",
    "#     meta = pd.concat([adata1.obs, adata2.obs, adata3.obs])\n",
    "    \n",
    "#     # trim cell names to make it consistent\n",
    "#     cellnames = [\"-\".join(i.split('-')[:4]) for i in meta.index.values]\n",
    "#     meta.index = cellnames\n",
    "    \n",
    "#     # select only the cells in meta; assume all cells in meta are there in the counts\n",
    "#     cellidx = basicu.get_index_from_array(df.index.values, cellnames) \n",
    "#     print(df.shape, meta.shape, cellidx.shape)\n",
    "    \n",
    "#     # assert np.all(cellidx != -1)\n",
    "#     meta = meta[cellidx!=-1]\n",
    "#     cellidx = cellidx[cellidx!=-1]\n",
    "#     print(df.shape, meta.shape, cellidx.shape)\n",
    "    \n",
    "    \n",
    "#     adata = anndata.AnnData(\n",
    "#         X=sparse.csc_matrix(df.values[cellidx]),\n",
    "#         obs=meta,\n",
    "#         var=pd.DataFrame(index=df.columns.values),\n",
    "#     )\n",
    "    \n",
    "#     fout = os.path.join(ddir3, f\"{sample}.h5ad\")\n",
    "#     print(fout)\n",
    "#     adata.write(fout)\n",
    "#     # break"
   ]
  },
  {
   "cell_type": "code",
   "execution_count": null,
   "id": "8a73bbbb-35e9-418a-ba41-b0b5f93e5886",
   "metadata": {},
   "outputs": [
    {
     "name": "stdout",
     "output_type": "stream",
     "text": [
      "P28DR P28DR_glut.h5ad P28DR_gaba.h5ad P28DR_non.h5ad\n",
      "(43234, 53801) (24817, 13) (24817,)\n",
      "(43234, 53801) (24817, 13) (24817,)\n"
     ]
    },
    {
     "name": "stderr",
     "output_type": "stream",
     "text": [
      "/tmp/ipykernel_334243/396224975.py:34: FutureWarning: X.dtype being converted to np.float32 from float64. In the next version of anndata (0.9) conversion will not be automatic. Pass dtype explicitly to avoid this warning. Pass `AnnData(X, dtype=X.dtype, ...)` to get the future behavour.\n",
      "  adata = anndata.AnnData(\n",
      "/home/qlyu/mambaforge/envs/bbbroutine/lib/python3.8/site-packages/anndata/_core/anndata.py:1828: UserWarning: Observation names are not unique. To make them unique, call `.obs_names_make_unique`.\n",
      "  utils.warn_names_duplicates(\"obs\")\n"
     ]
    },
    {
     "name": "stdout",
     "output_type": "stream",
     "text": [
      "../data/cheng21_cell_scrna/organized/P28DR.h5ad\n",
      "P38DR P38DR_glut.h5ad P38DR_gaba.h5ad P38DR_non.h5ad\n"
     ]
    }
   ],
   "source": [
    "for i, f in enumerate(files1):\n",
    "    sample = f[len('GSE190940_'):-len('.csv.gz')]\n",
    "    f1, f2, f3 = files2[3*i:3*i+3]\n",
    "    print(sample, f1, f2, f3)\n",
    "    \n",
    "    path = os.path.join(ddir1, f)\n",
    "    df = pd.read_csv(path, index_col=0) #, nrows=5)\n",
    "    \n",
    "    path = os.path.join(ddir2, f1)\n",
    "    adata1 = anndata.read(path, backed='r')\n",
    "    \n",
    "    path = os.path.join(ddir2, f2)\n",
    "    adata2 = anndata.read(path, backed='r')\n",
    "    \n",
    "    path = os.path.join(ddir2, f3)\n",
    "    adata3 = anndata.read(path, backed='r')\n",
    "    \n",
    "    meta = pd.concat([adata1.obs, adata2.obs, adata3.obs])\n",
    "    \n",
    "    # break\n",
    "    # trim cell names to make it consistent\n",
    "    cellnames = [\"-\".join(i.split('-')[:3]) for i in meta.index.values]\n",
    "    meta.index = cellnames\n",
    "    \n",
    "    # select only the cells in meta; assume all cells in meta are there in the counts\n",
    "    cellidx = basicu.get_index_from_array(df.index.values, cellnames) \n",
    "    print(df.shape, meta.shape, cellidx.shape)\n",
    "    \n",
    "    # assert np.all(cellidx != -1)\n",
    "    meta = meta[cellidx!=-1]\n",
    "    cellidx = cellidx[cellidx!=-1]\n",
    "    print(df.shape, meta.shape, cellidx.shape)\n",
    "    \n",
    "    adata = anndata.AnnData(\n",
    "        X=sparse.csc_matrix(df.values[cellidx]),\n",
    "        obs=meta,\n",
    "        var=pd.DataFrame(index=df.columns.values),\n",
    "    )\n",
    "    \n",
    "    fout = os.path.join(ddir3, f\"{sample}.h5ad\")\n",
    "    print(fout)\n",
    "    adata.write(fout)\n",
    "    # break"
   ]
  },
  {
   "cell_type": "code",
   "execution_count": 18,
   "id": "1bb7c9b2-8cb8-4661-8b2e-e67863f6d5b8",
   "metadata": {},
   "outputs": [
    {
     "name": "stdout",
     "output_type": "stream",
     "text": [
      "a\n"
     ]
    }
   ],
   "source": [
    "print('a')"
   ]
  },
  {
   "cell_type": "code",
   "execution_count": null,
   "id": "5c119041-f766-443e-b91b-9ca3beb7e188",
   "metadata": {},
   "outputs": [],
   "source": []
  }
 ],
 "metadata": {
  "kernelspec": {
   "display_name": "Python 3 (ipykernel)",
   "language": "python",
   "name": "python3"
  },
  "language_info": {
   "codemirror_mode": {
    "name": "ipython",
    "version": 3
   },
   "file_extension": ".py",
   "mimetype": "text/x-python",
   "name": "python",
   "nbconvert_exporter": "python",
   "pygments_lexer": "ipython3",
   "version": "3.8.16"
  }
 },
 "nbformat": 4,
 "nbformat_minor": 5
}
