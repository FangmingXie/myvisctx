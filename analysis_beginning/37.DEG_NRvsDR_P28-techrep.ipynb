{
 "cells": [
  {
   "cell_type": "code",
   "execution_count": 1,
   "id": "b2b52d20-dc7c-4cdf-a9a8-e95ef32ed332",
   "metadata": {},
   "outputs": [],
   "source": [
    "import anndata\n",
    "import numpy as np\n",
    "import pandas as pd\n",
    "import matplotlib.pyplot as plt\n",
    "from scipy.stats import ttest_ind\n",
    "from statsmodels.stats.multitest import multipletests\n",
    "import seaborn as sns\n",
    "\n",
    "from dredFISH.Utils import basicu"
   ]
  },
  {
   "cell_type": "code",
   "execution_count": 2,
   "id": "63954af8-91b3-4154-9cd0-4511129e4145",
   "metadata": {},
   "outputs": [
    {
     "name": "stderr",
     "output_type": "stream",
     "text": [
      "/home/fangming/anaconda3/envs/routine/lib/python3.10/site-packages/anndata/_core/anndata.py:121: ImplicitModificationWarning: Transforming to str index.\n",
      "  warnings.warn(\"Transforming to str index.\", ImplicitModificationWarning)\n"
     ]
    },
    {
     "data": {
      "text/plain": [
       "AnnData object with n_obs × n_vars = 23930 × 53547\n",
       "    obs: 'cov', 'covfactor', 'batch', 'n_genes', 'percent_mito', 'n_counts', 'leiden', 'Doublet', 'Doublet Score', 'Class_broad', 'sample', 'Type', 'Subclass'\n",
       "    var: 'id'"
      ]
     },
     "execution_count": 2,
     "metadata": {},
     "output_type": "execute_result"
    }
   ],
   "source": [
    "f = '../data_dump/counts/P28_nr_allcells_Oct24.h5ad'\n",
    "adata_nr = anndata.read(f)\n",
    "adata_nr"
   ]
  },
  {
   "cell_type": "code",
   "execution_count": 3,
   "id": "cd61778f-d3c4-4a1f-87cc-0a571ebcea2c",
   "metadata": {},
   "outputs": [
    {
     "name": "stderr",
     "output_type": "stream",
     "text": [
      "/home/fangming/anaconda3/envs/routine/lib/python3.10/site-packages/anndata/_core/anndata.py:121: ImplicitModificationWarning: Transforming to str index.\n",
      "  warnings.warn(\"Transforming to str index.\", ImplicitModificationWarning)\n"
     ]
    },
    {
     "data": {
      "text/plain": [
       "AnnData object with n_obs × n_vars = 24816 × 53547\n",
       "    obs: 'cov', 'covfactor', 'n_genes', 'percent_mito', 'n_counts', 'Doublet', 'Doublet Score', 'batch', 'leiden', 'sample', 'Type', 'Subclass'\n",
       "    var: 'id'"
      ]
     },
     "execution_count": 3,
     "metadata": {},
     "output_type": "execute_result"
    }
   ],
   "source": [
    "f = '../data_dump/counts/P28_dr_allcells_Oct25.h5ad'\n",
    "adata_dr = anndata.read(f)\n",
    "adata_dr"
   ]
  },
  {
   "cell_type": "code",
   "execution_count": 4,
   "id": "fe96407b-16da-4962-97ee-6466219a57e4",
   "metadata": {},
   "outputs": [],
   "source": [
    "def get_normed_bulks(mat, genes, types):\n",
    "    \"\"\"\n",
    "    - select expressed genes\n",
    "    - sparse to dense\n",
    "    - merge cells to clusters\n",
    "    - log10(CPM+1) norm bulk samples\n",
    "    \"\"\"\n",
    "    ncell, ngene = mat.shape\n",
    "    cellcov = np.asarray(mat.sum(axis=1)).reshape(-1,)\n",
    "    genecov = np.asarray(mat.sum(axis=0)).reshape(-1,)\n",
    "    cond = genecov>ncell*0.01 # expressed in at least 1% of cells\n",
    "    matsub = np.asarray(mat[:,cond].todense())\n",
    "    \n",
    "    # pseudo-bulk samples -- pull counts from cells\n",
    "    Xk, xclsts = basicu.group_sum(matsub, types)\n",
    "    ck, xclsts = basicu.group_sum(cellcov.reshape(-1,1), types)\n",
    "    Xk = np.log10(1+(np.array(Xk)/np.array(ck))*1e6) # log10(1+CPM)\n",
    "    df = pd.DataFrame(Xk, index=xclsts, columns=genes[cond])\n",
    "    return df.T # gene by types \n",
    "\n",
    "def get_normed_bulks_for_adata_by_types(adata):\n",
    "    \"\"\"\n",
    "    \"\"\"\n",
    "    return get_normed_bulks(adata.X.copy(), adata.var.index.values, adata.obs['Type'])"
   ]
  },
  {
   "cell_type": "code",
   "execution_count": 5,
   "id": "481f487b-480b-4397-8360-7f73c9a3ddce",
   "metadata": {},
   "outputs": [
    {
     "data": {
      "text/plain": [
       "(array(['P28_1a', 'P28_1b', 'P28_2a', 'P28_2b'], dtype=object),\n",
       " array(['P28_dr_1a', 'P28_dr_1b', 'P28_dr_3a', 'P28_dr_3b'], dtype=object))"
      ]
     },
     "execution_count": 5,
     "metadata": {},
     "output_type": "execute_result"
    }
   ],
   "source": [
    "samples_nr = np.unique(adata_nr.obs['sample'])\n",
    "samples_dr = np.unique(adata_dr.obs['sample'])\n",
    "samples_nr, samples_dr"
   ]
  },
  {
   "cell_type": "code",
   "execution_count": 6,
   "id": "b1031932-b5d8-460c-8378-164c10ef81b8",
   "metadata": {},
   "outputs": [
    {
     "name": "stdout",
     "output_type": "stream",
     "text": [
      "(15758, 42)\n",
      "(15689, 42)\n",
      "(15412, 42)\n",
      "(15175, 42)\n",
      "(15642, 42)\n",
      "(15676, 42)\n",
      "(14851, 42)\n",
      "(14787, 42)\n",
      "CPU times: user 5.29 s, sys: 36.2 s, total: 41.4 s\n",
      "Wall time: 41.8 s\n"
     ]
    }
   ],
   "source": [
    "%%time\n",
    "dfs_nr = []\n",
    "for samp in samples_nr:\n",
    "    adatasub = adata_nr[adata_nr.obs['sample']==samp]\n",
    "    df = get_normed_bulks_for_adata_by_types(adatasub)\n",
    "    print(df.shape)\n",
    "    dfs_nr.append(df)\n",
    "\n",
    "dfs_dr = []\n",
    "for samp in samples_dr:\n",
    "    adatasub = adata_dr[adata_dr.obs['sample']==samp]\n",
    "    df = get_normed_bulks_for_adata_by_types(adatasub)\n",
    "    print(df.shape)\n",
    "    dfs_dr.append(df)\n",
    "    "
   ]
  },
  {
   "cell_type": "code",
   "execution_count": 7,
   "id": "8b060d7e-6b68-45a4-99bb-39db85ba31bc",
   "metadata": {},
   "outputs": [
    {
     "name": "stdout",
     "output_type": "stream",
     "text": [
      "(15758,)\n",
      "(15505,)\n",
      "(14961,)\n",
      "(14715,)\n",
      "(14498,)\n",
      "(14451,)\n",
      "(14242,)\n",
      "(14165,)\n"
     ]
    }
   ],
   "source": [
    "genes_comm = adata_nr.var.index.values\n",
    "for df in dfs_nr:\n",
    "    genes_comm = np.intersect1d(genes_comm, df.index.values)\n",
    "    print(genes_comm.shape)\n",
    "for df in dfs_dr:\n",
    "    genes_comm = np.intersect1d(genes_comm, df.index.values)\n",
    "    print(genes_comm.shape)\n",
    "    \n",
    "for i in range(4):\n",
    "    dfs_nr[i] = dfs_nr[i].loc[genes_comm]\n",
    "    dfs_dr[i] = dfs_dr[i].loc[genes_comm]"
   ]
  },
  {
   "cell_type": "code",
   "execution_count": 8,
   "id": "bdda67f9-e676-44f8-826d-c0786de3b8b9",
   "metadata": {},
   "outputs": [],
   "source": [
    "# # check\n",
    "# for df in dfs_nr:\n",
    "#     print(df.shape, df.columns.values)\n",
    "# for df in dfs_dr:\n",
    "#     print(df.shape, df.columns.values)"
   ]
  },
  {
   "cell_type": "code",
   "execution_count": 9,
   "id": "b0500df9-5de0-4e51-99f7-73cd7bd85f04",
   "metadata": {},
   "outputs": [
    {
     "data": {
      "text/plain": [
       "((14165, 42, 4), (14165, 42, 4))"
      ]
     },
     "execution_count": 9,
     "metadata": {},
     "output_type": "execute_result"
    }
   ],
   "source": [
    "tensor_nr = np.stack(dfs_nr, axis=2)\n",
    "tensor_dr = np.stack(dfs_dr, axis=2)\n",
    "tensor_nr.shape, tensor_dr.shape"
   ]
  },
  {
   "cell_type": "code",
   "execution_count": 10,
   "id": "527825cf-8995-4f76-829e-bb1b718774c6",
   "metadata": {},
   "outputs": [],
   "source": [
    "# for each gene and cell type; 4 rep vs 4 rep - t-test and p-val correction \n",
    "lfc = np.mean(tensor_dr, axis=2) - np.mean(tensor_nr, axis=2) # log10FC (log10CPM as raw counts)\n",
    "minexp = np.minimum(np.mean(tensor_dr, axis=2), np.mean(tensor_nr, axis=2)) # min log10CPM \n",
    "ts, ps = ttest_ind(tensor_nr, tensor_dr, axis=2)\n",
    "rejs, qs, _, _ = multipletests(np.nan_to_num(ps, 1).reshape(-1,), method='fdr_bh')\n",
    "rejs = rejs.reshape(ps.shape)\n",
    "qs = qs.reshape(ps.shape)"
   ]
  },
  {
   "cell_type": "code",
   "execution_count": 11,
   "id": "54292876-9502-40bf-b191-301b70f951e7",
   "metadata": {},
   "outputs": [
    {
     "data": {
      "text/plain": [
       "((14165, 42),\n",
       " (14165, 42),\n",
       " (14165, 42),\n",
       " 7953,\n",
       " array([ 650,  337,  230,  330,  421, 1329, 2972,  941,  457,  520,  518,\n",
       "         131,  433,  268,  263,  941,  416,  776,  132,  245,  195,  136,\n",
       "         343,  192,  561,   85, 1368,  220,  283,  404,  271,  511,  436,\n",
       "         262,  411,  535, 1251,  784,  444,  410,  496,  739]))"
      ]
     },
     "execution_count": 11,
     "metadata": {},
     "output_type": "execute_result"
    }
   ],
   "source": [
    "lfc.shape, rejs.shape, qs.shape, np.sum(np.sum(rejs, axis=1) > 0), np.sum(rejs, axis=0) "
   ]
  },
  {
   "cell_type": "code",
   "execution_count": 12,
   "id": "8710a630-19e9-41a5-ab27-dabaac6d9d97",
   "metadata": {},
   "outputs": [
    {
     "data": {
      "text/plain": [
       "((14165, 42),\n",
       " 2319,\n",
       " array([ 211,   27,   44,   40,   81,  421, 1345,  138,   93,   86,   88,\n",
       "          11,   67,    6,   10,  198,   49,  150,    9,   45,   34,   27,\n",
       "          56,   28,   45,    7,    3,    7,   17,   19,    9,  122,   13,\n",
       "          13,    6,   37,    5,    5,    8,   31,   26,   28]))"
      ]
     },
     "execution_count": 12,
     "metadata": {},
     "output_type": "execute_result"
    }
   ],
   "source": [
    "sigsigs = np.logical_and(np.logical_and(rejs, (np.abs(lfc) > np.log10(2))), minexp > np.log10(1+1)) # FDR < 0.05; FC > 2; min mean CPM > 1\n",
    "sigsigs.shape, np.sum(np.sum(sigsigs, axis=1) > 0), np.sum(sigsigs, axis=0)"
   ]
  },
  {
   "cell_type": "code",
   "execution_count": 13,
   "id": "52b1ecd0-f965-49bc-b49c-eafecfd80b32",
   "metadata": {},
   "outputs": [
    {
     "data": {
      "text/plain": [
       "((14165, 42),\n",
       " 967,\n",
       " array([140,  11,  30,   9,  57, 259, 468,  89,  48,  54,  52,   7,  47,\n",
       "          2,   8, 147,  33, 116,   5,  34,  23,  22,   8,   9,  13,   4,\n",
       "          2,   3,   9,   5,   2,  79,   6,   2,   2,  26,   2,   3,   4,\n",
       "         20,  11,  17]))"
      ]
     },
     "execution_count": 13,
     "metadata": {},
     "output_type": "execute_result"
    }
   ],
   "source": [
    "sigsigs_up = np.logical_and(np.logical_and(rejs, (lfc > np.log10(2))), minexp > np.log10(1+1)) # FDR < 0.05; FC > 2; min mean CPM > 1\n",
    "sigsigs_up.shape, np.sum(np.sum(sigsigs_up, axis=1) > 0), np.sum(sigsigs_up, axis=0)"
   ]
  },
  {
   "cell_type": "code",
   "execution_count": 14,
   "id": "62fa1dab-c4b7-4394-83e9-fa010c80266d",
   "metadata": {},
   "outputs": [
    {
     "data": {
      "text/plain": [
       "((14165, 42),\n",
       " 1453,\n",
       " array([ 71,  16,  14,  31,  24, 162, 877,  49,  45,  32,  36,   4,  20,\n",
       "          4,   2,  51,  16,  34,   4,  11,  11,   5,  48,  19,  32,   3,\n",
       "          1,   4,   8,  14,   7,  43,   7,  11,   4,  11,   3,   2,   4,\n",
       "         11,  15,  11]))"
      ]
     },
     "execution_count": 14,
     "metadata": {},
     "output_type": "execute_result"
    }
   ],
   "source": [
    "sigsigs_dn = np.logical_and(np.logical_and(rejs, (lfc < -np.log10(2))), minexp > np.log10(1+1)) # FDR < 0.05; FC > 2; min mean CPM > 1\n",
    "sigsigs_dn.shape, np.sum(np.sum(sigsigs_dn, axis=1) > 0), np.sum(sigsigs_dn, axis=0)"
   ]
  },
  {
   "cell_type": "code",
   "execution_count": 15,
   "id": "c4b60892-cddf-491a-b74c-b68b5de67250",
   "metadata": {},
   "outputs": [
    {
     "data": {
      "text/plain": [
       "array(['Astro_A', 'Astro_B', 'Endo', 'Frem1', 'L2/3_A', 'L2/3_B',\n",
       "       'L2/3_C', 'L4_A', 'L4_B', 'L4_C', 'L5IT', 'L5NP', 'L5PT_A',\n",
       "       'L5PT_B', 'L6CT_A', 'L6CT_B', 'L6CT_C', 'L6IT_A', 'L6IT_B', 'L6b',\n",
       "       'Lamp5', 'Micro', 'OD_A', 'OD_B', 'OD_C', 'OPC_A', 'OPC_B',\n",
       "       'Pvalb_A', 'Pvalb_B', 'Pvalb_C', 'Pvalb_D', 'Sst_A', 'Sst_B',\n",
       "       'Sst_C', 'Sst_D', 'Sst_E', 'Stac', 'VLMC_A', 'VLMC_B', 'Vip_A',\n",
       "       'Vip_B', 'Vip_C'], dtype=object)"
      ]
     },
     "execution_count": 15,
     "metadata": {},
     "output_type": "execute_result"
    }
   ],
   "source": [
    "# show results\n",
    "unq_types = dfs_nr[0].columns.values\n",
    "unq_types"
   ]
  },
  {
   "cell_type": "code",
   "execution_count": 16,
   "id": "538f45fd-4e95-4a4a-894f-d2b501e560ee",
   "metadata": {},
   "outputs": [
    {
     "name": "stdout",
     "output_type": "stream",
     "text": [
      "Astro_A 140 71\n",
      "Astro_B 11 16\n",
      "Endo 30 14\n",
      "Frem1 9 31\n",
      "L2/3_A 57 24\n",
      "L2/3_B 259 162\n",
      "L2/3_C 468 877\n",
      "L4_A 89 49\n",
      "L4_B 48 45\n",
      "L4_C 54 32\n",
      "L5IT 52 36\n",
      "L5NP 7 4\n",
      "L5PT_A 47 20\n",
      "L5PT_B 2 4\n",
      "L6CT_A 8 2\n",
      "L6CT_B 147 51\n",
      "L6CT_C 33 16\n",
      "L6IT_A 116 34\n",
      "L6IT_B 5 4\n",
      "L6b 34 11\n",
      "Lamp5 23 11\n",
      "Micro 22 5\n",
      "OD_A 8 48\n",
      "OD_B 9 19\n",
      "OD_C 13 32\n",
      "OPC_A 4 3\n",
      "OPC_B 2 1\n",
      "Pvalb_A 3 4\n",
      "Pvalb_B 9 8\n",
      "Pvalb_C 5 14\n",
      "Pvalb_D 2 7\n",
      "Sst_A 79 43\n",
      "Sst_B 6 7\n",
      "Sst_C 2 11\n",
      "Sst_D 2 4\n",
      "Sst_E 26 11\n",
      "Stac 2 3\n",
      "VLMC_A 3 2\n",
      "VLMC_B 4 4\n",
      "Vip_A 20 11\n",
      "Vip_B 11 15\n",
      "Vip_C 17 11\n"
     ]
    }
   ],
   "source": [
    "for a, b, c in zip(\n",
    "    unq_types,\n",
    "    np.sum(sigsigs_up, axis=0),\n",
    "    np.sum(sigsigs_dn, axis=0),\n",
    "    ):\n",
    "    print(a,b,c)\n",
    "    "
   ]
  },
  {
   "cell_type": "code",
   "execution_count": 17,
   "id": "65c8e501-cd1d-4630-be70-b18733f03ed8",
   "metadata": {},
   "outputs": [],
   "source": [
    "a = tensor_nr[sigsigs_up[:,0],0,:] \n",
    "b = tensor_dr[sigsigs_up[:,0],0,:] \n",
    "ab = np.hstack([a,b])\n",
    "\n",
    "a = tensor_nr[sigsigs_dn[:,0],0,:] \n",
    "b = tensor_dr[sigsigs_dn[:,0],0,:] \n",
    "ab2 = np.hstack([a,b])\n",
    "ab = np.vstack([ab,ab2])\n",
    "\n",
    "ab = (ab - np.mean(ab, axis=1).reshape(-1,1)) #/np.std(ab, axis=1).reshape(-1,1)"
   ]
  },
  {
   "cell_type": "code",
   "execution_count": 18,
   "id": "c76c7dfd-09b8-4d38-9475-053828af8fc2",
   "metadata": {},
   "outputs": [
    {
     "data": {
      "text/plain": [
       "<AxesSubplot:>"
      ]
     },
     "execution_count": 18,
     "metadata": {},
     "output_type": "execute_result"
    },
    {
     "data": {
      "image/png": "[encoded data removed]",
      "text/plain": [
       "<Figure size 400x600 with 2 Axes>"
      ]
     },
     "metadata": {},
     "output_type": "display_data"
    }
   ],
   "source": [
    "fig, ax = plt.subplots(figsize=(4,6))\n",
    "sns.heatmap(ab, center=0, cmap='coolwarm', cbar_kws=dict(shrink=0.3, label='log10 FC'))"
   ]
  },
  {
   "cell_type": "code",
   "execution_count": null,
   "id": "b78f6469-8952-45f7-b616-4f48746e1389",
   "metadata": {},
   "outputs": [],
   "source": []
  },
  {
   "cell_type": "code",
   "execution_count": null,
   "id": "152c6530-754d-4b6d-9f8b-a2c953d0287f",
   "metadata": {},
   "outputs": [],
   "source": []
  },
  {
   "cell_type": "code",
   "execution_count": null,
   "id": "8154d04c-4e05-44b9-ae71-f83df1b870f4",
   "metadata": {},
   "outputs": [],
   "source": []
  },
  {
   "cell_type": "code",
   "execution_count": null,
   "id": "7da1e248-c803-424e-a1f2-f8efc2e58081",
   "metadata": {},
   "outputs": [],
   "source": []
  },
  {
   "cell_type": "code",
   "execution_count": null,
   "id": "db682153-d3ef-469f-b55c-34e9f89842fa",
   "metadata": {},
   "outputs": [],
   "source": []
  },
  {
   "cell_type": "code",
   "execution_count": 19,
   "id": "80102ae3-af5f-439e-a07e-656197525883",
   "metadata": {},
   "outputs": [],
   "source": [
    "# focus on non cells\n",
    "# read the cell paper Methods?"
   ]
  }
 ],
 "metadata": {
  "kernelspec": {
   "display_name": "Python 3 (ipykernel)",
   "language": "python",
   "name": "python3"
  },
  "language_info": {
   "codemirror_mode": {
    "name": "ipython",
    "version": 3
   },
   "file_extension": ".py",
   "mimetype": "text/x-python",
   "name": "python",
   "nbconvert_exporter": "python",
   "pygments_lexer": "ipython3",
   "version": "3.10.2"
  }
 },
 "nbformat": 4,
 "nbformat_minor": 5
}
