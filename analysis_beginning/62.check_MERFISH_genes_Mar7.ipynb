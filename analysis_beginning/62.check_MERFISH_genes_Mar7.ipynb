{
 "cells": [
  {
   "cell_type": "code",
   "execution_count": 1,
   "id": "b2b52d20-dc7c-4cdf-a9a8-e95ef32ed332",
   "metadata": {
    "tags": []
   },
   "outputs": [],
   "source": [
    "import itertools\n",
    "import numpy as np\n",
    "import pandas as pd\n",
    "from scipy.stats import ttest_ind\n",
    "import anndata\n",
    "\n",
    "import matplotlib.pyplot as plt\n",
    "from statsmodels.stats.multitest import multipletests\n",
    "import seaborn as sns\n",
    "\n",
    "from scroutines import basicu\n",
    "# from scroutines import powerplots"
   ]
  },
  {
   "cell_type": "code",
   "execution_count": 2,
   "id": "5bf8e0c1-3de5-41a6-9b88-a0b40d01a8ab",
   "metadata": {
    "tags": []
   },
   "outputs": [],
   "source": [
    "sns.set_context('talk')"
   ]
  },
  {
   "cell_type": "markdown",
   "id": "6f4aa461-125f-4139-b657-0531e3939e7a",
   "metadata": {},
   "source": [
    "# base line"
   ]
  },
  {
   "cell_type": "code",
   "execution_count": 3,
   "id": "ea2d89ed-5386-4449-b9d3-9fb145646244",
   "metadata": {
    "tags": []
   },
   "outputs": [
    {
     "data": {
      "text/plain": [
       "array(['4933401J01Rik', 'Gm26206', 'Xkr4', ..., 'CAAA01064564.1',\n",
       "       'Vmn2r122', 'CAAA01147332.1'], dtype=object)"
      ]
     },
     "execution_count": 3,
     "metadata": {},
     "output_type": "execute_result"
    }
   ],
   "source": [
    "f = \"../data/cheng21_cell_scrna/organized/P28NR.h5ad\"\n",
    "adata = anndata.read(f, backed='r')\n",
    "genes = adata.var.index.values\n",
    "genes"
   ]
  },
  {
   "cell_type": "code",
   "execution_count": 4,
   "id": "d10bdcd8-c0d8-4abd-9d07-9371586aa8c4",
   "metadata": {
    "tags": []
   },
   "outputs": [
    {
     "name": "stdout",
     "output_type": "stream",
     "text": [
      "792 (792,) [] []\n"
     ]
    },
    {
     "data": {
      "text/html": [
       "<div>\n",
       "<style scoped>\n",
       "    .dataframe tbody tr th:only-of-type {\n",
       "        vertical-align: middle;\n",
       "    }\n",
       "\n",
       "    .dataframe tbody tr th {\n",
       "        vertical-align: top;\n",
       "    }\n",
       "\n",
       "    .dataframe thead th {\n",
       "        text-align: right;\n",
       "    }\n",
       "</style>\n",
       "<table border=\"1\" class=\"dataframe\">\n",
       "  <thead>\n",
       "    <tr style=\"text-align: right;\">\n",
       "      <th></th>\n",
       "      <th>gene_name_vizgen</th>\n",
       "      <th>gene_name_data</th>\n",
       "      <th>why included</th>\n",
       "      <th>source</th>\n",
       "      <th>Annot1</th>\n",
       "      <th>Annot2</th>\n",
       "      <th>Annot3</th>\n",
       "    </tr>\n",
       "  </thead>\n",
       "  <tbody>\n",
       "    <tr>\n",
       "      <th>0</th>\n",
       "      <td>Matn2</td>\n",
       "      <td>Matn2</td>\n",
       "      <td>L2/3 subtypes</td>\n",
       "      <td>Cheng22_Cell</td>\n",
       "      <td>A&gt;C&gt;B</td>\n",
       "      <td>screened</td>\n",
       "      <td>NaN</td>\n",
       "    </tr>\n",
       "    <tr>\n",
       "      <th>1</th>\n",
       "      <td>Egfem1</td>\n",
       "      <td>Egfem1</td>\n",
       "      <td>L2/3 subtypes;NRvsDR_DEG</td>\n",
       "      <td>Cheng22_Cell;our analysis</td>\n",
       "      <td>A&gt;C&gt;B</td>\n",
       "      <td>screened</td>\n",
       "      <td>NaN</td>\n",
       "    </tr>\n",
       "    <tr>\n",
       "      <th>2</th>\n",
       "      <td>Grb14</td>\n",
       "      <td>Grb14</td>\n",
       "      <td>L2/3 subtypes</td>\n",
       "      <td>Cheng22_Cell</td>\n",
       "      <td>A&gt;C&gt;B</td>\n",
       "      <td>*</td>\n",
       "      <td>NaN</td>\n",
       "    </tr>\n",
       "    <tr>\n",
       "      <th>3</th>\n",
       "      <td>Adamts17</td>\n",
       "      <td>Adamts17</td>\n",
       "      <td>L2/3 subtypes</td>\n",
       "      <td>Cheng22_Cell</td>\n",
       "      <td>A&gt;C&gt;B</td>\n",
       "      <td>*</td>\n",
       "      <td>NaN</td>\n",
       "    </tr>\n",
       "    <tr>\n",
       "      <th>4</th>\n",
       "      <td>Ldb2</td>\n",
       "      <td>Ldb2</td>\n",
       "      <td>L2/3 subtypes</td>\n",
       "      <td>Cheng22_Cell</td>\n",
       "      <td>A&gt;C&gt;B</td>\n",
       "      <td>*</td>\n",
       "      <td>NaN</td>\n",
       "    </tr>\n",
       "    <tr>\n",
       "      <th>...</th>\n",
       "      <td>...</td>\n",
       "      <td>...</td>\n",
       "      <td>...</td>\n",
       "      <td>...</td>\n",
       "      <td>...</td>\n",
       "      <td>...</td>\n",
       "      <td>...</td>\n",
       "    </tr>\n",
       "    <tr>\n",
       "      <th>827</th>\n",
       "      <td>Vcl</td>\n",
       "      <td>Vcl</td>\n",
       "      <td>NRvsDR_DEG</td>\n",
       "      <td>our analysis</td>\n",
       "      <td>Endo</td>\n",
       "      <td>DRup</td>\n",
       "      <td>NaN</td>\n",
       "    </tr>\n",
       "    <tr>\n",
       "      <th>828</th>\n",
       "      <td>Zbtb38</td>\n",
       "      <td>Zbtb38</td>\n",
       "      <td>NRvsDR_DEG</td>\n",
       "      <td>our analysis</td>\n",
       "      <td>Astro</td>\n",
       "      <td>DRup</td>\n",
       "      <td>NaN</td>\n",
       "    </tr>\n",
       "    <tr>\n",
       "      <th>829</th>\n",
       "      <td>Zdbf2</td>\n",
       "      <td>Zdbf2</td>\n",
       "      <td>NRvsDR_DEG</td>\n",
       "      <td>our analysis</td>\n",
       "      <td>L2/3,L4,L5IT,L6CT,L6IT</td>\n",
       "      <td>DRup,DRup,DRup,DRup,DRup</td>\n",
       "      <td>NaN</td>\n",
       "    </tr>\n",
       "    <tr>\n",
       "      <th>830</th>\n",
       "      <td>Zfp366</td>\n",
       "      <td>Zfp366</td>\n",
       "      <td>NRvsDR_DEG</td>\n",
       "      <td>our analysis</td>\n",
       "      <td>Endo</td>\n",
       "      <td>DRdn</td>\n",
       "      <td>NaN</td>\n",
       "    </tr>\n",
       "    <tr>\n",
       "      <th>831</th>\n",
       "      <td>Zswim6</td>\n",
       "      <td>Zswim6</td>\n",
       "      <td>NRvsDR_DEG</td>\n",
       "      <td>our analysis</td>\n",
       "      <td>L2/3,L6IT</td>\n",
       "      <td>DRup,DRup</td>\n",
       "      <td>NaN</td>\n",
       "    </tr>\n",
       "  </tbody>\n",
       "</table>\n",
       "<p>792 rows × 7 columns</p>\n",
       "</div>"
      ],
      "text/plain": [
       "    gene_name_vizgen gene_name_data              why included  \\\n",
       "0              Matn2          Matn2             L2/3 subtypes   \n",
       "1             Egfem1         Egfem1  L2/3 subtypes;NRvsDR_DEG   \n",
       "2              Grb14          Grb14             L2/3 subtypes   \n",
       "3           Adamts17       Adamts17             L2/3 subtypes   \n",
       "4               Ldb2           Ldb2             L2/3 subtypes   \n",
       "..               ...            ...                       ...   \n",
       "827              Vcl            Vcl                NRvsDR_DEG   \n",
       "828           Zbtb38         Zbtb38                NRvsDR_DEG   \n",
       "829            Zdbf2          Zdbf2                NRvsDR_DEG   \n",
       "830           Zfp366         Zfp366                NRvsDR_DEG   \n",
       "831           Zswim6         Zswim6                NRvsDR_DEG   \n",
       "\n",
       "                        source                  Annot1  \\\n",
       "0                 Cheng22_Cell                   A>C>B   \n",
       "1    Cheng22_Cell;our analysis                   A>C>B   \n",
       "2                 Cheng22_Cell                   A>C>B   \n",
       "3                 Cheng22_Cell                   A>C>B   \n",
       "4                 Cheng22_Cell                   A>C>B   \n",
       "..                         ...                     ...   \n",
       "827               our analysis                    Endo   \n",
       "828               our analysis                   Astro   \n",
       "829               our analysis  L2/3,L4,L5IT,L6CT,L6IT   \n",
       "830               our analysis                    Endo   \n",
       "831               our analysis               L2/3,L6IT   \n",
       "\n",
       "                       Annot2 Annot3  \n",
       "0                    screened    NaN  \n",
       "1                    screened    NaN  \n",
       "2                           *    NaN  \n",
       "3                           *    NaN  \n",
       "4                           *    NaN  \n",
       "..                        ...    ...  \n",
       "827                      DRup    NaN  \n",
       "828                      DRup    NaN  \n",
       "829  DRup,DRup,DRup,DRup,DRup    NaN  \n",
       "830                      DRdn    NaN  \n",
       "831                 DRup,DRup    NaN  \n",
       "\n",
       "[792 rows x 7 columns]"
      ]
     },
     "execution_count": 4,
     "metadata": {},
     "output_type": "execute_result"
    }
   ],
   "source": [
    "f = \"../results/MERFISH_gene_panel_Current_Mar7.csv\"\n",
    "df = pd.read_csv(f)\n",
    "\n",
    "# remove Vincent genes\n",
    "f = \"../results/MERFISH_gene_panel_VX_edit_Mar7.csv\"\n",
    "df2 = pd.read_csv(f)\n",
    "df = df[df['gene_name_data'].isin(df2['gene_name_data'])].copy()\n",
    "\n",
    "cnddts = df['gene_name_data'].values\n",
    "unq, cnts = np.unique(cnddts, return_counts=True)\n",
    "print(len(cnddts), unq.shape, unq[cnts>1], [g for g in cnddts if g not in genes])\n",
    "\n",
    "df"
   ]
  },
  {
   "cell_type": "markdown",
   "id": "4990201b-5db1-488d-8196-9a34c7bde2ea",
   "metadata": {},
   "source": [
    "# annotate and add"
   ]
  },
  {
   "cell_type": "code",
   "execution_count": 5,
   "id": "8c2c118f-fb2c-417f-b69e-2e7cd27ba458",
   "metadata": {
    "tags": []
   },
   "outputs": [
    {
     "data": {
      "text/html": [
       "<div>\n",
       "<style scoped>\n",
       "    .dataframe tbody tr th:only-of-type {\n",
       "        vertical-align: middle;\n",
       "    }\n",
       "\n",
       "    .dataframe tbody tr th {\n",
       "        vertical-align: top;\n",
       "    }\n",
       "\n",
       "    .dataframe thead th {\n",
       "        text-align: right;\n",
       "    }\n",
       "</style>\n",
       "<table border=\"1\" class=\"dataframe\">\n",
       "  <thead>\n",
       "    <tr style=\"text-align: right;\">\n",
       "      <th></th>\n",
       "      <th>gene</th>\n",
       "      <th>group</th>\n",
       "      <th>ispicked</th>\n",
       "      <th>P17on</th>\n",
       "      <th>P14</th>\n",
       "      <th>DR</th>\n",
       "      <th>Annot4</th>\n",
       "    </tr>\n",
       "  </thead>\n",
       "  <tbody>\n",
       "    <tr>\n",
       "      <th>0</th>\n",
       "      <td>Matn2</td>\n",
       "      <td>A2</td>\n",
       "      <td>True</td>\n",
       "      <td>A</td>\n",
       "      <td>BC</td>\n",
       "      <td>1</td>\n",
       "      <td>L2/3 types</td>\n",
       "    </tr>\n",
       "    <tr>\n",
       "      <th>1</th>\n",
       "      <td>Fam126a</td>\n",
       "      <td>A2</td>\n",
       "      <td>False</td>\n",
       "      <td>A</td>\n",
       "      <td>unsure</td>\n",
       "      <td>1</td>\n",
       "      <td>L2/3 types</td>\n",
       "    </tr>\n",
       "    <tr>\n",
       "      <th>2</th>\n",
       "      <td>Egfem1</td>\n",
       "      <td>A2</td>\n",
       "      <td>True</td>\n",
       "      <td>A</td>\n",
       "      <td>unsure</td>\n",
       "      <td>unsure</td>\n",
       "      <td>L2/3 types</td>\n",
       "    </tr>\n",
       "    <tr>\n",
       "      <th>3</th>\n",
       "      <td>Gm19410</td>\n",
       "      <td>A2</td>\n",
       "      <td>False</td>\n",
       "      <td>A</td>\n",
       "      <td>unsure</td>\n",
       "      <td>1</td>\n",
       "      <td>L2/3 types</td>\n",
       "    </tr>\n",
       "    <tr>\n",
       "      <th>4</th>\n",
       "      <td>Grk3</td>\n",
       "      <td>A2</td>\n",
       "      <td>False</td>\n",
       "      <td>A</td>\n",
       "      <td>unsure</td>\n",
       "      <td>1</td>\n",
       "      <td>L2/3 types</td>\n",
       "    </tr>\n",
       "    <tr>\n",
       "      <th>...</th>\n",
       "      <td>...</td>\n",
       "      <td>...</td>\n",
       "      <td>...</td>\n",
       "      <td>...</td>\n",
       "      <td>...</td>\n",
       "      <td>...</td>\n",
       "      <td>...</td>\n",
       "    </tr>\n",
       "    <tr>\n",
       "      <th>281</th>\n",
       "      <td>Brinp3</td>\n",
       "      <td>C3</td>\n",
       "      <td>True</td>\n",
       "      <td>C</td>\n",
       "      <td>BC</td>\n",
       "      <td>unsure</td>\n",
       "      <td>L2/3 types</td>\n",
       "    </tr>\n",
       "    <tr>\n",
       "      <th>282</th>\n",
       "      <td>Ell2</td>\n",
       "      <td>C3</td>\n",
       "      <td>True</td>\n",
       "      <td>C</td>\n",
       "      <td>unsure</td>\n",
       "      <td>3</td>\n",
       "      <td>L2/3 types</td>\n",
       "    </tr>\n",
       "    <tr>\n",
       "      <th>283</th>\n",
       "      <td>Gm21949</td>\n",
       "      <td>C3</td>\n",
       "      <td>False</td>\n",
       "      <td>C</td>\n",
       "      <td>unsure</td>\n",
       "      <td>unsure</td>\n",
       "      <td>L2/3 types</td>\n",
       "    </tr>\n",
       "    <tr>\n",
       "      <th>284</th>\n",
       "      <td>Jdp2</td>\n",
       "      <td>C3</td>\n",
       "      <td>True</td>\n",
       "      <td>C</td>\n",
       "      <td>BC</td>\n",
       "      <td>3</td>\n",
       "      <td>L2/3 types</td>\n",
       "    </tr>\n",
       "    <tr>\n",
       "      <th>285</th>\n",
       "      <td>3632451O06Rik</td>\n",
       "      <td>C3</td>\n",
       "      <td>False</td>\n",
       "      <td>C</td>\n",
       "      <td>unsure</td>\n",
       "      <td>unsure</td>\n",
       "      <td>L2/3 types</td>\n",
       "    </tr>\n",
       "  </tbody>\n",
       "</table>\n",
       "<p>286 rows × 7 columns</p>\n",
       "</div>"
      ],
      "text/plain": [
       "              gene group  ispicked P17on     P14      DR      Annot4\n",
       "0            Matn2    A2      True     A      BC       1  L2/3 types\n",
       "1          Fam126a    A2     False     A  unsure       1  L2/3 types\n",
       "2           Egfem1    A2      True     A  unsure  unsure  L2/3 types\n",
       "3          Gm19410    A2     False     A  unsure       1  L2/3 types\n",
       "4             Grk3    A2     False     A  unsure       1  L2/3 types\n",
       "..             ...   ...       ...   ...     ...     ...         ...\n",
       "281         Brinp3    C3      True     C      BC  unsure  L2/3 types\n",
       "282           Ell2    C3      True     C  unsure       3  L2/3 types\n",
       "283        Gm21949    C3     False     C  unsure  unsure  L2/3 types\n",
       "284           Jdp2    C3      True     C      BC       3  L2/3 types\n",
       "285  3632451O06Rik    C3     False     C  unsure  unsure  L2/3 types\n",
       "\n",
       "[286 rows x 7 columns]"
      ]
     },
     "execution_count": 5,
     "metadata": {},
     "output_type": "execute_result"
    }
   ],
   "source": [
    "f = \"../data/cheng21_cell_scrna/res/L23-ABC-genes-n288-n286unq-annot.csv\"\n",
    "df3 = pd.read_csv(f)\n",
    "df3['Annot4'] = 'L2/3 types'\n",
    "df3"
   ]
  },
  {
   "cell_type": "code",
   "execution_count": 6,
   "id": "dc6d3d95-f023-4960-b4bc-64cb7555f451",
   "metadata": {
    "tags": []
   },
   "outputs": [
    {
     "data": {
      "text/plain": [
       "(162, 124)"
      ]
     },
     "execution_count": 6,
     "metadata": {},
     "output_type": "execute_result"
    }
   ],
   "source": [
    "df3['gene'].isin(cnddts).sum(), (~df3['gene'].isin(cnddts)).sum()"
   ]
  },
  {
   "cell_type": "code",
   "execution_count": 7,
   "id": "2cb0db14-91bb-4f92-9696-0293c9efdc43",
   "metadata": {
    "tags": []
   },
   "outputs": [
    {
     "name": "stdout",
     "output_type": "stream",
     "text": [
      "True\n",
      "(122,)\n",
      "(40,)\n",
      "(124,)\n",
      "286\n"
     ]
    }
   ],
   "source": [
    "g3_p  = df3[df3['ispicked']]['gene']\n",
    "g3_up = df3[~df3['ispicked']]['gene']\n",
    "\n",
    "# do not add g3_p\n",
    "g0 = g3_p.values\n",
    "print(np.all(g3_p.isin(cnddts)))\n",
    "# add annot\n",
    "g1 = g3_up[g3_up.isin(cnddts)].values\n",
    "# add unique\n",
    "g2 = g3_up[~g3_up.isin(cnddts)].values\n",
    "\n",
    "print(g0.shape)\n",
    "print(g1.shape)\n",
    "print(g2.shape)\n",
    "print(len(g0)+len(g1)+len(g2))"
   ]
  },
  {
   "cell_type": "code",
   "execution_count": 8,
   "id": "ca616c92-0ea4-48fc-afb3-0c5cced927d5",
   "metadata": {
    "tags": []
   },
   "outputs": [],
   "source": [
    "dfout = df.copy()\n",
    "cond = dfout['gene_name_data'].isin(g1)\n",
    "dfout.loc[cond,'why included'] = \"L2/3 subtypes;\"+dfout.loc[cond, 'why included']\n",
    "dfout.loc[cond,'source']       = \"Cheng22_Cell;\" +dfout.loc[cond, 'source']"
   ]
  },
  {
   "cell_type": "code",
   "execution_count": 9,
   "id": "df451d50-e4ee-46fe-ab4d-85c3b4e39cdf",
   "metadata": {
    "tags": []
   },
   "outputs": [
    {
     "data": {
      "text/plain": [
       "0"
      ]
     },
     "execution_count": 9,
     "metadata": {},
     "output_type": "execute_result"
    }
   ],
   "source": [
    "cond = dfout['gene_name_data'].isin(g2)\n",
    "cond.sum()"
   ]
  },
  {
   "cell_type": "code",
   "execution_count": 10,
   "id": "31226a54-0010-4b58-a1a5-a8517c40b83f",
   "metadata": {
    "tags": []
   },
   "outputs": [],
   "source": [
    "dfnew = pd.DataFrame()\n",
    "dfnew['gene_name_data'] = g2\n",
    "dfnew['gene_name_vizgen'] = g2\n",
    "dfnew['why included'] = 'L2/3 subtypes'\n",
    "dfnew['source'] = 'Cheng22_Cell'\n",
    "dfout = pd.concat([dfout, dfnew], ignore_index=True)\n"
   ]
  },
  {
   "cell_type": "code",
   "execution_count": 11,
   "id": "c0cb0ef6-d3b7-4318-8127-78e177bf1b46",
   "metadata": {
    "tags": []
   },
   "outputs": [
    {
     "data": {
      "text/html": [
       "<div>\n",
       "<style scoped>\n",
       "    .dataframe tbody tr th:only-of-type {\n",
       "        vertical-align: middle;\n",
       "    }\n",
       "\n",
       "    .dataframe tbody tr th {\n",
       "        vertical-align: top;\n",
       "    }\n",
       "\n",
       "    .dataframe thead th {\n",
       "        text-align: right;\n",
       "    }\n",
       "</style>\n",
       "<table border=\"1\" class=\"dataframe\">\n",
       "  <thead>\n",
       "    <tr style=\"text-align: right;\">\n",
       "      <th></th>\n",
       "      <th>gene_name_vizgen</th>\n",
       "      <th>gene_name_data</th>\n",
       "      <th>why included</th>\n",
       "      <th>source</th>\n",
       "      <th>Annot1</th>\n",
       "      <th>Annot2</th>\n",
       "      <th>Annot3</th>\n",
       "      <th>Annot4</th>\n",
       "      <th>ispicked</th>\n",
       "      <th>P17on</th>\n",
       "      <th>P14</th>\n",
       "      <th>DR</th>\n",
       "    </tr>\n",
       "  </thead>\n",
       "  <tbody>\n",
       "    <tr>\n",
       "      <th>0</th>\n",
       "      <td>Matn2</td>\n",
       "      <td>Matn2</td>\n",
       "      <td>L2/3 subtypes</td>\n",
       "      <td>Cheng22_Cell</td>\n",
       "      <td>A&gt;C&gt;B</td>\n",
       "      <td>screened</td>\n",
       "      <td>NaN</td>\n",
       "      <td>L2/3 types</td>\n",
       "      <td>True</td>\n",
       "      <td>A</td>\n",
       "      <td>BC</td>\n",
       "      <td>1</td>\n",
       "    </tr>\n",
       "    <tr>\n",
       "      <th>1</th>\n",
       "      <td>Egfem1</td>\n",
       "      <td>Egfem1</td>\n",
       "      <td>L2/3 subtypes;NRvsDR_DEG</td>\n",
       "      <td>Cheng22_Cell;our analysis</td>\n",
       "      <td>A&gt;C&gt;B</td>\n",
       "      <td>screened</td>\n",
       "      <td>NaN</td>\n",
       "      <td>L2/3 types</td>\n",
       "      <td>True</td>\n",
       "      <td>A</td>\n",
       "      <td>unsure</td>\n",
       "      <td>unsure</td>\n",
       "    </tr>\n",
       "    <tr>\n",
       "      <th>2</th>\n",
       "      <td>Grb14</td>\n",
       "      <td>Grb14</td>\n",
       "      <td>L2/3 subtypes</td>\n",
       "      <td>Cheng22_Cell</td>\n",
       "      <td>A&gt;C&gt;B</td>\n",
       "      <td>*</td>\n",
       "      <td>NaN</td>\n",
       "      <td>L2/3 types</td>\n",
       "      <td>True</td>\n",
       "      <td>A</td>\n",
       "      <td>unsure</td>\n",
       "      <td>1</td>\n",
       "    </tr>\n",
       "    <tr>\n",
       "      <th>3</th>\n",
       "      <td>Adamts17</td>\n",
       "      <td>Adamts17</td>\n",
       "      <td>L2/3 subtypes</td>\n",
       "      <td>Cheng22_Cell</td>\n",
       "      <td>A&gt;C&gt;B</td>\n",
       "      <td>*</td>\n",
       "      <td>NaN</td>\n",
       "      <td>L2/3 types</td>\n",
       "      <td>True</td>\n",
       "      <td>A</td>\n",
       "      <td>unsure</td>\n",
       "      <td>unsure</td>\n",
       "    </tr>\n",
       "    <tr>\n",
       "      <th>4</th>\n",
       "      <td>Ldb2</td>\n",
       "      <td>Ldb2</td>\n",
       "      <td>L2/3 subtypes</td>\n",
       "      <td>Cheng22_Cell</td>\n",
       "      <td>A&gt;C&gt;B</td>\n",
       "      <td>*</td>\n",
       "      <td>NaN</td>\n",
       "      <td>L2/3 types</td>\n",
       "      <td>True</td>\n",
       "      <td>A</td>\n",
       "      <td>unsure</td>\n",
       "      <td>unsure</td>\n",
       "    </tr>\n",
       "    <tr>\n",
       "      <th>...</th>\n",
       "      <td>...</td>\n",
       "      <td>...</td>\n",
       "      <td>...</td>\n",
       "      <td>...</td>\n",
       "      <td>...</td>\n",
       "      <td>...</td>\n",
       "      <td>...</td>\n",
       "      <td>...</td>\n",
       "      <td>...</td>\n",
       "      <td>...</td>\n",
       "      <td>...</td>\n",
       "      <td>...</td>\n",
       "    </tr>\n",
       "    <tr>\n",
       "      <th>911</th>\n",
       "      <td>AI593442</td>\n",
       "      <td>AI593442</td>\n",
       "      <td>L2/3 subtypes</td>\n",
       "      <td>Cheng22_Cell</td>\n",
       "      <td>NaN</td>\n",
       "      <td>NaN</td>\n",
       "      <td>NaN</td>\n",
       "      <td>L2/3 types</td>\n",
       "      <td>False</td>\n",
       "      <td>C</td>\n",
       "      <td>unsure</td>\n",
       "      <td>unsure</td>\n",
       "    </tr>\n",
       "    <tr>\n",
       "      <th>912</th>\n",
       "      <td>Cpne9</td>\n",
       "      <td>Cpne9</td>\n",
       "      <td>L2/3 subtypes</td>\n",
       "      <td>Cheng22_Cell</td>\n",
       "      <td>NaN</td>\n",
       "      <td>NaN</td>\n",
       "      <td>NaN</td>\n",
       "      <td>L2/3 types</td>\n",
       "      <td>False</td>\n",
       "      <td>C</td>\n",
       "      <td>BC</td>\n",
       "      <td>unsure</td>\n",
       "    </tr>\n",
       "    <tr>\n",
       "      <th>913</th>\n",
       "      <td>Dennd4c</td>\n",
       "      <td>Dennd4c</td>\n",
       "      <td>L2/3 subtypes</td>\n",
       "      <td>Cheng22_Cell</td>\n",
       "      <td>NaN</td>\n",
       "      <td>NaN</td>\n",
       "      <td>NaN</td>\n",
       "      <td>L2/3 types</td>\n",
       "      <td>False</td>\n",
       "      <td>C</td>\n",
       "      <td>unsure</td>\n",
       "      <td>unsure</td>\n",
       "    </tr>\n",
       "    <tr>\n",
       "      <th>914</th>\n",
       "      <td>Gm21949</td>\n",
       "      <td>Gm21949</td>\n",
       "      <td>L2/3 subtypes</td>\n",
       "      <td>Cheng22_Cell</td>\n",
       "      <td>NaN</td>\n",
       "      <td>NaN</td>\n",
       "      <td>NaN</td>\n",
       "      <td>L2/3 types</td>\n",
       "      <td>False</td>\n",
       "      <td>C</td>\n",
       "      <td>unsure</td>\n",
       "      <td>unsure</td>\n",
       "    </tr>\n",
       "    <tr>\n",
       "      <th>915</th>\n",
       "      <td>3632451O06Rik</td>\n",
       "      <td>3632451O06Rik</td>\n",
       "      <td>L2/3 subtypes</td>\n",
       "      <td>Cheng22_Cell</td>\n",
       "      <td>NaN</td>\n",
       "      <td>NaN</td>\n",
       "      <td>NaN</td>\n",
       "      <td>L2/3 types</td>\n",
       "      <td>False</td>\n",
       "      <td>C</td>\n",
       "      <td>unsure</td>\n",
       "      <td>unsure</td>\n",
       "    </tr>\n",
       "  </tbody>\n",
       "</table>\n",
       "<p>916 rows × 12 columns</p>\n",
       "</div>"
      ],
      "text/plain": [
       "    gene_name_vizgen gene_name_data              why included  \\\n",
       "0              Matn2          Matn2             L2/3 subtypes   \n",
       "1             Egfem1         Egfem1  L2/3 subtypes;NRvsDR_DEG   \n",
       "2              Grb14          Grb14             L2/3 subtypes   \n",
       "3           Adamts17       Adamts17             L2/3 subtypes   \n",
       "4               Ldb2           Ldb2             L2/3 subtypes   \n",
       "..               ...            ...                       ...   \n",
       "911         AI593442       AI593442             L2/3 subtypes   \n",
       "912            Cpne9          Cpne9             L2/3 subtypes   \n",
       "913          Dennd4c        Dennd4c             L2/3 subtypes   \n",
       "914          Gm21949        Gm21949             L2/3 subtypes   \n",
       "915    3632451O06Rik  3632451O06Rik             L2/3 subtypes   \n",
       "\n",
       "                        source Annot1    Annot2 Annot3      Annot4 ispicked  \\\n",
       "0                 Cheng22_Cell  A>C>B  screened    NaN  L2/3 types     True   \n",
       "1    Cheng22_Cell;our analysis  A>C>B  screened    NaN  L2/3 types     True   \n",
       "2                 Cheng22_Cell  A>C>B         *    NaN  L2/3 types     True   \n",
       "3                 Cheng22_Cell  A>C>B         *    NaN  L2/3 types     True   \n",
       "4                 Cheng22_Cell  A>C>B         *    NaN  L2/3 types     True   \n",
       "..                         ...    ...       ...    ...         ...      ...   \n",
       "911               Cheng22_Cell    NaN       NaN    NaN  L2/3 types    False   \n",
       "912               Cheng22_Cell    NaN       NaN    NaN  L2/3 types    False   \n",
       "913               Cheng22_Cell    NaN       NaN    NaN  L2/3 types    False   \n",
       "914               Cheng22_Cell    NaN       NaN    NaN  L2/3 types    False   \n",
       "915               Cheng22_Cell    NaN       NaN    NaN  L2/3 types    False   \n",
       "\n",
       "    P17on     P14      DR  \n",
       "0       A      BC       1  \n",
       "1       A  unsure  unsure  \n",
       "2       A  unsure       1  \n",
       "3       A  unsure  unsure  \n",
       "4       A  unsure  unsure  \n",
       "..    ...     ...     ...  \n",
       "911     C  unsure  unsure  \n",
       "912     C      BC  unsure  \n",
       "913     C  unsure  unsure  \n",
       "914     C  unsure  unsure  \n",
       "915     C  unsure  unsure  \n",
       "\n",
       "[916 rows x 12 columns]"
      ]
     },
     "execution_count": 11,
     "metadata": {},
     "output_type": "execute_result"
    }
   ],
   "source": [
    "dfout = pd.merge(dfout, df3[['gene', 'Annot4', 'ispicked', 'P17on', 'P14', 'DR']].rename(columns={'gene':'gene_name_data'}), \n",
    "                 how='left', on='gene_name_data')\n",
    "dfout"
   ]
  },
  {
   "cell_type": "code",
   "execution_count": 12,
   "id": "248705ef-3fa6-45e9-a3fe-7e09ee90b094",
   "metadata": {
    "tags": []
   },
   "outputs": [],
   "source": [
    "fout = \"../results/MERFISH_gene_panel_Current_Mar7-v2.csv\"\n",
    "dfout.to_csv(fout, header=True, index=False) "
   ]
  },
  {
   "cell_type": "code",
   "execution_count": 13,
   "id": "13cc5705-cc0c-45e3-bec6-f8eef680c952",
   "metadata": {
    "tags": []
   },
   "outputs": [
    {
     "data": {
      "text/plain": [
       "122"
      ]
     },
     "execution_count": 13,
     "metadata": {},
     "output_type": "execute_result"
    }
   ],
   "source": [
    "dfout['ispicked'].sum()"
   ]
  },
  {
   "cell_type": "code",
   "execution_count": 14,
   "id": "1cbdd9e1-2e9b-4eb9-80df-cab28d600384",
   "metadata": {
    "tags": []
   },
   "outputs": [
    {
     "data": {
      "text/plain": [
       "286"
      ]
     },
     "execution_count": 14,
     "metadata": {},
     "output_type": "execute_result"
    }
   ],
   "source": [
    "(dfout['Annot4']=='L2/3 types').sum()"
   ]
  },
  {
   "cell_type": "code",
   "execution_count": null,
   "id": "58aa7a28-3893-4cc3-a1ec-999a91df17e2",
   "metadata": {},
   "outputs": [],
   "source": []
  },
  {
   "cell_type": "code",
   "execution_count": null,
   "id": "37df338f-3ed8-4776-aa88-729568b71199",
   "metadata": {},
   "outputs": [],
   "source": []
  },
  {
   "cell_type": "code",
   "execution_count": null,
   "id": "70602307-5049-4c35-bc3c-94e668997f2e",
   "metadata": {},
   "outputs": [],
   "source": []
  },
  {
   "cell_type": "markdown",
   "id": "512e95e7-74ad-4372-98eb-bb323315e1e0",
   "metadata": {},
   "source": [
    "# summarize"
   ]
  },
  {
   "cell_type": "code",
   "execution_count": null,
   "id": "d8a83c59-0f37-46e9-af3a-c096620c0f96",
   "metadata": {
    "tags": []
   },
   "outputs": [],
   "source": [
    "unq_reasons = np.unique(np.hstack(df['why included'].str.split(';')))\n",
    "unq_reasons"
   ]
  },
  {
   "cell_type": "code",
   "execution_count": null,
   "id": "03dfcb1a-72cc-4669-802c-7afe6c215bc9",
   "metadata": {
    "tags": []
   },
   "outputs": [],
   "source": [
    "breakdown = []\n",
    "for reason in unq_reasons:\n",
    "    num = df['why included'].str.contains(reason).sum()\n",
    "    breakdown.append({'reason': reason, 'num': num})\n",
    "breakdown = pd.DataFrame(breakdown)\n",
    "breakdown.sort_values('num', ascending=False)"
   ]
  },
  {
   "cell_type": "code",
   "execution_count": null,
   "id": "de368a19-b5fc-48bb-a3ae-a836c6798091",
   "metadata": {},
   "outputs": [],
   "source": [
    "pd.set_option('display.max_rows', 100)\n",
    "df.groupby(['why included', 'source']).size().to_frame('number')"
   ]
  },
  {
   "cell_type": "code",
   "execution_count": null,
   "id": "27257a01-34e6-4830-88ca-6654f9c043d0",
   "metadata": {},
   "outputs": [],
   "source": [
    "df.groupby(['why included']).size().to_frame('number')"
   ]
  },
  {
   "cell_type": "code",
   "execution_count": null,
   "id": "72219bc6-8f2d-4e11-9b1f-65154f0c6bf8",
   "metadata": {
    "tags": []
   },
   "outputs": [],
   "source": [
    "df.groupby(['why included']).size().sort_values(ascending=False).to_frame('number')"
   ]
  },
  {
   "cell_type": "code",
   "execution_count": null,
   "id": "285afd8d-f972-42d4-b49c-151d36158d06",
   "metadata": {},
   "outputs": [],
   "source": [
    "df.groupby(['source']).size().to_frame('number')"
   ]
  },
  {
   "cell_type": "code",
   "execution_count": null,
   "id": "02e370c8-966f-4c4e-a8c8-a650543404e0",
   "metadata": {},
   "outputs": [],
   "source": [
    "cond1 = df['why included'].str.contains(\"All cell types\")\n",
    "cond2 = df['source'].str.contains(\"Chen22_biorxiv_Zador\")\n",
    "print(df[cond1].shape)\n",
    "print(df[cond2].shape)\n",
    "print(df[cond1 & cond2].shape)"
   ]
  },
  {
   "cell_type": "code",
   "execution_count": null,
   "id": "3409925b-bd16-4546-a1cc-44ef2b2b16c5",
   "metadata": {
    "tags": []
   },
   "outputs": [],
   "source": [
    "\"March3\" in df['gene_name_data'].values"
   ]
  },
  {
   "cell_type": "markdown",
   "id": "d2754fce-e794-4671-b0e1-1a1d46121459",
   "metadata": {},
   "source": [
    "# Save"
   ]
  },
  {
   "cell_type": "code",
   "execution_count": null,
   "id": "e147a170-4874-4c19-8761-4517921f8e5f",
   "metadata": {},
   "outputs": [],
   "source": [
    "# fout = '../results/MERFISH_gene_panel_merged_Feb28.csv' \n",
    "# dfout.to_csv(fout, header=True, index=False)"
   ]
  },
  {
   "cell_type": "code",
   "execution_count": null,
   "id": "1eb28863-8549-4fcc-8873-4365c803ded6",
   "metadata": {},
   "outputs": [],
   "source": [
    "# !head $fout"
   ]
  },
  {
   "cell_type": "code",
   "execution_count": null,
   "id": "cf0c3ecf-6286-4a3c-bbc6-238482645628",
   "metadata": {
    "tags": []
   },
   "outputs": [],
   "source": [
    "# !wc -l $fout"
   ]
  },
  {
   "cell_type": "code",
   "execution_count": null,
   "id": "fb1245d2-13be-4916-8c52-6cca4982abe3",
   "metadata": {},
   "outputs": [],
   "source": []
  }
 ],
 "metadata": {
  "kernelspec": {
   "display_name": "Python 3 (ipykernel)",
   "language": "python",
   "name": "python3"
  },
  "language_info": {
   "codemirror_mode": {
    "name": "ipython",
    "version": 3
   },
   "file_extension": ".py",
   "mimetype": "text/x-python",
   "name": "python",
   "nbconvert_exporter": "python",
   "pygments_lexer": "ipython3",
   "version": "3.8.16"
  }
 },
 "nbformat": 4,
 "nbformat_minor": 5
}
