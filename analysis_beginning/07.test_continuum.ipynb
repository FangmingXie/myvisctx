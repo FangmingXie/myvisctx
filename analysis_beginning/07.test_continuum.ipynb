{
 "cells": [
  {
   "cell_type": "code",
   "execution_count": 2,
   "id": "20017ba7-fa38-45e7-80b3-c942c6e65a7d",
   "metadata": {},
   "outputs": [],
   "source": [
    "import pandas as pd\n",
    "import numpy as np\n",
    "import anndata as ad\n",
    "import seaborn as sns\n",
    "import matplotlib.pyplot as plt\n",
    "import umap\n",
    "from sklearn.decomposition import PCA\n",
    "from sklearn.linear_model import LogisticRegression\n",
    "from sklearn.linear_model import Lasso\n",
    "from sklearn.model_selection import KFold\n",
    "from sklearn import metrics \n",
    "from scipy import stats\n",
    "\n",
    "import sys\n",
    "# sys.path.insert(0, '')\n",
    "import importlib\n",
    "from dredFISH.Analysis import basicu\n",
    "\n",
    "importlib.reload(basicu)\n",
    "\n",
    "sns.set_context('talk')"
   ]
  },
  {
   "cell_type": "markdown",
   "id": "55471211-9ae4-4c3a-8ed2-9d6f6e3aa66d",
   "metadata": {},
   "source": [
    "# Load data"
   ]
  },
  {
   "cell_type": "code",
   "execution_count": 3,
   "id": "98561d18-44eb-423f-87a9-4e37965e333c",
   "metadata": {},
   "outputs": [
    {
     "data": {
      "text/html": [
       "<div>\n",
       "<style scoped>\n",
       "    .dataframe tbody tr th:only-of-type {\n",
       "        vertical-align: middle;\n",
       "    }\n",
       "\n",
       "    .dataframe tbody tr th {\n",
       "        vertical-align: top;\n",
       "    }\n",
       "\n",
       "    .dataframe thead th {\n",
       "        text-align: right;\n",
       "    }\n",
       "</style>\n",
       "<table border=\"1\" class=\"dataframe\">\n",
       "  <thead>\n",
       "    <tr style=\"text-align: right;\">\n",
       "      <th></th>\n",
       "      <th>Subclass</th>\n",
       "      <th>Type/Gradient</th>\n",
       "      <th>Function</th>\n",
       "      <th>Priority</th>\n",
       "      <th>Note</th>\n",
       "    </tr>\n",
       "    <tr>\n",
       "      <th>Gene</th>\n",
       "      <th></th>\n",
       "      <th></th>\n",
       "      <th></th>\n",
       "      <th></th>\n",
       "      <th></th>\n",
       "    </tr>\n",
       "  </thead>\n",
       "  <tbody>\n",
       "    <tr>\n",
       "      <th>Baz1a</th>\n",
       "      <td>L2/3</td>\n",
       "      <td>A&lt;B&gt;C</td>\n",
       "      <td>TF</td>\n",
       "      <td>***</td>\n",
       "      <td>NaN</td>\n",
       "    </tr>\n",
       "    <tr>\n",
       "      <th>Trpc6</th>\n",
       "      <td>L2/3</td>\n",
       "      <td>A&lt;B&gt;C</td>\n",
       "      <td>IC</td>\n",
       "      <td>***</td>\n",
       "      <td>NaN</td>\n",
       "    </tr>\n",
       "    <tr>\n",
       "      <th>Bdnf</th>\n",
       "      <td>L2/3</td>\n",
       "      <td>A&lt;B&gt;C</td>\n",
       "      <td>CAM</td>\n",
       "      <td>***</td>\n",
       "      <td>NaN</td>\n",
       "    </tr>\n",
       "    <tr>\n",
       "      <th>Sox5</th>\n",
       "      <td>L2/3</td>\n",
       "      <td>A&lt;B&gt;C</td>\n",
       "      <td>TF</td>\n",
       "      <td>NaN</td>\n",
       "      <td>NaN</td>\n",
       "    </tr>\n",
       "    <tr>\n",
       "      <th>Nrp1</th>\n",
       "      <td>L2/3</td>\n",
       "      <td>A&lt;B&gt;C</td>\n",
       "      <td>CAM</td>\n",
       "      <td>***</td>\n",
       "      <td>NaN</td>\n",
       "    </tr>\n",
       "    <tr>\n",
       "      <th>...</th>\n",
       "      <td>...</td>\n",
       "      <td>...</td>\n",
       "      <td>...</td>\n",
       "      <td>...</td>\n",
       "      <td>...</td>\n",
       "    </tr>\n",
       "    <tr>\n",
       "      <th>Ngb</th>\n",
       "      <td>L2/3</td>\n",
       "      <td>NaN</td>\n",
       "      <td>other</td>\n",
       "      <td>NaN</td>\n",
       "      <td>NaN</td>\n",
       "    </tr>\n",
       "    <tr>\n",
       "      <th>Penk</th>\n",
       "      <td>L2/3</td>\n",
       "      <td>NaN</td>\n",
       "      <td>other</td>\n",
       "      <td>NaN</td>\n",
       "      <td>NaN</td>\n",
       "    </tr>\n",
       "    <tr>\n",
       "      <th>Chrm2</th>\n",
       "      <td>L2/3, L4</td>\n",
       "      <td>C&gt;B=A</td>\n",
       "      <td>IC</td>\n",
       "      <td>***</td>\n",
       "      <td>NaN</td>\n",
       "    </tr>\n",
       "    <tr>\n",
       "      <th>Cux1</th>\n",
       "      <td>L2/3, L4</td>\n",
       "      <td>all</td>\n",
       "      <td>TF</td>\n",
       "      <td>NaN</td>\n",
       "      <td>NaN</td>\n",
       "    </tr>\n",
       "    <tr>\n",
       "      <th>Whrn</th>\n",
       "      <td>L4</td>\n",
       "      <td>NaN</td>\n",
       "      <td>other</td>\n",
       "      <td>NaN</td>\n",
       "      <td>NaN</td>\n",
       "    </tr>\n",
       "  </tbody>\n",
       "</table>\n",
       "<p>86 rows × 5 columns</p>\n",
       "</div>"
      ],
      "text/plain": [
       "       Subclass Type/Gradient Function Priority Note\n",
       "Gene                                                \n",
       "Baz1a      L2/3         A<B>C       TF      ***  NaN\n",
       "Trpc6      L2/3         A<B>C       IC      ***  NaN\n",
       "Bdnf       L2/3         A<B>C      CAM      ***  NaN\n",
       "Sox5       L2/3         A<B>C       TF      NaN  NaN\n",
       "Nrp1       L2/3         A<B>C      CAM      ***  NaN\n",
       "...         ...           ...      ...      ...  ...\n",
       "Ngb        L2/3           NaN    other      NaN  NaN\n",
       "Penk       L2/3           NaN    other      NaN  NaN\n",
       "Chrm2  L2/3, L4         C>B=A       IC      ***  NaN\n",
       "Cux1   L2/3, L4           all       TF      NaN  NaN\n",
       "Whrn         L4           NaN    other      NaN  NaN\n",
       "\n",
       "[86 rows x 5 columns]"
      ]
     },
     "execution_count": 3,
     "metadata": {},
     "output_type": "execute_result"
    }
   ],
   "source": [
    "f = '../data_dump/candidate_genes_vincent_0328.csv'\n",
    "df0 = pd.read_csv(f)\n",
    "df0 = df0.sort_values(['Subclass', 'Type/Gradient'])\n",
    "df0 = df0[df0['Gene']!='Neurod1']\n",
    "df0 = df0.set_index('Gene')\n",
    "df0"
   ]
  },
  {
   "cell_type": "code",
   "execution_count": 4,
   "id": "6f0a1bfb-ecb4-45ff-97e3-cb5b83e6afea",
   "metadata": {},
   "outputs": [
    {
     "name": "stdout",
     "output_type": "stream",
     "text": [
      "CPU times: user 163 ms, sys: 79.9 ms, total: 242 ms\n",
      "Wall time: 240 ms\n"
     ]
    },
    {
     "data": {
      "text/plain": [
       "AnnData object with n_obs × n_vars = 5837 × 86\n",
       "    obs: 'batch', 'n_genes', 'percent_mito', 'n_counts', 'leiden', 'Doublet', 'Doublet Score', 'cluster', 'Class_broad', 'sample', 'Age', 'subclass', 'layer', 'Type', 'Subclass', 'embed_1', 'embed_2', 'PC_1', 'PC_2', 'PC_3', 'PC_4', 'PC_5', 'PC_6', 'PC_7', 'PC_8', 'PC_9', 'PC_10', 'PC_11', 'PC_12', 'PC_13', 'PC_14', 'PC_15', 'PC_16', 'PC_17', 'PC_18', 'PC_19', 'PC_20', 'PC_21', 'PC_22', 'PC_23', 'PC_24', 'PC_25', 'PC_26', 'PC_27', 'PC_28', 'PC_29', 'PC_30', 'PC_31', 'PC_32', 'PC_33', 'PC_34', 'PC_35', 'PC_36', 'PC_37', 'PC_38', 'PC_39', 'PC_40', 'PC_41', 'PC_42', 'PC_43', 'PC_44', 'PC_45', 'PC_46', 'PC_47', 'PC_48', 'PC_49', 'PC_50', 'PC_51', 'PC_52', 'PC_53', 'PC_54', 'PC_55', 'PC_56', 'PC_57', 'PC_58', 'PC_59', 'PC_60', 'PC_61', 'PC_62', 'PC_63', 'PC_64', 'PC_65', 'PC_66', 'PC_67', 'PC_68', 'PC_69', 'PC_70', 'PC_71', 'PC_72', 'PC_73', 'PC_74', 'PC_75', 'PC_76', 'PC_77', 'PC_78', 'PC_79', 'PC_80', 'PC_81', 'PC_82', 'PC_83', 'PC_84', 'PC_85', 'PC_86'\n",
       "    var: 'gene_ids', 'feature_types', 'n_cells', 'highly_variable', 'means', 'dispersions', 'dispersions_norm', 'mean', 'std'\n",
       "    uns: 'Type_colors', 'cluster_colors', \"dendrogram_['leiden']\", 'hvg', 'layer_colors', 'leiden', 'neighbors', 'pca', 'sample_colors', 'umap'\n",
       "    obsm: 'X_harmony', 'X_pca', 'X_umap'\n",
       "    varm: 'PCs'\n",
       "    obsp: 'connectivities', 'distances'"
      ]
     },
     "execution_count": 4,
     "metadata": {},
     "output_type": "execute_result"
    }
   ],
   "source": [
    "%%time\n",
    "adata = ad.read('../data_dump/P38_glut_genes_v3_annot.h5ad')\n",
    "adata"
   ]
  },
  {
   "cell_type": "code",
   "execution_count": 5,
   "id": "9cc97dfe-47a0-4fb4-8c6c-fdc7b9f6b5f9",
   "metadata": {},
   "outputs": [],
   "source": [
    "# %%time\n",
    "# # UMAP\n",
    "# embed = umap.UMAP(n_components=2, random_state=0).fit_transform(adata.X)\n",
    "# adata.obs['embed_1'] = embed[:,0]\n",
    "# adata.obs['embed_2'] = embed[:,1]\n",
    "\n",
    "# adata.write('../data_dump/P38_glut_genes_v3_annot.h5ad')"
   ]
  },
  {
   "cell_type": "markdown",
   "id": "b66c40f2-eeb2-4235-bdaa-e7dfedd64c16",
   "metadata": {},
   "source": [
    "#  Utilities"
   ]
  },
  {
   "cell_type": "code",
   "execution_count": 6,
   "id": "0c32be04-ddaa-464e-a736-b0981af2ed08",
   "metadata": {},
   "outputs": [],
   "source": [
    "def get_r2(y, yhat):\n",
    "    \"\"\"\n",
    "    \"\"\"\n",
    "    r2 = 1-np.power(y-yhat, 2).sum()/np.power(y-np.mean(y), 2).sum()\n",
    "    return r2\n",
    "\n",
    "def get_mse(y, yhat):\n",
    "    \"\"\"\n",
    "    \"\"\"\n",
    "    mse = np.power(y-yhat, 2).mean()\n",
    "    return mse\n",
    "    \n",
    "def get_pearsonr(y, yhat):\n",
    "    \"\"\"\n",
    "    \"\"\"\n",
    "    r, p = stats.pearsonr(y, yhat)\n",
    "    return r"
   ]
  },
  {
   "cell_type": "code",
   "execution_count": 7,
   "id": "0e923613-a2c9-4a32-8883-8d3350e9bd58",
   "metadata": {},
   "outputs": [],
   "source": [
    "def regression_pipe(X, y, alpha):\n",
    "    kf = KFold(n_splits=5, shuffle=True, random_state=0)\n",
    "    \n",
    "    ygs = np.empty(len(y))\n",
    "    yps = np.empty(len(y))\n",
    "    \n",
    "    mse_s = []\n",
    "    l0s = []\n",
    "    l1s = []\n",
    "    \n",
    "    for train_idx, test_idx, in kf.split(X):\n",
    "        X_train, X_test = X[train_idx], X[test_idx]\n",
    "        y_train, y_test = y[train_idx], y[test_idx]\n",
    "\n",
    "        # build model\n",
    "        model = Lasso(alpha=alpha, random_state=0)\n",
    "        # train\n",
    "        model.fit(X_train, y_train)\n",
    "        # test\n",
    "        yp = model.predict(X_test)\n",
    "        # evaluation\n",
    "        mse = np.power(yp-y_test, 2).mean()\n",
    "        l0 = (np.abs(model.coef_) > 1e-6).sum() \n",
    "        l1 = np.abs(model.coef_).sum()\n",
    "\n",
    "        # add\n",
    "        l0s.append(l0)\n",
    "        l1s.append(l1)\n",
    "        mse_s.append(mse)\n",
    "        \n",
    "        ygs[test_idx] = y_test\n",
    "        yps[test_idx] = yp\n",
    "    \n",
    "    return ygs, yps, mse_s, l0s, l1s\n",
    "\n",
    "def tuning_regression(X, y, alphas):\n",
    "    \"\"\"\n",
    "    \"\"\"\n",
    "    res = []\n",
    "    ressum = []\n",
    "    for alpha in alphas:\n",
    "        print(alpha)\n",
    "        # run\n",
    "        ygs, yps, mse_s, l0s, l1s = regression_pipe(X, y, alpha)\n",
    "        res.append((ygs, yps, mse_s, l0s, l1s))\n",
    "        ressum.append({\n",
    "           'Reg Strength': alpha,\n",
    "           'MSE': np.mean(mse_s),\n",
    "           'r2': get_r2(ygs, yps),\n",
    "           'coef L0': np.mean(l0s),\n",
    "           'coef L1': np.mean(l1s),\n",
    "          })\n",
    "    \n",
    "    ressum = pd.DataFrame(ressum)\n",
    "    return res, ressum\n",
    "\n",
    "def plot_regression_pipe(ax, ygs, ypgs, clusters, title=\"\", legend=True):\n",
    "    \"\"\"\n",
    "    \"\"\"\n",
    "    r2 = get_r2(ygs, yps)\n",
    "    dfplot = pd.DataFrame()\n",
    "    dfplot['Ground truth'] = ygs\n",
    "    dfplot['Prediction'] = yps\n",
    "    dfplot['Cluster'] = clusters \n",
    "    sns.scatterplot(data=dfplot, \n",
    "                    x='Ground truth',\n",
    "                    y='Prediction',\n",
    "                    hue='Cluster',\n",
    "                    hue_order=np.sort(dfplot['Cluster'].unique()),\n",
    "                    edgecolor='none',\n",
    "                    s=5,\n",
    "                    ax=ax,\n",
    "                   )\n",
    "\n",
    "    scale = min(max(ygs), max(yps))\n",
    "    ax.plot([0, scale], [0, scale], color='k', linestyle='--')\n",
    "    ax.set_title(f\"{title}\")\n",
    "    ax.text(1, 0.1, f'r2={r2:.2f}', ha='right', transform=ax.transAxes)\n",
    "    sns.despine(ax=ax)\n",
    "    if legend:\n",
    "        ax.legend(bbox_to_anchor=(1,1))\n",
    "    else:\n",
    "        ax.get_legend().remove()\n",
    "    \n",
    "def plot_ressum_reg(ressum, evalcol='AUPR', scale='linear', title=''):\n",
    "    \"\"\"\n",
    "    \"\"\"\n",
    "    fig, axs = plt.subplots(2, 1, figsize=(5, 8), sharex=True)\n",
    "    ax = axs[0]\n",
    "    ax.plot(ressum['Reg Strength'], ressum['coef L0'], '-o')\n",
    "    ax.set_ylabel('# genes used')\n",
    "    ax.grid()\n",
    "    sns.despine(ax=ax)\n",
    "    ax.set_xscale(scale)\n",
    "    ax.set_title(title)\n",
    "    \n",
    "    ax = axs[1]\n",
    "    ax.plot(ressum['Reg Strength'], ressum[evalcol], '-o')\n",
    "    ax.set_ylabel(evalcol)\n",
    "    ax.set_xlabel('Regularization')\n",
    "    ax.set_ylim(ymax=1.02)\n",
    "    ax.grid()\n",
    "    sns.despine(ax=ax)\n",
    "    ax.set_xscale(scale)\n",
    "    if scale == 'linear':\n",
    "        ax.ticklabel_format(axis='x', style='sci', scilimits=(-4,-4))\n",
    "    \n",
    "    plt.show()"
   ]
  },
  {
   "cell_type": "markdown",
   "id": "6572e47f-0e5c-4acf-a5a2-09495029c79f",
   "metadata": {},
   "source": [
    "# Regression example"
   ]
  },
  {
   "cell_type": "code",
   "execution_count": 8,
   "id": "0ff2977a-ba70-4537-bf2e-ba9ab03a309d",
   "metadata": {},
   "outputs": [
    {
     "data": {
      "text/plain": [
       "<matplotlib.collections.PathCollection at 0x7f723d79ab00>"
      ]
     },
     "execution_count": 8,
     "metadata": {},
     "output_type": "execute_result"
    },
    {
     "data": {
      "image/png": "[encoded data removed]",
      "text/plain": [
       "<Figure size 432x288 with 1 Axes>"
      ]
     },
     "metadata": {
      "needs_background": "light"
     },
     "output_type": "display_data"
    }
   ],
   "source": [
    "plt.scatter(adata.obs['embed_1'], \n",
    "            adata.obs['embed_2'],\n",
    "            s=1,\n",
    "           )"
   ]
  },
  {
   "cell_type": "code",
   "execution_count": 9,
   "id": "d76105f1-0101-4775-b94f-d09e315e6f39",
   "metadata": {},
   "outputs": [
    {
     "data": {
      "text/plain": [
       "(5837, 86)"
      ]
     },
     "execution_count": 9,
     "metadata": {},
     "output_type": "execute_result"
    }
   ],
   "source": [
    "adata.X.shape"
   ]
  },
  {
   "cell_type": "code",
   "execution_count": 69,
   "id": "1d870387-a235-49c4-919a-efd4443fcf9d",
   "metadata": {},
   "outputs": [],
   "source": [
    "from sklearn.neighbors import NearestNeighbors\n",
    "from sklearn.metrics.pairwise import euclidean_distances\n",
    "import igraph as ig\n",
    "from scipy import sparse\n",
    "import tqdm\n"
   ]
  },
  {
   "cell_type": "code",
   "execution_count": 82,
   "id": "03d358ee-ee27-4175-8df1-b416465b457a",
   "metadata": {},
   "outputs": [
    {
     "data": {
      "text/plain": [
       "<matplotlib.collections.PathCollection at 0x7f723b79f340>"
      ]
     },
     "execution_count": 82,
     "metadata": {},
     "output_type": "execute_result"
    },
    {
     "data": {
      "image/png": "[encoded data removed]",
      "text/plain": [
       "<Figure size 432x288 with 1 Axes>"
      ]
     },
     "metadata": {
      "needs_background": "light"
     },
     "output_type": "display_data"
    }
   ],
   "source": [
    "posX = np.vstack([\n",
    "    np.random.randn(100,2),\n",
    "    np.array([30,0]).reshape(1,-1)+np.random.randn(100,2),\n",
    "    np.array([0,20]).reshape(1,-1)+np.random.randn(100,2),\n",
    "])\n",
    "N = len(posX)\n",
    "                  \n",
    "plt.scatter(posX[:,0], posX[:,1])"
   ]
  },
  {
   "cell_type": "code",
   "execution_count": 131,
   "id": "17c018c6-0855-427d-91dd-fa79e44f94f7",
   "metadata": {},
   "outputs": [
    {
     "data": {
      "text/plain": [
       "<matplotlib.collections.PathCollection at 0x7f722f02d480>"
      ]
     },
     "execution_count": 131,
     "metadata": {},
     "output_type": "execute_result"
    },
    {
     "data": {
      "image/png": "[encoded data removed]",
      "text/plain": [
       "<Figure size 432x288 with 1 Axes>"
      ]
     },
     "metadata": {
      "needs_background": "light"
     },
     "output_type": "display_data"
    }
   ],
   "source": [
    "r = 1\n",
    "r2 = 2\n",
    "theta = np.linspace(0, 2*np.pi, 300)\n",
    "\n",
    "\n",
    "posX2 = np.vstack([\n",
    "    r*np.cos(theta)+0.1*np.random.randn(len(theta)), \n",
    "    r*np.sin(theta)+0.1*np.random.randn(len(theta)),\n",
    "]).T\n",
    "\n",
    "\n",
    "posX_tmp = np.vstack([\n",
    "    r2*np.cos(theta)+0.1*np.random.randn(len(theta)), \n",
    "    r2*np.sin(theta)+0.1*np.random.randn(len(theta)),\n",
    "]).T\n",
    "posX2 = np.hstack(pso\n",
    "\n",
    "N = len(posX2)\n",
    "                  \n",
    "plt.scatter(posX2[:,0], posX2[:,1])"
   ]
  },
  {
   "cell_type": "code",
   "execution_count": 83,
   "id": "7f4de0f4-a0b7-48fb-8373-eb50350f36e8",
   "metadata": {},
   "outputs": [
    {
     "data": {
      "text/plain": [
       "((300, 300), 41.01155992885048)"
      ]
     },
     "execution_count": 83,
     "metadata": {},
     "output_type": "execute_result"
    }
   ],
   "source": [
    "pdists = euclidean_distances(posX)\n",
    "pdists.shape, pdists.max()"
   ]
  },
  {
   "cell_type": "code",
   "execution_count": 88,
   "id": "e3d4f752-a52b-47c4-8959-d119fb886288",
   "metadata": {},
   "outputs": [
    {
     "name": "stdout",
     "output_type": "stream",
     "text": [
      "[ 0.   0.3  0.6  0.9  1.2  1.5  1.8  2.1  2.4  2.7  3.   3.3  3.6  3.9\n",
      "  4.2  4.5  4.8  5.1  5.4  5.7  6.   6.3  6.6  6.9  7.2  7.5  7.8  8.1\n",
      "  8.4  8.7  9.   9.3  9.6  9.9 10.2 10.5 10.8 11.1 11.4 11.7 12.  12.3\n",
      " 12.6 12.9 13.2 13.5 13.8 14.1 14.4 14.7 15.  15.3 15.6 15.9 16.2 16.5\n",
      " 16.8 17.1 17.4 17.7 18.  18.3 18.6 18.9 19.2 19.5 19.8 20.1 20.4 20.7\n",
      " 21.  21.3 21.6 21.9 22.2 22.5 22.8 23.1 23.4 23.7 24.  24.3 24.6 24.9\n",
      " 25.2 25.5 25.8 26.1 26.4 26.7 27.  27.3 27.6 27.9 28.2 28.5 28.8 29.1\n",
      " 29.4 29.7 30. ]\n"
     ]
    },
    {
     "name": "stderr",
     "output_type": "stream",
     "text": [
      "100%|██████████| 101/101 [00:00<00:00, 174.08it/s]"
     ]
    },
    {
     "name": "stdout",
     "output_type": "stream",
     "text": [
      "CPU times: user 579 ms, sys: 15.7 ms, total: 595 ms\n",
      "Wall time: 590 ms\n"
     ]
    },
    {
     "name": "stderr",
     "output_type": "stream",
     "text": [
      "\n"
     ]
    }
   ],
   "source": [
    "%%time\n",
    "# adj\n",
    "res = []\n",
    "dists = np.linspace(0, 30, 101)\n",
    "print(dists)\n",
    "for dist in tqdm.tqdm(dists):\n",
    "    grh = ig.Graph.Adjacency((pdists<dist).astype(int))\n",
    "    nmax = grh.clusters().giant().vcount()\n",
    "    res.append(nmax)\n",
    "    # print(dist, nmax, nmax/N)"
   ]
  },
  {
   "cell_type": "code",
   "execution_count": 89,
   "id": "6b6dfd6c-cc63-4d87-9522-e90e8870b398",
   "metadata": {},
   "outputs": [
    {
     "data": {
      "text/plain": [
       "[<matplotlib.lines.Line2D at 0x7f72382899c0>]"
      ]
     },
     "execution_count": 89,
     "metadata": {},
     "output_type": "execute_result"
    },
    {
     "data": {
      "image/png": "[encoded data removed]",
      "text/plain": [
       "<Figure size 432x288 with 1 Axes>"
      ]
     },
     "metadata": {
      "needs_background": "light"
     },
     "output_type": "display_data"
    }
   ],
   "source": [
    "plt.plot(dists, np.array(res), '-o')\n",
    "# plt.yscale('log')"
   ]
  },
  {
   "cell_type": "code",
   "execution_count": 108,
   "id": "efed09cb-b956-4cd6-94ad-29d9b03cb616",
   "metadata": {},
   "outputs": [],
   "source": [
    "def pipe(X, p=0.8, n=101, plow=0):\n",
    "    \"\"\"\n",
    "    \"\"\"\n",
    "    res = []\n",
    "    pdists = euclidean_distances(X)\n",
    "    \n",
    "    dists = np.linspace(pdists.max()*plow, pdists.max()*p, n)\n",
    "    for dist in tqdm.tqdm(dists):\n",
    "        grh = ig.Graph.Adjacency((pdists<dist).astype(int))\n",
    "        nmax = grh.clusters().giant().vcount()\n",
    "        res.append(nmax)\n",
    "    res = np.array(res)\n",
    "    return dists, res"
   ]
  },
  {
   "cell_type": "code",
   "execution_count": 124,
   "id": "5a0981b1-aa5f-495e-8000-6fdf9d8b0b42",
   "metadata": {},
   "outputs": [
    {
     "name": "stderr",
     "output_type": "stream",
     "text": [
      "100%|██████████| 101/101 [00:00<00:00, 148.49it/s]\n"
     ]
    },
    {
     "data": {
      "text/plain": [
       "[<matplotlib.lines.Line2D at 0x7f722f1b20e0>]"
      ]
     },
     "execution_count": 124,
     "metadata": {},
     "output_type": "execute_result"
    },
    {
     "data": {
      "image/png": "[encoded data removed]",
      "text/plain": [
       "<Figure size 432x288 with 1 Axes>"
      ]
     },
     "metadata": {
      "needs_background": "light"
     },
     "output_type": "display_data"
    }
   ],
   "source": [
    "dists, res = pipe(posX)\n",
    "plt.plot(dists, res/len(posX), '-o')"
   ]
  },
  {
   "cell_type": "code",
   "execution_count": 125,
   "id": "71aac8b1-bbdf-49e2-9d5b-9a42d7a88418",
   "metadata": {},
   "outputs": [
    {
     "data": {
      "text/plain": [
       "[<matplotlib.lines.Line2D at 0x7f722f21d330>]"
      ]
     },
     "execution_count": 125,
     "metadata": {},
     "output_type": "execute_result"
    },
    {
     "data": {
      "image/png": "[encoded data removed]",
      "text/plain": [
       "<Figure size 432x288 with 1 Axes>"
      ]
     },
     "metadata": {
      "needs_background": "light"
     },
     "output_type": "display_data"
    }
   ],
   "source": [
    "plt.plot(np.array(res[1:])-np.array(res[:-1]), '-o')"
   ]
  },
  {
   "cell_type": "code",
   "execution_count": null,
   "id": "50c0ba0b-33af-4be0-b232-a5fc82e4dc90",
   "metadata": {},
   "outputs": [],
   "source": [
    "X = adata.X\n",
    "pcX = adata.obs.filter(regex=\"^PC\").values[:,:6]\n",
    "N = len(X)"
   ]
  },
  {
   "cell_type": "code",
   "execution_count": 126,
   "id": "67198693-daca-4e6f-bdaf-208521a37ac9",
   "metadata": {},
   "outputs": [
    {
     "name": "stderr",
     "output_type": "stream",
     "text": [
      "100%|██████████| 10/10 [00:21<00:00,  2.11s/it]\n"
     ]
    },
    {
     "data": {
      "text/plain": [
       "[<matplotlib.lines.Line2D at 0x7f722f2801c0>]"
      ]
     },
     "execution_count": 126,
     "metadata": {},
     "output_type": "execute_result"
    },
    {
     "data": {
      "image/png": "[encoded data removed]",
      "text/plain": [
       "<Figure size 432x288 with 1 Axes>"
      ]
     },
     "metadata": {
      "needs_background": "light"
     },
     "output_type": "display_data"
    }
   ],
   "source": [
    "dists, res = pipe(pcX, p=0.1, plow=0.02, n=10)\n",
    "plt.plot(dists, res, '-o')"
   ]
  },
  {
   "cell_type": "code",
   "execution_count": 106,
   "id": "18e92239-0be6-4e3b-9d46-fe886e77deb7",
   "metadata": {},
   "outputs": [
    {
     "name": "stderr",
     "output_type": "stream",
     "text": [
      "100%|██████████| 30/30 [01:21<00:00,  2.72s/it]\n"
     ]
    },
    {
     "data": {
      "text/plain": [
       "[<matplotlib.lines.Line2D at 0x7f7238613640>]"
      ]
     },
     "execution_count": 106,
     "metadata": {},
     "output_type": "execute_result"
    },
    {
     "data": {
      "image/png": "[encoded data removed]",
      "text/plain": [
       "<Figure size 432x288 with 1 Axes>"
      ]
     },
     "metadata": {
      "needs_background": "light"
     },
     "output_type": "display_data"
    }
   ],
   "source": [
    "dists, res = pipe(X, p=0.4, plow=0.1, n=30)\n",
    "plt.plot(dists, res, '-o')"
   ]
  },
  {
   "cell_type": "code",
   "execution_count": 122,
   "id": "eaae4f3f-413c-46ae-bd16-63a7718dcd97",
   "metadata": {},
   "outputs": [
    {
     "data": {
      "text/plain": [
       "[<matplotlib.lines.Line2D at 0x7f722f334130>]"
      ]
     },
     "execution_count": 122,
     "metadata": {},
     "output_type": "execute_result"
    },
    {
     "data": {
      "image/png": "[encoded data removed]",
      "text/plain": [
       "<Figure size 432x288 with 1 Axes>"
      ]
     },
     "metadata": {
      "needs_background": "light"
     },
     "output_type": "display_data"
    }
   ],
   "source": [
    "plt.plot(np.array(res[1:])-np.array(res[:-1]), '-o')"
   ]
  },
  {
   "cell_type": "code",
   "execution_count": null,
   "id": "90519bf8-0063-48af-ab81-e005ba6f99d4",
   "metadata": {},
   "outputs": [],
   "source": []
  },
  {
   "cell_type": "code",
   "execution_count": null,
   "id": "1463f9af-7d64-4791-af8b-80e7ce8de653",
   "metadata": {},
   "outputs": [],
   "source": []
  },
  {
   "cell_type": "code",
   "execution_count": null,
   "id": "e9b6f699-107d-488a-9850-52b409148c5d",
   "metadata": {},
   "outputs": [],
   "source": []
  },
  {
   "cell_type": "code",
   "execution_count": null,
   "id": "75391fca-12a0-4c30-b57d-a06c9eb2e53d",
   "metadata": {},
   "outputs": [],
   "source": [
    "# %%time\n",
    "# # adj\n",
    "# # distance \n",
    "# nbrs = NearestNeighbors(n_neighbors=10, algorithm='ball_tree').fit(pcX)\n",
    "# gknn = nbrs.kneighbors_graph(mode='distance')\n",
    "# gknn = gknn.tocoo()\n",
    "\n",
    "# # perturbation\n",
    "# res = []\n",
    "# dists = np.linspace(1, 10, 21)\n",
    "# print(dists)\n",
    "# for dist in dists:\n",
    "#     cond = gknn.data < dist\n",
    "#     adj = sparse.coo_matrix(\n",
    "#         ([1]*cond.sum(), (gknn.row[cond], gknn.col[cond])), \n",
    "#         shape=gknn.shape,\n",
    "#     )\n",
    "#     grh = ig.Graph.Adjacency(adj)\n",
    "#     nmax = grh.clusters().giant().vcount()\n",
    "#     res.append(nmax)\n",
    "#     print(dist, nmax, nmax/N)\n",
    "\n",
    "# visualization\n",
    "# plt.plot(dists, np.array(res), '-o')\n",
    "# # plt.yscale('log')"
   ]
  }
 ],
 "metadata": {
  "kernelspec": {
   "display_name": "Python 3 (ipykernel)",
   "language": "python",
   "name": "python3"
  },
  "language_info": {
   "codemirror_mode": {
    "name": "ipython",
    "version": 3
   },
   "file_extension": ".py",
   "mimetype": "text/x-python",
   "name": "python",
   "nbconvert_exporter": "python",
   "pygments_lexer": "ipython3",
   "version": "3.10.2"
  }
 },
 "nbformat": 4,
 "nbformat_minor": 5
}
