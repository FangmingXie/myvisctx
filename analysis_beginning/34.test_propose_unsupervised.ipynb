{
 "cells": [
  {
   "cell_type": "markdown",
   "id": "1bf658eb-8bdf-465d-ab25-29dd59f235e5",
   "metadata": {},
   "source": [
    "# Load data"
   ]
  },
  {
   "cell_type": "code",
   "execution_count": 1,
   "id": "35d86e2c-7ded-48a9-9c1a-35708b1bfc49",
   "metadata": {},
   "outputs": [],
   "source": [
    "import numpy as np\n",
    "import pandas as pd\n",
    "import anndata\n",
    "import os\n",
    "import torch\n",
    "import pickle\n",
    "import numpy as np\n",
    "import torch.nn as nn\n",
    "from torch.utils.data import DataLoader\n",
    "import matplotlib.pyplot as plt\n",
    "\n",
    "import sys\n",
    "sys.path.insert(0, \"/bigstore/GeneralStorage/fangming/projects/visctx/propose\")\n",
    "# from dredFISH.Utils import powerplots\n",
    "from propose import PROPOSE, HurdleLoss, ExpressionDataset\n",
    "from propose import models, Accuracy"
   ]
  },
  {
   "cell_type": "code",
   "execution_count": null,
   "id": "bfd89a1f-611d-442b-946f-422edcb5fa51",
   "metadata": {},
   "outputs": [],
   "source": [
    "# Set up GPU device (use torchgpu on blue)\n",
    "# device = torch.device('cuda', 0) #'cpu' #torch.device('cuda', 5)\n",
    "device = torch.device('cpu')\n",
    "\n",
    "# Number of genes to select\n",
    "num_genes = [200, 300, 400, 500, 600] \n",
    "\n",
    "ddir = '/bigstore/GeneralStorage/fangming/projects/visctx/data_dump/counts/'\n",
    "f = os.path.join(ddir, \"P38_1a2a_glut.h5ad\")\n",
    "\n",
    "study = \"merfish_L234_allgenes_unsupervised_oct13\"\n",
    "resdir = '/bigstore/GeneralStorage/fangming/projects/visctx/data_dump/test_propose'\n",
    "output_res = os.path.join(resdir, f'res_{study}.pkl')\n",
    "output_eval = os.path.join(resdir, f'eval_{study}.pkl')\n",
    "output_fig = os.path.join(resdir, f\"fig_{study}.pdf\")\n",
    "\n",
    "adata = anndata.read(f)\n",
    "\n",
    "raw = np.asarray(adata.X.todense())\n",
    "cpm = (raw/raw.sum(axis=1).reshape(-1,1))*1e6\n",
    "gene_names = adata.var.index.values\n",
    "\n",
    "# Generate logarithmized and binarized data\n",
    "binary = (raw > 0).astype(np.float32)\n",
    "log = np.log(1 + raw)\n",
    "logcpm = np.log(1 + cpm)\n",
    "\n",
    "# For data splitting\n",
    "n = len(raw)\n",
    "n_train = int(0.8 * n)\n",
    "n_test = int(0.1 * n)\n",
    "all_rows = np.arange(n)\n",
    "np.random.seed(0)\n",
    "np.random.shuffle(all_rows)\n",
    "train_inds = all_rows[:n_train]\n",
    "val_inds = all_rows[n_train:-n_test]\n",
    "test_inds = all_rows[-n_test:]\n",
    "print(f'{n} total examples, {len(train_inds)} training examples, {len(val_inds)} validation examples, {len(test_inds)} test examples')\n"
   ]
  },
  {
   "cell_type": "code",
   "execution_count": 9,
   "id": "f723348a-705a-4c06-81e4-cf79909bec39",
   "metadata": {},
   "outputs": [],
   "source": [
    "# Set up datasets\n",
    "train_dataset = ExpressionDataset(binary[train_inds], logcpm[train_inds])\n",
    "val_dataset = ExpressionDataset(binary[val_inds], logcpm[val_inds])\n",
    "test_dataset = ExpressionDataset(binary[test_inds], logcpm[test_inds])"
   ]
  },
  {
   "cell_type": "code",
   "execution_count": 12,
   "id": "3b9c327b-130d-41dc-a263-34a3bff80df5",
   "metadata": {},
   "outputs": [
    {
     "name": "stdout",
     "output_type": "stream",
     "text": [
      "using HurdleLoss, starting with lam = 0.01\n"
     ]
    },
    {
     "data": {
      "application/vnd.jupyter.widget-view+json": {
       "model_id": "324c465c2ae249bc8b0515f252ad2339",
       "version_major": 2,
       "version_minor": 0
      },
      "text/plain": [
       "Training epochs:   0%|          | 0/500 [00:00<?, ?it/s]"
      ]
     },
     "metadata": {},
     "output_type": "display_data"
    },
    {
     "name": "stdout",
     "output_type": "stream",
     "text": [
      "lam = 0.010000 yielded 10000 genes\n",
      "Warm starting model for next iteration\n",
      "next attempt is lam = 0.100000\n"
     ]
    },
    {
     "data": {
      "application/vnd.jupyter.widget-view+json": {
       "model_id": "af1055fdb86a44479588546902e12dd6",
       "version_major": 2,
       "version_minor": 0
      },
      "text/plain": [
       "Training epochs:   0%|          | 0/500 [00:00<?, ?it/s]"
      ]
     },
     "metadata": {},
     "output_type": "display_data"
    },
    {
     "name": "stdout",
     "output_type": "stream",
     "text": [
      "lam = 0.100000 yielded 6914 genes\n",
      "Warm starting model for next iteration\n",
      "next attempt is lam = 1.000000\n"
     ]
    },
    {
     "data": {
      "application/vnd.jupyter.widget-view+json": {
       "model_id": "a7e2db422c7a4db1920a63ea87c5e11c",
       "version_major": 2,
       "version_minor": 0
      },
      "text/plain": [
       "Training epochs:   0%|          | 0/500 [00:00<?, ?it/s]"
      ]
     },
     "metadata": {},
     "output_type": "display_data"
    },
    {
     "name": "stdout",
     "output_type": "stream",
     "text": [
      "lam = 1.000000 yielded 495 genes\n",
      "done, lam = 1.000000 yielded 495 genes\n"
     ]
    },
    {
     "data": {
      "application/vnd.jupyter.widget-view+json": {
       "model_id": "1f464c398dbd4c85be3b08870e124b27",
       "version_major": 2,
       "version_minor": 0
      },
      "text/plain": [
       "Training epochs:   0%|          | 0/500 [00:00<?, ?it/s]"
      ]
     },
     "metadata": {},
     "output_type": "display_data"
    },
    {
     "name": "stdout",
     "output_type": "stream",
     "text": [
      "done, selected 32 genes\n"
     ]
    },
    {
     "data": {
      "application/vnd.jupyter.widget-view+json": {
       "model_id": "1354809243e54068857eb33be08a0632",
       "version_major": 2,
       "version_minor": 0
      },
      "text/plain": [
       "Training epochs:   0%|          | 0/500 [00:00<?, ?it/s]"
      ]
     },
     "metadata": {},
     "output_type": "display_data"
    },
    {
     "name": "stdout",
     "output_type": "stream",
     "text": [
      "done, selected 64 genes\n"
     ]
    },
    {
     "data": {
      "application/vnd.jupyter.widget-view+json": {
       "model_id": "f1f97be981664ac794b131a9844a1ee3",
       "version_major": 2,
       "version_minor": 0
      },
      "text/plain": [
       "Training epochs:   0%|          | 0/500 [00:00<?, ?it/s]"
      ]
     },
     "metadata": {},
     "output_type": "display_data"
    },
    {
     "name": "stdout",
     "output_type": "stream",
     "text": [
      "done, selected 128 genes\n"
     ]
    }
   ],
   "source": [
    "\n",
    "# Set up selector\n",
    "propose_results = {}\n",
    "selector = PROPOSE(train_dataset,\n",
    "                   val_dataset,\n",
    "                   loss_fn=HurdleLoss(),\n",
    "                   device=device,\n",
    "                   hidden=[128, 128])\n",
    "\n",
    "# Eliminate many candidates\n",
    "candidates, model = selector.eliminate(target=1000, mbsize=32, max_nepochs=100, tol=0.3)\n",
    "\n",
    "for num in num_genes:\n",
    "    # Select specific number of genes\n",
    "    inds, model = selector.select(num_genes=num, mbsize=128, max_nepochs=500)\n",
    "    ### hack to prevent duplicated genes (very rare but exists)\n",
    "    inds = np.unique(inds)\n",
    "    num = len(inds)\n",
    "    propose_results[num] = inds\n",
    "\n",
    "# Save results\n",
    "with open(output_res, 'wb') as f:\n",
    "    pickle.dump(propose_results, f)"
   ]
  },
  {
   "cell_type": "code",
   "execution_count": 28,
   "id": "34ae1a9c-0d27-417a-8f96-650916306c2b",
   "metadata": {},
   "outputs": [],
   "source": [
    "num_genes = list(propose_results.keys())\n",
    "# Dictionary of methods\n",
    "methods = {\n",
    "    'PROPOSE': propose_results,\n",
    "}\n",
    "# Dictionary of results\n",
    "results = {name: {} for name in methods}"
   ]
  },
  {
   "cell_type": "code",
   "execution_count": 29,
   "id": "e317e6e7-aede-4858-8e71-f1ccc459977f",
   "metadata": {},
   "outputs": [],
   "source": [
    "# Fit models\n",
    "for name in methods:\n",
    "    for num in num_genes:\n",
    "        # Get inds\n",
    "        inds = methods[name][num]\n",
    "        \n",
    "        # Set up datasets\n",
    "        train_dataset.set_inds(inds)\n",
    "        val_dataset.set_inds(inds)\n",
    "        test_dataset.set_inds(inds)\n",
    "        \n",
    "        # Train model\n",
    "        model = models.MLP(\n",
    "            input_size=num,\n",
    "            output_size=train_dataset.output_size,\n",
    "            hidden=[128, 128]).to(device)\n",
    "        model.fit(\n",
    "            train_dataset,\n",
    "            val_dataset,\n",
    "            mbsize=512,\n",
    "            max_nepochs=500,\n",
    "            loss_fn=MSELoss(),\n",
    "            verbose=False)\n",
    "\n",
    "        # Validation performance\n",
    "        test_mse = model.validate(DataLoader(test_dataset, batch_size=1024), MSELoss()).item()\n",
    "        results[name][num] = test_mse"
   ]
  },
  {
   "cell_type": "code",
   "execution_count": 30,
   "id": "606e8bdd-7d22-4c73-847e-531d03b7c180",
   "metadata": {},
   "outputs": [],
   "source": [
    "# Save results\n",
    "with open(output_eval, 'wb') as f:\n",
    "    pickle.dump(results, f)"
   ]
  }
 ],
 "metadata": {
  "kernelspec": {
   "display_name": "Python 3 (ipykernel)",
   "language": "python",
   "name": "python3"
  },
  "language_info": {
   "codemirror_mode": {
    "name": "ipython",
    "version": 3
   },
   "file_extension": ".py",
   "mimetype": "text/x-python",
   "name": "python",
   "nbconvert_exporter": "python",
   "pygments_lexer": "ipython3",
   "version": "3.10.2"
  }
 },
 "nbformat": 4,
 "nbformat_minor": 5
}
