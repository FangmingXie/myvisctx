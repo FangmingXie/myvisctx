{
 "cells": [
  {
   "cell_type": "code",
   "execution_count": 1,
   "id": "f1f450c8-20a1-4745-9449-dd52c10a4e94",
   "metadata": {},
   "outputs": [],
   "source": [
    "import os\n",
    "import numpy as np\n",
    "import pandas as pd\n",
    "from scipy import sparse\n",
    "import anndata\n",
    "from scroutines import basicu"
   ]
  },
  {
   "cell_type": "code",
   "execution_count": 2,
   "id": "4130a03d-54dc-4a68-a20c-9a0c084ed212",
   "metadata": {},
   "outputs": [],
   "source": [
    "ddir = '../data/cheng21_cell_scrna/organized/'\n",
    "files = [\n",
    "    'P8NR.h5ad',\n",
    "    'P14NR.h5ad',\n",
    "    'P17NR.h5ad',\n",
    "    'P21NR.h5ad',\n",
    "    'P28NR.h5ad',\n",
    "    'P38NR.h5ad',\n",
    "    \n",
    "    'P28DR.h5ad',\n",
    "    'P38DR.h5ad',\n",
    "    \n",
    "    'P28DL.h5ad',\n",
    "] "
   ]
  },
  {
   "cell_type": "code",
   "execution_count": 3,
   "id": "f688a0b4-e56e-451c-9aa6-a93a339a0f12",
   "metadata": {
    "tags": []
   },
   "outputs": [
    {
     "name": "stdout",
     "output_type": "stream",
     "text": [
      "AnnData object with n_obs × n_vars = 16747 × 53801 backed at '../data/cheng21_cell_scrna/organized/P8NR.h5ad'\n",
      "    obs: 'Age', 'Class_broad', 'Doublet', 'Doublet Score', 'batch', 'cluster', 'leiden', 'n_counts', 'n_genes', 'percent_mito', 'sample', 'subclass', 'C26_decision', 'layer', 'Type', 'Subclass', 'leiden_new', 'P28_Type'\n",
      "AnnData object with n_obs × n_vars = 31772 × 53801 backed at '../data/cheng21_cell_scrna/organized/P14NR.h5ad'\n",
      "    obs: 'batch', 'n_genes', 'percent_mito', 'n_counts', 'leiden', 'Doublet', 'Doublet Score', 'cluster', 'Class_broad', 'sample', 'Age', 'subclass', 'layer', 'Type', 'Subclass', 'P28_Type'\n",
      "AnnData object with n_obs × n_vars = 29153 × 53801 backed at '../data/cheng21_cell_scrna/organized/P17NR.h5ad'\n",
      "    obs: 'batch', 'n_genes', 'percent_mito', 'n_counts', 'leiden', 'Doublet', 'Doublet Score', 'cluster', 'Class_broad', 'sample', 'Age', 'subclass', 'layer', 'Type', 'Subclass'\n",
      "AnnData object with n_obs × n_vars = 26123 × 53801 backed at '../data/cheng21_cell_scrna/organized/P21NR.h5ad'\n",
      "    obs: 'batch', 'n_genes', 'percent_mito', 'n_counts', 'leiden', 'Doublet', 'Doublet Score', 'cluster', 'Class_broad', 'sample', 'Age', 'subclass', 'layer', 'Type', 'Subclass'\n",
      "AnnData object with n_obs × n_vars = 23930 × 53801 backed at '../data/cheng21_cell_scrna/organized/P28NR.h5ad'\n",
      "    obs: 'batch', 'n_genes', 'percent_mito', 'n_counts', 'leiden', 'Doublet', 'Doublet Score', 'cluster', 'Class_broad', 'sample', 'Age', 'subclass', 'sample_new', 'layer', 'Type', 'Subclass'\n",
      "AnnData object with n_obs × n_vars = 16997 × 53801 backed at '../data/cheng21_cell_scrna/organized/P38NR.h5ad'\n",
      "    obs: 'batch', 'n_genes', 'percent_mito', 'n_counts', 'leiden', 'Doublet', 'Doublet Score', 'cluster', 'Class_broad', 'sample', 'Age', 'subclass', 'layer', 'Type', 'Subclass'\n",
      "AnnData object with n_obs × n_vars = 24815 × 53801 backed at '../data/cheng21_cell_scrna/organized/P28DR.h5ad'\n",
      "    obs: 'n_genes', 'percent_mito', 'n_counts', 'Doublet', 'Doublet Score', 'batch', 'leiden', 'sample', 'layer', 'cluster', 'Type', 'Subclass', 'Class_broad'\n",
      "AnnData object with n_obs × n_vars = 25667 × 53801 backed at '../data/cheng21_cell_scrna/organized/P38DR.h5ad'\n",
      "    obs: 'n_genes', 'percent_mito', 'n_counts', 'Doublet', 'Doublet Score', 'batch', 'leiden', 'sample', 'cluster', 'Type', 'Subclass', 'Class_broad'\n",
      "AnnData object with n_obs × n_vars = 26575 × 53801 backed at '../data/cheng21_cell_scrna/organized/P28DL.h5ad'\n",
      "    obs: 'n_genes', 'percent_mito', 'n_counts', 'Doublet', 'Doublet Score', 'batch', 'leiden', 'sample', 'Type', 'Subclass', 'Class_broad'\n"
     ]
    }
   ],
   "source": [
    "for f in files:\n",
    "    path = os.path.join(ddir, f)\n",
    "    adata = anndata.read(path, backed='r')\n",
    "    print(adata)\n",
    "    # break"
   ]
  },
  {
   "cell_type": "code",
   "execution_count": null,
   "id": "794929f3-6469-4cce-b19e-698ef6366cce",
   "metadata": {},
   "outputs": [],
   "source": []
  }
 ],
 "metadata": {
  "kernelspec": {
   "display_name": "Python 3 (ipykernel)",
   "language": "python",
   "name": "python3"
  },
  "language_info": {
   "codemirror_mode": {
    "name": "ipython",
    "version": 3
   },
   "file_extension": ".py",
   "mimetype": "text/x-python",
   "name": "python",
   "nbconvert_exporter": "python",
   "pygments_lexer": "ipython3",
   "version": "3.8.16"
  }
 },
 "nbformat": 4,
 "nbformat_minor": 5
}
