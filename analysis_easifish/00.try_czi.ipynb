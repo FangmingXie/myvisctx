{
 "cells": [
  {
   "cell_type": "code",
   "execution_count": 1,
   "id": "c0bd2b2e-5198-4f79-8a30-5ed31a28ab71",
   "metadata": {
    "tags": []
   },
   "outputs": [],
   "source": [
    "from czifile import CziFile"
   ]
  },
  {
   "cell_type": "code",
   "execution_count": 2,
   "id": "cf27ed24-aed6-4b42-8d12-ef0575283ac5",
   "metadata": {
    "tags": []
   },
   "outputs": [],
   "source": [
    "with CziFile('/scr/qlyu/projects/v1/multifish/trial_FX/inputs/LHA3_R3_tiny_V01.czi') as czi:\n",
    "    img = czi.asarray()"
   ]
  },
  {
   "cell_type": "code",
   "execution_count": 3,
   "id": "03383f4d-c456-427f-90c5-d219f1c0e705",
   "metadata": {
    "tags": []
   },
   "outputs": [
    {
     "data": {
      "text/plain": [
       "(1, 1, 1, 1, 1, 1, 2, 151, 920, 660, 1)"
      ]
     },
     "execution_count": 3,
     "metadata": {},
     "output_type": "execute_result"
    }
   ],
   "source": [
    "img.shape"
   ]
  },
  {
   "cell_type": "code",
   "execution_count": 4,
   "id": "ca87dc72-97c4-456a-9cea-e4ee4af88d3c",
   "metadata": {
    "tags": []
   },
   "outputs": [],
   "source": [
    "a = img[0,0,0,0,0,0,0,:,:,:,0]"
   ]
  },
  {
   "cell_type": "code",
   "execution_count": 5,
   "id": "0c904f86-d308-4841-bcfe-19e8ec553d9a",
   "metadata": {
    "tags": []
   },
   "outputs": [],
   "source": [
    "b = img[0,0,0,0,0,0,1,:,:,:,0]"
   ]
  },
  {
   "cell_type": "code",
   "execution_count": 6,
   "id": "6f480b35-f8a1-4934-89d6-c620bce14d54",
   "metadata": {
    "tags": []
   },
   "outputs": [
    {
     "data": {
      "text/plain": [
       "((151, 920, 660), (151, 920, 660))"
      ]
     },
     "execution_count": 6,
     "metadata": {},
     "output_type": "execute_result"
    }
   ],
   "source": [
    "a.shape, b.shape"
   ]
  },
  {
   "cell_type": "code",
   "execution_count": 7,
   "id": "13de395e-55f3-4666-b539-48076029a88f",
   "metadata": {
    "tags": []
   },
   "outputs": [],
   "source": [
    "c = \"/scr/qlyu/projects/v1/multifish/trial_FX/inputs/LHA3_R3_tiny.mvl\""
   ]
  },
  {
   "cell_type": "code",
   "execution_count": 8,
   "id": "31e24835-adb0-4450-8140-d4d03040eec2",
   "metadata": {
    "tags": []
   },
   "outputs": [
    {
     "name": "stdout",
     "output_type": "stream",
     "text": [
      "<?xml version=\"1.0\" encoding=\"UTF-8\" standalone=\"yes\"?>\n",
      "<MultiViewList>\n",
      "  <Comment>\n",
      "    <!--Positionlist for ZEN Multiview.-->\n",
      "  </Comment>\n",
      "  <Data ListName=\"MultiViewList\">\n",
      "    <Entry0 PositionX=\"398.811\" PositionY=\"16317.36\" PositionZ=\"-2584.986\" PositionR=\"9.988056\" StackRange=\"63.235\" StackSlices=\"151\" StackStepSize=\"0.421567\" AcquisitionCameraFormat=\"0\" AcquisitionZoom=\"1\" AcquisitionFrameX=\"0\" AcquisitionFrameY=\"0\" AcquisitionFrameWidth=\"660\" AcquisitionFrameHeight=\"920\" Group=\"1\">\n",
      "      <Track1 LightSheetOffsetLeft=\"-0.46296\" LightSheetOffsetRight=\"0.46846\" LightSheetOffsetLeftUI=\"-1.99\" LightSheetOffsetRightUI=\"-0.95\">\n",
      "        <LaserLines>\n",
      "          <Line1 Line=\"488\" Power=\"8\" />\n",
      "        </LaserLines>\n",
      "      </Track1>\n",
      "      <Track2 LightSheetOffsetLeft=\"-0.46404\" LightSheetOffsetRight=\"0.46724\" LightSheetOffsetLeftUI=\"-1.57\" LightSheetOffsetRightUI=\"-4.33\">\n",
      "        <LaserLines>\n",
      "          <Line1 Line=\"405\" Power=\"4\" />\n",
      "        </LaserLines>\n",
      "      </Track2>\n",
      "    </Entry0>\n",
      "    <Entry1 PositionX=\"286.171\" PositionY=\"16317.36\" PositionZ=\"-2584.986\" PositionR=\"9.988056\" StackRange=\"63.235\" StackSlices=\"151\" StackStepSize=\"0.421567\" AcquisitionCameraFormat=\"0\" AcquisitionZoom=\"1\" AcquisitionFrameX=\"0\" AcquisitionFrameY=\"0\" AcquisitionFrameWidth=\"660\" AcquisitionFrameHeight=\"920\" Group=\"1\">\n",
      "      <Track1 LightSheetOffsetLeft=\"-0.46296\" LightSheetOffsetRight=\"0.46846\" LightSheetOffsetLeftUI=\"-1.99\" LightSheetOffsetRightUI=\"-0.95\">\n",
      "        <LaserLines>\n",
      "          <Line1 Line=\"488\" Power=\"8\" />\n",
      "        </LaserLines>\n",
      "      </Track1>\n",
      "      <Track2 LightSheetOffsetLeft=\"-0.46404\" LightSheetOffsetRight=\"0.46724\" LightSheetOffsetLeftUI=\"-1.57\" LightSheetOffsetRightUI=\"-4.33\">\n",
      "        <LaserLines>\n",
      "          <Line1 Line=\"405\" Power=\"4\" />\n",
      "        </LaserLines>\n",
      "      </Track2>\n",
      "    </Entry1>\n",
      "  </Data>\n",
      "</MultiViewList>"
     ]
    }
   ],
   "source": [
    "!cat $c"
   ]
  },
  {
   "cell_type": "code",
   "execution_count": null,
   "id": "eba2915e-ed9b-4f5b-bf08-d687933a3ee5",
   "metadata": {},
   "outputs": [],
   "source": []
  }
 ],
 "metadata": {
  "kernelspec": {
   "display_name": "Python 3 (ipykernel)",
   "language": "python",
   "name": "python3"
  },
  "language_info": {
   "codemirror_mode": {
    "name": "ipython",
    "version": 3
   },
   "file_extension": ".py",
   "mimetype": "text/x-python",
   "name": "python",
   "nbconvert_exporter": "python",
   "pygments_lexer": "ipython3",
   "version": "3.8.16"
  }
 },
 "nbformat": 4,
 "nbformat_minor": 5
}
