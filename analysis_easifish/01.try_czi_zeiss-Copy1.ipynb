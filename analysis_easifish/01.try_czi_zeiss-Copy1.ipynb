{
 "cells": [
  {
   "cell_type": "code",
   "execution_count": 1,
   "id": "c0bd2b2e-5198-4f79-8a30-5ed31a28ab71",
   "metadata": {
    "tags": []
   },
   "outputs": [
    {
     "name": "stderr",
     "output_type": "stream",
     "text": [
      "/home/qlyu/mambaforge/envs/czi2/lib/python3.9/site-packages/tqdm/auto.py:21: TqdmWarning: IProgress not found. Please update jupyter and ipywidgets. See https://ipywidgets.readthedocs.io/en/stable/user_install.html\n",
      "  from .autonotebook import tqdm as notebook_tqdm\n"
     ]
    }
   ],
   "source": [
    "import os\n",
    "import skimage \n",
    "import numpy as np\n",
    "from tqdm import tqdm\n",
    "from tqdm.contrib import itertools as it\n",
    "\n",
    "from pylibCZIrw import czi as pyczi\n",
    "from cztile.fixed_total_area_strategy import AlmostEqualBorderFixedTotalAreaStrategy2D\n",
    "\n",
    "\n",
    "import matplotlib.pyplot as plt\n",
    "# from scroutines.config_plots import *"
   ]
  },
  {
   "cell_type": "code",
   "execution_count": 2,
   "id": "cf27ed24-aed6-4b42-8d12-ef0575283ac5",
   "metadata": {
    "tags": []
   },
   "outputs": [],
   "source": [
    "\n",
    "ddir = '/scr/qlyu/projects/v1/data/multifish_demo_tiny/inputs'\n",
    "f_r3v1 = os.path.join(ddir, 'LHA3_R3_tiny_V01.czi') \n",
    "f_r3v2 = os.path.join(ddir, 'LHA3_R3_tiny_V02.czi') \n",
    "f_r5v1 = os.path.join(ddir, 'LHA3_R5_tiny_V01.czi') \n",
    "f_r5v2 = os.path.join(ddir, 'LHA3_R5_tiny_V02.czi') \n",
    "\n",
    "f_r3m  = os.path.join(ddir, 'LHA3_R3_tiny.mvl') \n",
    "f_r5m  = os.path.join(ddir, 'LHA3_R5_tiny.mvl') \n"
   ]
  },
  {
   "cell_type": "code",
   "execution_count": 3,
   "id": "1bdcb9c4-4282-4029-8093-69a4014a0c8f",
   "metadata": {
    "tags": []
   },
   "outputs": [],
   "source": [
    "f_all = [\n",
    "    os.path.join(ddir, 'LHA3_R3_tiny_V01.czi'),\n",
    "    os.path.join(ddir, 'LHA3_R3_tiny_V02.czi'), \n",
    "    os.path.join(ddir, 'LHA3_R5_tiny_V01.czi'),\n",
    "    os.path.join(ddir, 'LHA3_R5_tiny_V02.czi'),\n",
    "]"
   ]
  },
  {
   "cell_type": "code",
   "execution_count": 4,
   "id": "cefba340-f9cc-4364-a484-c18705820750",
   "metadata": {},
   "outputs": [],
   "source": [
    "def tile_one_file(f_src, f_dst_all=[]):\n",
    "    # create a \"tile\" \n",
    "    tiler = AlmostEqualBorderFixedTotalAreaStrategy2D(\n",
    "        total_tile_width=350,\n",
    "        total_tile_height=500,\n",
    "        min_border_width=10,\n",
    "    )\n",
    "\n",
    "    # create CZI instance to read some metadata \n",
    "    with pyczi.open_czi(f_src) as czidoc_r:\n",
    "\n",
    "        # get the size of the bounding rectange for the scence\n",
    "        print(czidoc_r.total_bounding_box)\n",
    "        print(czidoc_r.total_bounding_rectangle)\n",
    "        print(czidoc_r.scenes_bounding_rectangle)\n",
    "        bbox = czidoc_r.total_bounding_box\n",
    "        numZ, numC = bbox['Z'][1], bbox['C'][1]\n",
    "        tiles = tiler.tile_rectangle(czidoc_r.scenes_bounding_rectangle[0])\n",
    "\n",
    "    # show the created tile locations\n",
    "    for i, tile in enumerate(tiles):\n",
    "        print(tile.roi)\n",
    "        outdir = os.path.join(ddir, f't{i}')\n",
    "        if not os.path.isdir(outdir):\n",
    "            os.mkdir(outdir)\n",
    "        f_dst = os.path.join(outdir, os.path.basename(f_src)) #.replace('.czi', f'_t{i}.czi'))\n",
    "        f_dst_all.append(f_dst)\n",
    "\n",
    "    with pyczi.open_czi(f_src) as czidoc_r:\n",
    "        # loop over all tiles \n",
    "        for i, tile in enumerate(tiles):\n",
    "            f_dst = f_dst_all[i]\n",
    "            print(f\"tile {i}, {f_dst}\")\n",
    "            with pyczi.create_czi(f_dst, exist_ok=True) as czidoc_w:\n",
    "                for z, c in it.product(range(numZ), range(numC)):\n",
    "                    plane = {'Z': z, 'C': c}\n",
    "\n",
    "                    # read and write plane by plane for the same tile\n",
    "                    tile2d = czidoc_r.read(\n",
    "                        plane=plane,\n",
    "                        roi=(\n",
    "                            tile.roi.x,\n",
    "                            tile.roi.y,\n",
    "                            tile.roi.w,\n",
    "                            tile.roi.h\n",
    "                        )\n",
    "                    )\n",
    "                    czidoc_w.write(\n",
    "                        tile2d,\n",
    "                        plane=plane,\n",
    "                        location=(\n",
    "                            tile.roi.x,\n",
    "                            tile.roi.y\n",
    "                        )\n",
    "                    )"
   ]
  },
  {
   "cell_type": "code",
   "execution_count": 5,
   "id": "146b8adc-42c6-4ffb-a804-aacc6c6c8300",
   "metadata": {
    "tags": []
   },
   "outputs": [
    {
     "name": "stdout",
     "output_type": "stream",
     "text": [
      ".....processing: /scr/qlyu/projects/v1/data/multifish_demo_tiny/inputs/LHA3_R3_tiny_V01.czi.............\n",
      "{'T': (0, 1), 'Z': (0, 151), 'C': (0, 2), 'R': (0, 1), 'I': (0, 1), 'H': (0, 1), 'V': (0, 1), 'X': (0, 660), 'Y': (0, 920)}\n",
      "Rectangle(x=0, y=0, w=660, h=920)\n",
      "{0: Rectangle(x=0, y=0, w=660, h=920)}\n",
      "Rectangle(x=0, y=0, w=350, h=500)\n",
      "Rectangle(x=0, y=420, w=350, h=500)\n",
      "Rectangle(x=310, y=0, w=350, h=500)\n",
      "Rectangle(x=310, y=420, w=350, h=500)\n",
      "tile 0, /scr/qlyu/projects/v1/data/multifish_demo_tiny/inputs/t0/LHA3_R3_tiny_V01.czi\n"
     ]
    },
    {
     "name": "stderr",
     "output_type": "stream",
     "text": [
      "100%|██████████| 302/302 [00:00<00:00, 622.51it/s]\n"
     ]
    },
    {
     "name": "stdout",
     "output_type": "stream",
     "text": [
      "tile 1, /scr/qlyu/projects/v1/data/multifish_demo_tiny/inputs/t1/LHA3_R3_tiny_V01.czi\n"
     ]
    },
    {
     "name": "stderr",
     "output_type": "stream",
     "text": [
      "100%|██████████| 302/302 [00:00<00:00, 618.72it/s]\n"
     ]
    },
    {
     "name": "stdout",
     "output_type": "stream",
     "text": [
      "tile 2, /scr/qlyu/projects/v1/data/multifish_demo_tiny/inputs/t2/LHA3_R3_tiny_V01.czi\n"
     ]
    },
    {
     "name": "stderr",
     "output_type": "stream",
     "text": [
      "100%|██████████| 302/302 [00:00<00:00, 612.56it/s]\n"
     ]
    },
    {
     "name": "stdout",
     "output_type": "stream",
     "text": [
      "tile 3, /scr/qlyu/projects/v1/data/multifish_demo_tiny/inputs/t3/LHA3_R3_tiny_V01.czi\n"
     ]
    },
    {
     "name": "stderr",
     "output_type": "stream",
     "text": [
      "100%|██████████| 302/302 [00:00<00:00, 600.70it/s]\n"
     ]
    },
    {
     "name": "stdout",
     "output_type": "stream",
     "text": [
      ".....processing: /scr/qlyu/projects/v1/data/multifish_demo_tiny/inputs/LHA3_R3_tiny_V02.czi.............\n",
      "{'T': (0, 1), 'Z': (0, 151), 'C': (0, 2), 'R': (0, 1), 'I': (0, 1), 'H': (0, 1), 'V': (0, 1), 'X': (0, 660), 'Y': (0, 920)}\n",
      "Rectangle(x=0, y=0, w=660, h=920)\n",
      "{0: Rectangle(x=0, y=0, w=660, h=920)}\n",
      "Rectangle(x=0, y=0, w=350, h=500)\n",
      "Rectangle(x=0, y=420, w=350, h=500)\n",
      "Rectangle(x=310, y=0, w=350, h=500)\n",
      "Rectangle(x=310, y=420, w=350, h=500)\n",
      "tile 0, /scr/qlyu/projects/v1/data/multifish_demo_tiny/inputs/t0/LHA3_R3_tiny_V02.czi\n"
     ]
    },
    {
     "name": "stderr",
     "output_type": "stream",
     "text": [
      "100%|██████████| 302/302 [00:00<00:00, 613.75it/s]\n"
     ]
    },
    {
     "name": "stdout",
     "output_type": "stream",
     "text": [
      "tile 1, /scr/qlyu/projects/v1/data/multifish_demo_tiny/inputs/t1/LHA3_R3_tiny_V02.czi\n"
     ]
    },
    {
     "name": "stderr",
     "output_type": "stream",
     "text": [
      "100%|██████████| 302/302 [00:00<00:00, 623.47it/s]\n"
     ]
    },
    {
     "name": "stdout",
     "output_type": "stream",
     "text": [
      "tile 2, /scr/qlyu/projects/v1/data/multifish_demo_tiny/inputs/t2/LHA3_R3_tiny_V02.czi\n"
     ]
    },
    {
     "name": "stderr",
     "output_type": "stream",
     "text": [
      "100%|██████████| 302/302 [00:00<00:00, 616.49it/s]\n"
     ]
    },
    {
     "name": "stdout",
     "output_type": "stream",
     "text": [
      "tile 3, /scr/qlyu/projects/v1/data/multifish_demo_tiny/inputs/t3/LHA3_R3_tiny_V02.czi\n"
     ]
    },
    {
     "name": "stderr",
     "output_type": "stream",
     "text": [
      "100%|██████████| 302/302 [00:00<00:00, 624.14it/s]\n"
     ]
    },
    {
     "name": "stdout",
     "output_type": "stream",
     "text": [
      ".....processing: /scr/qlyu/projects/v1/data/multifish_demo_tiny/inputs/LHA3_R5_tiny_V01.czi.............\n",
      "{'T': (0, 1), 'Z': (0, 151), 'C': (0, 2), 'R': (0, 1), 'I': (0, 1), 'H': (0, 1), 'V': (0, 1), 'X': (0, 660), 'Y': (0, 920)}\n",
      "Rectangle(x=0, y=0, w=660, h=920)\n",
      "{0: Rectangle(x=0, y=0, w=660, h=920)}\n",
      "Rectangle(x=0, y=0, w=350, h=500)\n",
      "Rectangle(x=0, y=420, w=350, h=500)\n",
      "Rectangle(x=310, y=0, w=350, h=500)\n",
      "Rectangle(x=310, y=420, w=350, h=500)\n",
      "tile 0, /scr/qlyu/projects/v1/data/multifish_demo_tiny/inputs/t0/LHA3_R5_tiny_V01.czi\n"
     ]
    },
    {
     "name": "stderr",
     "output_type": "stream",
     "text": [
      "100%|██████████| 302/302 [00:00<00:00, 614.09it/s]\n"
     ]
    },
    {
     "name": "stdout",
     "output_type": "stream",
     "text": [
      "tile 1, /scr/qlyu/projects/v1/data/multifish_demo_tiny/inputs/t1/LHA3_R5_tiny_V01.czi\n"
     ]
    },
    {
     "name": "stderr",
     "output_type": "stream",
     "text": [
      "100%|██████████| 302/302 [00:00<00:00, 623.88it/s]\n"
     ]
    },
    {
     "name": "stdout",
     "output_type": "stream",
     "text": [
      "tile 2, /scr/qlyu/projects/v1/data/multifish_demo_tiny/inputs/t2/LHA3_R5_tiny_V01.czi\n"
     ]
    },
    {
     "name": "stderr",
     "output_type": "stream",
     "text": [
      "100%|██████████| 302/302 [00:00<00:00, 621.50it/s]\n"
     ]
    },
    {
     "name": "stdout",
     "output_type": "stream",
     "text": [
      "tile 3, /scr/qlyu/projects/v1/data/multifish_demo_tiny/inputs/t3/LHA3_R5_tiny_V01.czi\n"
     ]
    },
    {
     "name": "stderr",
     "output_type": "stream",
     "text": [
      "100%|██████████| 302/302 [00:00<00:00, 595.36it/s]\n"
     ]
    },
    {
     "name": "stdout",
     "output_type": "stream",
     "text": [
      ".....processing: /scr/qlyu/projects/v1/data/multifish_demo_tiny/inputs/LHA3_R5_tiny_V02.czi.............\n",
      "{'T': (0, 1), 'Z': (0, 151), 'C': (0, 2), 'R': (0, 1), 'I': (0, 1), 'H': (0, 1), 'V': (0, 1), 'X': (0, 660), 'Y': (0, 920)}\n",
      "Rectangle(x=0, y=0, w=660, h=920)\n",
      "{0: Rectangle(x=0, y=0, w=660, h=920)}\n",
      "Rectangle(x=0, y=0, w=350, h=500)\n",
      "Rectangle(x=0, y=420, w=350, h=500)\n",
      "Rectangle(x=310, y=0, w=350, h=500)\n",
      "Rectangle(x=310, y=420, w=350, h=500)\n",
      "tile 0, /scr/qlyu/projects/v1/data/multifish_demo_tiny/inputs/t0/LHA3_R5_tiny_V02.czi\n"
     ]
    },
    {
     "name": "stderr",
     "output_type": "stream",
     "text": [
      "100%|██████████| 302/302 [00:00<00:00, 613.98it/s]\n"
     ]
    },
    {
     "name": "stdout",
     "output_type": "stream",
     "text": [
      "tile 1, /scr/qlyu/projects/v1/data/multifish_demo_tiny/inputs/t1/LHA3_R5_tiny_V02.czi\n"
     ]
    },
    {
     "name": "stderr",
     "output_type": "stream",
     "text": [
      "100%|██████████| 302/302 [00:00<00:00, 623.09it/s]\n"
     ]
    },
    {
     "name": "stdout",
     "output_type": "stream",
     "text": [
      "tile 2, /scr/qlyu/projects/v1/data/multifish_demo_tiny/inputs/t2/LHA3_R5_tiny_V02.czi\n"
     ]
    },
    {
     "name": "stderr",
     "output_type": "stream",
     "text": [
      "100%|██████████| 302/302 [00:00<00:00, 605.12it/s]\n"
     ]
    },
    {
     "name": "stdout",
     "output_type": "stream",
     "text": [
      "tile 3, /scr/qlyu/projects/v1/data/multifish_demo_tiny/inputs/t3/LHA3_R5_tiny_V02.czi\n"
     ]
    },
    {
     "name": "stderr",
     "output_type": "stream",
     "text": [
      "100%|██████████| 302/302 [00:00<00:00, 593.92it/s]\n"
     ]
    }
   ],
   "source": [
    "for f_src in f_all:\n",
    "    print(f\".....processing: {f_src}.............\")        \n",
    "    tile_one_file(f_src, f_dst_all=[])"
   ]
  },
  {
   "cell_type": "code",
   "execution_count": null,
   "id": "5e32299b-ea94-487e-a41f-99131faeb429",
   "metadata": {},
   "outputs": [],
   "source": []
  }
 ],
 "metadata": {
  "kernelspec": {
   "display_name": "Python 3 (ipykernel)",
   "language": "python",
   "name": "python3"
  },
  "language_info": {
   "codemirror_mode": {
    "name": "ipython",
    "version": 3
   },
   "file_extension": ".py",
   "mimetype": "text/x-python",
   "name": "python",
   "nbconvert_exporter": "python",
   "pygments_lexer": "ipython3",
   "version": "3.9.16"
  }
 },
 "nbformat": 4,
 "nbformat_minor": 5
}
