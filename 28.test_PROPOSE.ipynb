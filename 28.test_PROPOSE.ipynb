{
 "cells": [
  {
   "cell_type": "markdown",
   "id": "1bf658eb-8bdf-465d-ab25-29dd59f235e5",
   "metadata": {},
   "source": [
    "# Load data"
   ]
  },
  {
   "cell_type": "code",
   "execution_count": 1,
   "id": "35d86e2c-7ded-48a9-9c1a-35708b1bfc49",
   "metadata": {},
   "outputs": [],
   "source": [
    "import numpy as np\n",
    "import pandas as pd\n",
    "import anndata\n",
    "import os"
   ]
  },
  {
   "cell_type": "code",
   "execution_count": 2,
   "id": "aaf9c624-b427-4d26-93dd-1daa575d10c3",
   "metadata": {},
   "outputs": [
    {
     "name": "stderr",
     "output_type": "stream",
     "text": [
      "/home/fangming/anaconda3/envs/routine/lib/python3.10/site-packages/anndata/_core/anndata.py:120: ImplicitModificationWarning: Transforming to str index.\n",
      "  warnings.warn(\"Transforming to str index.\", ImplicitModificationWarning)\n"
     ]
    },
    {
     "data": {
      "text/plain": [
       "AnnData object with n_obs × n_vars = 3751 × 53547\n",
       "    obs: 'cov', 'covfactor', 'batch', 'n_genes', 'percent_mito', 'n_counts', 'leiden', 'Doublet', 'Doublet Score', 'cluster', 'Class_broad', 'sample', 'Age', 'subclass', 'layer', 'Type', 'Subclass'\n",
       "    var: 'id'"
      ]
     },
     "execution_count": 2,
     "metadata": {},
     "output_type": "execute_result"
    }
   ],
   "source": [
    "ddir = '/bigstore/GeneralStorage/fangming/projects/visctx/data_dump/counts/'\n",
    "resdir = '/bigstore/GeneralStorage/fangming/projects/visctx/data_dump/test_propose'\n",
    "f = os.path.join(ddir, \"P38_1a2a_glut.h5ad\")\n",
    "adata = anndata.read(f)\n",
    "adata"
   ]
  },
  {
   "cell_type": "code",
   "execution_count": 3,
   "id": "72792fa4-7470-4e37-9a8d-7dbe847cb607",
   "metadata": {},
   "outputs": [
    {
     "data": {
      "text/plain": [
       "array([[ 0.,  0., 12., ...,  0.,  0.,  0.],\n",
       "       [ 0.,  0., 20., ...,  0.,  0.,  0.],\n",
       "       [ 0.,  0.,  8., ...,  0.,  0.,  0.],\n",
       "       ...,\n",
       "       [ 0.,  0., 10., ...,  0.,  0.,  0.],\n",
       "       [ 0.,  0.,  5., ...,  0.,  0.,  0.],\n",
       "       [ 0.,  0.,  3., ...,  0.,  0.,  0.]], dtype=float32)"
      ]
     },
     "execution_count": 3,
     "metadata": {},
     "output_type": "execute_result"
    }
   ],
   "source": [
    "raw = np.asarray(adata.X.todense())\n",
    "raw"
   ]
  },
  {
   "cell_type": "code",
   "execution_count": 4,
   "id": "ecf9ff01-2dd8-413d-a21d-46b2007bd9d7",
   "metadata": {},
   "outputs": [
    {
     "data": {
      "text/plain": [
       "array([[   0.     ,    0.     , 1411.2666 , ...,    0.     ,    0.     ,\n",
       "           0.     ],\n",
       "       [   0.     ,    0.     , 1475.2527 , ...,    0.     ,    0.     ,\n",
       "           0.     ],\n",
       "       [   0.     ,    0.     ,  495.84726, ...,    0.     ,    0.     ,\n",
       "           0.     ],\n",
       "       ...,\n",
       "       [   0.     ,    0.     ,  693.0487 , ...,    0.     ,    0.     ,\n",
       "           0.     ],\n",
       "       [   0.     ,    0.     ,  301.24112, ...,    0.     ,    0.     ,\n",
       "           0.     ],\n",
       "       [   0.     ,    0.     ,  304.94003, ...,    0.     ,    0.     ,\n",
       "           0.     ]], dtype=float32)"
      ]
     },
     "execution_count": 4,
     "metadata": {},
     "output_type": "execute_result"
    }
   ],
   "source": [
    "cpm = (raw/raw.sum(axis=1).reshape(-1,1))*1e6\n",
    "cpm"
   ]
  },
  {
   "cell_type": "code",
   "execution_count": 5,
   "id": "db94a1f3-c723-4fb4-90ac-bf9a362a2615",
   "metadata": {},
   "outputs": [
    {
     "data": {
      "text/plain": [
       "(AAACCCAAGTGACACG-1-P38_1a-P38    L2/3_B\n",
       " AAACGCTAGTACAGAT-1-P38_1a-P38      L4_C\n",
       " AAACGCTAGTGAGGCT-1-P38_1a-P38      L4_C\n",
       " AAACGCTGTATGGAAT-1-P38_1a-P38      L4_B\n",
       " AAAGAACAGTAGTCCT-1-P38_1a-P38      L4_C\n",
       "                                   ...  \n",
       " TTTGATCTCTACTGCC-1-P38_2a-P38      L4_B\n",
       " TTTGGAGTCACCTACC-1-P38_2a-P38    L2/3_A\n",
       " TTTGGTTCAAGCTCTA-1-P38_2a-P38    L2/3_C\n",
       " TTTGGTTCAGCTTTCC-1-P38_2a-P38    L2/3_A\n",
       " TTTGTTGAGATTGGGC-1-P38_2a-P38    L2/3_A\n",
       " Name: Type, Length: 3751, dtype: category\n",
       " Categories (10, object): ['L2/3_B', 'L4_A', 'L6CT_B', 'L4_B', ..., 'L4_C', 'L5PT_A', 'L2/3_A', 'L2/3_C'],\n",
       " array([0, 6, 6, ..., 9, 8, 8], dtype=int8))"
      ]
     },
     "execution_count": 5,
     "metadata": {},
     "output_type": "execute_result"
    }
   ],
   "source": [
    "gene_names = adata.var.index.values\n",
    "\n",
    "cell_types = adata.obs['Type']\n",
    "cell_types_num = pd.Categorical(cell_types).codes\n",
    "cell_types, cell_types_num"
   ]
  },
  {
   "cell_type": "code",
   "execution_count": 6,
   "id": "011f32bf-0e86-4829-b44f-3d7f463d27bb",
   "metadata": {},
   "outputs": [],
   "source": [
    "# Generate logarithmized and binarized data\n",
    "binary = (raw > 0).astype(np.float32)\n",
    "log = np.log(1 + raw)\n",
    "logcpm = np.log(1 + cpm)"
   ]
  },
  {
   "cell_type": "code",
   "execution_count": 7,
   "id": "3d90a8a0-ca83-49c7-9724-500eaad64a14",
   "metadata": {},
   "outputs": [
    {
     "name": "stdout",
     "output_type": "stream",
     "text": [
      "3751 total examples, 3000 training examples, 376 validation examples, 375 test examples\n"
     ]
    }
   ],
   "source": [
    "# For data splitting\n",
    "n = len(raw)\n",
    "n_train = int(0.8 * n)\n",
    "n_test = int(0.1 * n)\n",
    "all_rows = np.arange(n)\n",
    "np.random.seed(0)\n",
    "np.random.shuffle(all_rows)\n",
    "train_inds = all_rows[:n_train]\n",
    "val_inds = all_rows[n_train:-n_test]\n",
    "test_inds = all_rows[-n_test:]\n",
    "print(f'{n} total examples, {len(train_inds)} training examples, {len(val_inds)} validation examples, {len(test_inds)} test examples')"
   ]
  },
  {
   "cell_type": "markdown",
   "id": "69ac9e9e-5305-4f9f-99bc-bfcbaafc19a1",
   "metadata": {},
   "source": [
    "# Run PROPOSE for cell type classification"
   ]
  },
  {
   "cell_type": "code",
   "execution_count": 8,
   "id": "3d766536-f9f6-4e82-aedc-2ee06aeaf3b5",
   "metadata": {},
   "outputs": [],
   "source": [
    "import torch\n",
    "import pickle\n",
    "import numpy as np\n",
    "import torch.nn as nn\n",
    "from torch.utils.data import DataLoader\n",
    "import matplotlib.pyplot as plt\n",
    "\n",
    "import sys\n",
    "sys.path.insert(0, \"/bigstore/GeneralStorage/fangming/projects/visctx/propose\")\n",
    "from propose import PROPOSE, HurdleLoss, ExpressionDataset\n",
    "from propose import models, Accuracy"
   ]
  },
  {
   "cell_type": "code",
   "execution_count": 9,
   "id": "e0e2a58f-b95a-46d2-a058-67023174c1d2",
   "metadata": {},
   "outputs": [],
   "source": [
    "# Set up GPU device\n",
    "device = torch.device('cpu') #'cpu' #torch.device('cuda', 5)"
   ]
  },
  {
   "cell_type": "code",
   "execution_count": 10,
   "id": "7dae6048-608b-4bcb-9f90-90e9e3b4fc1c",
   "metadata": {},
   "outputs": [],
   "source": [
    "# # Make cell types numerical\n",
    "# cell_types = pd.Categorical(cell_types_98).codes\n",
    "\n",
    "# Set up datasets\n",
    "train_dataset = ExpressionDataset(binary[train_inds], cell_types_num[train_inds])\n",
    "val_dataset = ExpressionDataset(binary[val_inds], cell_types_num[val_inds])"
   ]
  },
  {
   "cell_type": "code",
   "execution_count": 15,
   "id": "d7f225da-900b-4f0c-afcd-a7583f951fdd",
   "metadata": {},
   "outputs": [],
   "source": [
    "# Number of genes to select\n",
    "num_genes = [16]\n",
    "propose_class_results = {}"
   ]
  },
  {
   "cell_type": "code",
   "execution_count": 12,
   "id": "cd4b53b8-e274-486c-98e4-e0af7114ec3b",
   "metadata": {},
   "outputs": [
    {
     "name": "stdout",
     "output_type": "stream",
     "text": [
      "using CrossEntropyLoss, starting with lam = 0.0001\n"
     ]
    },
    {
     "data": {
      "application/vnd.jupyter.widget-view+json": {
       "model_id": "b869856631e3480db03bbde612b14478",
       "version_major": 2,
       "version_minor": 0
      },
      "text/plain": [
       "Training epochs:   0%|          | 0/10 [00:00<?, ?it/s]"
      ]
     },
     "metadata": {},
     "output_type": "display_data"
    },
    {
     "name": "stdout",
     "output_type": "stream",
     "text": [
      "lam = 0.000100 yielded 53547 genes\n",
      "Warm starting model for next iteration\n",
      "next attempt is lam = 0.001000\n"
     ]
    },
    {
     "data": {
      "application/vnd.jupyter.widget-view+json": {
       "model_id": "96db5b62c1a546d3a0c0b9dda5bda5fa",
       "version_major": 2,
       "version_minor": 0
      },
      "text/plain": [
       "Training epochs:   0%|          | 0/10 [00:00<?, ?it/s]"
      ]
     },
     "metadata": {},
     "output_type": "display_data"
    },
    {
     "name": "stdout",
     "output_type": "stream",
     "text": [
      "lam = 0.001000 yielded 53547 genes\n",
      "Warm starting model for next iteration\n",
      "next attempt is lam = 0.010000\n"
     ]
    },
    {
     "data": {
      "application/vnd.jupyter.widget-view+json": {
       "model_id": "cd74e1867db94ac69ce8ef9586fffbc6",
       "version_major": 2,
       "version_minor": 0
      },
      "text/plain": [
       "Training epochs:   0%|          | 0/10 [00:00<?, ?it/s]"
      ]
     },
     "metadata": {},
     "output_type": "display_data"
    },
    {
     "name": "stdout",
     "output_type": "stream",
     "text": [
      "lam = 0.010000 yielded 53547 genes\n",
      "Warm starting model for next iteration\n",
      "next attempt is lam = 0.100000\n"
     ]
    },
    {
     "data": {
      "application/vnd.jupyter.widget-view+json": {
       "model_id": "911123badbd7402080108ae0ac766012",
       "version_major": 2,
       "version_minor": 0
      },
      "text/plain": [
       "Training epochs:   0%|          | 0/10 [00:00<?, ?it/s]"
      ]
     },
     "metadata": {},
     "output_type": "display_data"
    },
    {
     "name": "stdout",
     "output_type": "stream",
     "text": [
      "lam = 0.100000 yielded 53547 genes\n",
      "Warm starting model for next iteration\n",
      "next attempt is lam = 1.000000\n"
     ]
    },
    {
     "data": {
      "application/vnd.jupyter.widget-view+json": {
       "model_id": "91acc2453b7e4dcb9b876182afd4d106",
       "version_major": 2,
       "version_minor": 0
      },
      "text/plain": [
       "Training epochs:   0%|          | 0/10 [00:00<?, ?it/s]"
      ]
     },
     "metadata": {},
     "output_type": "display_data"
    },
    {
     "name": "stdout",
     "output_type": "stream",
     "text": [
      "lam = 1.000000 yielded 53547 genes\n",
      "Warm starting model for next iteration\n",
      "next attempt is lam = 10.000000\n"
     ]
    },
    {
     "data": {
      "application/vnd.jupyter.widget-view+json": {
       "model_id": "13e8f9688eed4cb0b1bd03132017214e",
       "version_major": 2,
       "version_minor": 0
      },
      "text/plain": [
       "Training epochs:   0%|          | 0/10 [00:00<?, ?it/s]"
      ]
     },
     "metadata": {},
     "output_type": "display_data"
    },
    {
     "name": "stdout",
     "output_type": "stream",
     "text": [
      "lam = 10.000000 yielded 53547 genes\n",
      "Warm starting model for next iteration\n",
      "next attempt is lam = 100.000000\n"
     ]
    },
    {
     "data": {
      "application/vnd.jupyter.widget-view+json": {
       "model_id": "9debe987d7ac47a584b4c533c69b77d5",
       "version_major": 2,
       "version_minor": 0
      },
      "text/plain": [
       "Training epochs:   0%|          | 0/10 [00:00<?, ?it/s]"
      ]
     },
     "metadata": {},
     "output_type": "display_data"
    },
    {
     "name": "stdout",
     "output_type": "stream",
     "text": [
      "lam = 100.000000 yielded 53547 genes\n",
      "Warm starting model for next iteration\n",
      "next attempt is lam = 1000.000000\n"
     ]
    },
    {
     "data": {
      "application/vnd.jupyter.widget-view+json": {
       "model_id": "e8c433a606f1454683529ceff3f5b173",
       "version_major": 2,
       "version_minor": 0
      },
      "text/plain": [
       "Training epochs:   0%|          | 0/10 [00:00<?, ?it/s]"
      ]
     },
     "metadata": {},
     "output_type": "display_data"
    },
    {
     "name": "stdout",
     "output_type": "stream",
     "text": [
      "lam = 1000.000000 yielded 53547 genes\n",
      "Warm starting model for next iteration\n",
      "next attempt is lam = 2977.333150\n"
     ]
    },
    {
     "data": {
      "application/vnd.jupyter.widget-view+json": {
       "model_id": "670cc5e06e6b43ec935f2313853acdf7",
       "version_major": 2,
       "version_minor": 0
      },
      "text/plain": [
       "Training epochs:   0%|          | 0/10 [00:00<?, ?it/s]"
      ]
     },
     "metadata": {},
     "output_type": "display_data"
    },
    {
     "name": "stdout",
     "output_type": "stream",
     "text": [
      "lam = 2977.333150 yielded 53547 genes\n",
      "Warm starting model for next iteration\n",
      "next attempt is lam = 4954.666300\n"
     ]
    },
    {
     "data": {
      "application/vnd.jupyter.widget-view+json": {
       "model_id": "c66244c8920a422493c9499c53327653",
       "version_major": 2,
       "version_minor": 0
      },
      "text/plain": [
       "Training epochs:   0%|          | 0/10 [00:00<?, ?it/s]"
      ]
     },
     "metadata": {},
     "output_type": "display_data"
    },
    {
     "name": "stdout",
     "output_type": "stream",
     "text": [
      "lam = 4954.666300 yielded 3141 genes\n",
      "Warm starting model for next iteration\n",
      "next attempt is lam = 6632.405666\n"
     ]
    },
    {
     "ename": "ValueError",
     "evalue": "reached maximum number of trials without selecting the desired number of genes! The results may have large variance due to small dataset size, or the initial lam value may be bad",
     "output_type": "error",
     "traceback": [
      "\u001b[0;31m---------------------------------------------------------------------------\u001b[0m",
      "\u001b[0;31mValueError\u001b[0m                                Traceback (most recent call last)",
      "Input \u001b[0;32mIn [12]\u001b[0m, in \u001b[0;36m<module>\u001b[0;34m\u001b[0m\n\u001b[1;32m      2\u001b[0m selector \u001b[38;5;241m=\u001b[39m PROPOSE(train_dataset,\n\u001b[1;32m      3\u001b[0m                    val_dataset,\n\u001b[1;32m      4\u001b[0m                    loss_fn\u001b[38;5;241m=\u001b[39mtorch\u001b[38;5;241m.\u001b[39mnn\u001b[38;5;241m.\u001b[39mCrossEntropyLoss(),\n\u001b[1;32m      5\u001b[0m                    device\u001b[38;5;241m=\u001b[39mdevice,\n\u001b[1;32m      6\u001b[0m                    hidden\u001b[38;5;241m=\u001b[39m[\u001b[38;5;241m128\u001b[39m, \u001b[38;5;241m128\u001b[39m])\n\u001b[1;32m      8\u001b[0m \u001b[38;5;66;03m# Eliminate many candidates\u001b[39;00m\n\u001b[0;32m----> 9\u001b[0m candidates, model \u001b[38;5;241m=\u001b[39m \u001b[43mselector\u001b[49m\u001b[38;5;241;43m.\u001b[39;49m\u001b[43meliminate\u001b[49m\u001b[43m(\u001b[49m\u001b[43mtarget\u001b[49m\u001b[38;5;241;43m=\u001b[39;49m\u001b[38;5;241;43m500\u001b[39;49m\u001b[43m,\u001b[49m\u001b[43m \u001b[49m\u001b[43mmbsize\u001b[49m\u001b[38;5;241;43m=\u001b[39;49m\u001b[38;5;241;43m128\u001b[39;49m\u001b[43m,\u001b[49m\u001b[43m \u001b[49m\u001b[43mmax_nepochs\u001b[49m\u001b[38;5;241;43m=\u001b[39;49m\u001b[38;5;241;43m10\u001b[39;49m\u001b[43m)\u001b[49m\n",
      "File \u001b[0;32m/bigstore/GeneralStorage/fangming/projects/visctx/propose/propose/selection.py:171\u001b[0m, in \u001b[0;36mPROPOSE.eliminate\u001b[0;34m(self, target, lam_init, mbsize, max_nepochs, lr, tol, start_temperature, end_temperature, optimizer, lookback, max_trials, bar, verbose)\u001b[0m\n\u001b[1;32m    168\u001b[0m \u001b[38;5;28;01mwhile\u001b[39;00m np\u001b[38;5;241m.\u001b[39mabs(num_remaining \u001b[38;5;241m-\u001b[39m target) \u001b[38;5;241m>\u001b[39m target \u001b[38;5;241m*\u001b[39m tol:\n\u001b[1;32m    169\u001b[0m     \u001b[38;5;66;03m# Ensure not done.\u001b[39;00m\n\u001b[1;32m    170\u001b[0m     \u001b[38;5;28;01mif\u001b[39;00m trials \u001b[38;5;241m==\u001b[39m max_trials:\n\u001b[0;32m--> 171\u001b[0m         \u001b[38;5;28;01mraise\u001b[39;00m \u001b[38;5;167;01mValueError\u001b[39;00m(\n\u001b[1;32m    172\u001b[0m             \u001b[38;5;124m'\u001b[39m\u001b[38;5;124mreached maximum number of trials without selecting the \u001b[39m\u001b[38;5;124m'\u001b[39m\n\u001b[1;32m    173\u001b[0m             \u001b[38;5;124m'\u001b[39m\u001b[38;5;124mdesired number of genes! The results may have large \u001b[39m\u001b[38;5;124m'\u001b[39m\n\u001b[1;32m    174\u001b[0m             \u001b[38;5;124m'\u001b[39m\u001b[38;5;124mvariance due to small dataset size, or the initial lam \u001b[39m\u001b[38;5;124m'\u001b[39m\n\u001b[1;32m    175\u001b[0m             \u001b[38;5;124m'\u001b[39m\u001b[38;5;124mvalue may be bad\u001b[39m\u001b[38;5;124m'\u001b[39m)\n\u001b[1;32m    176\u001b[0m     trials \u001b[38;5;241m+\u001b[39m\u001b[38;5;241m=\u001b[39m \u001b[38;5;241m1\u001b[39m\n\u001b[1;32m    178\u001b[0m     \u001b[38;5;66;03m# Train.\u001b[39;00m\n",
      "\u001b[0;31mValueError\u001b[0m: reached maximum number of trials without selecting the desired number of genes! The results may have large variance due to small dataset size, or the initial lam value may be bad"
     ]
    }
   ],
   "source": [
    "# Set up selector\n",
    "selector = PROPOSE(train_dataset,\n",
    "                   val_dataset,\n",
    "                   loss_fn=torch.nn.CrossEntropyLoss(),\n",
    "                   device=device,\n",
    "                   hidden=[128, 128])\n",
    "\n",
    "# Eliminate many candidates\n",
    "candidates, model = selector.eliminate(target=500, mbsize=128, max_nepochs=10)"
   ]
  },
  {
   "cell_type": "code",
   "execution_count": 16,
   "id": "49410793-5c2c-419d-aea3-831d5f9c1181",
   "metadata": {},
   "outputs": [
    {
     "data": {
      "application/vnd.jupyter.widget-view+json": {
       "model_id": "f43c5ca2cc5946dba970721941a717ec",
       "version_major": 2,
       "version_minor": 0
      },
      "text/plain": [
       "Training epochs:   0%|          | 0/10 [00:00<?, ?it/s]"
      ]
     },
     "metadata": {},
     "output_type": "display_data"
    },
    {
     "name": "stdout",
     "output_type": "stream",
     "text": [
      "done, selected 16 genes\n"
     ]
    }
   ],
   "source": [
    "for num in num_genes:\n",
    "    # Select specific number of genes\n",
    "    inds, model = selector.select(num_genes=num, mbsize=128, max_nepochs=10)\n",
    "    propose_class_results[num] = inds"
   ]
  },
  {
   "cell_type": "code",
   "execution_count": 17,
   "id": "178750a0-da81-4d2d-b745-18984b43ce08",
   "metadata": {},
   "outputs": [],
   "source": [
    "# Save results\n",
    "with open(os.path.join(resdir, 'propose_class_results.pkl'), 'wb') as f:\n",
    "    pickle.dump(propose_class_results, f)"
   ]
  },
  {
   "cell_type": "markdown",
   "id": "2a26e882-fb79-46f5-906a-d3c7f117d08f",
   "metadata": {},
   "source": [
    "# Cell type classification metric"
   ]
  },
  {
   "cell_type": "code",
   "execution_count": 34,
   "id": "1aa68bbe-86ca-4e13-be24-efd6450e7b2f",
   "metadata": {},
   "outputs": [],
   "source": [
    "# Set up datasets\n",
    "train_dataset = ExpressionDataset(binary[train_inds], cell_types_num[train_inds])\n",
    "val_dataset = ExpressionDataset(binary[val_inds], cell_types_num[val_inds])\n",
    "test_dataset = ExpressionDataset(binary[test_inds], cell_types_num[test_inds])"
   ]
  },
  {
   "cell_type": "code",
   "execution_count": 35,
   "id": "8036cb3d-0bfa-46c7-9a78-73e0140c3d79",
   "metadata": {},
   "outputs": [],
   "source": [
    "# Prepare gene sets\n",
    "with open(os.path.join(resdir, 'propose_class_results.pkl'), 'rb') as f:\n",
    "    propose_class_results = pickle.load(f)\n",
    "num_genes = list(propose_class_results.keys())\n",
    "\n",
    "# Dictionary of methods\n",
    "methods = {\n",
    "    'PROPOSE-Class': propose_class_results,\n",
    "}\n",
    "\n",
    "# Dictionary of results\n",
    "results = {name: {} for name in methods}"
   ]
  },
  {
   "cell_type": "code",
   "execution_count": 36,
   "id": "ccd101c6-4692-4502-8fd6-772784955111",
   "metadata": {},
   "outputs": [],
   "source": [
    "# Fit models\n",
    "for name in methods:\n",
    "    for num in num_genes:\n",
    "        # Get inds\n",
    "        inds = methods[name][num]\n",
    "        \n",
    "        # Set up datasets\n",
    "        train_dataset.set_inds(inds)\n",
    "        val_dataset.set_inds(inds)\n",
    "        test_dataset.set_inds(inds)\n",
    "        \n",
    "        # Train model\n",
    "        model = models.MLP(\n",
    "            input_size=num,\n",
    "            output_size=train_dataset.output_size,\n",
    "            hidden=[128, 128]).to(device)\n",
    "        model.fit(\n",
    "            train_dataset,\n",
    "            val_dataset,\n",
    "            mbsize=512,\n",
    "            max_nepochs=500,\n",
    "            loss_fn=torch.nn.CrossEntropyLoss(),\n",
    "            verbose=False)\n",
    "\n",
    "        # Validation performance\n",
    "        test_acc = model.validate(DataLoader(test_dataset, batch_size=1024), Accuracy()).item()\n",
    "        results[name][num] = test_acc"
   ]
  },
  {
   "cell_type": "code",
   "execution_count": 37,
   "id": "29c780c7-efac-4065-a6e0-f8d581dcf5e8",
   "metadata": {},
   "outputs": [],
   "source": [
    "# Save results\n",
    "with open(os.path.join(resdir, 'classification_metric.pkl'), 'wb') as f:\n",
    "    pickle.dump(results, f)"
   ]
  },
  {
   "cell_type": "code",
   "execution_count": 38,
   "id": "3db896b0-5fc8-42a8-b768-5cf4ed572273",
   "metadata": {},
   "outputs": [],
   "source": [
    "# Plot results\n",
    "with open(os.path.join(resdir, 'classification_metric.pkl'), 'rb') as f:\n",
    "    results = pickle.load(f)\n",
    "num_features = list(results['PROPOSE-Class'].keys())"
   ]
  },
  {
   "cell_type": "code",
   "execution_count": 39,
   "id": "1b09d9ae-82ce-4efa-af0e-0f416509d4c1",
   "metadata": {},
   "outputs": [
    {
     "data": {
      "image/png": "[encoded data removed]",
      "text/plain": [
       "<Figure size 648x432 with 1 Axes>"
      ]
     },
     "metadata": {
      "needs_background": "light"
     },
     "output_type": "display_data"
    }
   ],
   "source": [
    "# Make plot\n",
    "plt.figure(figsize=(9, 6))\n",
    "plt.plot(num_features, [results['PROPOSE-Class'][num] for num in num_features],\n",
    "         marker='o', markersize=7, color='C2', label='PROPOSE-Class')\n",
    "plt.legend(loc='lower right', fontsize=18, frameon=False)\n",
    "plt.tick_params(labelsize=14)\n",
    "plt.title('Cell Type Classification', fontsize=18)\n",
    "plt.xlabel('# Genes', fontsize=16)\n",
    "plt.ylabel('Accuracy', fontsize=16)\n",
    "plt.tight_layout()\n",
    "plt.show()"
   ]
  },
  {
   "cell_type": "code",
   "execution_count": null,
   "id": "232cbf8c-4cd9-4204-8068-077dfd82b390",
   "metadata": {},
   "outputs": [],
   "source": []
  },
  {
   "cell_type": "code",
   "execution_count": null,
   "id": "f824f43c-d6df-4032-9a19-f33f9c3508c3",
   "metadata": {},
   "outputs": [],
   "source": []
  }
 ],
 "metadata": {
  "kernelspec": {
   "display_name": "Python 3 (ipykernel)",
   "language": "python",
   "name": "python3"
  },
  "language_info": {
   "codemirror_mode": {
    "name": "ipython",
    "version": 3
   },
   "file_extension": ".py",
   "mimetype": "text/x-python",
   "name": "python",
   "nbconvert_exporter": "python",
   "pygments_lexer": "ipython3",
   "version": "3.10.2"
  }
 },
 "nbformat": 4,
 "nbformat_minor": 5
}
