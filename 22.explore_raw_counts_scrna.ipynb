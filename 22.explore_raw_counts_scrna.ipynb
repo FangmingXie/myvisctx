{
 "cells": [
  {
   "cell_type": "code",
   "execution_count": 1,
   "id": "d1223cbd-cb38-497f-bcab-23fb55bab0ff",
   "metadata": {},
   "outputs": [],
   "source": [
    "import numpy as np\n",
    "import pandas as pd\n",
    "from scipy.io import mmread\n",
    "import os\n",
    "import glob\n",
    "import anndata\n",
    "import zarr"
   ]
  },
  {
   "cell_type": "markdown",
   "id": "ab920710-7510-45f7-ab72-0a01550680a4",
   "metadata": {},
   "source": [
    "- merge marker genes (types ABC)\n",
    "- feed into NN design"
   ]
  },
  {
   "cell_type": "code",
   "execution_count": 2,
   "id": "34c13620-a223-4e38-9480-27f13e8c7085",
   "metadata": {},
   "outputs": [
    {
     "name": "stdout",
     "output_type": "stream",
     "text": [
      "barcodes.tsv.gz  counts.h5ad  features.tsv.gz  matrix.mtx\n"
     ]
    }
   ],
   "source": [
    "pth = '/bigstore/GeneralStorage/fangming/projects/visctx/data_dump/counts/scRNAseq_Cheng2022_Cell_v1ctx/P38_nr_1_a/filtered_feature_bc_matrix'\n",
    "!ls $pth"
   ]
  },
  {
   "cell_type": "code",
   "execution_count": 3,
   "id": "30143faa-ad29-44e5-a7b2-90d7fd4916be",
   "metadata": {},
   "outputs": [
    {
     "name": "stdout",
     "output_type": "stream",
     "text": [
      "/bigstore/GeneralStorage/fangming/projects/visctx/data_dump/counts/scRNAseq_Cheng2022_Cell_v1ctx/P38_nr_1_a/filtered_feature_bc_matrix/counts.h5ad\n"
     ]
    }
   ],
   "source": [
    "output = os.path.join(pth, 'counts.h5ad')\n",
    "print(output)"
   ]
  },
  {
   "cell_type": "code",
   "execution_count": 4,
   "id": "cae37198-2f00-4d06-8ba8-7110d5d4a3cb",
   "metadata": {},
   "outputs": [
    {
     "name": "stdout",
     "output_type": "stream",
     "text": [
      "(10357,) (53801, 2) (53801, 10357)\n",
      "CPU times: user 1min 26s, sys: 744 ms, total: 1min 27s\n",
      "Wall time: 2min 49s\n"
     ]
    }
   ],
   "source": [
    "%%time \n",
    "# 43s\n",
    "fc = os.path.join(pth, 'barcodes.tsv.gz')\n",
    "fg = os.path.join(pth, 'features.tsv.gz')\n",
    "fm = os.path.join(pth, 'matrix.mtx')\n",
    "\n",
    "cells = pd.read_csv(fc, sep='\\t', header=None)[0].values\n",
    "genes = pd.read_csv(fg, sep='\\t', header=None).rename(columns={0: 'id', 1: 'name'})[['id', 'name']]\n",
    "mtx = mmread(fm)\n",
    "print(cells.shape, genes.shape, mtx.shape)"
   ]
  },
  {
   "cell_type": "code",
   "execution_count": 5,
   "id": "ffbf8efa-c245-453b-97fa-61c644c10ad8",
   "metadata": {},
   "outputs": [
    {
     "name": "stderr",
     "output_type": "stream",
     "text": [
      "/home/fangming/anaconda3/envs/routine/lib/python3.10/site-packages/anndata/_core/anndata.py:120: ImplicitModificationWarning: Transforming to str index.\n",
      "  warnings.warn(\"Transforming to str index.\", ImplicitModificationWarning)\n"
     ]
    },
    {
     "data": {
      "text/plain": [
       "AnnData object with n_obs × n_vars = 10357 × 53801\n",
       "    var: 'id', 'name'"
      ]
     },
     "execution_count": 5,
     "metadata": {},
     "output_type": "execute_result"
    }
   ],
   "source": [
    "adata = anndata.AnnData(\n",
    "    X=mtx.T.tocsc(), \n",
    "    obs=pd.DataFrame(index=cells), \n",
    "    var=genes,\n",
    ")\n",
    "adata"
   ]
  },
  {
   "cell_type": "code",
   "execution_count": 6,
   "id": "e3032cf9-0559-48b8-af33-01182e68ac76",
   "metadata": {},
   "outputs": [
    {
     "name": "stderr",
     "output_type": "stream",
     "text": [
      "/home/fangming/anaconda3/envs/routine/lib/python3.10/site-packages/anndata/_core/anndata.py:1228: FutureWarning: The `inplace` parameter in pandas.Categorical.reorder_categories is deprecated and will be removed in a future version. Reordering categories will always return a new Categorical object.\n",
      "  c.reorder_categories(natsorted(c.categories), inplace=True)\n",
      "... storing 'name' as categorical\n"
     ]
    },
    {
     "name": "stdout",
     "output_type": "stream",
     "text": [
      "CPU times: user 1.23 s, sys: 280 ms, total: 1.51 s\n",
      "Wall time: 4.38 s\n"
     ]
    }
   ],
   "source": [
    "%%time\n",
    "adata.write(output)"
   ]
  },
  {
   "cell_type": "code",
   "execution_count": 7,
   "id": "eb7a5b8f-388b-4e5b-9899-6c52a99890e1",
   "metadata": {},
   "outputs": [
    {
     "data": {
      "text/plain": [
       "AnnData object with n_obs × n_vars = 10357 × 53801\n",
       "    var: 'id', 'name'"
      ]
     },
     "execution_count": 7,
     "metadata": {},
     "output_type": "execute_result"
    }
   ],
   "source": [
    "adata2 = anndata.read(output)\n",
    "adata2"
   ]
  },
  {
   "cell_type": "code",
   "execution_count": null,
   "id": "b98dd7c1-9200-4271-af71-233f6eab6255",
   "metadata": {},
   "outputs": [],
   "source": []
  },
  {
   "cell_type": "code",
   "execution_count": null,
   "id": "d1ea04ac-9178-482a-8a47-d927b109a53b",
   "metadata": {},
   "outputs": [],
   "source": []
  }
 ],
 "metadata": {
  "kernelspec": {
   "display_name": "Python 3 (ipykernel)",
   "language": "python",
   "name": "python3"
  },
  "language_info": {
   "codemirror_mode": {
    "name": "ipython",
    "version": 3
   },
   "file_extension": ".py",
   "mimetype": "text/x-python",
   "name": "python",
   "nbconvert_exporter": "python",
   "pygments_lexer": "ipython3",
   "version": "3.10.2"
  }
 },
 "nbformat": 4,
 "nbformat_minor": 5
}
