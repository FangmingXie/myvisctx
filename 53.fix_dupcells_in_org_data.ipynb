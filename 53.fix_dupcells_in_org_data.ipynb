{
 "cells": [
  {
   "cell_type": "code",
   "execution_count": 1,
   "id": "f1f450c8-20a1-4745-9449-dd52c10a4e94",
   "metadata": {},
   "outputs": [],
   "source": [
    "import os\n",
    "import numpy as np\n",
    "import pandas as pd\n",
    "from scipy import sparse\n",
    "import anndata\n",
    "from scroutines import basicu"
   ]
  },
  {
   "cell_type": "code",
   "execution_count": 2,
   "id": "4130a03d-54dc-4a68-a20c-9a0c084ed212",
   "metadata": {},
   "outputs": [],
   "source": [
    "ddir = '../data/cheng21_cell_scrna/organized/'\n",
    "files = [\n",
    "    # 'P8NR.h5ad',\n",
    "    # 'P14NR.h5ad',\n",
    "    # 'P17NR.h5ad',\n",
    "    # 'P21NR.h5ad',\n",
    "    # 'P28NR.h5ad',\n",
    "    # 'P38NR.h5ad',\n",
    "    \n",
    "    'P28DR.h5ad',\n",
    "    'P38DR.h5ad',\n",
    "    \n",
    "    # 'P28DL.h5ad',\n",
    "] "
   ]
  },
  {
   "cell_type": "code",
   "execution_count": 3,
   "id": "f688a0b4-e56e-451c-9aa6-a93a339a0f12",
   "metadata": {
    "tags": []
   },
   "outputs": [
    {
     "name": "stderr",
     "output_type": "stream",
     "text": [
      "/home/qlyu/mambaforge/envs/bbbroutine/lib/python3.8/site-packages/anndata/_core/anndata.py:1828: UserWarning: Observation names are not unique. To make them unique, call `.obs_names_make_unique`.\n",
      "  utils.warn_names_duplicates(\"obs\")\n",
      "/home/qlyu/mambaforge/envs/bbbroutine/lib/python3.8/site-packages/anndata/_core/anndata.py:1828: UserWarning: Observation names are not unique. To make them unique, call `.obs_names_make_unique`.\n",
      "  utils.warn_names_duplicates(\"obs\")\n"
     ]
    }
   ],
   "source": [
    "for f in files:\n",
    "    path = os.path.join(ddir, f)\n",
    "    adata = anndata.read(path, backed='r')\n",
    "    # break"
   ]
  },
  {
   "cell_type": "markdown",
   "id": "6cdc7007-ef4c-4140-b0e9-688bbcd14b1b",
   "metadata": {},
   "source": [
    "# first to fix"
   ]
  },
  {
   "cell_type": "code",
   "execution_count": 4,
   "id": "3078cb5c-0046-4655-a925-3b3d31835823",
   "metadata": {
    "tags": []
   },
   "outputs": [
    {
     "name": "stdout",
     "output_type": "stream",
     "text": [
      "P28DR.h5ad\n"
     ]
    },
    {
     "name": "stderr",
     "output_type": "stream",
     "text": [
      "/home/qlyu/mambaforge/envs/bbbroutine/lib/python3.8/site-packages/anndata/_core/anndata.py:1828: UserWarning: Observation names are not unique. To make them unique, call `.obs_names_make_unique`.\n",
      "  utils.warn_names_duplicates(\"obs\")\n"
     ]
    },
    {
     "data": {
      "text/plain": [
       "AnnData object with n_obs × n_vars = 24817 × 53801\n",
       "    obs: 'n_genes', 'percent_mito', 'n_counts', 'Doublet', 'Doublet Score', 'batch', 'leiden', 'sample', 'layer', 'cluster', 'Type', 'Subclass', 'Class_broad'"
      ]
     },
     "execution_count": 4,
     "metadata": {},
     "output_type": "execute_result"
    }
   ],
   "source": [
    "f = files[0]\n",
    "print(f)\n",
    "path = os.path.join(ddir, f)\n",
    "adata = anndata.read(path) #, backed='r')\n",
    "adata"
   ]
  },
  {
   "cell_type": "code",
   "execution_count": 5,
   "id": "053cf0fa-04a3-4339-9f76-8591451da7ad",
   "metadata": {
    "tags": []
   },
   "outputs": [
    {
     "data": {
      "text/plain": [
       "array(['GTGTTCCTCTCAGGCG-1-P28_dr_1b'], dtype=object)"
      ]
     },
     "execution_count": 5,
     "metadata": {},
     "output_type": "execute_result"
    }
   ],
   "source": [
    "cellnames = adata.obs.index.values\n",
    "unq, cnts = np.unique(cellnames, return_counts=True)\n",
    "unq[cnts>1]"
   ]
  },
  {
   "cell_type": "code",
   "execution_count": 6,
   "id": "ca859178-18e7-4c20-8961-33336ad40f45",
   "metadata": {
    "tags": []
   },
   "outputs": [],
   "source": [
    "adata.obs_names_make_unique()"
   ]
  },
  {
   "cell_type": "code",
   "execution_count": 7,
   "id": "7be462bf-01eb-4f3a-b8b1-426f400ec6e3",
   "metadata": {
    "tags": []
   },
   "outputs": [
    {
     "data": {
      "text/html": [
       "<div>\n",
       "<style scoped>\n",
       "    .dataframe tbody tr th:only-of-type {\n",
       "        vertical-align: middle;\n",
       "    }\n",
       "\n",
       "    .dataframe tbody tr th {\n",
       "        vertical-align: top;\n",
       "    }\n",
       "\n",
       "    .dataframe thead th {\n",
       "        text-align: right;\n",
       "    }\n",
       "</style>\n",
       "<table border=\"1\" class=\"dataframe\">\n",
       "  <thead>\n",
       "    <tr style=\"text-align: right;\">\n",
       "      <th></th>\n",
       "      <th>n_genes</th>\n",
       "      <th>percent_mito</th>\n",
       "      <th>n_counts</th>\n",
       "      <th>Doublet</th>\n",
       "      <th>Doublet Score</th>\n",
       "      <th>batch</th>\n",
       "      <th>leiden</th>\n",
       "      <th>sample</th>\n",
       "      <th>layer</th>\n",
       "      <th>cluster</th>\n",
       "      <th>Type</th>\n",
       "      <th>Subclass</th>\n",
       "      <th>Class_broad</th>\n",
       "    </tr>\n",
       "  </thead>\n",
       "  <tbody>\n",
       "    <tr>\n",
       "      <th>GTGTTCCTCTCAGGCG-1-P28_dr_1b</th>\n",
       "      <td>5638</td>\n",
       "      <td>0.001566</td>\n",
       "      <td>15949.0</td>\n",
       "      <td>False</td>\n",
       "      <td>0.085940</td>\n",
       "      <td>P28_DR</td>\n",
       "      <td>7</td>\n",
       "      <td>P28_dr_1b</td>\n",
       "      <td>NaN</td>\n",
       "      <td>NaN</td>\n",
       "      <td>Lamp5</td>\n",
       "      <td>Lamp5</td>\n",
       "      <td>NaN</td>\n",
       "    </tr>\n",
       "    <tr>\n",
       "      <th>GTGTTCCTCTCAGGCG-1-P28_dr_1b-1</th>\n",
       "      <td>5632</td>\n",
       "      <td>0.001566</td>\n",
       "      <td>15963.0</td>\n",
       "      <td>False</td>\n",
       "      <td>0.118962</td>\n",
       "      <td>P28</td>\n",
       "      <td>12</td>\n",
       "      <td>P28_dr_1b</td>\n",
       "      <td>NaN</td>\n",
       "      <td>NaN</td>\n",
       "      <td>VLMC_B</td>\n",
       "      <td>VLMC</td>\n",
       "      <td>VLMCs</td>\n",
       "    </tr>\n",
       "  </tbody>\n",
       "</table>\n",
       "</div>"
      ],
      "text/plain": [
       "                                n_genes  percent_mito  n_counts  Doublet  \\\n",
       "GTGTTCCTCTCAGGCG-1-P28_dr_1b       5638      0.001566   15949.0    False   \n",
       "GTGTTCCTCTCAGGCG-1-P28_dr_1b-1     5632      0.001566   15963.0    False   \n",
       "\n",
       "                                Doublet Score   batch leiden     sample layer  \\\n",
       "GTGTTCCTCTCAGGCG-1-P28_dr_1b         0.085940  P28_DR      7  P28_dr_1b   NaN   \n",
       "GTGTTCCTCTCAGGCG-1-P28_dr_1b-1       0.118962     P28     12  P28_dr_1b   NaN   \n",
       "\n",
       "                               cluster    Type Subclass Class_broad  \n",
       "GTGTTCCTCTCAGGCG-1-P28_dr_1b       NaN   Lamp5    Lamp5         NaN  \n",
       "GTGTTCCTCTCAGGCG-1-P28_dr_1b-1     NaN  VLMC_B     VLMC       VLMCs  "
      ]
     },
     "execution_count": 7,
     "metadata": {},
     "output_type": "execute_result"
    }
   ],
   "source": [
    "adata.obs.filter(regex='^GTGTTCCTCTCAGGCG-1-P28_dr_1b', axis=0)"
   ]
  },
  {
   "cell_type": "code",
   "execution_count": 8,
   "id": "a79612c6-f3ce-4741-8da0-69ada7512cc1",
   "metadata": {
    "tags": []
   },
   "outputs": [
    {
     "data": {
      "text/html": [
       "<div>\n",
       "<style scoped>\n",
       "    .dataframe tbody tr th:only-of-type {\n",
       "        vertical-align: middle;\n",
       "    }\n",
       "\n",
       "    .dataframe tbody tr th {\n",
       "        vertical-align: top;\n",
       "    }\n",
       "\n",
       "    .dataframe thead th {\n",
       "        text-align: right;\n",
       "    }\n",
       "</style>\n",
       "<table border=\"1\" class=\"dataframe\">\n",
       "  <thead>\n",
       "    <tr style=\"text-align: right;\">\n",
       "      <th></th>\n",
       "      <th>n_genes</th>\n",
       "      <th>percent_mito</th>\n",
       "      <th>n_counts</th>\n",
       "      <th>Doublet</th>\n",
       "      <th>Doublet Score</th>\n",
       "      <th>batch</th>\n",
       "      <th>leiden</th>\n",
       "      <th>sample</th>\n",
       "      <th>layer</th>\n",
       "      <th>cluster</th>\n",
       "      <th>Type</th>\n",
       "      <th>Subclass</th>\n",
       "      <th>Class_broad</th>\n",
       "    </tr>\n",
       "  </thead>\n",
       "  <tbody>\n",
       "    <tr>\n",
       "      <th>GTGTTCCTCTCAGGCG-1-P28_dr_1b-1</th>\n",
       "      <td>5632</td>\n",
       "      <td>0.001566</td>\n",
       "      <td>15963.0</td>\n",
       "      <td>False</td>\n",
       "      <td>0.118962</td>\n",
       "      <td>P28</td>\n",
       "      <td>12</td>\n",
       "      <td>P28_dr_1b</td>\n",
       "      <td>NaN</td>\n",
       "      <td>NaN</td>\n",
       "      <td>VLMC_B</td>\n",
       "      <td>VLMC</td>\n",
       "      <td>VLMCs</td>\n",
       "    </tr>\n",
       "  </tbody>\n",
       "</table>\n",
       "</div>"
      ],
      "text/plain": [
       "                                n_genes  percent_mito  n_counts  Doublet  \\\n",
       "GTGTTCCTCTCAGGCG-1-P28_dr_1b-1     5632      0.001566   15963.0    False   \n",
       "\n",
       "                                Doublet Score batch leiden     sample layer  \\\n",
       "GTGTTCCTCTCAGGCG-1-P28_dr_1b-1       0.118962   P28     12  P28_dr_1b   NaN   \n",
       "\n",
       "                               cluster    Type Subclass Class_broad  \n",
       "GTGTTCCTCTCAGGCG-1-P28_dr_1b-1     NaN  VLMC_B     VLMC       VLMCs  "
      ]
     },
     "execution_count": 8,
     "metadata": {},
     "output_type": "execute_result"
    }
   ],
   "source": [
    "adata.obs.filter(regex='-1$', axis=0)"
   ]
  },
  {
   "cell_type": "code",
   "execution_count": 9,
   "id": "addf70ff-778d-4a75-a44d-d46dd2c82462",
   "metadata": {
    "tags": []
   },
   "outputs": [],
   "source": [
    "adata_trim = adata[unq[cnts==1]]"
   ]
  },
  {
   "cell_type": "code",
   "execution_count": 10,
   "id": "f6b2081a-aad2-4033-b5fb-a8a8bb5bd5db",
   "metadata": {
    "tags": []
   },
   "outputs": [],
   "source": [
    "adata_trim.write(path.replace(\".h5ad\", \".u.h5ad\"))"
   ]
  },
  {
   "cell_type": "code",
   "execution_count": 11,
   "id": "bd8fe6bd-17f3-4f12-a5b3-fbad978608db",
   "metadata": {
    "tags": []
   },
   "outputs": [
    {
     "data": {
      "text/plain": [
       "AnnData object with n_obs × n_vars = 24815 × 53801\n",
       "    obs: 'n_genes', 'percent_mito', 'n_counts', 'Doublet', 'Doublet Score', 'batch', 'leiden', 'sample', 'layer', 'cluster', 'Type', 'Subclass', 'Class_broad'"
      ]
     },
     "execution_count": 11,
     "metadata": {},
     "output_type": "execute_result"
    }
   ],
   "source": [
    "test = anndata.read(path.replace(\".h5ad\", \".u.h5ad\"))\n",
    "test "
   ]
  },
  {
   "cell_type": "code",
   "execution_count": 12,
   "id": "1c88b898-b8d8-4933-9c1a-44f63f9284e9",
   "metadata": {
    "tags": []
   },
   "outputs": [
    {
     "data": {
      "text/html": [
       "<div>\n",
       "<style scoped>\n",
       "    .dataframe tbody tr th:only-of-type {\n",
       "        vertical-align: middle;\n",
       "    }\n",
       "\n",
       "    .dataframe tbody tr th {\n",
       "        vertical-align: top;\n",
       "    }\n",
       "\n",
       "    .dataframe thead th {\n",
       "        text-align: right;\n",
       "    }\n",
       "</style>\n",
       "<table border=\"1\" class=\"dataframe\">\n",
       "  <thead>\n",
       "    <tr style=\"text-align: right;\">\n",
       "      <th></th>\n",
       "      <th>n_genes</th>\n",
       "      <th>percent_mito</th>\n",
       "      <th>n_counts</th>\n",
       "      <th>Doublet</th>\n",
       "      <th>Doublet Score</th>\n",
       "      <th>batch</th>\n",
       "      <th>leiden</th>\n",
       "      <th>sample</th>\n",
       "      <th>layer</th>\n",
       "      <th>cluster</th>\n",
       "      <th>Type</th>\n",
       "      <th>Subclass</th>\n",
       "      <th>Class_broad</th>\n",
       "    </tr>\n",
       "  </thead>\n",
       "  <tbody>\n",
       "  </tbody>\n",
       "</table>\n",
       "</div>"
      ],
      "text/plain": [
       "Empty DataFrame\n",
       "Columns: [n_genes, percent_mito, n_counts, Doublet, Doublet Score, batch, leiden, sample, layer, cluster, Type, Subclass, Class_broad]\n",
       "Index: []"
      ]
     },
     "execution_count": 12,
     "metadata": {},
     "output_type": "execute_result"
    }
   ],
   "source": [
    "test.obs.filter(regex='-1$', axis=0)"
   ]
  },
  {
   "cell_type": "markdown",
   "id": "b4c3856a-a2b0-48b7-9193-46f28c2210b3",
   "metadata": {},
   "source": [
    "# second to fix"
   ]
  },
  {
   "cell_type": "code",
   "execution_count": 13,
   "id": "1342dcf6-21de-4608-b1bf-cebb418ff835",
   "metadata": {
    "tags": []
   },
   "outputs": [
    {
     "name": "stdout",
     "output_type": "stream",
     "text": [
      "P38DR.h5ad\n"
     ]
    },
    {
     "name": "stderr",
     "output_type": "stream",
     "text": [
      "/home/qlyu/mambaforge/envs/bbbroutine/lib/python3.8/site-packages/anndata/_core/anndata.py:1828: UserWarning: Observation names are not unique. To make them unique, call `.obs_names_make_unique`.\n",
      "  utils.warn_names_duplicates(\"obs\")\n"
     ]
    },
    {
     "data": {
      "text/plain": [
       "AnnData object with n_obs × n_vars = 25671 × 53801 backed at '../data/cheng21_cell_scrna/organized/P38DR.h5ad'\n",
       "    obs: 'n_genes', 'percent_mito', 'n_counts', 'Doublet', 'Doublet Score', 'batch', 'leiden', 'sample', 'cluster', 'Type', 'Subclass', 'Class_broad'"
      ]
     },
     "execution_count": 13,
     "metadata": {},
     "output_type": "execute_result"
    }
   ],
   "source": [
    "f = files[1]\n",
    "print(f)\n",
    "path = os.path.join(ddir, f)\n",
    "adata = anndata.read(path, backed='r')\n",
    "adata"
   ]
  },
  {
   "cell_type": "code",
   "execution_count": 14,
   "id": "4869e00a-845c-4a0d-bc3e-3e67d34a96f9",
   "metadata": {
    "tags": []
   },
   "outputs": [
    {
     "data": {
      "text/plain": [
       "array(['GTGTTCCTCTCAGGCG-1-P38_dr_1b', 'TCCTAATTCACATTGG-1-P38_dr_1b'],\n",
       "      dtype=object)"
      ]
     },
     "execution_count": 14,
     "metadata": {},
     "output_type": "execute_result"
    }
   ],
   "source": [
    "cellnames = adata.obs.index.values\n",
    "unq, cnts = np.unique(cellnames, return_counts=True)\n",
    "unq[cnts>1]"
   ]
  },
  {
   "cell_type": "code",
   "execution_count": 15,
   "id": "98cf7990-a563-4b72-a0d1-22abb0236876",
   "metadata": {
    "tags": []
   },
   "outputs": [
    {
     "data": {
      "text/html": [
       "<div>\n",
       "<style scoped>\n",
       "    .dataframe tbody tr th:only-of-type {\n",
       "        vertical-align: middle;\n",
       "    }\n",
       "\n",
       "    .dataframe tbody tr th {\n",
       "        vertical-align: top;\n",
       "    }\n",
       "\n",
       "    .dataframe thead th {\n",
       "        text-align: right;\n",
       "    }\n",
       "</style>\n",
       "<table border=\"1\" class=\"dataframe\">\n",
       "  <thead>\n",
       "    <tr style=\"text-align: right;\">\n",
       "      <th></th>\n",
       "      <th>n_genes</th>\n",
       "      <th>percent_mito</th>\n",
       "      <th>n_counts</th>\n",
       "      <th>Doublet</th>\n",
       "      <th>Doublet Score</th>\n",
       "      <th>batch</th>\n",
       "      <th>leiden</th>\n",
       "      <th>sample</th>\n",
       "      <th>cluster</th>\n",
       "      <th>Type</th>\n",
       "      <th>Subclass</th>\n",
       "      <th>Class_broad</th>\n",
       "    </tr>\n",
       "  </thead>\n",
       "  <tbody>\n",
       "    <tr>\n",
       "      <th>GTGTTCCTCTCAGGCG-1-P38_dr_1b</th>\n",
       "      <td>5638</td>\n",
       "      <td>0.001566</td>\n",
       "      <td>15945.0</td>\n",
       "      <td>False</td>\n",
       "      <td>0.098518</td>\n",
       "      <td>P38_DR</td>\n",
       "      <td>2</td>\n",
       "      <td>P38_dr_1b</td>\n",
       "      <td>NaN</td>\n",
       "      <td>Lamp5</td>\n",
       "      <td>Lamp5</td>\n",
       "      <td>NaN</td>\n",
       "    </tr>\n",
       "    <tr>\n",
       "      <th>GTGTTCCTCTCAGGCG-1-P38_dr_1b</th>\n",
       "      <td>5632</td>\n",
       "      <td>0.001566</td>\n",
       "      <td>15963.0</td>\n",
       "      <td>False</td>\n",
       "      <td>0.118962</td>\n",
       "      <td>P38</td>\n",
       "      <td>10</td>\n",
       "      <td>P38_dr_1b</td>\n",
       "      <td>NaN</td>\n",
       "      <td>VLMC_B</td>\n",
       "      <td>VLMC</td>\n",
       "      <td>VLMCs</td>\n",
       "    </tr>\n",
       "    <tr>\n",
       "      <th>TCCTAATTCACATTGG-1-P38_dr_1b</th>\n",
       "      <td>4613</td>\n",
       "      <td>0.002521</td>\n",
       "      <td>12688.0</td>\n",
       "      <td>False</td>\n",
       "      <td>0.139588</td>\n",
       "      <td>P38_DR</td>\n",
       "      <td>11</td>\n",
       "      <td>P38_dr_1b</td>\n",
       "      <td>NaN</td>\n",
       "      <td>Sst_E</td>\n",
       "      <td>Sst</td>\n",
       "      <td>NaN</td>\n",
       "    </tr>\n",
       "    <tr>\n",
       "      <th>TCCTAATTCACATTGG-1-P38_dr_1b</th>\n",
       "      <td>4611</td>\n",
       "      <td>0.002521</td>\n",
       "      <td>12691.0</td>\n",
       "      <td>False</td>\n",
       "      <td>0.087379</td>\n",
       "      <td>P38</td>\n",
       "      <td>3</td>\n",
       "      <td>P38_dr_1b</td>\n",
       "      <td>NaN</td>\n",
       "      <td>OPC_A</td>\n",
       "      <td>OPC</td>\n",
       "      <td>OPCs</td>\n",
       "    </tr>\n",
       "  </tbody>\n",
       "</table>\n",
       "</div>"
      ],
      "text/plain": [
       "                              n_genes  percent_mito  n_counts  Doublet  \\\n",
       "GTGTTCCTCTCAGGCG-1-P38_dr_1b     5638      0.001566   15945.0    False   \n",
       "GTGTTCCTCTCAGGCG-1-P38_dr_1b     5632      0.001566   15963.0    False   \n",
       "TCCTAATTCACATTGG-1-P38_dr_1b     4613      0.002521   12688.0    False   \n",
       "TCCTAATTCACATTGG-1-P38_dr_1b     4611      0.002521   12691.0    False   \n",
       "\n",
       "                              Doublet Score   batch leiden     sample cluster  \\\n",
       "GTGTTCCTCTCAGGCG-1-P38_dr_1b       0.098518  P38_DR      2  P38_dr_1b     NaN   \n",
       "GTGTTCCTCTCAGGCG-1-P38_dr_1b       0.118962     P38     10  P38_dr_1b     NaN   \n",
       "TCCTAATTCACATTGG-1-P38_dr_1b       0.139588  P38_DR     11  P38_dr_1b     NaN   \n",
       "TCCTAATTCACATTGG-1-P38_dr_1b       0.087379     P38      3  P38_dr_1b     NaN   \n",
       "\n",
       "                                Type Subclass Class_broad  \n",
       "GTGTTCCTCTCAGGCG-1-P38_dr_1b   Lamp5    Lamp5         NaN  \n",
       "GTGTTCCTCTCAGGCG-1-P38_dr_1b  VLMC_B     VLMC       VLMCs  \n",
       "TCCTAATTCACATTGG-1-P38_dr_1b   Sst_E      Sst         NaN  \n",
       "TCCTAATTCACATTGG-1-P38_dr_1b   OPC_A      OPC        OPCs  "
      ]
     },
     "execution_count": 15,
     "metadata": {},
     "output_type": "execute_result"
    }
   ],
   "source": [
    "adata.obs.loc[['GTGTTCCTCTCAGGCG-1-P38_dr_1b', 'TCCTAATTCACATTGG-1-P38_dr_1b']]"
   ]
  },
  {
   "cell_type": "code",
   "execution_count": 16,
   "id": "cc293da1-cdef-4330-8940-7f3854f3e9eb",
   "metadata": {
    "tags": []
   },
   "outputs": [],
   "source": [
    "adata.obs_names_make_unique()"
   ]
  },
  {
   "cell_type": "code",
   "execution_count": 17,
   "id": "7ac0e4a6-1b25-4f48-be32-7f947d6ddcf2",
   "metadata": {
    "tags": []
   },
   "outputs": [
    {
     "data": {
      "text/html": [
       "<div>\n",
       "<style scoped>\n",
       "    .dataframe tbody tr th:only-of-type {\n",
       "        vertical-align: middle;\n",
       "    }\n",
       "\n",
       "    .dataframe tbody tr th {\n",
       "        vertical-align: top;\n",
       "    }\n",
       "\n",
       "    .dataframe thead th {\n",
       "        text-align: right;\n",
       "    }\n",
       "</style>\n",
       "<table border=\"1\" class=\"dataframe\">\n",
       "  <thead>\n",
       "    <tr style=\"text-align: right;\">\n",
       "      <th></th>\n",
       "      <th>n_genes</th>\n",
       "      <th>percent_mito</th>\n",
       "      <th>n_counts</th>\n",
       "      <th>Doublet</th>\n",
       "      <th>Doublet Score</th>\n",
       "      <th>batch</th>\n",
       "      <th>leiden</th>\n",
       "      <th>sample</th>\n",
       "      <th>cluster</th>\n",
       "      <th>Type</th>\n",
       "      <th>Subclass</th>\n",
       "      <th>Class_broad</th>\n",
       "    </tr>\n",
       "  </thead>\n",
       "  <tbody>\n",
       "    <tr>\n",
       "      <th>TCCTAATTCACATTGG-1-P38_dr_1b-1</th>\n",
       "      <td>4611</td>\n",
       "      <td>0.002521</td>\n",
       "      <td>12691.0</td>\n",
       "      <td>False</td>\n",
       "      <td>0.087379</td>\n",
       "      <td>P38</td>\n",
       "      <td>3</td>\n",
       "      <td>P38_dr_1b</td>\n",
       "      <td>NaN</td>\n",
       "      <td>OPC_A</td>\n",
       "      <td>OPC</td>\n",
       "      <td>OPCs</td>\n",
       "    </tr>\n",
       "    <tr>\n",
       "      <th>GTGTTCCTCTCAGGCG-1-P38_dr_1b-1</th>\n",
       "      <td>5632</td>\n",
       "      <td>0.001566</td>\n",
       "      <td>15963.0</td>\n",
       "      <td>False</td>\n",
       "      <td>0.118962</td>\n",
       "      <td>P38</td>\n",
       "      <td>10</td>\n",
       "      <td>P38_dr_1b</td>\n",
       "      <td>NaN</td>\n",
       "      <td>VLMC_B</td>\n",
       "      <td>VLMC</td>\n",
       "      <td>VLMCs</td>\n",
       "    </tr>\n",
       "  </tbody>\n",
       "</table>\n",
       "</div>"
      ],
      "text/plain": [
       "                                n_genes  percent_mito  n_counts  Doublet  \\\n",
       "TCCTAATTCACATTGG-1-P38_dr_1b-1     4611      0.002521   12691.0    False   \n",
       "GTGTTCCTCTCAGGCG-1-P38_dr_1b-1     5632      0.001566   15963.0    False   \n",
       "\n",
       "                                Doublet Score batch leiden     sample cluster  \\\n",
       "TCCTAATTCACATTGG-1-P38_dr_1b-1       0.087379   P38      3  P38_dr_1b     NaN   \n",
       "GTGTTCCTCTCAGGCG-1-P38_dr_1b-1       0.118962   P38     10  P38_dr_1b     NaN   \n",
       "\n",
       "                                  Type Subclass Class_broad  \n",
       "TCCTAATTCACATTGG-1-P38_dr_1b-1   OPC_A      OPC        OPCs  \n",
       "GTGTTCCTCTCAGGCG-1-P38_dr_1b-1  VLMC_B     VLMC       VLMCs  "
      ]
     },
     "execution_count": 17,
     "metadata": {},
     "output_type": "execute_result"
    }
   ],
   "source": [
    "adata.obs.filter(regex='-1$', axis=0)"
   ]
  },
  {
   "cell_type": "code",
   "execution_count": 18,
   "id": "99f12f3d-edfa-4ec8-b8a8-b62252e2b10c",
   "metadata": {
    "tags": []
   },
   "outputs": [
    {
     "data": {
      "text/plain": [
       "View of AnnData object with n_obs × n_vars = 25667 × 53801 backed at '../data/cheng21_cell_scrna/organized/P38DR.h5ad'\n",
       "    obs: 'n_genes', 'percent_mito', 'n_counts', 'Doublet', 'Doublet Score', 'batch', 'leiden', 'sample', 'cluster', 'Type', 'Subclass', 'Class_broad'"
      ]
     },
     "execution_count": 18,
     "metadata": {},
     "output_type": "execute_result"
    }
   ],
   "source": [
    "adata_trim = adata[unq[cnts==1]]\n",
    "adata_trim"
   ]
  },
  {
   "cell_type": "code",
   "execution_count": 19,
   "id": "0b3ce39c-c413-483d-bc2c-e39a73e4bbce",
   "metadata": {
    "tags": []
   },
   "outputs": [],
   "source": [
    "adata_trim.write(path.replace(\".h5ad\", \".u.h5ad\"))"
   ]
  },
  {
   "cell_type": "code",
   "execution_count": 20,
   "id": "07192905-7687-4aa3-98cb-6cae38eb2ebd",
   "metadata": {
    "tags": []
   },
   "outputs": [
    {
     "data": {
      "text/plain": [
       "AnnData object with n_obs × n_vars = 25667 × 53801\n",
       "    obs: 'n_genes', 'percent_mito', 'n_counts', 'Doublet', 'Doublet Score', 'batch', 'leiden', 'sample', 'cluster', 'Type', 'Subclass', 'Class_broad'"
      ]
     },
     "execution_count": 20,
     "metadata": {},
     "output_type": "execute_result"
    }
   ],
   "source": [
    "test = anndata.read(path.replace(\".h5ad\", \".u.h5ad\"))\n",
    "test "
   ]
  },
  {
   "cell_type": "code",
   "execution_count": 21,
   "id": "cc0e88b5-5bc9-471b-9e4f-bd5058f3f36b",
   "metadata": {
    "tags": []
   },
   "outputs": [
    {
     "data": {
      "text/html": [
       "<div>\n",
       "<style scoped>\n",
       "    .dataframe tbody tr th:only-of-type {\n",
       "        vertical-align: middle;\n",
       "    }\n",
       "\n",
       "    .dataframe tbody tr th {\n",
       "        vertical-align: top;\n",
       "    }\n",
       "\n",
       "    .dataframe thead th {\n",
       "        text-align: right;\n",
       "    }\n",
       "</style>\n",
       "<table border=\"1\" class=\"dataframe\">\n",
       "  <thead>\n",
       "    <tr style=\"text-align: right;\">\n",
       "      <th></th>\n",
       "      <th>n_genes</th>\n",
       "      <th>percent_mito</th>\n",
       "      <th>n_counts</th>\n",
       "      <th>Doublet</th>\n",
       "      <th>Doublet Score</th>\n",
       "      <th>batch</th>\n",
       "      <th>leiden</th>\n",
       "      <th>sample</th>\n",
       "      <th>cluster</th>\n",
       "      <th>Type</th>\n",
       "      <th>Subclass</th>\n",
       "      <th>Class_broad</th>\n",
       "    </tr>\n",
       "  </thead>\n",
       "  <tbody>\n",
       "  </tbody>\n",
       "</table>\n",
       "</div>"
      ],
      "text/plain": [
       "Empty DataFrame\n",
       "Columns: [n_genes, percent_mito, n_counts, Doublet, Doublet Score, batch, leiden, sample, cluster, Type, Subclass, Class_broad]\n",
       "Index: []"
      ]
     },
     "execution_count": 21,
     "metadata": {},
     "output_type": "execute_result"
    }
   ],
   "source": [
    "test.obs.filter(regex='-1$', axis=0)"
   ]
  },
  {
   "cell_type": "code",
   "execution_count": null,
   "id": "156f86b5-2e91-4da2-a71b-58fa21e03f2f",
   "metadata": {},
   "outputs": [],
   "source": []
  }
 ],
 "metadata": {
  "kernelspec": {
   "display_name": "Python 3 (ipykernel)",
   "language": "python",
   "name": "python3"
  },
  "language_info": {
   "codemirror_mode": {
    "name": "ipython",
    "version": 3
   },
   "file_extension": ".py",
   "mimetype": "text/x-python",
   "name": "python",
   "nbconvert_exporter": "python",
   "pygments_lexer": "ipython3",
   "version": "3.8.16"
  }
 },
 "nbformat": 4,
 "nbformat_minor": 5
}
