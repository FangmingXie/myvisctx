{
 "cells": [
  {
   "cell_type": "code",
   "execution_count": 1,
   "id": "d1223cbd-cb38-497f-bcab-23fb55bab0ff",
   "metadata": {},
   "outputs": [],
   "source": [
    "import numpy as np\n",
    "import pandas as pd\n",
    "from scipy.io import mmread\n",
    "import os\n",
    "import glob\n",
    "import anndata\n",
    "import tqdm\n",
    "import zarr\n",
    "from sklearn.decomposition import PCA\n",
    "import matplotlib.pyplot as plt\n",
    "import seaborn as sns\n",
    "import scanpy as sp\n",
    "import zarr\n",
    "\n",
    "from dredFISH.Utils import basicu\n",
    "from dredFISH.Utils import powerplots"
   ]
  },
  {
   "cell_type": "markdown",
   "id": "ab920710-7510-45f7-ab72-0a01550680a4",
   "metadata": {},
   "source": [
    "- merge marker genes (types ABC)\n",
    "- feed into NN design"
   ]
  },
  {
   "cell_type": "code",
   "execution_count": 2,
   "id": "24a0ebb0-fbcb-445e-bd3f-125b32a0be8b",
   "metadata": {},
   "outputs": [
    {
     "data": {
      "text/plain": [
       "AnnData object with n_obs × n_vars = 10357 × 53801\n",
       "    var: 'id', 'name'"
      ]
     },
     "execution_count": 2,
     "metadata": {},
     "output_type": "execute_result"
    }
   ],
   "source": [
    "pth = '/bigstore/GeneralStorage/fangming/projects/visctx/data_dump/counts/scRNAseq_Cheng2022_Cell_v1ctx/P38_nr_1_a/filtered_feature_bc_matrix'\n",
    "f = os.path.join(pth, 'counts.h5ad')\n",
    "adata = anndata.read(f)\n",
    "adata.obs.index = np.char.add(adata.obs.index.values.astype(str), \"-P38_1a-P38\")\n",
    "adata"
   ]
  },
  {
   "cell_type": "code",
   "execution_count": 3,
   "id": "c4b04baa-6f39-4307-816e-5ccc435875d5",
   "metadata": {},
   "outputs": [],
   "source": [
    "cov = np.asarray(adata.X.sum(axis=1)).reshape(-1,)\n",
    "medcov = np.median(cov)\n",
    "\n",
    "adata.obs['cov'] = cov\n",
    "adata.obs['covfactor'] = cov/medcov"
   ]
  },
  {
   "cell_type": "code",
   "execution_count": 4,
   "id": "46331a9c-c8b8-4adb-a314-0b90639f6b90",
   "metadata": {},
   "outputs": [
    {
     "data": {
      "text/html": [
       "<div>\n",
       "<style scoped>\n",
       "    .dataframe tbody tr th:only-of-type {\n",
       "        vertical-align: middle;\n",
       "    }\n",
       "\n",
       "    .dataframe tbody tr th {\n",
       "        vertical-align: top;\n",
       "    }\n",
       "\n",
       "    .dataframe thead th {\n",
       "        text-align: right;\n",
       "    }\n",
       "</style>\n",
       "<table border=\"1\" class=\"dataframe\">\n",
       "  <thead>\n",
       "    <tr style=\"text-align: right;\">\n",
       "      <th></th>\n",
       "      <th>cov</th>\n",
       "      <th>covfactor</th>\n",
       "    </tr>\n",
       "  </thead>\n",
       "  <tbody>\n",
       "    <tr>\n",
       "      <th>AAACCCAAGGCCCAAA-1-P38_1a-P38</th>\n",
       "      <td>1543.0</td>\n",
       "      <td>0.313363</td>\n",
       "    </tr>\n",
       "    <tr>\n",
       "      <th>AAACCCAAGTGACACG-1-P38_1a-P38</th>\n",
       "      <td>8590.0</td>\n",
       "      <td>1.744517</td>\n",
       "    </tr>\n",
       "    <tr>\n",
       "      <th>AAACCCACAGACCGCT-1-P38_1a-P38</th>\n",
       "      <td>2300.0</td>\n",
       "      <td>0.467100</td>\n",
       "    </tr>\n",
       "    <tr>\n",
       "      <th>AAACCCACAGGCTTGC-1-P38_1a-P38</th>\n",
       "      <td>519.0</td>\n",
       "      <td>0.105402</td>\n",
       "    </tr>\n",
       "    <tr>\n",
       "      <th>AAACCCACATCCTGTC-1-P38_1a-P38</th>\n",
       "      <td>542.0</td>\n",
       "      <td>0.110073</td>\n",
       "    </tr>\n",
       "    <tr>\n",
       "      <th>...</th>\n",
       "      <td>...</td>\n",
       "      <td>...</td>\n",
       "    </tr>\n",
       "    <tr>\n",
       "      <th>TTTGTTGGTATCACGT-1-P38_1a-P38</th>\n",
       "      <td>1737.0</td>\n",
       "      <td>0.352762</td>\n",
       "    </tr>\n",
       "    <tr>\n",
       "      <th>TTTGTTGGTCACTCGG-1-P38_1a-P38</th>\n",
       "      <td>8944.0</td>\n",
       "      <td>1.816409</td>\n",
       "    </tr>\n",
       "    <tr>\n",
       "      <th>TTTGTTGGTCCAGCAC-1-P38_1a-P38</th>\n",
       "      <td>2490.0</td>\n",
       "      <td>0.505686</td>\n",
       "    </tr>\n",
       "    <tr>\n",
       "      <th>TTTGTTGGTTATGACC-1-P38_1a-P38</th>\n",
       "      <td>1367.0</td>\n",
       "      <td>0.277620</td>\n",
       "    </tr>\n",
       "    <tr>\n",
       "      <th>TTTGTTGTCCTCCACA-1-P38_1a-P38</th>\n",
       "      <td>14015.0</td>\n",
       "      <td>2.846263</td>\n",
       "    </tr>\n",
       "  </tbody>\n",
       "</table>\n",
       "<p>10357 rows × 2 columns</p>\n",
       "</div>"
      ],
      "text/plain": [
       "                                   cov  covfactor\n",
       "AAACCCAAGGCCCAAA-1-P38_1a-P38   1543.0   0.313363\n",
       "AAACCCAAGTGACACG-1-P38_1a-P38   8590.0   1.744517\n",
       "AAACCCACAGACCGCT-1-P38_1a-P38   2300.0   0.467100\n",
       "AAACCCACAGGCTTGC-1-P38_1a-P38    519.0   0.105402\n",
       "AAACCCACATCCTGTC-1-P38_1a-P38    542.0   0.110073\n",
       "...                                ...        ...\n",
       "TTTGTTGGTATCACGT-1-P38_1a-P38   1737.0   0.352762\n",
       "TTTGTTGGTCACTCGG-1-P38_1a-P38   8944.0   1.816409\n",
       "TTTGTTGGTCCAGCAC-1-P38_1a-P38   2490.0   0.505686\n",
       "TTTGTTGGTTATGACC-1-P38_1a-P38   1367.0   0.277620\n",
       "TTTGTTGTCCTCCACA-1-P38_1a-P38  14015.0   2.846263\n",
       "\n",
       "[10357 rows x 2 columns]"
      ]
     },
     "execution_count": 4,
     "metadata": {},
     "output_type": "execute_result"
    }
   ],
   "source": [
    "adata.obs"
   ]
  },
  {
   "cell_type": "code",
   "execution_count": null,
   "id": "fb9ade64-078b-4714-9de4-89a275a37d84",
   "metadata": {},
   "outputs": [],
   "source": []
  },
  {
   "cell_type": "code",
   "execution_count": null,
   "id": "9fe06df8-258e-48b4-85e9-5a9d98534ce9",
   "metadata": {},
   "outputs": [],
   "source": []
  },
  {
   "cell_type": "code",
   "execution_count": null,
   "id": "69771047-1143-4fbe-b54a-a964e37170a4",
   "metadata": {},
   "outputs": [],
   "source": []
  },
  {
   "cell_type": "code",
   "execution_count": 5,
   "id": "c5c4c783-db8b-485c-865d-37734d4f76af",
   "metadata": {},
   "outputs": [],
   "source": [
    "data_dir = '/bigstore/GeneralStorage/fangming/projects/visctx/data_dump/'"
   ]
  },
  {
   "cell_type": "code",
   "execution_count": 6,
   "id": "98561d18-44eb-423f-87a9-4e37965e333c",
   "metadata": {},
   "outputs": [
    {
     "data": {
      "text/html": [
       "<div>\n",
       "<style scoped>\n",
       "    .dataframe tbody tr th:only-of-type {\n",
       "        vertical-align: middle;\n",
       "    }\n",
       "\n",
       "    .dataframe tbody tr th {\n",
       "        vertical-align: top;\n",
       "    }\n",
       "\n",
       "    .dataframe thead th {\n",
       "        text-align: right;\n",
       "    }\n",
       "</style>\n",
       "<table border=\"1\" class=\"dataframe\">\n",
       "  <thead>\n",
       "    <tr style=\"text-align: right;\">\n",
       "      <th></th>\n",
       "      <th>Subclass</th>\n",
       "      <th>Type/Gradient</th>\n",
       "      <th>Function</th>\n",
       "      <th>Priority</th>\n",
       "      <th>Allen marker</th>\n",
       "    </tr>\n",
       "    <tr>\n",
       "      <th>Gene</th>\n",
       "      <th></th>\n",
       "      <th></th>\n",
       "      <th></th>\n",
       "      <th></th>\n",
       "      <th></th>\n",
       "    </tr>\n",
       "  </thead>\n",
       "  <tbody>\n",
       "    <tr>\n",
       "      <th>Baz1a</th>\n",
       "      <td>L2/3</td>\n",
       "      <td>A&lt;B&gt;C</td>\n",
       "      <td>TF</td>\n",
       "      <td>***</td>\n",
       "      <td>NaN</td>\n",
       "    </tr>\n",
       "    <tr>\n",
       "      <th>Bdnf</th>\n",
       "      <td>L2/3</td>\n",
       "      <td>A&lt;B&gt;C</td>\n",
       "      <td>CAM</td>\n",
       "      <td>***</td>\n",
       "      <td>NaN</td>\n",
       "    </tr>\n",
       "    <tr>\n",
       "      <th>Cdh4</th>\n",
       "      <td>L2/3</td>\n",
       "      <td>A&lt;B&gt;C</td>\n",
       "      <td>CAM</td>\n",
       "      <td>***</td>\n",
       "      <td>NaN</td>\n",
       "    </tr>\n",
       "    <tr>\n",
       "      <th>Epha3</th>\n",
       "      <td>L2/3</td>\n",
       "      <td>A&lt;B&gt;C</td>\n",
       "      <td>CAM</td>\n",
       "      <td>***</td>\n",
       "      <td>NaN</td>\n",
       "    </tr>\n",
       "    <tr>\n",
       "      <th>Grm8</th>\n",
       "      <td>L2/3</td>\n",
       "      <td>A&lt;B&gt;C</td>\n",
       "      <td>IC</td>\n",
       "      <td>NaN</td>\n",
       "      <td>NaN</td>\n",
       "    </tr>\n",
       "    <tr>\n",
       "      <th>...</th>\n",
       "      <td>...</td>\n",
       "      <td>...</td>\n",
       "      <td>...</td>\n",
       "      <td>...</td>\n",
       "      <td>...</td>\n",
       "    </tr>\n",
       "    <tr>\n",
       "      <th>Rrad</th>\n",
       "      <td>L2/3</td>\n",
       "      <td>NaN</td>\n",
       "      <td>other</td>\n",
       "      <td>NaN</td>\n",
       "      <td>x</td>\n",
       "    </tr>\n",
       "    <tr>\n",
       "      <th>S100a6</th>\n",
       "      <td>L2/3</td>\n",
       "      <td>NaN</td>\n",
       "      <td>other</td>\n",
       "      <td>NaN</td>\n",
       "      <td>x</td>\n",
       "    </tr>\n",
       "    <tr>\n",
       "      <th>Chrm2</th>\n",
       "      <td>L2/3, L4</td>\n",
       "      <td>C&gt;B=A</td>\n",
       "      <td>IC</td>\n",
       "      <td>***</td>\n",
       "      <td>NaN</td>\n",
       "    </tr>\n",
       "    <tr>\n",
       "      <th>Cux1</th>\n",
       "      <td>L2/3, L4</td>\n",
       "      <td>all</td>\n",
       "      <td>TF</td>\n",
       "      <td>NaN</td>\n",
       "      <td>x</td>\n",
       "    </tr>\n",
       "    <tr>\n",
       "      <th>Whrn</th>\n",
       "      <td>L4</td>\n",
       "      <td>NaN</td>\n",
       "      <td>other</td>\n",
       "      <td>NaN</td>\n",
       "      <td>NaN</td>\n",
       "    </tr>\n",
       "  </tbody>\n",
       "</table>\n",
       "<p>83 rows × 5 columns</p>\n",
       "</div>"
      ],
      "text/plain": [
       "        Subclass Type/Gradient Function Priority Allen marker\n",
       "Gene                                                         \n",
       "Baz1a       L2/3         A<B>C       TF      ***          NaN\n",
       "Bdnf        L2/3         A<B>C      CAM      ***          NaN\n",
       "Cdh4        L2/3         A<B>C      CAM      ***          NaN\n",
       "Epha3       L2/3         A<B>C      CAM      ***          NaN\n",
       "Grm8        L2/3         A<B>C       IC      NaN          NaN\n",
       "...          ...           ...      ...      ...          ...\n",
       "Rrad        L2/3           NaN    other      NaN            x\n",
       "S100a6      L2/3           NaN    other      NaN            x\n",
       "Chrm2   L2/3, L4         C>B=A       IC      ***          NaN\n",
       "Cux1    L2/3, L4           all       TF      NaN            x\n",
       "Whrn          L4           NaN    other      NaN          NaN\n",
       "\n",
       "[83 rows x 5 columns]"
      ]
     },
     "execution_count": 6,
     "metadata": {},
     "output_type": "execute_result"
    }
   ],
   "source": [
    "f = '../data_dump/candidate_genes_vincent_0503_v2.csv'\n",
    "df0 = pd.read_csv(f)\n",
    "df0 = df0.sort_values(['Subclass', 'Type/Gradient'])\n",
    "df0 = df0[df0['Gene']!='Neurod1']\n",
    "df0 = df0.set_index('Gene')\n",
    "df0"
   ]
  },
  {
   "cell_type": "code",
   "execution_count": 7,
   "id": "3d70d6ae-6052-4f79-b974-6515641ff407",
   "metadata": {},
   "outputs": [
    {
     "data": {
      "text/plain": [
       "(array(['A<B>C', 'A>B=C', 'A>B>C', 'A>C>B', 'C>A>B', 'C>B=A', 'C>B>A',\n",
       "        'all', nan], dtype=object),\n",
       " array(['L2/3', 'L2/3, L4', 'L4'], dtype=object))"
      ]
     },
     "execution_count": 7,
     "metadata": {},
     "output_type": "execute_result"
    }
   ],
   "source": [
    "df0['Type/Gradient'].unique(), df0['Subclass'].unique()"
   ]
  },
  {
   "cell_type": "code",
   "execution_count": 8,
   "id": "252031e1-ec78-43aa-bb19-f0387ad30b7e",
   "metadata": {},
   "outputs": [
    {
     "data": {
      "text/plain": [
       "(14,)"
      ]
     },
     "execution_count": 8,
     "metadata": {},
     "output_type": "execute_result"
    }
   ],
   "source": [
    "genes = df0.index.values\n",
    "allen_genes = df0[~df0['Allen marker'].isnull()].index.values\n",
    "allen_genes.shape"
   ]
  },
  {
   "cell_type": "code",
   "execution_count": 9,
   "id": "98f518c0-f620-49db-ba09-acd8a5b24ffb",
   "metadata": {},
   "outputs": [
    {
     "name": "stdout",
     "output_type": "stream",
     "text": [
      "(16, 10)\n",
      "(17, 10)\n"
     ]
    }
   ],
   "source": [
    "f = os.path.join(data_dir, 'genes_lasso_all83_May13.csv')\n",
    "g1 = pd.read_csv(f, index_col=0)\n",
    "print(g1.shape)\n",
    "\n",
    "f = os.path.join(data_dir, 'genes_lasso_nonallen_May13.csv')\n",
    "g2 = pd.read_csv(f, index_col=0)\n",
    "print(g2.shape)"
   ]
  },
  {
   "cell_type": "code",
   "execution_count": 10,
   "id": "6f0a1bfb-ecb4-45ff-97e3-cb5b83e6afea",
   "metadata": {},
   "outputs": [
    {
     "name": "stdout",
     "output_type": "stream",
     "text": [
      "CPU times: user 186 ms, sys: 706 ms, total: 892 ms\n",
      "Wall time: 894 ms\n"
     ]
    },
    {
     "data": {
      "text/plain": [
       "AnnData object with n_obs × n_vars = 5837 × 83\n",
       "    obs: 'batch', 'n_genes', 'percent_mito', 'n_counts', 'leiden', 'Doublet', 'Doublet Score', 'cluster', 'Class_broad', 'sample', 'Age', 'subclass', 'layer', 'Type', 'Subclass'\n",
       "    var: 'gene_ids', 'feature_types', 'n_cells', 'highly_variable', 'means', 'dispersions', 'dispersions_norm', 'mean', 'std'\n",
       "    uns: 'Type_colors', 'cluster_colors', \"dendrogram_['leiden']\", 'hvg', 'layer_colors', 'leiden', 'neighbors', 'pca', 'sample_colors', 'umap'\n",
       "    obsm: 'X_harmony', 'X_pca', 'X_umap'\n",
       "    varm: 'PCs'\n",
       "    obsp: 'connectivities', 'distances'"
      ]
     },
     "execution_count": 10,
     "metadata": {},
     "output_type": "execute_result"
    }
   ],
   "source": [
    "%%time\n",
    "adatasub = anndata.read('../data_dump/P38_glut_genes_v3.h5ad')\n",
    "adatasub"
   ]
  },
  {
   "cell_type": "code",
   "execution_count": 11,
   "id": "75d1bd6f-90df-4148-a5e2-a7c322d0326b",
   "metadata": {},
   "outputs": [
    {
     "data": {
      "text/plain": [
       "['P38_1a', 'P38_2a', 'P38_2b']\n",
       "Categories (3, object): ['P38_1a', 'P38_2a', 'P38_2b']"
      ]
     },
     "execution_count": 11,
     "metadata": {},
     "output_type": "execute_result"
    }
   ],
   "source": [
    "adatasub.obs['sample'].unique()"
   ]
  },
  {
   "cell_type": "code",
   "execution_count": 12,
   "id": "06b9d5e9-346d-488c-978a-7a0451740bfa",
   "metadata": {},
   "outputs": [
    {
     "name": "stderr",
     "output_type": "stream",
     "text": [
      "/home/fangming/anaconda3/envs/routine/lib/python3.10/site-packages/anndata/_core/anndata.py:801: UserWarning: \n",
      "AnnData expects .var.index to contain strings, but got values like:\n",
      "    ['Baz1a', 'Bdnf', 'Cdh4', 'Epha3', 'Grm8']\n",
      "\n",
      "    Inferred to be: categorical\n",
      "\n",
      "  value_idx = self._prep_dim_index(value.index, attr)\n"
     ]
    },
    {
     "data": {
      "text/plain": [
       "AnnData object with n_obs × n_vars = 1549 × 83\n",
       "    obs: 'cov', 'covfactor'\n",
       "    var: 'id'"
      ]
     },
     "execution_count": 12,
     "metadata": {},
     "output_type": "execute_result"
    }
   ],
   "source": [
    "tmp = adata[adatasub[adatasub.obs['sample']=='P38_1a'].obs.index].copy()\n",
    "unq, inv, cnt = np.unique(tmp.var['name'].values, return_counts=True, return_inverse=True)\n",
    "tmp = tmp[:, cnt[inv] == 1]\n",
    "genes_idx = basicu.get_index_from_array(tmp.var['name'].values.astype(str), df0.index.values.astype(str))\n",
    "tmp = tmp[:, genes_idx]\n",
    "tmp.var = tmp.var.set_index('name')\n",
    "tmp"
   ]
  },
  {
   "cell_type": "code",
   "execution_count": 13,
   "id": "a3216d22-3171-4979-9107-dc6a100aaca8",
   "metadata": {},
   "outputs": [
    {
     "data": {
      "text/plain": [
       "((1549, 83), (1549, 83))"
      ]
     },
     "execution_count": 13,
     "metadata": {},
     "output_type": "execute_result"
    }
   ],
   "source": [
    "mat = np.asarray(tmp.X.todense())\n",
    "matnorm = mat/tmp.obs['covfactor'].values.reshape(-1,1)\n",
    "mat.shape, matnorm.shape"
   ]
  },
  {
   "cell_type": "code",
   "execution_count": 14,
   "id": "91452762-5356-4d92-8d07-caa63f789d78",
   "metadata": {},
   "outputs": [],
   "source": [
    "tmp.layers['normed'] = matnorm\n",
    "tmp.obs = tmp.obs.join(adatasub.obs)\n",
    "tmp.X = np.asarray(tmp.X.todense())"
   ]
  },
  {
   "cell_type": "code",
   "execution_count": 18,
   "id": "61c3b1ff-d2ac-4ee6-a2b9-f637ffdec7d2",
   "metadata": {},
   "outputs": [],
   "source": []
  },
  {
   "cell_type": "code",
   "execution_count": 16,
   "id": "e652cb7c-47a0-4301-abb5-454e26f29534",
   "metadata": {},
   "outputs": [
    {
     "data": {
      "text/plain": [
       "AnnData object with n_obs × n_vars = 1549 × 83\n",
       "    obs: 'cov', 'covfactor', 'batch', 'n_genes', 'percent_mito', 'n_counts', 'leiden', 'Doublet', 'Doublet Score', 'cluster', 'Class_broad', 'sample', 'Age', 'subclass', 'layer', 'Type', 'Subclass'\n",
       "    var: 'id'\n",
       "    layers: 'normed'"
      ]
     },
     "execution_count": 16,
     "metadata": {},
     "output_type": "execute_result"
    }
   ],
   "source": [
    "tmp"
   ]
  },
  {
   "cell_type": "code",
   "execution_count": 17,
   "id": "9bbf9adf-f690-4cef-9295-3e929bb0fb9b",
   "metadata": {},
   "outputs": [
    {
     "data": {
      "text/html": [
       "<div>\n",
       "<style scoped>\n",
       "    .dataframe tbody tr th:only-of-type {\n",
       "        vertical-align: middle;\n",
       "    }\n",
       "\n",
       "    .dataframe tbody tr th {\n",
       "        vertical-align: top;\n",
       "    }\n",
       "\n",
       "    .dataframe thead th {\n",
       "        text-align: right;\n",
       "    }\n",
       "</style>\n",
       "<table border=\"1\" class=\"dataframe\">\n",
       "  <thead>\n",
       "    <tr style=\"text-align: right;\">\n",
       "      <th></th>\n",
       "      <th>cov</th>\n",
       "      <th>covfactor</th>\n",
       "      <th>batch</th>\n",
       "      <th>n_genes</th>\n",
       "      <th>percent_mito</th>\n",
       "      <th>n_counts</th>\n",
       "      <th>leiden</th>\n",
       "      <th>Doublet</th>\n",
       "      <th>Doublet Score</th>\n",
       "      <th>cluster</th>\n",
       "      <th>Class_broad</th>\n",
       "      <th>sample</th>\n",
       "      <th>Age</th>\n",
       "      <th>subclass</th>\n",
       "      <th>layer</th>\n",
       "      <th>Type</th>\n",
       "      <th>Subclass</th>\n",
       "    </tr>\n",
       "  </thead>\n",
       "  <tbody>\n",
       "    <tr>\n",
       "      <th>AAACCCAAGTGACACG-1-P38_1a-P38</th>\n",
       "      <td>8590.0</td>\n",
       "      <td>1.744517</td>\n",
       "      <td>P38</td>\n",
       "      <td>2931</td>\n",
       "      <td>0.001048</td>\n",
       "      <td>8590.0</td>\n",
       "      <td>0</td>\n",
       "      <td>False</td>\n",
       "      <td>0.010833</td>\n",
       "      <td>L2/3_B</td>\n",
       "      <td>Excitatory</td>\n",
       "      <td>P38_1a</td>\n",
       "      <td>P38</td>\n",
       "      <td>L2/3</td>\n",
       "      <td>L2/3/4</td>\n",
       "      <td>L2/3_B</td>\n",
       "      <td>L2/3</td>\n",
       "    </tr>\n",
       "    <tr>\n",
       "      <th>AAACGCTAGTACAGAT-1-P38_1a-P38</th>\n",
       "      <td>13659.0</td>\n",
       "      <td>2.773964</td>\n",
       "      <td>P38</td>\n",
       "      <td>4451</td>\n",
       "      <td>0.000952</td>\n",
       "      <td>13659.0</td>\n",
       "      <td>6</td>\n",
       "      <td>False</td>\n",
       "      <td>0.061252</td>\n",
       "      <td>L4_A</td>\n",
       "      <td>Excitatory</td>\n",
       "      <td>P38_1a</td>\n",
       "      <td>P38</td>\n",
       "      <td>L4</td>\n",
       "      <td>L2/3/4</td>\n",
       "      <td>L4_C</td>\n",
       "      <td>L4</td>\n",
       "    </tr>\n",
       "    <tr>\n",
       "      <th>AAACGCTAGTGAGGCT-1-P38_1a-P38</th>\n",
       "      <td>16269.0</td>\n",
       "      <td>3.304021</td>\n",
       "      <td>P38</td>\n",
       "      <td>4543</td>\n",
       "      <td>0.001475</td>\n",
       "      <td>16269.0</td>\n",
       "      <td>6</td>\n",
       "      <td>False</td>\n",
       "      <td>0.048147</td>\n",
       "      <td>L4_A</td>\n",
       "      <td>Excitatory</td>\n",
       "      <td>P38_1a</td>\n",
       "      <td>P38</td>\n",
       "      <td>L4</td>\n",
       "      <td>L2/3/4</td>\n",
       "      <td>L4_C</td>\n",
       "      <td>L4</td>\n",
       "    </tr>\n",
       "    <tr>\n",
       "      <th>AAACGCTGTATGGAAT-1-P38_1a-P38</th>\n",
       "      <td>6618.0</td>\n",
       "      <td>1.344029</td>\n",
       "      <td>P38</td>\n",
       "      <td>2678</td>\n",
       "      <td>0.001813</td>\n",
       "      <td>6618.0</td>\n",
       "      <td>3</td>\n",
       "      <td>False</td>\n",
       "      <td>0.013447</td>\n",
       "      <td>L4_B</td>\n",
       "      <td>Excitatory</td>\n",
       "      <td>P38_1a</td>\n",
       "      <td>P38</td>\n",
       "      <td>L4</td>\n",
       "      <td>L2/3/4</td>\n",
       "      <td>L4_B</td>\n",
       "      <td>L4</td>\n",
       "    </tr>\n",
       "    <tr>\n",
       "      <th>AAAGAACAGTAGTCCT-1-P38_1a-P38</th>\n",
       "      <td>12608.0</td>\n",
       "      <td>2.560520</td>\n",
       "      <td>P38</td>\n",
       "      <td>3781</td>\n",
       "      <td>0.000159</td>\n",
       "      <td>12607.0</td>\n",
       "      <td>6</td>\n",
       "      <td>False</td>\n",
       "      <td>0.029642</td>\n",
       "      <td>L4_A</td>\n",
       "      <td>Excitatory</td>\n",
       "      <td>P38_1a</td>\n",
       "      <td>P38</td>\n",
       "      <td>L4</td>\n",
       "      <td>L2/3/4</td>\n",
       "      <td>L4_C</td>\n",
       "      <td>L4</td>\n",
       "    </tr>\n",
       "    <tr>\n",
       "      <th>...</th>\n",
       "      <td>...</td>\n",
       "      <td>...</td>\n",
       "      <td>...</td>\n",
       "      <td>...</td>\n",
       "      <td>...</td>\n",
       "      <td>...</td>\n",
       "      <td>...</td>\n",
       "      <td>...</td>\n",
       "      <td>...</td>\n",
       "      <td>...</td>\n",
       "      <td>...</td>\n",
       "      <td>...</td>\n",
       "      <td>...</td>\n",
       "      <td>...</td>\n",
       "      <td>...</td>\n",
       "      <td>...</td>\n",
       "      <td>...</td>\n",
       "    </tr>\n",
       "    <tr>\n",
       "      <th>TTTGGAGCAGATGCGA-1-P38_1a-P38</th>\n",
       "      <td>5868.0</td>\n",
       "      <td>1.191714</td>\n",
       "      <td>P38</td>\n",
       "      <td>2276</td>\n",
       "      <td>0.000511</td>\n",
       "      <td>5868.0</td>\n",
       "      <td>3</td>\n",
       "      <td>False</td>\n",
       "      <td>0.017461</td>\n",
       "      <td>L4_B</td>\n",
       "      <td>Excitatory</td>\n",
       "      <td>P38_1a</td>\n",
       "      <td>P38</td>\n",
       "      <td>L4</td>\n",
       "      <td>L2/3/4</td>\n",
       "      <td>L4_B</td>\n",
       "      <td>L4</td>\n",
       "    </tr>\n",
       "    <tr>\n",
       "      <th>TTTGGTTAGGACACTG-1-P38_1a-P38</th>\n",
       "      <td>17776.0</td>\n",
       "      <td>3.610073</td>\n",
       "      <td>P38</td>\n",
       "      <td>4953</td>\n",
       "      <td>0.000338</td>\n",
       "      <td>17775.0</td>\n",
       "      <td>6</td>\n",
       "      <td>False</td>\n",
       "      <td>0.035124</td>\n",
       "      <td>L4_A</td>\n",
       "      <td>Excitatory</td>\n",
       "      <td>P38_1a</td>\n",
       "      <td>P38</td>\n",
       "      <td>L4</td>\n",
       "      <td>L2/3/4</td>\n",
       "      <td>L4_C</td>\n",
       "      <td>L4</td>\n",
       "    </tr>\n",
       "    <tr>\n",
       "      <th>TTTGGTTCACTTTATC-1-P38_1a-P38</th>\n",
       "      <td>15758.0</td>\n",
       "      <td>3.200244</td>\n",
       "      <td>P38</td>\n",
       "      <td>4399</td>\n",
       "      <td>0.000127</td>\n",
       "      <td>15758.0</td>\n",
       "      <td>0</td>\n",
       "      <td>False</td>\n",
       "      <td>0.061252</td>\n",
       "      <td>L2/3_B</td>\n",
       "      <td>Excitatory</td>\n",
       "      <td>P38_1a</td>\n",
       "      <td>P38</td>\n",
       "      <td>L2/3</td>\n",
       "      <td>L2/3/4</td>\n",
       "      <td>L2/3_B</td>\n",
       "      <td>L2/3</td>\n",
       "    </tr>\n",
       "    <tr>\n",
       "      <th>TTTGTTGCAGGTGAGT-1-P38_1a-P38</th>\n",
       "      <td>6636.0</td>\n",
       "      <td>1.347685</td>\n",
       "      <td>P38</td>\n",
       "      <td>2655</td>\n",
       "      <td>0.000753</td>\n",
       "      <td>6636.0</td>\n",
       "      <td>1</td>\n",
       "      <td>False</td>\n",
       "      <td>0.034145</td>\n",
       "      <td>L4_C</td>\n",
       "      <td>Excitatory</td>\n",
       "      <td>P38_1a</td>\n",
       "      <td>P38</td>\n",
       "      <td>L4</td>\n",
       "      <td>L2/3/4</td>\n",
       "      <td>L4_A</td>\n",
       "      <td>L4</td>\n",
       "    </tr>\n",
       "    <tr>\n",
       "      <th>TTTGTTGGTCACTCGG-1-P38_1a-P38</th>\n",
       "      <td>8944.0</td>\n",
       "      <td>1.816409</td>\n",
       "      <td>P38</td>\n",
       "      <td>2381</td>\n",
       "      <td>0.000671</td>\n",
       "      <td>8944.0</td>\n",
       "      <td>9</td>\n",
       "      <td>False</td>\n",
       "      <td>0.014389</td>\n",
       "      <td>L2/3_B</td>\n",
       "      <td>Excitatory</td>\n",
       "      <td>P38_1a</td>\n",
       "      <td>P38</td>\n",
       "      <td>L2/3</td>\n",
       "      <td>L2/3/4</td>\n",
       "      <td>L2/3_A</td>\n",
       "      <td>L2/3</td>\n",
       "    </tr>\n",
       "  </tbody>\n",
       "</table>\n",
       "<p>1549 rows × 17 columns</p>\n",
       "</div>"
      ],
      "text/plain": [
       "                                   cov  covfactor batch  n_genes  \\\n",
       "AAACCCAAGTGACACG-1-P38_1a-P38   8590.0   1.744517   P38     2931   \n",
       "AAACGCTAGTACAGAT-1-P38_1a-P38  13659.0   2.773964   P38     4451   \n",
       "AAACGCTAGTGAGGCT-1-P38_1a-P38  16269.0   3.304021   P38     4543   \n",
       "AAACGCTGTATGGAAT-1-P38_1a-P38   6618.0   1.344029   P38     2678   \n",
       "AAAGAACAGTAGTCCT-1-P38_1a-P38  12608.0   2.560520   P38     3781   \n",
       "...                                ...        ...   ...      ...   \n",
       "TTTGGAGCAGATGCGA-1-P38_1a-P38   5868.0   1.191714   P38     2276   \n",
       "TTTGGTTAGGACACTG-1-P38_1a-P38  17776.0   3.610073   P38     4953   \n",
       "TTTGGTTCACTTTATC-1-P38_1a-P38  15758.0   3.200244   P38     4399   \n",
       "TTTGTTGCAGGTGAGT-1-P38_1a-P38   6636.0   1.347685   P38     2655   \n",
       "TTTGTTGGTCACTCGG-1-P38_1a-P38   8944.0   1.816409   P38     2381   \n",
       "\n",
       "                               percent_mito  n_counts leiden  Doublet  \\\n",
       "AAACCCAAGTGACACG-1-P38_1a-P38      0.001048    8590.0      0    False   \n",
       "AAACGCTAGTACAGAT-1-P38_1a-P38      0.000952   13659.0      6    False   \n",
       "AAACGCTAGTGAGGCT-1-P38_1a-P38      0.001475   16269.0      6    False   \n",
       "AAACGCTGTATGGAAT-1-P38_1a-P38      0.001813    6618.0      3    False   \n",
       "AAAGAACAGTAGTCCT-1-P38_1a-P38      0.000159   12607.0      6    False   \n",
       "...                                     ...       ...    ...      ...   \n",
       "TTTGGAGCAGATGCGA-1-P38_1a-P38      0.000511    5868.0      3    False   \n",
       "TTTGGTTAGGACACTG-1-P38_1a-P38      0.000338   17775.0      6    False   \n",
       "TTTGGTTCACTTTATC-1-P38_1a-P38      0.000127   15758.0      0    False   \n",
       "TTTGTTGCAGGTGAGT-1-P38_1a-P38      0.000753    6636.0      1    False   \n",
       "TTTGTTGGTCACTCGG-1-P38_1a-P38      0.000671    8944.0      9    False   \n",
       "\n",
       "                               Doublet Score cluster Class_broad  sample  Age  \\\n",
       "AAACCCAAGTGACACG-1-P38_1a-P38       0.010833  L2/3_B  Excitatory  P38_1a  P38   \n",
       "AAACGCTAGTACAGAT-1-P38_1a-P38       0.061252    L4_A  Excitatory  P38_1a  P38   \n",
       "AAACGCTAGTGAGGCT-1-P38_1a-P38       0.048147    L4_A  Excitatory  P38_1a  P38   \n",
       "AAACGCTGTATGGAAT-1-P38_1a-P38       0.013447    L4_B  Excitatory  P38_1a  P38   \n",
       "AAAGAACAGTAGTCCT-1-P38_1a-P38       0.029642    L4_A  Excitatory  P38_1a  P38   \n",
       "...                                      ...     ...         ...     ...  ...   \n",
       "TTTGGAGCAGATGCGA-1-P38_1a-P38       0.017461    L4_B  Excitatory  P38_1a  P38   \n",
       "TTTGGTTAGGACACTG-1-P38_1a-P38       0.035124    L4_A  Excitatory  P38_1a  P38   \n",
       "TTTGGTTCACTTTATC-1-P38_1a-P38       0.061252  L2/3_B  Excitatory  P38_1a  P38   \n",
       "TTTGTTGCAGGTGAGT-1-P38_1a-P38       0.034145    L4_C  Excitatory  P38_1a  P38   \n",
       "TTTGTTGGTCACTCGG-1-P38_1a-P38       0.014389  L2/3_B  Excitatory  P38_1a  P38   \n",
       "\n",
       "                              subclass   layer    Type Subclass  \n",
       "AAACCCAAGTGACACG-1-P38_1a-P38     L2/3  L2/3/4  L2/3_B     L2/3  \n",
       "AAACGCTAGTACAGAT-1-P38_1a-P38       L4  L2/3/4    L4_C       L4  \n",
       "AAACGCTAGTGAGGCT-1-P38_1a-P38       L4  L2/3/4    L4_C       L4  \n",
       "AAACGCTGTATGGAAT-1-P38_1a-P38       L4  L2/3/4    L4_B       L4  \n",
       "AAAGAACAGTAGTCCT-1-P38_1a-P38       L4  L2/3/4    L4_C       L4  \n",
       "...                                ...     ...     ...      ...  \n",
       "TTTGGAGCAGATGCGA-1-P38_1a-P38       L4  L2/3/4    L4_B       L4  \n",
       "TTTGGTTAGGACACTG-1-P38_1a-P38       L4  L2/3/4    L4_C       L4  \n",
       "TTTGGTTCACTTTATC-1-P38_1a-P38     L2/3  L2/3/4  L2/3_B     L2/3  \n",
       "TTTGTTGCAGGTGAGT-1-P38_1a-P38       L4  L2/3/4    L4_A       L4  \n",
       "TTTGTTGGTCACTCGG-1-P38_1a-P38     L2/3  L2/3/4  L2/3_A     L2/3  \n",
       "\n",
       "[1549 rows x 17 columns]"
      ]
     },
     "execution_count": 17,
     "metadata": {},
     "output_type": "execute_result"
    }
   ],
   "source": [
    "tmp.obs"
   ]
  },
  {
   "cell_type": "code",
   "execution_count": 19,
   "id": "926095d5-3211-42b1-87f5-d52ad76f0063",
   "metadata": {},
   "outputs": [
    {
     "data": {
      "text/plain": [
       "array([[0., 0., 0., ..., 0., 2., 0.],\n",
       "       [0., 0., 1., ..., 0., 0., 1.],\n",
       "       [0., 0., 0., ..., 0., 0., 1.],\n",
       "       ...,\n",
       "       [0., 4., 1., ..., 0., 5., 0.],\n",
       "       [0., 1., 0., ..., 6., 1., 4.],\n",
       "       [9., 6., 0., ..., 0., 0., 0.]], dtype=float32)"
      ]
     },
     "execution_count": 19,
     "metadata": {},
     "output_type": "execute_result"
    }
   ],
   "source": [
    "tmp.X"
   ]
  },
  {
   "cell_type": "code",
   "execution_count": 20,
   "id": "12a4621a-0cd7-423c-9e2a-5ab8c5cf0c30",
   "metadata": {},
   "outputs": [
    {
     "data": {
      "text/plain": [
       "array([[0.       , 0.       , 0.       , ..., 0.       , 1.1464494,\n",
       "        0.       ],\n",
       "       [0.       , 0.       , 0.3604949, ..., 0.       , 0.       ,\n",
       "        0.3604949],\n",
       "       [0.       , 0.       , 0.       , ..., 0.       , 0.       ,\n",
       "        0.3026615],\n",
       "       ...,\n",
       "       [0.       , 1.2499048, 0.3124762, ..., 0.       , 1.562381 ,\n",
       "        0.       ],\n",
       "       [0.       , 0.7420132, 0.       , ..., 4.4520793, 0.7420132,\n",
       "        2.9680529],\n",
       "       [4.9548297, 3.30322  , 0.       , ..., 0.       , 0.       ,\n",
       "        0.       ]], dtype=float32)"
      ]
     },
     "execution_count": 20,
     "metadata": {},
     "output_type": "execute_result"
    }
   ],
   "source": [
    "tmp.layers['normed']"
   ]
  },
  {
   "cell_type": "code",
   "execution_count": 21,
   "id": "5fccf005-4646-4d91-820a-aa54938faf63",
   "metadata": {
    "tags": []
   },
   "outputs": [
    {
     "data": {
      "text/plain": [
       "AnnData object with n_obs × n_vars = 1549 × 83\n",
       "    obs: 'cov', 'covfactor', 'batch', 'n_genes', 'percent_mito', 'n_counts', 'leiden', 'Doublet', 'Doublet Score', 'cluster', 'Class_broad', 'sample', 'Age', 'subclass', 'layer', 'Type', 'Subclass'\n",
       "    var: 'id'\n",
       "    layers: 'normed'"
      ]
     },
     "execution_count": 21,
     "metadata": {},
     "output_type": "execute_result"
    }
   ],
   "source": [
    "tmp"
   ]
  },
  {
   "cell_type": "code",
   "execution_count": null,
   "id": "106816cf-a9ba-4e6a-8a91-f2338063b264",
   "metadata": {},
   "outputs": [],
   "source": []
  },
  {
   "cell_type": "code",
   "execution_count": null,
   "id": "a990e0de-edbd-4092-bcab-8ad922d85014",
   "metadata": {},
   "outputs": [],
   "source": []
  },
  {
   "cell_type": "code",
   "execution_count": null,
   "id": "2e64786d-9169-4775-97d6-aea9aa7657d7",
   "metadata": {},
   "outputs": [],
   "source": []
  },
  {
   "cell_type": "code",
   "execution_count": null,
   "id": "9c6ac45c-ba86-4f6c-a968-863e351cc864",
   "metadata": {},
   "outputs": [],
   "source": []
  },
  {
   "cell_type": "code",
   "execution_count": null,
   "id": "37f90e6a-2972-4e35-8fc3-47e278bcab24",
   "metadata": {},
   "outputs": [],
   "source": []
  },
  {
   "cell_type": "code",
   "execution_count": 1,
   "id": "fecab7e2-c9f8-4bf2-8487-f545dd193bb0",
   "metadata": {},
   "outputs": [
    {
     "ename": "NameError",
     "evalue": "name 'os' is not defined",
     "output_type": "error",
     "traceback": [
      "\u001b[0;31m---------------------------------------------------------------------------\u001b[0m",
      "\u001b[0;31mNameError\u001b[0m                                 Traceback (most recent call last)",
      "Input \u001b[0;32mIn [1]\u001b[0m, in \u001b[0;36m<module>\u001b[0;34m\u001b[0m\n\u001b[1;32m      1\u001b[0m dat_dir \u001b[38;5;241m=\u001b[39m \u001b[38;5;124m'\u001b[39m\u001b[38;5;124m/bigstore/GeneralStorage/fangming/projects/dredfish/data/\u001b[39m\u001b[38;5;124m'\u001b[39m\n\u001b[0;32m----> 2\u001b[0m output \u001b[38;5;241m=\u001b[39m \u001b[43mos\u001b[49m\u001b[38;5;241m.\u001b[39mpath\u001b[38;5;241m.\u001b[39mjoin(dat_dir, \u001b[38;5;124m'\u001b[39m\u001b[38;5;124mrna\u001b[39m\u001b[38;5;124m'\u001b[39m, \u001b[38;5;124m'\u001b[39m\u001b[38;5;124mscrna_visctx_P38_test.zarr\u001b[39m\u001b[38;5;124m'\u001b[39m)\n\u001b[1;32m      3\u001b[0m \u001b[38;5;28mprint\u001b[39m(output)\n",
      "\u001b[0;31mNameError\u001b[0m: name 'os' is not defined"
     ]
    }
   ],
   "source": [
    "dat_dir = '/bigstore/GeneralStorage/fangming/projects/dredfish/data/'\n",
    "output = os.path.join(dat_dir, 'rna', 'scrna_visctx_P38_test.zarr')\n",
    "print(output)"
   ]
  },
  {
   "cell_type": "code",
   "execution_count": 4,
   "id": "f593165b-2091-4874-983e-81fed2570dcd",
   "metadata": {},
   "outputs": [
    {
     "name": "stdout",
     "output_type": "stream",
     "text": [
      "CPU times: user 4.22 ms, sys: 1.51 ms, total: 5.73 ms\n",
      "Wall time: 134 ms\n"
     ]
    },
    {
     "data": {
      "text/plain": [
       "<zarr.hierarchy.Group '/'>"
      ]
     },
     "execution_count": 4,
     "metadata": {},
     "output_type": "execute_result"
    }
   ],
   "source": [
    "%%time\n",
    "chunksize = 10\n",
    "cells = adata.obs.index.values\n",
    "genes = adata.var.index.values\n",
    "ncells = len(cells)\n",
    "ngenes = len(genes)\n",
    "\n",
    "# create a zarr file (dir)\n",
    "z1 = zarr.open(\n",
    "          output, \n",
    "          mode='w', \n",
    "    )\n",
    "z1"
   ]
  },
  {
   "cell_type": "code",
   "execution_count": 5,
   "id": "ca3b7aaa-3324-4a55-98d4-90fa4d5669cc",
   "metadata": {},
   "outputs": [
    {
     "name": "stdout",
     "output_type": "stream",
     "text": [
      "CPU times: user 1min 40s, sys: 1min 26s, total: 3min 7s\n",
      "Wall time: 3min 23s\n"
     ]
    }
   ],
   "source": [
    "%%time\n",
    "# create count matrix\n",
    "z1.create_dataset('counts', \n",
    "                  shape=(ncells, ngenes), \n",
    "                  chunks=(chunksize, None), \n",
    "                  dtype='i4',\n",
    "                 )\n",
    "z1['counts'][:] = adata.X\n",
    "\n",
    "# create count matrix\n",
    "z1.create_dataset('normed', \n",
    "                  shape=(ncells, ngenes), \n",
    "                  chunks=(chunksize, None), \n",
    "                  dtype='i4',\n",
    "                 )\n",
    "z1['normed'][:] = adata.layers['normed']"
   ]
  },
  {
   "cell_type": "code",
   "execution_count": null,
   "id": "94de83b5-3633-4956-a5b8-64859f14125c",
   "metadata": {},
   "outputs": [],
   "source": []
  },
  {
   "cell_type": "code",
   "execution_count": null,
   "id": "da724adc-8782-495f-8727-444c75f2b4ec",
   "metadata": {},
   "outputs": [],
   "source": []
  },
  {
   "cell_type": "code",
   "execution_count": null,
   "id": "e161a43a-25b9-46e3-85e0-fa50163f4cd9",
   "metadata": {},
   "outputs": [],
   "source": []
  },
  {
   "cell_type": "code",
   "execution_count": 6,
   "id": "5539794d-2d70-4d5d-bb74-92a798538719",
   "metadata": {},
   "outputs": [],
   "source": [
    "# create labels\n",
    "z1.create_dataset(\n",
    "    'l1_code',\n",
    "    shape=(ncells,), \n",
    "    chunks=(chunksize,), \n",
    "    dtype='i4',\n",
    ")\n",
    "a = adata.obs['class_label']\n",
    "z1['l1_code'] = a.cat.codes.values\n",
    "z1['l1_cat'] = a.cat.categories.values.astype(str)\n",
    "\n",
    "z1.create_dataset(\n",
    "    'l2_code',\n",
    "    shape=(ncells,), \n",
    "    chunks=(chunksize,), \n",
    "    dtype='i4',\n",
    ")\n",
    "a = adata.obs['neighborhood_label']\n",
    "z1['l2_code'] = a.cat.codes.values\n",
    "z1['l2_cat'] = a.cat.categories.values.astype(str)\n",
    "\n",
    "z1.create_dataset(\n",
    "    'l3_code',\n",
    "    shape=(ncells,), \n",
    "    chunks=(chunksize,), \n",
    "    dtype='i4',\n",
    ")\n",
    "a = adata.obs['subclass_label']\n",
    "z1['l3_code'] = a.cat.codes.values\n",
    "z1['l3_cat'] = a.cat.categories.values.astype(str)\n",
    "\n",
    "z1.create_dataset(\n",
    "    'l5_code',\n",
    "    shape=(ncells,), \n",
    "    chunks=(chunksize,), \n",
    "    dtype='i4',\n",
    ")\n",
    "a = adata.obs['cluster_label']\n",
    "z1['l5_code'] = a.cat.codes.values\n",
    "z1['l5_cat'] = a.cat.categories.values.astype(str)"
   ]
  },
  {
   "cell_type": "code",
   "execution_count": null,
   "id": "a772c7d2-df4a-4358-a157-fd35af69dff6",
   "metadata": {},
   "outputs": [],
   "source": []
  },
  {
   "cell_type": "code",
   "execution_count": null,
   "id": "47b918bb-5276-46ac-9748-a0a2b62eade3",
   "metadata": {},
   "outputs": [],
   "source": []
  },
  {
   "cell_type": "code",
   "execution_count": null,
   "id": "e07328d0-a27d-44d5-9e8c-1372a2cf66ad",
   "metadata": {},
   "outputs": [],
   "source": []
  },
  {
   "cell_type": "code",
   "execution_count": null,
   "id": "d2301580-0b2b-4998-8237-bc634533c38b",
   "metadata": {},
   "outputs": [],
   "source": []
  },
  {
   "cell_type": "code",
   "execution_count": 11,
   "id": "ba01e9e7-9530-45dc-8239-d92d6f4356af",
   "metadata": {},
   "outputs": [
    {
     "name": "stdout",
     "output_type": "stream",
     "text": [
      "CPU times: user 87 µs, sys: 8.16 ms, total: 8.25 ms\n",
      "Wall time: 6.69 ms\n"
     ]
    },
    {
     "data": {
      "text/plain": [
       "(array([  0,   0, 242, ...,   0,   0,   0], dtype=int32), (45768,))"
      ]
     },
     "execution_count": 11,
     "metadata": {},
     "output_type": "execute_result"
    }
   ],
   "source": [
    "%%time\n",
    "y = z1['counts'].oindex[975,:]\n",
    "y, y.shape"
   ]
  },
  {
   "cell_type": "code",
   "execution_count": 12,
   "id": "731ddf46-d9fc-436c-9c97-abb904e9e7ea",
   "metadata": {},
   "outputs": [
    {
     "name": "stdout",
     "output_type": "stream",
     "text": [
      "CPU times: user 137 µs, sys: 142 µs, total: 279 µs\n",
      "Wall time: 291 µs\n"
     ]
    }
   ],
   "source": [
    "%%time\n",
    "testidx = np.random.choice(ncells, 100)"
   ]
  },
  {
   "cell_type": "code",
   "execution_count": 13,
   "id": "316e6590-edc6-4911-bc2f-d7291e3c2ef5",
   "metadata": {},
   "outputs": [
    {
     "name": "stdout",
     "output_type": "stream",
     "text": [
      "CPU times: user 1.09 s, sys: 152 ms, total: 1.24 s\n",
      "Wall time: 1.2 s\n"
     ]
    },
    {
     "data": {
      "text/plain": [
       "(100, 45768)"
      ]
     },
     "execution_count": 13,
     "metadata": {},
     "output_type": "execute_result"
    }
   ],
   "source": [
    "%%time\n",
    "z1['counts'].oindex[testidx,:].shape"
   ]
  },
  {
   "cell_type": "code",
   "execution_count": 14,
   "id": "20935967-c968-4bdf-a21a-7a0789c6d61c",
   "metadata": {},
   "outputs": [
    {
     "name": "stdout",
     "output_type": "stream",
     "text": [
      "CPU times: user 4.6 ms, sys: 4.61 ms, total: 9.21 ms\n",
      "Wall time: 5.65 ms\n"
     ]
    },
    {
     "data": {
      "text/plain": [
       "(45768,)"
      ]
     },
     "execution_count": 14,
     "metadata": {},
     "output_type": "execute_result"
    }
   ],
   "source": [
    "%%time\n",
    "z1['counts'].oindex[testidx[0],:].shape"
   ]
  },
  {
   "cell_type": "code",
   "execution_count": 16,
   "id": "2b8dc216-16e0-4337-9c13-c1b5f1a4edf1",
   "metadata": {},
   "outputs": [
    {
     "name": "stdout",
     "output_type": "stream",
     "text": [
      "CPU times: user 4.07 ms, sys: 4.07 ms, total: 8.14 ms\n",
      "Wall time: 6.91 ms\n"
     ]
    },
    {
     "data": {
      "text/plain": [
       "()"
      ]
     },
     "execution_count": 16,
     "metadata": {},
     "output_type": "execute_result"
    }
   ],
   "source": [
    "%%time\n",
    "z1['l3_code'].oindex[testidx[0]].shape"
   ]
  },
  {
   "cell_type": "markdown",
   "id": "26f5db27-6c3f-425e-bd4e-3192f7c5dfa0",
   "metadata": {},
   "source": [
    "# split train and test"
   ]
  },
  {
   "cell_type": "code",
   "execution_count": 71,
   "id": "1658fc78-f724-4d41-ac35-a0ad86ccf34b",
   "metadata": {},
   "outputs": [],
   "source": [
    "def split_train_test(zarr_file, keys_copy, keys_split, frac=0.9, random_seed=None):\n",
    "    \"\"\"randomly select frac vs 1-frac samples into training and test (validation) set.\n",
    "    Save them as separate zarr files\n",
    "    \"\"\"\n",
    "    assert frac <= 1 and frac >= 0\n",
    "    # the original zarr file\n",
    "    z = zarr.open(zarr_file, 'r')\n",
    "    size = len(z['counts'])\n",
    "    \n",
    "    path_train = zarr_file.replace('.zarr', '_train.zarr')\n",
    "    path_test = zarr_file.replace('.zarr', '_test.zarr')\n",
    "    print(f\"{zarr_file} -> \\n{path_train} and \\n{path_test}\\n\")\n",
    "    if random_seed: np.random.seed(random_seed)\n",
    "    cond_train = np.random.rand(size) < frac\n",
    "    ntrain = cond_train.sum()\n",
    "    ntest = (~cond_train).sum()\n",
    "    print(f\"{size}, {ntrain} ({ntrain/size:.3f}), {ntest} ({ntest/size:.3f})\")\n",
    "    \n",
    "    z_train = zarr.open(path_train, mode='w')\n",
    "    z_test = zarr.open(path_test, mode='w')\n",
    "    for key in keys_copy:\n",
    "        z_train[key] = z[key]\n",
    "        z_test[key] = z[key]\n",
    "\n",
    "    for key in keys_split:\n",
    "        # train\n",
    "        if z[key].ndim == 1:\n",
    "            chunksize = (10,)\n",
    "            dat = z[key].oindex[cond_train]\n",
    "        elif z[key].ndim == 2:\n",
    "            chunksize = (10,None)\n",
    "            dat = z[key].oindex[cond_train,:]\n",
    "        else:\n",
    "            raise ValueError('unimplemented')\n",
    "            \n",
    "        z_train.create_dataset(key, shape=dat.shape, chunks=chunksize)\n",
    "        z_train[key][:] = dat\n",
    "        \n",
    "        # test\n",
    "        if z[key].ndim == 1:\n",
    "            chunksize = (10,)\n",
    "            dat = z[key].oindex[~cond_train]\n",
    "        elif z[key].ndim == 2:\n",
    "            chunksize = (10,None)\n",
    "            dat = z[key].oindex[~cond_train,:]\n",
    "        else:\n",
    "            raise ValueError('unimplemented')\n",
    "            \n",
    "        z_test.create_dataset(key, shape=dat.shape, chunks=chunksize)\n",
    "        z_test[key][:] = dat\n",
    "        \n",
    "    return "
   ]
  },
  {
   "cell_type": "code",
   "execution_count": 59,
   "id": "7d0735be-1e08-402d-8bb3-a35408cf1ad7",
   "metadata": {},
   "outputs": [
    {
     "data": {
      "text/plain": [
       "(<zarr.hierarchy.Group '/' read-only>,\n",
       " ['counts',\n",
       "  'l1_cat',\n",
       "  'l1_code',\n",
       "  'l2_cat',\n",
       "  'l2_code',\n",
       "  'l3_cat',\n",
       "  'l3_code',\n",
       "  'l5_cat',\n",
       "  'l5_code',\n",
       "  'num_probe_limit'])"
      ]
     },
     "execution_count": 59,
     "metadata": {},
     "output_type": "execute_result"
    }
   ],
   "source": [
    "z = zarr.open(output, mode='r')\n",
    "z, list(z.keys())"
   ]
  },
  {
   "cell_type": "code",
   "execution_count": 60,
   "id": "5ee82d06-229b-4c4e-851f-8778d37f89db",
   "metadata": {},
   "outputs": [
    {
     "data": {
      "text/plain": [
       "(['num_probe_limit', 'l1_cat', 'l2_cat', 'l3_cat', 'l5_cat'],\n",
       " ['counts', 'l1_code', 'l2_code', 'l3_code', 'l5_code'])"
      ]
     },
     "execution_count": 60,
     "metadata": {},
     "output_type": "execute_result"
    }
   ],
   "source": [
    "#\n",
    "keys_copy = ['num_probe_limit', 'l1_cat', 'l2_cat', 'l3_cat', 'l5_cat']\n",
    "keys_split = [key for key in z.keys() if key not in keys_copy]\n",
    "keys_copy, keys_split"
   ]
  },
  {
   "cell_type": "code",
   "execution_count": 72,
   "id": "28c75d74-7549-4e4f-be27-5ccea4a5f5ca",
   "metadata": {},
   "outputs": [
    {
     "name": "stdout",
     "output_type": "stream",
     "text": [
      "/bigstore/GeneralStorage/fangming/projects/dredfish/data/rna/scrna_ss_ctxhippo_a_exon_count_matrix_v3.zarr -> \n",
      "/bigstore/GeneralStorage/fangming/projects/dredfish/data/rna/scrna_ss_ctxhippo_a_exon_count_matrix_v3_train.zarr and \n",
      "/bigstore/GeneralStorage/fangming/projects/dredfish/data/rna/scrna_ss_ctxhippo_a_exon_count_matrix_v3_test.zarr\n",
      "\n",
      "73347, 66051 (0.901), 7296 (0.099)\n"
     ]
    }
   ],
   "source": [
    "split_train_test(output, keys_copy, keys_split, frac=0.9)"
   ]
  },
  {
   "cell_type": "markdown",
   "id": "3b562c86-ff40-4455-9bcb-d8265d550e07",
   "metadata": {},
   "source": [
    "# test if we can load train and val as well as the original"
   ]
  },
  {
   "cell_type": "code",
   "execution_count": 89,
   "id": "26b0c08f-817b-4624-9be7-c2130b6d39dd",
   "metadata": {},
   "outputs": [],
   "source": [
    "f_org = '/bigstore/GeneralStorage/fangming/projects/dredfish/data/rna/scrna_ss_ctxhippo_a_exon_count_matrix_v3.zarr'\n",
    "f_trn = '/bigstore/GeneralStorage/fangming/projects/dredfish/data/rna/scrna_ss_ctxhippo_a_exon_count_matrix_v3_train.zarr'\n",
    "f_tst = '/bigstore/GeneralStorage/fangming/projects/dredfish/data/rna/scrna_ss_ctxhippo_a_exon_count_matrix_v3_test.zarr'\n"
   ]
  },
  {
   "cell_type": "code",
   "execution_count": 85,
   "id": "19ab7c1a-381c-465b-a361-635f1b352b73",
   "metadata": {},
   "outputs": [
    {
     "data": {
      "text/plain": [
       "(<zarr.hierarchy.Group '/' read-only>,\n",
       " ['counts',\n",
       "  'l1_cat',\n",
       "  'l1_code',\n",
       "  'l2_cat',\n",
       "  'l2_code',\n",
       "  'l3_cat',\n",
       "  'l3_code',\n",
       "  'l5_cat',\n",
       "  'l5_code',\n",
       "  'num_probe_limit'],\n",
       " <zarr.hierarchy.Group '/' read-only>,\n",
       " ['counts',\n",
       "  'l1_cat',\n",
       "  'l1_code',\n",
       "  'l2_cat',\n",
       "  'l2_code',\n",
       "  'l3_cat',\n",
       "  'l3_code',\n",
       "  'l5_cat',\n",
       "  'l5_code',\n",
       "  'num_probe_limit'])"
      ]
     },
     "execution_count": 85,
     "metadata": {},
     "output_type": "execute_result"
    }
   ],
   "source": [
    "z_trn = zarr.open(f_trn, mode='r')\n",
    "z_tst = zarr.open(f_tst, mode='r')\n",
    "z_trn, list(z_trn.keys()), z_tst, list(z_tst.keys())"
   ]
  },
  {
   "cell_type": "code",
   "execution_count": 87,
   "id": "5ff1d1a4-5791-44ba-b12a-9b5d4587221e",
   "metadata": {},
   "outputs": [
    {
     "data": {
      "text/plain": [
       "array([1, 1, 1, ..., 1, 1, 1])"
      ]
     },
     "execution_count": 87,
     "metadata": {},
     "output_type": "execute_result"
    }
   ],
   "source": [
    "z_trn['num_probe_limit'][:]"
   ]
  },
  {
   "cell_type": "code",
   "execution_count": 81,
   "id": "8f1348fc-ae7c-448e-bc78-fe9e58bb9dd7",
   "metadata": {},
   "outputs": [
    {
     "name": "stdout",
     "output_type": "stream",
     "text": [
      "CPU times: user 6.89 ms, sys: 6.13 ms, total: 13 ms\n",
      "Wall time: 7.75 ms\n"
     ]
    },
    {
     "data": {
      "text/plain": [
       "(array([  0.,   0., 365., ...,   0.,   0.,   0.]), (45768,))"
      ]
     },
     "execution_count": 81,
     "metadata": {},
     "output_type": "execute_result"
    }
   ],
   "source": [
    "%%time\n",
    "y = z_trn['counts'].oindex[975,:]\n",
    "y, y.shape"
   ]
  },
  {
   "cell_type": "code",
   "execution_count": 82,
   "id": "a9eb1f76-8a91-4113-ab42-a172127a7483",
   "metadata": {},
   "outputs": [
    {
     "name": "stdout",
     "output_type": "stream",
     "text": [
      "CPU times: user 950 µs, sys: 8.9 ms, total: 9.85 ms\n",
      "Wall time: 5.57 ms\n"
     ]
    },
    {
     "data": {
      "text/plain": [
       "(array([  0.,   0., 112., ...,   0.,   0.,   0.]), (45768,))"
      ]
     },
     "execution_count": 82,
     "metadata": {},
     "output_type": "execute_result"
    }
   ],
   "source": [
    "%%time\n",
    "y = z_tst['counts'].oindex[975,:]\n",
    "y, y.shape"
   ]
  },
  {
   "cell_type": "markdown",
   "id": "f46510d4-0427-47ff-990b-381b4a593d3e",
   "metadata": {},
   "source": [
    "# fix num probe limit (change r to a for read mode)"
   ]
  },
  {
   "cell_type": "code",
   "execution_count": 99,
   "id": "2496885b-620d-4ff0-b014-254c1e2dc3b8",
   "metadata": {},
   "outputs": [
    {
     "data": {
      "text/plain": [
       "(<zarr.hierarchy.Group '/' read-only>,\n",
       " ['counts',\n",
       "  'l1_cat',\n",
       "  'l1_code',\n",
       "  'l2_cat',\n",
       "  'l2_code',\n",
       "  'l3_cat',\n",
       "  'l3_code',\n",
       "  'l5_cat',\n",
       "  'l5_code',\n",
       "  'num_probe_limit'],\n",
       " <zarr.hierarchy.Group '/' read-only>,\n",
       " ['counts',\n",
       "  'l1_cat',\n",
       "  'l1_code',\n",
       "  'l2_cat',\n",
       "  'l2_code',\n",
       "  'l3_cat',\n",
       "  'l3_code',\n",
       "  'l5_cat',\n",
       "  'l5_code',\n",
       "  'num_probe_limit'])"
      ]
     },
     "execution_count": 99,
     "metadata": {},
     "output_type": "execute_result"
    }
   ],
   "source": [
    "z_org = zarr.open(f_org, mode='r')\n",
    "z_trn = zarr.open(f_trn, mode='r')\n",
    "z_tst = zarr.open(f_tst, mode='r')\n",
    "z_trn, list(z_trn.keys()), z_tst, list(z_tst.keys())"
   ]
  },
  {
   "cell_type": "code",
   "execution_count": 100,
   "id": "9cea2664-a3cd-477d-9fab-485348a39c6c",
   "metadata": {},
   "outputs": [],
   "source": [
    "# z_org['num_probe_limit'][:] = 100\n",
    "# z_trn['num_probe_limit'][:] = 100\n",
    "# z_tst['num_probe_limit'][:] = 100"
   ]
  },
  {
   "cell_type": "code",
   "execution_count": 101,
   "id": "4cc828b2-15e6-4ece-ba0d-cf0965b95bd0",
   "metadata": {},
   "outputs": [
    {
     "data": {
      "text/plain": [
       "(array([100, 100, 100, ..., 100, 100, 100]),\n",
       " array([100, 100, 100, ..., 100, 100, 100]),\n",
       " array([100, 100, 100, ..., 100, 100, 100]))"
      ]
     },
     "execution_count": 101,
     "metadata": {},
     "output_type": "execute_result"
    }
   ],
   "source": [
    "z_org['num_probe_limit'][:], z_trn['num_probe_limit'][:], z_tst['num_probe_limit'][:]"
   ]
  },
  {
   "cell_type": "code",
   "execution_count": null,
   "id": "90e4309a-c071-4073-b87a-cfd8d7c4c8e1",
   "metadata": {},
   "outputs": [],
   "source": []
  },
  {
   "cell_type": "code",
   "execution_count": null,
   "id": "86ac5328-5aef-4091-ab89-1fdaf0c8126b",
   "metadata": {},
   "outputs": [],
   "source": []
  },
  {
   "cell_type": "code",
   "execution_count": null,
   "id": "9076c22c-755b-4bf0-ac48-01048a6ddc3a",
   "metadata": {},
   "outputs": [],
   "source": []
  },
  {
   "cell_type": "code",
   "execution_count": null,
   "id": "8690dd42-87af-48da-b040-957f2affc471",
   "metadata": {},
   "outputs": [],
   "source": []
  },
  {
   "cell_type": "code",
   "execution_count": null,
   "id": "bdf459a3-04ed-4a49-8930-af37fe173b17",
   "metadata": {},
   "outputs": [],
   "source": []
  },
  {
   "cell_type": "code",
   "execution_count": null,
   "id": "8e705bbe-d913-4284-abf6-023cd055cc5c",
   "metadata": {},
   "outputs": [],
   "source": []
  },
  {
   "cell_type": "code",
   "execution_count": null,
   "id": "12580a9f-8448-44f4-a47a-77522e99b6f2",
   "metadata": {},
   "outputs": [],
   "source": []
  },
  {
   "cell_type": "code",
   "execution_count": 23,
   "id": "9ee9968f-344b-4cba-8da6-c027aad92fbe",
   "metadata": {},
   "outputs": [],
   "source": [
    "import torch"
   ]
  },
  {
   "cell_type": "code",
   "execution_count": 25,
   "id": "ab7565f2-ea09-4023-83a4-d89bf1cc2897",
   "metadata": {},
   "outputs": [
    {
     "data": {
      "text/plain": [
       "0"
      ]
     },
     "execution_count": 25,
     "metadata": {},
     "output_type": "execute_result"
    }
   ],
   "source": [
    "torch.tensor(0).item()"
   ]
  },
  {
   "cell_type": "code",
   "execution_count": null,
   "id": "b2258828-3ad7-47d2-91a3-b8837ec716c8",
   "metadata": {},
   "outputs": [],
   "source": []
  }
 ],
 "metadata": {
  "kernelspec": {
   "display_name": "Python 3 (ipykernel)",
   "language": "python",
   "name": "python3"
  },
  "language_info": {
   "codemirror_mode": {
    "name": "ipython",
    "version": 3
   },
   "file_extension": ".py",
   "mimetype": "text/x-python",
   "name": "python",
   "nbconvert_exporter": "python",
   "pygments_lexer": "ipython3",
   "version": "3.10.2"
  }
 },
 "nbformat": 4,
 "nbformat_minor": 5
}
